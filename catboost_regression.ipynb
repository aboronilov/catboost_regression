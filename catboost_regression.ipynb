{
  "nbformat": 4,
  "nbformat_minor": 0,
  "metadata": {
    "accelerator": "GPU",
    "colab": {
      "name": "catboost_regression.ipynb",
      "provenance": [],
      "collapsed_sections": []
    },
    "kernelspec": {
      "display_name": "Python 3 (ipykernel)",
      "language": "python",
      "name": "python3"
    },
    "language_info": {
      "codemirror_mode": {
        "name": "ipython",
        "version": 3
      },
      "file_extension": ".py",
      "mimetype": "text/x-python",
      "name": "python",
      "nbconvert_exporter": "python",
      "pygments_lexer": "ipython3",
      "version": "3.9.4"
    },
    "widgets": {
      "application/vnd.jupyter.widget-state+json": {
        "bfa7cfc9971d48188943a1f9fc57994d": {
          "model_module": "catboost-widget",
          "model_name": "CatboostWidgetModel",
          "model_module_version": "^1.0.0",
          "state": {
            "_view_name": "CatboostWidgetView",
            "_dom_classes": [],
            "_model_name": "CatboostWidgetModel",
            "data": {
              "catboost_info": {
                "content": {
                  "data": {
                    "meta": {
                      "name": "experiment",
                      "parameters": "",
                      "test_metrics": [
                        {
                          "best_value": "Min",
                          "name": "RMSE"
                        },
                        {
                          "best_value": "Max",
                          "name": "R2"
                        }
                      ],
                      "learn_sets": [
                        "learn"
                      ],
                      "launch_mode": "Train",
                      "learn_metrics": [
                        {
                          "best_value": "Min",
                          "name": "RMSE"
                        },
                        {
                          "best_value": "Max",
                          "name": "R2"
                        }
                      ],
                      "iteration_count": 1000,
                      "test_sets": [
                        "test"
                      ]
                    },
                    "iterations": [
                      {
                        "test": [
                          0.8191409745,
                          0.01252687825
                        ],
                        "passed_time": 0.02551055593,
                        "iteration": 0,
                        "remaining_time": 25.48504538,
                        "learn": [
                          0.7914954373,
                          0.01586008445
                        ]
                      },
                      {
                        "test": [
                          0.814153684,
                          0.02451461491
                        ],
                        "passed_time": 0.04999589133,
                        "iteration": 1,
                        "remaining_time": 24.94794977,
                        "learn": [
                          0.7854945194,
                          0.03072651242
                        ]
                      },
                      {
                        "test": [
                          0.8095819026,
                          0.03543929546
                        ],
                        "passed_time": 0.07550154649,
                        "iteration": 2,
                        "remaining_time": 25.09168062,
                        "learn": [
                          0.7800815322,
                          0.04403936671
                        ]
                      },
                      {
                        "test": [
                          0.8056121228,
                          0.04487553795
                        ],
                        "passed_time": 0.1040772134,
                        "iteration": 3,
                        "remaining_time": 25.91522613,
                        "learn": [
                          0.7746879582,
                          0.05721291196
                        ]
                      },
                      {
                        "test": [
                          0.8025172004,
                          0.05220005045
                        ],
                        "passed_time": 0.1345953453,
                        "iteration": 4,
                        "remaining_time": 26.78447372,
                        "learn": [
                          0.7700990331,
                          0.06834917782
                        ]
                      },
                      {
                        "test": [
                          0.7992670465,
                          0.05986158775
                        ],
                        "passed_time": 0.1596622313,
                        "iteration": 5,
                        "remaining_time": 26.45070965,
                        "learn": [
                          0.7662642422,
                          0.07760458692
                        ]
                      },
                      {
                        "test": [
                          0.7965154965,
                          0.06632347107
                        ],
                        "passed_time": 0.1837031468,
                        "iteration": 6,
                        "remaining_time": 26.05960353,
                        "learn": [
                          0.7624689088,
                          0.0867192713
                        ]
                      },
                      {
                        "test": [
                          0.7941981048,
                          0.07174846708
                        ],
                        "passed_time": 0.2110380728,
                        "iteration": 7,
                        "remaining_time": 26.16872103,
                        "learn": [
                          0.7595219701,
                          0.09376527976
                        ]
                      },
                      {
                        "test": [
                          0.7921522589,
                          0.07652463965
                        ],
                        "passed_time": 0.236517842,
                        "iteration": 8,
                        "remaining_time": 26.04324238,
                        "learn": [
                          0.7563988753,
                          0.1012026895
                        ]
                      },
                      {
                        "test": [
                          0.7895097476,
                          0.08267553743
                        ],
                        "passed_time": 0.2609617973,
                        "iteration": 9,
                        "remaining_time": 25.83521794,
                        "learn": [
                          0.7534163545,
                          0.108276726
                        ]
                      },
                      {
                        "test": [
                          0.7875539009,
                          0.08721487022
                        ],
                        "passed_time": 0.2881928081,
                        "iteration": 10,
                        "remaining_time": 25.91115339,
                        "learn": [
                          0.750744397,
                          0.1145904242
                        ]
                      },
                      {
                        "test": [
                          0.785815825,
                          0.09123932924
                        ],
                        "passed_time": 0.3163070207,
                        "iteration": 11,
                        "remaining_time": 26.04261137,
                        "learn": [
                          0.7483681518,
                          0.1201865247
                        ]
                      },
                      {
                        "test": [
                          0.7845861908,
                          0.09408113745
                        ],
                        "passed_time": 0.3397568118,
                        "iteration": 12,
                        "remaining_time": 25.79538256,
                        "learn": [
                          0.746331907,
                          0.1249678035
                        ]
                      },
                      {
                        "test": [
                          0.7829331414,
                          0.09789448794
                        ],
                        "passed_time": 0.3669363115,
                        "iteration": 13,
                        "remaining_time": 25.84280022,
                        "learn": [
                          0.7438410692,
                          0.1307987914
                        ]
                      },
                      {
                        "test": [
                          0.781499885,
                          0.1011942972
                        ],
                        "passed_time": 0.3917735153,
                        "iteration": 14,
                        "remaining_time": 25.72646084,
                        "learn": [
                          0.7414964131,
                          0.1362697612
                        ]
                      },
                      {
                        "test": [
                          0.7801132115,
                          0.1043811034
                        ],
                        "passed_time": 0.4187399489,
                        "iteration": 15,
                        "remaining_time": 25.75250686,
                        "learn": [
                          0.7398598471,
                          0.1400782532
                        ]
                      },
                      {
                        "test": [
                          0.7789187626,
                          0.1071216082
                        ],
                        "passed_time": 0.4428297564,
                        "iteration": 16,
                        "remaining_time": 25.60597944,
                        "learn": [
                          0.7378000562,
                          0.1448596813
                        ]
                      },
                      {
                        "test": [
                          0.7780282776,
                          0.1091619759
                        ],
                        "passed_time": 0.4672585843,
                        "iteration": 17,
                        "remaining_time": 25.49155165,
                        "learn": [
                          0.7360150362,
                          0.1489924977
                        ]
                      },
                      {
                        "test": [
                          0.7770198226,
                          0.1114698299
                        ],
                        "passed_time": 0.491923312,
                        "iteration": 18,
                        "remaining_time": 25.39877732,
                        "learn": [
                          0.7342652025,
                          0.1530341311
                        ]
                      },
                      {
                        "test": [
                          0.7757665213,
                          0.1143338441
                        ],
                        "passed_time": 0.5158513707,
                        "iteration": 19,
                        "remaining_time": 25.27671716,
                        "learn": [
                          0.7325333227,
                          0.1570248231
                        ]
                      },
                      {
                        "test": [
                          0.7742398317,
                          0.1178163529
                        ],
                        "passed_time": 0.540397297,
                        "iteration": 20,
                        "remaining_time": 25.19280732,
                        "learn": [
                          0.730914027,
                          0.1607475681
                        ]
                      },
                      {
                        "test": [
                          0.773306325,
                          0.1199423811
                        ],
                        "passed_time": 0.5639784137,
                        "iteration": 21,
                        "remaining_time": 25.07140403,
                        "learn": [
                          0.7293351695,
                          0.1643694135
                        ]
                      },
                      {
                        "test": [
                          0.7724317688,
                          0.1219318247
                        ],
                        "passed_time": 0.5869727478,
                        "iteration": 22,
                        "remaining_time": 24.9335815,
                        "learn": [
                          0.727999966,
                          0.1674262128
                        ]
                      },
                      {
                        "test": [
                          0.7716865952,
                          0.1236251718
                        ],
                        "passed_time": 0.6136192393,
                        "iteration": 23,
                        "remaining_time": 24.95384907,
                        "learn": [
                          0.72667517,
                          0.1704536492
                        ]
                      },
                      {
                        "test": [
                          0.771096017,
                          0.1249660525
                        ],
                        "passed_time": 0.6418904443,
                        "iteration": 24,
                        "remaining_time": 25.03372733,
                        "learn": [
                          0.7254313266,
                          0.173291073
                        ]
                      },
                      {
                        "test": [
                          0.7703138454,
                          0.1267403571
                        ],
                        "passed_time": 0.6671517119,
                        "iteration": 25,
                        "remaining_time": 24.99252951,
                        "learn": [
                          0.7239631982,
                          0.1766338751
                        ]
                      },
                      {
                        "test": [
                          0.7696011309,
                          0.1283555348
                        ],
                        "passed_time": 0.6913598687,
                        "iteration": 26,
                        "remaining_time": 24.91456119,
                        "learn": [
                          0.7230338638,
                          0.1787463896
                        ]
                      },
                      {
                        "test": [
                          0.7688825433,
                          0.1299825087
                        ],
                        "passed_time": 0.7160014634,
                        "iteration": 27,
                        "remaining_time": 24.85547937,
                        "learn": [
                          0.7218405414,
                          0.1814550084
                        ]
                      },
                      {
                        "test": [
                          0.7679952863,
                          0.1319892748
                        ],
                        "passed_time": 0.7414097154,
                        "iteration": 28,
                        "remaining_time": 24.82444254,
                        "learn": [
                          0.7204778678,
                          0.1845425514
                        ]
                      },
                      {
                        "test": [
                          0.7677761579,
                          0.1324845348
                        ],
                        "passed_time": 0.7652653747,
                        "iteration": 29,
                        "remaining_time": 24.74358045,
                        "learn": [
                          0.7196383049,
                          0.1864419267
                        ]
                      },
                      {
                        "test": [
                          0.7670496325,
                          0.1341255699
                        ],
                        "passed_time": 0.7902141196,
                        "iteration": 30,
                        "remaining_time": 24.70056393,
                        "learn": [
                          0.7185356429,
                          0.1889331566
                        ]
                      },
                      {
                        "test": [
                          0.7663447666,
                          0.135716197
                        ],
                        "passed_time": 0.8146728012,
                        "iteration": 31,
                        "remaining_time": 24.64385224,
                        "learn": [
                          0.7171802806,
                          0.1919900759
                        ]
                      },
                      {
                        "test": [
                          0.7660040408,
                          0.1364845673
                        ],
                        "passed_time": 0.8382200134,
                        "iteration": 32,
                        "remaining_time": 24.56238645,
                        "learn": [
                          0.7163419489,
                          0.1938779817
                        ]
                      },
                      {
                        "test": [
                          0.7655964032,
                          0.1374033815
                        ],
                        "passed_time": 0.8726459154,
                        "iteration": 33,
                        "remaining_time": 24.79341042,
                        "learn": [
                          0.7155050614,
                          0.1957604328
                        ]
                      },
                      {
                        "test": [
                          0.7645584714,
                          0.1397406695
                        ],
                        "passed_time": 0.8970064308,
                        "iteration": 34,
                        "remaining_time": 24.73174873,
                        "learn": [
                          0.7144018164,
                          0.1982386522
                        ]
                      },
                      {
                        "test": [
                          0.7640947793,
                          0.1407838191
                        ],
                        "passed_time": 0.920926827,
                        "iteration": 35,
                        "remaining_time": 24.66037392,
                        "learn": [
                          0.7132385421,
                          0.2008475734
                        ]
                      },
                      {
                        "test": [
                          0.7637284461,
                          0.141607497
                        ],
                        "passed_time": 0.9448156191,
                        "iteration": 36,
                        "remaining_time": 24.59074165,
                        "learn": [
                          0.7125384045,
                          0.20241575
                        ]
                      },
                      {
                        "test": [
                          0.7634375508,
                          0.142261276
                        ],
                        "passed_time": 0.9686993091,
                        "iteration": 37,
                        "remaining_time": 24.52338777,
                        "learn": [
                          0.711889582,
                          0.2038676156
                        ]
                      },
                      {
                        "test": [
                          0.7631963868,
                          0.1428030963
                        ],
                        "passed_time": 0.9967859291,
                        "iteration": 38,
                        "remaining_time": 24.56182764,
                        "learn": [
                          0.7110689634,
                          0.2057020138
                        ]
                      },
                      {
                        "test": [
                          0.7626348944,
                          0.1440639318
                        ],
                        "passed_time": 1.026940462,
                        "iteration": 39,
                        "remaining_time": 24.6465711,
                        "learn": [
                          0.7099652586,
                          0.208165882
                        ]
                      },
                      {
                        "test": [
                          0.7624479831,
                          0.1444834364
                        ],
                        "passed_time": 1.056774706,
                        "iteration": 40,
                        "remaining_time": 24.71821812,
                        "learn": [
                          0.709200938,
                          0.2098698791
                        ]
                      },
                      {
                        "test": [
                          0.7617187718,
                          0.1461190996
                        ],
                        "passed_time": 1.085007088,
                        "iteration": 41,
                        "remaining_time": 24.748495,
                        "learn": [
                          0.7083016637,
                          0.2118723955
                        ]
                      },
                      {
                        "test": [
                          0.7613164982,
                          0.1470207527
                        ],
                        "passed_time": 1.118009772,
                        "iteration": 42,
                        "remaining_time": 24.88221749,
                        "learn": [
                          0.7073396386,
                          0.2140118332
                        ]
                      },
                      {
                        "test": [
                          0.7607505077,
                          0.1482885532
                        ],
                        "passed_time": 1.142494483,
                        "iteration": 43,
                        "remaining_time": 24.82328923,
                        "learn": [
                          0.7064621901,
                          0.2159606462
                        ]
                      },
                      {
                        "test": [
                          0.7604159143,
                          0.149037588
                        ],
                        "passed_time": 1.171246374,
                        "iteration": 44,
                        "remaining_time": 24.85645083,
                        "learn": [
                          0.7053518578,
                          0.2184232271
                        ]
                      },
                      {
                        "test": [
                          0.760337383,
                          0.1492133439
                        ],
                        "passed_time": 1.194683423,
                        "iteration": 45,
                        "remaining_time": 24.77669534,
                        "learn": [
                          0.7047275312,
                          0.2198062055
                        ]
                      },
                      {
                        "test": [
                          0.759814683,
                          0.1503827019
                        ],
                        "passed_time": 1.21701846,
                        "iteration": 46,
                        "remaining_time": 24.67699132,
                        "learn": [
                          0.7040952163,
                          0.2212056311
                        ]
                      },
                      {
                        "test": [
                          0.7595800394,
                          0.1509073732
                        ],
                        "passed_time": 1.240812882,
                        "iteration": 47,
                        "remaining_time": 24.60945549,
                        "learn": [
                          0.7034993203,
                          0.2225233053
                        ]
                      },
                      {
                        "test": [
                          0.7593436861,
                          0.1514357036
                        ],
                        "passed_time": 1.268143491,
                        "iteration": 48,
                        "remaining_time": 24.61233592,
                        "learn": [
                          0.7029418352,
                          0.2237550335
                        ]
                      },
                      {
                        "test": [
                          0.7590482163,
                          0.1520959484
                        ],
                        "passed_time": 1.295600218,
                        "iteration": 49,
                        "remaining_time": 24.61640413,
                        "learn": [
                          0.702456567,
                          0.2248264078
                        ]
                      },
                      {
                        "test": [
                          0.7585737689,
                          0.1531555916
                        ],
                        "passed_time": 1.320384087,
                        "iteration": 50,
                        "remaining_time": 24.56949998,
                        "learn": [
                          0.7017337975,
                          0.2264207658
                        ]
                      },
                      {
                        "test": [
                          0.7582674462,
                          0.1538393888
                        ],
                        "passed_time": 1.343198704,
                        "iteration": 51,
                        "remaining_time": 24.4875456,
                        "learn": [
                          0.7012124853,
                          0.2275697099
                        ]
                      },
                      {
                        "test": [
                          0.7579481537,
                          0.1545518442
                        ],
                        "passed_time": 1.367479912,
                        "iteration": 52,
                        "remaining_time": 24.43402787,
                        "learn": [
                          0.7007995207,
                          0.2284792559
                        ]
                      },
                      {
                        "test": [
                          0.7574814132,
                          0.1555927686
                        ],
                        "passed_time": 1.39079541,
                        "iteration": 53,
                        "remaining_time": 24.36467514,
                        "learn": [
                          0.699972219,
                          0.2302997584
                        ]
                      },
                      {
                        "test": [
                          0.7573748586,
                          0.1558303168
                        ],
                        "passed_time": 1.415214086,
                        "iteration": 54,
                        "remaining_time": 24.31595111,
                        "learn": [
                          0.6993619482,
                          0.2316412997
                        ]
                      },
                      {
                        "test": [
                          0.7573278101,
                          0.1559351939
                        ],
                        "passed_time": 1.438562774,
                        "iteration": 55,
                        "remaining_time": 24.25005819,
                        "learn": [
                          0.6988409404,
                          0.2327856906
                        ]
                      },
                      {
                        "test": [
                          0.7572000931,
                          0.156219859
                        ],
                        "passed_time": 1.465452303,
                        "iteration": 56,
                        "remaining_time": 24.24423722,
                        "learn": [
                          0.6984918692,
                          0.2335519468
                        ]
                      },
                      {
                        "test": [
                          0.756513865,
                          0.157748552
                        ],
                        "passed_time": 1.491675193,
                        "iteration": 57,
                        "remaining_time": 24.22686262,
                        "learn": [
                          0.6976895936,
                          0.2353115934
                        ]
                      },
                      {
                        "test": [
                          0.7564281578,
                          0.1579393825
                        ],
                        "passed_time": 1.517772186,
                        "iteration": 58,
                        "remaining_time": 24.20718012,
                        "learn": [
                          0.6973220495,
                          0.2361170595
                        ]
                      },
                      {
                        "test": [
                          0.756066429,
                          0.1587445473
                        ],
                        "passed_time": 1.54121711,
                        "iteration": 59,
                        "remaining_time": 24.14573473,
                        "learn": [
                          0.6967022693,
                          0.2374743353
                        ]
                      },
                      {
                        "test": [
                          0.7558399997,
                          0.159248356
                        ],
                        "passed_time": 1.565439524,
                        "iteration": 60,
                        "remaining_time": 24.09750349,
                        "learn": [
                          0.6961495297,
                          0.2386837786
                        ]
                      },
                      {
                        "test": [
                          0.7552941632,
                          0.1604622298
                        ],
                        "passed_time": 1.591735884,
                        "iteration": 61,
                        "remaining_time": 24.08142354,
                        "learn": [
                          0.6952349899,
                          0.2406827646
                        ]
                      },
                      {
                        "test": [
                          0.7551376552,
                          0.1608101228
                        ],
                        "passed_time": 1.616196662,
                        "iteration": 62,
                        "remaining_time": 24.0377186,
                        "learn": [
                          0.6945634272,
                          0.2421489821
                        ]
                      },
                      {
                        "test": [
                          0.7547162117,
                          0.1617465677
                        ],
                        "passed_time": 1.641328677,
                        "iteration": 63,
                        "remaining_time": 24.0044319,
                        "learn": [
                          0.6940743116,
                          0.2432159725
                        ]
                      },
                      {
                        "test": [
                          0.7545657389,
                          0.1620807909
                        ],
                        "passed_time": 1.668187957,
                        "iteration": 64,
                        "remaining_time": 23.99624215,
                        "learn": [
                          0.6935141292,
                          0.2444370696
                        ]
                      },
                      {
                        "test": [
                          0.7541824511,
                          0.1629318303
                        ],
                        "passed_time": 1.692800439,
                        "iteration": 65,
                        "remaining_time": 23.95569106,
                        "learn": [
                          0.6927354461,
                          0.2461328209
                        ]
                      },
                      {
                        "test": [
                          0.7541692898,
                          0.1629610457
                        ],
                        "passed_time": 1.716682609,
                        "iteration": 66,
                        "remaining_time": 23.90544588,
                        "learn": [
                          0.6923670721,
                          0.2469343713
                        ]
                      },
                      {
                        "test": [
                          0.7540293093,
                          0.1632717404
                        ],
                        "passed_time": 1.743895664,
                        "iteration": 67,
                        "remaining_time": 23.9016288,
                        "learn": [
                          0.6919129749,
                          0.2479218615
                        ]
                      },
                      {
                        "test": [
                          0.7540993094,
                          0.1631163783
                        ],
                        "passed_time": 1.767101594,
                        "iteration": 68,
                        "remaining_time": 23.84306644,
                        "learn": [
                          0.6914048268,
                          0.2490261241
                        ]
                      },
                      {
                        "test": [
                          0.7540131191,
                          0.1633076719
                        ],
                        "passed_time": 1.790595425,
                        "iteration": 69,
                        "remaining_time": 23.78933922,
                        "learn": [
                          0.690932716,
                          0.2500513462
                        ]
                      },
                      {
                        "test": [
                          0.753828306,
                          0.163717778
                        ],
                        "passed_time": 1.813496446,
                        "iteration": 70,
                        "remaining_time": 23.72870701,
                        "learn": [
                          0.6904780014,
                          0.2510381295
                        ]
                      },
                      {
                        "test": [
                          0.7532670628,
                          0.1649625786
                        ],
                        "passed_time": 1.837805315,
                        "iteration": 71,
                        "remaining_time": 23.6872685,
                        "learn": [
                          0.6898036621,
                          0.2525003277
                        ]
                      },
                      {
                        "test": [
                          0.7530980225,
                          0.1653373174
                        ],
                        "passed_time": 1.860372787,
                        "iteration": 72,
                        "remaining_time": 23.62418593,
                        "learn": [
                          0.6894779275,
                          0.2532061197
                        ]
                      },
                      {
                        "test": [
                          0.7528663495,
                          0.1658507674
                        ],
                        "passed_time": 1.882826326,
                        "iteration": 73,
                        "remaining_time": 23.56077267,
                        "learn": [
                          0.6888766235,
                          0.2545081319
                        ]
                      },
                      {
                        "test": [
                          0.7527689979,
                          0.1660664775
                        ],
                        "passed_time": 1.909572844,
                        "iteration": 74,
                        "remaining_time": 23.55139841,
                        "learn": [
                          0.6883261427,
                          0.2556991
                        ]
                      },
                      {
                        "test": [
                          0.7525899711,
                          0.1664630898
                        ],
                        "passed_time": 1.934621756,
                        "iteration": 75,
                        "remaining_time": 23.52092767,
                        "learn": [
                          0.6878968802,
                          0.2566271509
                        ]
                      },
                      {
                        "test": [
                          0.7523308031,
                          0.1670370781
                        ],
                        "passed_time": 1.965133936,
                        "iteration": 76,
                        "remaining_time": 23.55608602,
                        "learn": [
                          0.6872759347,
                          0.2579685893
                        ]
                      },
                      {
                        "test": [
                          0.7522194783,
                          0.1672835722
                        ],
                        "passed_time": 1.996562299,
                        "iteration": 77,
                        "remaining_time": 23.60039025,
                        "learn": [
                          0.6867302845,
                          0.2591463663
                        ]
                      },
                      {
                        "test": [
                          0.7518337876,
                          0.1681372822
                        ],
                        "passed_time": 2.027175123,
                        "iteration": 78,
                        "remaining_time": 23.63326948,
                        "learn": [
                          0.6862199151,
                          0.2602471436
                        ]
                      },
                      {
                        "test": [
                          0.7515707805,
                          0.1687191861
                        ],
                        "passed_time": 2.053596437,
                        "iteration": 79,
                        "remaining_time": 23.61635903,
                        "learn": [
                          0.685524199,
                          0.2617463629
                        ]
                      },
                      {
                        "test": [
                          0.7511423607,
                          0.1696666302
                        ],
                        "passed_time": 2.077619588,
                        "iteration": 80,
                        "remaining_time": 23.57200496,
                        "learn": [
                          0.68507653,
                          0.2627102539
                        ]
                      },
                      {
                        "test": [
                          0.7510866448,
                          0.1697898056
                        ],
                        "passed_time": 2.100554129,
                        "iteration": 81,
                        "remaining_time": 23.51595964,
                        "learn": [
                          0.684427031,
                          0.2641075925
                        ]
                      },
                      {
                        "test": [
                          0.750878814,
                          0.1702491916
                        ],
                        "passed_time": 2.133005864,
                        "iteration": 82,
                        "remaining_time": 23.56585996,
                        "learn": [
                          0.6840291934,
                          0.2649628498
                        ]
                      },
                      {
                        "test": [
                          0.7507738213,
                          0.1704812177
                        ],
                        "passed_time": 2.155853542,
                        "iteration": 83,
                        "remaining_time": 23.50906958,
                        "learn": [
                          0.6835572947,
                          0.2659766762
                        ]
                      },
                      {
                        "test": [
                          0.7505888004,
                          0.1708900208
                        ],
                        "passed_time": 2.184181532,
                        "iteration": 84,
                        "remaining_time": 23.51207178,
                        "learn": [
                          0.6832437391,
                          0.2666499316
                        ]
                      },
                      {
                        "test": [
                          0.7505482686,
                          0.1709795623
                        ],
                        "passed_time": 2.209650384,
                        "iteration": 85,
                        "remaining_time": 23.48395873,
                        "learn": [
                          0.6827398226,
                          0.2677312762
                        ]
                      },
                      {
                        "test": [
                          0.750360061,
                          0.1713952808
                        ],
                        "passed_time": 2.236478636,
                        "iteration": 86,
                        "remaining_time": 23.47017235,
                        "learn": [
                          0.6823328817,
                          0.2686039403
                        ]
                      },
                      {
                        "test": [
                          0.7501570758,
                          0.1718435235
                        ],
                        "passed_time": 2.259876324,
                        "iteration": 87,
                        "remaining_time": 23.42053645,
                        "learn": [
                          0.6819391115,
                          0.2694478653
                        ]
                      },
                      {
                        "test": [
                          0.7500648453,
                          0.1720471517
                        ],
                        "passed_time": 2.284262322,
                        "iteration": 88,
                        "remaining_time": 23.38160646,
                        "learn": [
                          0.6816202002,
                          0.2701309962
                        ]
                      },
                      {
                        "test": [
                          0.7499468146,
                          0.1723077058
                        ],
                        "passed_time": 2.307782528,
                        "iteration": 89,
                        "remaining_time": 23.33424556,
                        "learn": [
                          0.6811621542,
                          0.2711116046
                        ]
                      },
                      {
                        "test": [
                          0.74976903,
                          0.1727000896
                        ],
                        "passed_time": 2.332384441,
                        "iteration": 90,
                        "remaining_time": 23.29821381,
                        "learn": [
                          0.6803037386,
                          0.2729475694
                        ]
                      },
                      {
                        "test": [
                          0.7497804212,
                          0.1726749511
                        ],
                        "passed_time": 2.360774814,
                        "iteration": 91,
                        "remaining_time": 23.29982099,
                        "learn": [
                          0.6800338413,
                          0.2735243429
                        ]
                      },
                      {
                        "test": [
                          0.749858442,
                          0.1725027623
                        ],
                        "passed_time": 2.383143946,
                        "iteration": 92,
                        "remaining_time": 23.24205978,
                        "learn": [
                          0.6797866045,
                          0.2740524899
                        ]
                      },
                      {
                        "test": [
                          0.7496576541,
                          0.1729458571
                        ],
                        "passed_time": 2.409043824,
                        "iteration": 93,
                        "remaining_time": 23.21908196,
                        "learn": [
                          0.6793838509,
                          0.2749124403
                        ]
                      },
                      {
                        "test": [
                          0.7494507628,
                          0.1734022965
                        ],
                        "passed_time": 2.431305463,
                        "iteration": 94,
                        "remaining_time": 23.16138362,
                        "learn": [
                          0.6791517492,
                          0.2754077869
                        ]
                      },
                      {
                        "test": [
                          0.7492113502,
                          0.1739303268
                        ],
                        "passed_time": 2.455779377,
                        "iteration": 95,
                        "remaining_time": 23.1252558,
                        "learn": [
                          0.6786634513,
                          0.2764493499
                        ]
                      },
                      {
                        "test": [
                          0.7491635774,
                          0.1740356706
                        ],
                        "passed_time": 2.479769385,
                        "iteration": 96,
                        "remaining_time": 23.08486345,
                        "learn": [
                          0.678169307,
                          0.2775026209
                        ]
                      },
                      {
                        "test": [
                          0.7490703237,
                          0.1742412851
                        ],
                        "passed_time": 2.502539616,
                        "iteration": 97,
                        "remaining_time": 23.03357891,
                        "learn": [
                          0.6778699573,
                          0.2781403132
                        ]
                      },
                      {
                        "test": [
                          0.7485250504,
                          0.1754430421
                        ],
                        "passed_time": 2.5276018,
                        "iteration": 98,
                        "remaining_time": 23.00372952,
                        "learn": [
                          0.6771317621,
                          0.2797116565
                        ]
                      },
                      {
                        "test": [
                          0.748384102,
                          0.1757535435
                        ],
                        "passed_time": 2.55084276,
                        "iteration": 99,
                        "remaining_time": 22.95758484,
                        "learn": [
                          0.6768754243,
                          0.2802569038
                        ]
                      },
                      {
                        "test": [
                          0.7483997242,
                          0.1757191316
                        ],
                        "passed_time": 2.573308097,
                        "iteration": 100,
                        "remaining_time": 22.9049899,
                        "learn": [
                          0.6765735429,
                          0.2808987608
                        ]
                      },
                      {
                        "test": [
                          0.7483567718,
                          0.1758137436
                        ],
                        "passed_time": 2.597463221,
                        "iteration": 101,
                        "remaining_time": 22.86786247,
                        "learn": [
                          0.6759890934,
                          0.2821405972
                        ]
                      },
                      {
                        "test": [
                          0.7481154368,
                          0.1763452359
                        ],
                        "passed_time": 2.624736418,
                        "iteration": 102,
                        "remaining_time": 22.85814143,
                        "learn": [
                          0.6756063084,
                          0.282953356
                        ]
                      },
                      {
                        "test": [
                          0.7478225805,
                          0.1769899635
                        ],
                        "passed_time": 2.650071271,
                        "iteration": 103,
                        "remaining_time": 22.83138326,
                        "learn": [
                          0.6752288714,
                          0.2837543086
                        ]
                      },
                      {
                        "test": [
                          0.7478581149,
                          0.1769117474
                        ],
                        "passed_time": 2.673135921,
                        "iteration": 104,
                        "remaining_time": 22.78530142,
                        "learn": [
                          0.6745121357,
                          0.2852740493
                        ]
                      },
                      {
                        "test": [
                          0.7477472753,
                          0.1771557081
                        ],
                        "passed_time": 2.695096601,
                        "iteration": 105,
                        "remaining_time": 22.73034304,
                        "learn": [
                          0.6740508038,
                          0.2862513873
                        ]
                      },
                      {
                        "test": [
                          0.747562106,
                          0.1775631897
                        ],
                        "passed_time": 2.717901479,
                        "iteration": 106,
                        "remaining_time": 22.68304692,
                        "learn": [
                          0.6737034333,
                          0.2869868549
                        ]
                      },
                      {
                        "test": [
                          0.7475006219,
                          0.1776984687
                        ],
                        "passed_time": 2.742000938,
                        "iteration": 107,
                        "remaining_time": 22.64689663,
                        "learn": [
                          0.6731917094,
                          0.2880696083
                        ]
                      },
                      {
                        "test": [
                          0.7473424688,
                          0.1780463901
                        ],
                        "passed_time": 2.76962743,
                        "iteration": 108,
                        "remaining_time": 22.63979853,
                        "learn": [
                          0.6730210326,
                          0.2884305591
                        ]
                      },
                      {
                        "test": [
                          0.7470321295,
                          0.1787288927
                        ],
                        "passed_time": 2.79245695,
                        "iteration": 109,
                        "remaining_time": 22.59351532,
                        "learn": [
                          0.6722660905,
                          0.2900260292
                        ]
                      },
                      {
                        "test": [
                          0.7471156092,
                          0.1785453307
                        ],
                        "passed_time": 2.814434005,
                        "iteration": 110,
                        "remaining_time": 22.5408273,
                        "learn": [
                          0.6717747608,
                          0.2910634274
                        ]
                      },
                      {
                        "test": [
                          0.7465899807,
                          0.1797007827
                        ],
                        "passed_time": 2.841111462,
                        "iteration": 111,
                        "remaining_time": 22.52595516,
                        "learn": [
                          0.6710601515,
                          0.2925709066
                        ]
                      },
                      {
                        "test": [
                          0.7465313082,
                          0.179829708
                        ],
                        "passed_time": 2.864235439,
                        "iteration": 112,
                        "remaining_time": 22.48298083,
                        "learn": [
                          0.6704832703,
                          0.2937866758
                        ]
                      },
                      {
                        "test": [
                          0.7463564669,
                          0.1802138388
                        ],
                        "passed_time": 2.886273952,
                        "iteration": 113,
                        "remaining_time": 22.43191861,
                        "learn": [
                          0.670265229,
                          0.2942459226
                        ]
                      },
                      {
                        "test": [
                          0.7464663463,
                          0.1799724413
                        ],
                        "passed_time": 2.910370125,
                        "iteration": 114,
                        "remaining_time": 22.39719618,
                        "learn": [
                          0.6697598159,
                          0.2953098681
                        ]
                      },
                      {
                        "test": [
                          0.7458451797,
                          0.1813366337
                        ],
                        "passed_time": 2.933190163,
                        "iteration": 115,
                        "remaining_time": 22.35293193,
                        "learn": [
                          0.6692358248,
                          0.296412075
                        ]
                      },
                      {
                        "test": [
                          0.7456452887,
                          0.1817753883
                        ],
                        "passed_time": 2.958103087,
                        "iteration": 116,
                        "remaining_time": 22.32482928,
                        "learn": [
                          0.6686811443,
                          0.2975778964
                        ]
                      },
                      {
                        "test": [
                          0.7455435864,
                          0.1819985767
                        ],
                        "passed_time": 2.982790266,
                        "iteration": 117,
                        "remaining_time": 22.29509335,
                        "learn": [
                          0.6681447452,
                          0.298704375
                        ]
                      },
                      {
                        "test": [
                          0.7456918961,
                          0.181673097
                        ],
                        "passed_time": 3.025109505,
                        "iteration": 118,
                        "remaining_time": 22.39597877,
                        "learn": [
                          0.6677728256,
                          0.2994849035
                        ]
                      },
                      {
                        "test": [
                          0.7455854007,
                          0.1819068177
                        ],
                        "passed_time": 3.052613602,
                        "iteration": 119,
                        "remaining_time": 22.38583308,
                        "learn": [
                          0.6672729826,
                          0.3005332137
                        ]
                      },
                      {
                        "test": [
                          0.7456113606,
                          0.1818498477
                        ],
                        "passed_time": 3.076437209,
                        "iteration": 120,
                        "remaining_time": 22.34866369,
                        "learn": [
                          0.666552992,
                          0.3020418551
                        ]
                      },
                      {
                        "test": [
                          0.7456679431,
                          0.1817256685
                        ],
                        "passed_time": 3.099335495,
                        "iteration": 121,
                        "remaining_time": 22.30505381,
                        "learn": [
                          0.6660789163,
                          0.3030343261
                        ]
                      },
                      {
                        "test": [
                          0.7456124434,
                          0.1818474714
                        ],
                        "passed_time": 3.140161876,
                        "iteration": 122,
                        "remaining_time": 22.38960948,
                        "learn": [
                          0.6657467422,
                          0.3037293074
                        ]
                      },
                      {
                        "test": [
                          0.7455897767,
                          0.1818972145
                        ],
                        "passed_time": 3.17501109,
                        "iteration": 123,
                        "remaining_time": 22.42991705,
                        "learn": [
                          0.6655615251,
                          0.3041166719
                        ]
                      },
                      {
                        "test": [
                          0.745607844,
                          0.1818575652
                        ],
                        "passed_time": 3.196818783,
                        "iteration": 124,
                        "remaining_time": 22.37773148,
                        "learn": [
                          0.6655111286,
                          0.3042220528
                        ]
                      },
                      {
                        "test": [
                          0.7454403282,
                          0.1822251482
                        ],
                        "passed_time": 3.22078298,
                        "iteration": 125,
                        "remaining_time": 22.3409867,
                        "learn": [
                          0.6649606024,
                          0.3053727041
                        ]
                      },
                      {
                        "test": [
                          0.7453214614,
                          0.1824859298
                        ],
                        "passed_time": 3.244840383,
                        "iteration": 126,
                        "remaining_time": 22.3050839,
                        "learn": [
                          0.6646036285,
                          0.306118304
                        ]
                      },
                      {
                        "test": [
                          0.7451228644,
                          0.1829215382
                        ],
                        "passed_time": 3.27387033,
                        "iteration": 127,
                        "remaining_time": 22.30324162,
                        "learn": [
                          0.6640584027,
                          0.3072563265
                        ]
                      },
                      {
                        "test": [
                          0.7450924064,
                          0.1829883355
                        ],
                        "passed_time": 3.297704542,
                        "iteration": 128,
                        "remaining_time": 22.26589656,
                        "learn": [
                          0.663667828,
                          0.3080709796
                        ]
                      },
                      {
                        "test": [
                          0.744933332,
                          0.1833371561
                        ],
                        "passed_time": 3.321819884,
                        "iteration": 129,
                        "remaining_time": 22.23064076,
                        "learn": [
                          0.663148073,
                          0.309154331
                        ]
                      },
                      {
                        "test": [
                          0.7449138578,
                          0.1833798542
                        ],
                        "passed_time": 3.344851096,
                        "iteration": 130,
                        "remaining_time": 22.18836338,
                        "learn": [
                          0.6626590963,
                          0.3101727548
                        ]
                      },
                      {
                        "test": [
                          0.7446692823,
                          0.1839160034
                        ],
                        "passed_time": 3.369245584,
                        "iteration": 131,
                        "remaining_time": 22.15534217,
                        "learn": [
                          0.6622008288,
                          0.3111265366
                        ]
                      },
                      {
                        "test": [
                          0.744391714,
                          0.1845242649
                        ],
                        "passed_time": 3.391289243,
                        "iteration": 132,
                        "remaining_time": 22.10712612,
                        "learn": [
                          0.6618780407,
                          0.3117979522
                        ]
                      },
                      {
                        "test": [
                          0.7443510359,
                          0.1846133877
                        ],
                        "passed_time": 3.415368,
                        "iteration": 133,
                        "remaining_time": 22.0724529,
                        "learn": [
                          0.6614103112,
                          0.3127702723
                        ]
                      },
                      {
                        "test": [
                          0.7443189276,
                          0.1846837311
                        ],
                        "passed_time": 3.441617516,
                        "iteration": 134,
                        "remaining_time": 22.05184556,
                        "learn": [
                          0.6611151689,
                          0.3133834628
                        ]
                      },
                      {
                        "test": [
                          0.7443681914,
                          0.1845758018
                        ],
                        "passed_time": 3.465913092,
                        "iteration": 135,
                        "remaining_time": 22.018742,
                        "learn": [
                          0.6606372867,
                          0.3143757354
                        ]
                      },
                      {
                        "test": [
                          0.7444539159,
                          0.1843879758
                        ],
                        "passed_time": 3.502362405,
                        "iteration": 136,
                        "remaining_time": 22.06232668,
                        "learn": [
                          0.660313404,
                          0.3150478362
                        ]
                      },
                      {
                        "test": [
                          0.744283131,
                          0.1847621515
                        ],
                        "passed_time": 3.526949835,
                        "iteration": 137,
                        "remaining_time": 22.03065766,
                        "learn": [
                          0.6601160299,
                          0.3154572527
                        ]
                      },
                      {
                        "test": [
                          0.7441289927,
                          0.185099782
                        ],
                        "passed_time": 3.553471511,
                        "iteration": 138,
                        "remaining_time": 22.01107173,
                        "learn": [
                          0.6597711516,
                          0.3161723461
                        ]
                      },
                      {
                        "test": [
                          0.7441595064,
                          0.1850329491
                        ],
                        "passed_time": 3.580715334,
                        "iteration": 139,
                        "remaining_time": 21.99582277,
                        "learn": [
                          0.6593347542,
                          0.3170766654
                        ]
                      },
                      {
                        "test": [
                          0.7436357592,
                          0.1861797099
                        ],
                        "passed_time": 3.605349573,
                        "iteration": 140,
                        "remaining_time": 21.96450555,
                        "learn": [
                          0.6587279567,
                          0.3183331
                        ]
                      },
                      {
                        "test": [
                          0.7435856043,
                          0.1862894834
                        ],
                        "passed_time": 3.629936142,
                        "iteration": 141,
                        "remaining_time": 21.93299444,
                        "learn": [
                          0.6584526889,
                          0.318902688
                        ]
                      },
                      {
                        "test": [
                          0.7435380707,
                          0.1863935126
                        ],
                        "passed_time": 3.655183435,
                        "iteration": 142,
                        "remaining_time": 21.90553989,
                        "learn": [
                          0.6578561097,
                          0.3201363207
                        ]
                      },
                      {
                        "test": [
                          0.7433018556,
                          0.1869103808
                        ],
                        "passed_time": 3.681559681,
                        "iteration": 143,
                        "remaining_time": 21.884827,
                        "learn": [
                          0.6574717562,
                          0.3209305116
                        ]
                      },
                      {
                        "test": [
                          0.7430833453,
                          0.1873883627
                        ],
                        "passed_time": 3.710580256,
                        "iteration": 144,
                        "remaining_time": 21.87962841,
                        "learn": [
                          0.6571046194,
                          0.3216886941
                        ]
                      },
                      {
                        "test": [
                          0.7429136026,
                          0.1877595704
                        ],
                        "passed_time": 3.740301821,
                        "iteration": 145,
                        "remaining_time": 21.87820381,
                        "learn": [
                          0.65681693,
                          0.3222825119
                        ]
                      },
                      {
                        "test": [
                          0.7427878503,
                          0.1880345215
                        ],
                        "passed_time": 3.765176936,
                        "iteration": 146,
                        "remaining_time": 21.84827161,
                        "learn": [
                          0.6562003301,
                          0.3235543562
                        ]
                      },
                      {
                        "test": [
                          0.7428523562,
                          0.1878934884
                        ],
                        "passed_time": 3.787925214,
                        "iteration": 147,
                        "remaining_time": 21.80616407,
                        "learn": [
                          0.6560276723,
                          0.3239102787
                        ]
                      },
                      {
                        "test": [
                          0.7428438271,
                          0.1879121366
                        ],
                        "passed_time": 3.810888249,
                        "iteration": 148,
                        "remaining_time": 21.76554295,
                        "learn": [
                          0.6557901362,
                          0.3243997905
                        ]
                      },
                      {
                        "test": [
                          0.7427854765,
                          0.1880397112
                        ],
                        "passed_time": 3.834451755,
                        "iteration": 149,
                        "remaining_time": 21.72855994,
                        "learn": [
                          0.6553726047,
                          0.3252598051
                        ]
                      },
                      {
                        "test": [
                          0.7427355114,
                          0.1881489441
                        ],
                        "passed_time": 3.858248069,
                        "iteration": 150,
                        "remaining_time": 21.69306365,
                        "learn": [
                          0.6550029246,
                          0.3260208002
                        ]
                      },
                      {
                        "test": [
                          0.7424547837,
                          0.18876253
                        ],
                        "passed_time": 3.881478248,
                        "iteration": 151,
                        "remaining_time": 21.65456286,
                        "learn": [
                          0.6544153332,
                          0.3272294871
                        ]
                      },
                      {
                        "test": [
                          0.7423776058,
                          0.1889311768
                        ],
                        "passed_time": 3.905465387,
                        "iteration": 152,
                        "remaining_time": 21.62045218,
                        "learn": [
                          0.6541692765,
                          0.3277353083
                        ]
                      },
                      {
                        "test": [
                          0.7424252102,
                          0.1888271551
                        ],
                        "passed_time": 3.932004776,
                        "iteration": 153,
                        "remaining_time": 21.60049377,
                        "learn": [
                          0.6540745896,
                          0.3279299066
                        ]
                      },
                      {
                        "test": [
                          0.7423750843,
                          0.1889366865
                        ],
                        "passed_time": 3.956855365,
                        "iteration": 154,
                        "remaining_time": 21.57124377,
                        "learn": [
                          0.6535034908,
                          0.329103017
                        ]
                      },
                      {
                        "test": [
                          0.7423726131,
                          0.1889420862
                        ],
                        "passed_time": 3.980872724,
                        "iteration": 155,
                        "remaining_time": 21.53754217,
                        "learn": [
                          0.6528838259,
                          0.3303747293
                        ]
                      },
                      {
                        "test": [
                          0.7422147689,
                          0.1892869457
                        ],
                        "passed_time": 4.015152153,
                        "iteration": 156,
                        "remaining_time": 21.55906538,
                        "learn": [
                          0.6523626603,
                          0.3314433615
                        ]
                      },
                      {
                        "test": [
                          0.7420992909,
                          0.1895391968
                        ],
                        "passed_time": 4.04981867,
                        "iteration": 157,
                        "remaining_time": 21.58194506,
                        "learn": [
                          0.6519656301,
                          0.3322568856
                        ]
                      },
                      {
                        "test": [
                          0.7420740651,
                          0.1895942951
                        ],
                        "passed_time": 4.070749814,
                        "iteration": 158,
                        "remaining_time": 21.53145027,
                        "learn": [
                          0.6519251553,
                          0.3323397918
                        ]
                      },
                      {
                        "test": [
                          0.741801036,
                          0.1901905257
                        ],
                        "passed_time": 4.095525713,
                        "iteration": 159,
                        "remaining_time": 21.50150999,
                        "learn": [
                          0.6514896186,
                          0.3332315915
                        ]
                      },
                      {
                        "test": [
                          0.741703123,
                          0.190404291
                        ],
                        "passed_time": 4.11889474,
                        "iteration": 160,
                        "remaining_time": 21.4643024,
                        "learn": [
                          0.6510454687,
                          0.3341404139
                        ]
                      },
                      {
                        "test": [
                          0.7416585806,
                          0.1905015273
                        ],
                        "passed_time": 4.159839601,
                        "iteration": 161,
                        "remaining_time": 21.51818263,
                        "learn": [
                          0.6504709913,
                          0.3353149941
                        ]
                      },
                      {
                        "test": [
                          0.7416594254,
                          0.1904996831
                        ],
                        "passed_time": 4.182279523,
                        "iteration": 162,
                        "remaining_time": 21.47587706,
                        "learn": [
                          0.6504456512,
                          0.3353667807
                        ]
                      },
                      {
                        "test": [
                          0.7415274035,
                          0.1907878539
                        ],
                        "passed_time": 4.206595029,
                        "iteration": 163,
                        "remaining_time": 21.44337466,
                        "learn": [
                          0.6497592715,
                          0.3367687427
                        ]
                      },
                      {
                        "test": [
                          0.7414233023,
                          0.1910150446
                        ],
                        "passed_time": 4.231434016,
                        "iteration": 164,
                        "remaining_time": 21.41362063,
                        "learn": [
                          0.6489942303,
                          0.3383296301
                        ]
                      },
                      {
                        "test": [
                          0.7414269517,
                          0.1910070807
                        ],
                        "passed_time": 4.253362665,
                        "iteration": 165,
                        "remaining_time": 21.36930399,
                        "learn": [
                          0.6489630602,
                          0.3383931864
                        ]
                      },
                      {
                        "test": [
                          0.7413404667,
                          0.1911958024
                        ],
                        "passed_time": 4.277253783,
                        "iteration": 166,
                        "remaining_time": 21.33504432,
                        "learn": [
                          0.6485214791,
                          0.3392932489
                        ]
                      },
                      {
                        "test": [
                          0.7413630159,
                          0.1911465991
                        ],
                        "passed_time": 4.298900334,
                        "iteration": 167,
                        "remaining_time": 21.28979213,
                        "learn": [
                          0.6484955814,
                          0.3393460166
                        ]
                      },
                      {
                        "test": [
                          0.741337799,
                          0.1912016231
                        ],
                        "passed_time": 4.32324615,
                        "iteration": 168,
                        "remaining_time": 21.25809202,
                        "learn": [
                          0.6479435834,
                          0.3404702323
                        ]
                      },
                      {
                        "test": [
                          0.7413816241,
                          0.1911059942
                        ],
                        "passed_time": 4.34617903,
                        "iteration": 169,
                        "remaining_time": 21.21957997,
                        "learn": [
                          0.6474310589,
                          0.3415131979
                        ]
                      },
                      {
                        "test": [
                          0.7412699726,
                          0.1913496133
                        ],
                        "passed_time": 4.373828376,
                        "iteration": 170,
                        "remaining_time": 21.20411534,
                        "learn": [
                          0.6468332473,
                          0.3427286766
                        ]
                      },
                      {
                        "test": [
                          0.7414145638,
                          0.1910341139
                        ],
                        "passed_time": 4.396963236,
                        "iteration": 171,
                        "remaining_time": 21.16677651,
                        "learn": [
                          0.6465007079,
                          0.3434043142
                        ]
                      },
                      {
                        "test": [
                          0.7411253133,
                          0.1916651998
                        ],
                        "passed_time": 4.42207061,
                        "iteration": 172,
                        "remaining_time": 21.13903118,
                        "learn": [
                          0.6457509766,
                          0.3449263077
                        ]
                      },
                      {
                        "test": [
                          0.7412059816,
                          0.1914892229
                        ],
                        "passed_time": 4.446278684,
                        "iteration": 173,
                        "remaining_time": 21.10704708,
                        "learn": [
                          0.6454175987,
                          0.3456025148
                        ]
                      },
                      {
                        "test": [
                          0.7411905936,
                          0.191522793
                        ],
                        "passed_time": 4.468866182,
                        "iteration": 174,
                        "remaining_time": 21.067512,
                        "learn": [
                          0.6453805883,
                          0.3456775633
                        ]
                      },
                      {
                        "test": [
                          0.7411267233,
                          0.1916621241
                        ],
                        "passed_time": 4.492791551,
                        "iteration": 175,
                        "remaining_time": 21.03443317,
                        "learn": [
                          0.6446910051,
                          0.3470750912
                        ]
                      },
                      {
                        "test": [
                          0.741047726,
                          0.1918344378
                        ],
                        "passed_time": 4.51487128,
                        "iteration": 176,
                        "remaining_time": 20.99287606,
                        "learn": [
                          0.6445833809,
                          0.3472930705
                        ]
                      },
                      {
                        "test": [
                          0.7409902735,
                          0.191959745
                        ],
                        "passed_time": 4.544389476,
                        "iteration": 177,
                        "remaining_time": 20.98588848,
                        "learn": [
                          0.6440465384,
                          0.3483798342
                        ]
                      },
                      {
                        "test": [
                          0.7409762038,
                          0.1919904304
                        ],
                        "passed_time": 4.569673102,
                        "iteration": 178,
                        "remaining_time": 20.95922691,
                        "learn": [
                          0.644021472,
                          0.3484305556
                        ]
                      },
                      {
                        "test": [
                          0.7408481253,
                          0.1922697368
                        ],
                        "passed_time": 4.597502733,
                        "iteration": 179,
                        "remaining_time": 20.94417912,
                        "learn": [
                          0.6435725229,
                          0.3493386605
                        ]
                      },
                      {
                        "test": [
                          0.7408406791,
                          0.1922859735
                        ],
                        "passed_time": 4.620196389,
                        "iteration": 180,
                        "remaining_time": 20.90575051,
                        "learn": [
                          0.64354791,
                          0.3493884276
                        ]
                      },
                      {
                        "test": [
                          0.7408396198,
                          0.1922882834
                        ],
                        "passed_time": 4.642727077,
                        "iteration": 181,
                        "remaining_time": 20.86676236,
                        "learn": [
                          0.6435256001,
                          0.3494335363
                        ]
                      },
                      {
                        "test": [
                          0.7406871083,
                          0.1926208052
                        ],
                        "passed_time": 4.666054053,
                        "iteration": 182,
                        "remaining_time": 20.83150908,
                        "learn": [
                          0.6431776766,
                          0.3501368065
                        ]
                      },
                      {
                        "test": [
                          0.7406757133,
                          0.192645647
                        ],
                        "passed_time": 4.688578792,
                        "iteration": 183,
                        "remaining_time": 20.79282768,
                        "learn": [
                          0.6431559484,
                          0.350180714
                        ]
                      },
                      {
                        "test": [
                          0.7406018877,
                          0.1928065825
                        ],
                        "passed_time": 4.711757274,
                        "iteration": 184,
                        "remaining_time": 20.75720096,
                        "learn": [
                          0.642905046,
                          0.3506876188
                        ]
                      },
                      {
                        "test": [
                          0.7406002539,
                          0.1928101437
                        ],
                        "passed_time": 4.734294957,
                        "iteration": 185,
                        "remaining_time": 20.71890373,
                        "learn": [
                          0.6428804169,
                          0.3507373668
                        ]
                      },
                      {
                        "test": [
                          0.7405054635,
                          0.1930167571
                        ],
                        "passed_time": 4.757825285,
                        "iteration": 186,
                        "remaining_time": 20.68509068,
                        "learn": [
                          0.6422349643,
                          0.3520404331
                        ]
                      },
                      {
                        "test": [
                          0.7403579636,
                          0.1933382081
                        ],
                        "passed_time": 4.780771725,
                        "iteration": 187,
                        "remaining_time": 20.64886511,
                        "learn": [
                          0.6417683138,
                          0.3529817111
                        ]
                      },
                      {
                        "test": [
                          0.7401383481,
                          0.193816704
                        ],
                        "passed_time": 4.80772515,
                        "iteration": 188,
                        "remaining_time": 20.62997406,
                        "learn": [
                          0.6411545798,
                          0.3542186286
                        ]
                      },
                      {
                        "test": [
                          0.7401630598,
                          0.1937628695
                        ],
                        "passed_time": 4.829329612,
                        "iteration": 189,
                        "remaining_time": 20.58819466,
                        "learn": [
                          0.6411353321,
                          0.3542574013
                        ]
                      },
                      {
                        "test": [
                          0.7401003953,
                          0.1938993808
                        ],
                        "passed_time": 4.851689856,
                        "iteration": 190,
                        "remaining_time": 20.54982771,
                        "learn": [
                          0.6406917149,
                          0.3551507023
                        ]
                      },
                      {
                        "test": [
                          0.7400905679,
                          0.1939207883
                        ],
                        "passed_time": 4.873586061,
                        "iteration": 191,
                        "remaining_time": 20.50967467,
                        "learn": [
                          0.6406720952,
                          0.3551901956
                        ]
                      },
                      {
                        "test": [
                          0.7400237831,
                          0.1940662608
                        ],
                        "passed_time": 4.897573694,
                        "iteration": 192,
                        "remaining_time": 20.47845581,
                        "learn": [
                          0.6402161586,
                          0.3561076315
                        ]
                      },
                      {
                        "test": [
                          0.7399791515,
                          0.1941634711
                        ],
                        "passed_time": 4.920603931,
                        "iteration": 193,
                        "remaining_time": 20.44333386,
                        "learn": [
                          0.6398297663,
                          0.356884619
                        ]
                      },
                      {
                        "test": [
                          0.7399698533,
                          0.1941837225
                        ],
                        "passed_time": 4.942738247,
                        "iteration": 194,
                        "remaining_time": 20.40463738,
                        "learn": [
                          0.6398109016,
                          0.3569225416
                        ]
                      },
                      {
                        "test": [
                          0.7397735826,
                          0.1946111376
                        ],
                        "passed_time": 4.971025957,
                        "iteration": 195,
                        "remaining_time": 20.39135138,
                        "learn": [
                          0.6392666024,
                          0.3580162323
                        ]
                      },
                      {
                        "test": [
                          0.7398843387,
                          0.19436996
                        ],
                        "passed_time": 4.994782035,
                        "iteration": 196,
                        "remaining_time": 20.35944149,
                        "learn": [
                          0.6387040738,
                          0.3591455746
                        ]
                      },
                      {
                        "test": [
                          0.7395534528,
                          0.1950903754
                        ],
                        "passed_time": 5.038374398,
                        "iteration": 197,
                        "remaining_time": 20.40796095,
                        "learn": [
                          0.6379739027,
                          0.3606099959
                        ]
                      },
                      {
                        "test": [
                          0.7395444216,
                          0.1951100339
                        ],
                        "passed_time": 5.070720608,
                        "iteration": 198,
                        "remaining_time": 20.41028747,
                        "learn": [
                          0.6379549508,
                          0.3606479831
                        ]
                      },
                      {
                        "test": [
                          0.7395218486,
                          0.1951591682
                        ],
                        "passed_time": 5.092911888,
                        "iteration": 199,
                        "remaining_time": 20.37164755,
                        "learn": [
                          0.6379375953,
                          0.3606827697
                        ]
                      },
                      {
                        "test": [
                          0.7395098385,
                          0.1951853098
                        ],
                        "passed_time": 5.116194902,
                        "iteration": 200,
                        "remaining_time": 20.33751108,
                        "learn": [
                          0.6374107285,
                          0.361738346
                        ]
                      },
                      {
                        "test": [
                          0.7394080795,
                          0.1954067849
                        ],
                        "passed_time": 5.140029733,
                        "iteration": 201,
                        "remaining_time": 20.30566202,
                        "learn": [
                          0.6371406353,
                          0.3622791389
                        ]
                      },
                      {
                        "test": [
                          0.739419421,
                          0.195382102
                        ],
                        "passed_time": 5.172322827,
                        "iteration": 202,
                        "remaining_time": 20.30709997,
                        "learn": [
                          0.6368465019,
                          0.3628678057
                        ]
                      },
                      {
                        "test": [
                          0.7393393372,
                          0.195556383
                        ],
                        "passed_time": 5.19628474,
                        "iteration": 203,
                        "remaining_time": 20.27569928,
                        "learn": [
                          0.6362979248,
                          0.3639649793
                        ]
                      },
                      {
                        "test": [
                          0.7393592844,
                          0.1955129751
                        ],
                        "passed_time": 5.218886663,
                        "iteration": 204,
                        "remaining_time": 20.23909706,
                        "learn": [
                          0.6362728847,
                          0.3640150377
                        ]
                      },
                      {
                        "test": [
                          0.7392452455,
                          0.1957611244
                        ],
                        "passed_time": 5.246470292,
                        "iteration": 205,
                        "remaining_time": 20.2218321,
                        "learn": [
                          0.6359413616,
                          0.3646776113
                        ]
                      },
                      {
                        "test": [
                          0.7390844619,
                          0.1961109253
                        ],
                        "passed_time": 5.270875161,
                        "iteration": 206,
                        "remaining_time": 20.19228987,
                        "learn": [
                          0.6356753443,
                          0.3652090169
                        ]
                      },
                      {
                        "test": [
                          0.739106722,
                          0.1960625007
                        ],
                        "passed_time": 5.294212921,
                        "iteration": 207,
                        "remaining_time": 20.15873381,
                        "learn": [
                          0.6351693025,
                          0.3662192902
                        ]
                      },
                      {
                        "test": [
                          0.7389329539,
                          0.1964404767
                        ],
                        "passed_time": 5.318379043,
                        "iteration": 208,
                        "remaining_time": 20.12841064,
                        "learn": [
                          0.6347232748,
                          0.3671090827
                        ]
                      },
                      {
                        "test": [
                          0.7387674579,
                          0.1968003766
                        ],
                        "passed_time": 5.341809207,
                        "iteration": 209,
                        "remaining_time": 20.09537749,
                        "learn": [
                          0.6343323191,
                          0.3678884968
                        ]
                      },
                      {
                        "test": [
                          0.7387955753,
                          0.1967392362
                        ],
                        "passed_time": 5.370983328,
                        "iteration": 210,
                        "remaining_time": 20.08391396,
                        "learn": [
                          0.633828986,
                          0.3688912408
                        ]
                      },
                      {
                        "test": [
                          0.7385814416,
                          0.1972048055
                        ],
                        "passed_time": 5.396782701,
                        "iteration": 211,
                        "remaining_time": 20.05973947,
                        "learn": [
                          0.6333917287,
                          0.3697617017
                        ]
                      },
                      {
                        "test": [
                          0.7384715549,
                          0.1974436686
                        ],
                        "passed_time": 5.421190505,
                        "iteration": 212,
                        "remaining_time": 20.03040811,
                        "learn": [
                          0.6329166456,
                          0.3707067829
                        ]
                      },
                      {
                        "test": [
                          0.7383810515,
                          0.1976403712
                        ],
                        "passed_time": 5.446722779,
                        "iteration": 213,
                        "remaining_time": 20.00525282,
                        "learn": [
                          0.6324039365,
                          0.3717259177
                        ]
                      },
                      {
                        "test": [
                          0.738401754,
                          0.1975953779
                        ],
                        "passed_time": 5.472675732,
                        "iteration": 214,
                        "remaining_time": 19.98163,
                        "learn": [
                          0.63177477,
                          0.3729754114
                        ]
                      },
                      {
                        "test": [
                          0.7385462506,
                          0.1972813048
                        ],
                        "passed_time": 5.49671084,
                        "iteration": 215,
                        "remaining_time": 19.95102453,
                        "learn": [
                          0.6311816379,
                          0.3741522036
                        ]
                      },
                      {
                        "test": [
                          0.7385813515,
                          0.1972050012
                        ],
                        "passed_time": 5.519362595,
                        "iteration": 216,
                        "remaining_time": 19.91548807,
                        "learn": [
                          0.6309255453,
                          0.3746599575
                        ]
                      },
                      {
                        "test": [
                          0.7384490902,
                          0.1974924962
                        ],
                        "passed_time": 5.542155314,
                        "iteration": 217,
                        "remaining_time": 19.88057549,
                        "learn": [
                          0.6306241643,
                          0.3752572406
                        ]
                      },
                      {
                        "test": [
                          0.7384786629,
                          0.1974282189
                        ],
                        "passed_time": 5.568748006,
                        "iteration": 218,
                        "remaining_time": 19.85932508,
                        "learn": [
                          0.6301810923,
                          0.3761348117
                        ]
                      },
                      {
                        "test": [
                          0.7384475724,
                          0.1974957953
                        ],
                        "passed_time": 5.591608951,
                        "iteration": 219,
                        "remaining_time": 19.82479537,
                        "learn": [
                          0.6298148142,
                          0.3768598152
                        ]
                      },
                      {
                        "test": [
                          0.7384648957,
                          0.1974581427
                        ],
                        "passed_time": 5.615216067,
                        "iteration": 220,
                        "remaining_time": 19.79300143,
                        "learn": [
                          0.6293480683,
                          0.3777830719
                        ]
                      },
                      {
                        "test": [
                          0.7383453301,
                          0.1977180025
                        ],
                        "passed_time": 5.640435441,
                        "iteration": 221,
                        "remaining_time": 19.76693141,
                        "learn": [
                          0.6288973394,
                          0.3786739961
                        ]
                      },
                      {
                        "test": [
                          0.7383476778,
                          0.1977129004
                        ],
                        "passed_time": 5.668865453,
                        "iteration": 222,
                        "remaining_time": 19.75205586,
                        "learn": [
                          0.6285672995,
                          0.3793259581
                        ]
                      },
                      {
                        "test": [
                          0.7384563282,
                          0.1974767644
                        ],
                        "passed_time": 5.692485445,
                        "iteration": 223,
                        "remaining_time": 19.72039601,
                        "learn": [
                          0.6283345663,
                          0.3797854942
                        ]
                      },
                      {
                        "test": [
                          0.7382586412,
                          0.1979063827
                        ],
                        "passed_time": 5.71544454,
                        "iteration": 224,
                        "remaining_time": 19.68653119,
                        "learn": [
                          0.6279127175,
                          0.380618009
                        ]
                      },
                      {
                        "test": [
                          0.738230477,
                          0.1979675806
                        ],
                        "passed_time": 5.74031948,
                        "iteration": 225,
                        "remaining_time": 19.65932424,
                        "learn": [
                          0.6274178137,
                          0.3815939846
                        ]
                      },
                      {
                        "test": [
                          0.7380050485,
                          0.1984573284
                        ],
                        "passed_time": 5.762372472,
                        "iteration": 226,
                        "remaining_time": 19.62252829,
                        "learn": [
                          0.6270982752,
                          0.3822237219
                        ]
                      },
                      {
                        "test": [
                          0.7378802195,
                          0.1987284574
                        ],
                        "passed_time": 5.786128942,
                        "iteration": 227,
                        "remaining_time": 19.59162957,
                        "learn": [
                          0.6266932213,
                          0.3830215295
                        ]
                      },
                      {
                        "test": [
                          0.7377792755,
                          0.1989476745
                        ],
                        "passed_time": 5.809300584,
                        "iteration": 228,
                        "remaining_time": 19.55882424,
                        "learn": [
                          0.6263116694,
                          0.3837725753
                        ]
                      },
                      {
                        "test": [
                          0.7376650208,
                          0.1991957619
                        ],
                        "passed_time": 5.832802479,
                        "iteration": 229,
                        "remaining_time": 19.5272083,
                        "learn": [
                          0.6259227618,
                          0.3845376291
                        ]
                      },
                      {
                        "test": [
                          0.7377079136,
                          0.199102631
                        ],
                        "passed_time": 5.862055736,
                        "iteration": 230,
                        "remaining_time": 19.51480892,
                        "learn": [
                          0.6255502001,
                          0.3852700821
                        ]
                      },
                      {
                        "test": [
                          0.7376811828,
                          0.1991606709
                        ],
                        "passed_time": 5.89109934,
                        "iteration": 231,
                        "remaining_time": 19.50157023,
                        "learn": [
                          0.6251856119,
                          0.385986437
                        ]
                      },
                      {
                        "test": [
                          0.7374773907,
                          0.1996030902
                        ],
                        "passed_time": 5.914893244,
                        "iteration": 232,
                        "remaining_time": 19.47091467,
                        "learn": [
                          0.6248384942,
                          0.3866680772
                        ]
                      },
                      {
                        "test": [
                          0.7374506925,
                          0.1996610411
                        ],
                        "passed_time": 5.939464218,
                        "iteration": 233,
                        "remaining_time": 19.4428615,
                        "learn": [
                          0.6242895788,
                          0.3877452177
                        ]
                      },
                      {
                        "test": [
                          0.737439291,
                          0.1996857885
                        ],
                        "passed_time": 5.963794109,
                        "iteration": 234,
                        "remaining_time": 19.41405316,
                        "learn": [
                          0.6238941891,
                          0.3885205072
                        ]
                      },
                      {
                        "test": [
                          0.7374678723,
                          0.199623751
                        ],
                        "passed_time": 5.993144696,
                        "iteration": 235,
                        "remaining_time": 19.40153622,
                        "learn": [
                          0.623270919,
                          0.3897416326
                        ]
                      },
                      {
                        "test": [
                          0.7375325131,
                          0.1994834351
                        ],
                        "passed_time": 6.0201985,
                        "iteration": 236,
                        "remaining_time": 19.38148293,
                        "learn": [
                          0.6227902809,
                          0.3906824764
                        ]
                      },
                      {
                        "test": [
                          0.737555044,
                          0.1994345243
                        ],
                        "passed_time": 6.069320938,
                        "iteration": 237,
                        "remaining_time": 19.43202754,
                        "learn": [
                          0.6227771103,
                          0.3907082477
                        ]
                      },
                      {
                        "test": [
                          0.7375640554,
                          0.1994149618
                        ],
                        "passed_time": 6.095986385,
                        "iteration": 238,
                        "remaining_time": 19.4102328,
                        "learn": [
                          0.6223929483,
                          0.3914597029
                        ]
                      },
                      {
                        "test": [
                          0.7377644461,
                          0.1989798766
                        ],
                        "passed_time": 6.122107446,
                        "iteration": 239,
                        "remaining_time": 19.38667358,
                        "learn": [
                          0.6218634676,
                          0.3924946545
                        ]
                      },
                      {
                        "test": [
                          0.7377682042,
                          0.1989717158
                        ],
                        "passed_time": 6.144881702,
                        "iteration": 240,
                        "remaining_time": 19.35255275,
                        "learn": [
                          0.6218497539,
                          0.3925214483
                        ]
                      },
                      {
                        "test": [
                          0.7376646236,
                          0.1991966245
                        ],
                        "passed_time": 6.17912062,
                        "iteration": 241,
                        "remaining_time": 19.35443566,
                        "learn": [
                          0.6212422912,
                          0.3937077166
                        ]
                      },
                      {
                        "test": [
                          0.7375500311,
                          0.1994454067
                        ],
                        "passed_time": 6.205193215,
                        "iteration": 242,
                        "remaining_time": 19.33058133,
                        "learn": [
                          0.6207004927,
                          0.394764776
                        ]
                      },
                      {
                        "test": [
                          0.7374955314,
                          0.1995637129
                        ],
                        "passed_time": 6.229312935,
                        "iteration": 243,
                        "remaining_time": 19.30065811,
                        "learn": [
                          0.6202658835,
                          0.3956120404
                        ]
                      },
                      {
                        "test": [
                          0.7375713683,
                          0.1993990863
                        ],
                        "passed_time": 6.256578623,
                        "iteration": 244,
                        "remaining_time": 19.28047698,
                        "learn": [
                          0.6198141323,
                          0.3964920938
                        ]
                      },
                      {
                        "test": [
                          0.7375965149,
                          0.1993444943
                        ],
                        "passed_time": 6.284193944,
                        "iteration": 245,
                        "remaining_time": 19.26130989,
                        "learn": [
                          0.6193190875,
                          0.3974557507
                        ]
                      },
                      {
                        "test": [
                          0.737672479,
                          0.1991795688
                        ],
                        "passed_time": 6.312199858,
                        "iteration": 246,
                        "remaining_time": 19.24326515,
                        "learn": [
                          0.618845919,
                          0.3983761036
                        ]
                      },
                      {
                        "test": [
                          0.7375514647,
                          0.1994422945
                        ],
                        "passed_time": 6.336453943,
                        "iteration": 247,
                        "remaining_time": 19.21376357,
                        "learn": [
                          0.618474046,
                          0.3990989345
                        ]
                      },
                      {
                        "test": [
                          0.7375551708,
                          0.1994342492
                        ],
                        "passed_time": 6.35920171,
                        "iteration": 248,
                        "remaining_time": 19.17976098,
                        "learn": [
                          0.6184559162,
                          0.3991341633
                        ]
                      },
                      {
                        "test": [
                          0.7376092515,
                          0.1993168431
                        ],
                        "passed_time": 6.384417068,
                        "iteration": 249,
                        "remaining_time": 19.1532512,
                        "learn": [
                          0.6180465055,
                          0.3999294325
                        ]
                      },
                      {
                        "test": [
                          0.7373361822,
                          0.199909573
                        ],
                        "passed_time": 6.41184845,
                        "iteration": 250,
                        "remaining_time": 19.1333645,
                        "learn": [
                          0.617460983,
                          0.4010658791
                        ]
                      },
                      {
                        "test": [
                          0.7373357771,
                          0.1999104521
                        ],
                        "passed_time": 6.433382799,
                        "iteration": 251,
                        "remaining_time": 19.09591402,
                        "learn": [
                          0.6174450901,
                          0.4010967106
                        ]
                      },
                      {
                        "test": [
                          0.7372703761,
                          0.2000523802
                        ],
                        "passed_time": 6.458283424,
                        "iteration": 252,
                        "remaining_time": 19.06852853,
                        "learn": [
                          0.6169369838,
                          0.4020820011
                        ]
                      },
                      {
                        "test": [
                          0.7371791953,
                          0.2002502325
                        ],
                        "passed_time": 6.480944045,
                        "iteration": 253,
                        "remaining_time": 19.03458369,
                        "learn": [
                          0.6167257856,
                          0.4024913057
                        ]
                      },
                      {
                        "test": [
                          0.7372014433,
                          0.2002019592
                        ],
                        "passed_time": 6.504528521,
                        "iteration": 254,
                        "remaining_time": 19.00342646,
                        "learn": [
                          0.6163748474,
                          0.4031711183
                        ]
                      },
                      {
                        "test": [
                          0.7372205659,
                          0.2001604659
                        ],
                        "passed_time": 6.532422029,
                        "iteration": 255,
                        "remaining_time": 18.98485152,
                        "learn": [
                          0.6162940983,
                          0.4033274849
                        ]
                      },
                      {
                        "test": [
                          0.7373096668,
                          0.199967116
                        ],
                        "passed_time": 6.556915274,
                        "iteration": 256,
                        "remaining_time": 18.95637373,
                        "learn": [
                          0.6160813154,
                          0.4037394304
                        ]
                      },
                      {
                        "test": [
                          0.7372844712,
                          0.2000217932
                        ],
                        "passed_time": 6.581104434,
                        "iteration": 257,
                        "remaining_time": 18.92705229,
                        "learn": [
                          0.6158190018,
                          0.404247071
                        ]
                      },
                      {
                        "test": [
                          0.7372425959,
                          0.2001126628
                        ],
                        "passed_time": 6.605289663,
                        "iteration": 258,
                        "remaining_time": 18.89775923,
                        "learn": [
                          0.6154054911,
                          0.4050468759
                        ]
                      },
                      {
                        "test": [
                          0.7373188255,
                          0.1999472403
                        ],
                        "passed_time": 6.629292911,
                        "iteration": 259,
                        "remaining_time": 18.86798752,
                        "learn": [
                          0.6151423651,
                          0.4055555296
                        ]
                      },
                      {
                        "test": [
                          0.7372119501,
                          0.2001791611
                        ],
                        "passed_time": 6.653430248,
                        "iteration": 260,
                        "remaining_time": 18.83863967,
                        "learn": [
                          0.614685601,
                          0.4064379922
                        ]
                      },
                      {
                        "test": [
                          0.7371239947,
                          0.20037
                        ],
                        "passed_time": 6.678804349,
                        "iteration": 261,
                        "remaining_time": 18.8128153,
                        "learn": [
                          0.6143098831,
                          0.4071633834
                        ]
                      },
                      {
                        "test": [
                          0.7372387113,
                          0.2001210921
                        ],
                        "passed_time": 6.703276371,
                        "iteration": 262,
                        "remaining_time": 18.78446648,
                        "learn": [
                          0.6138976459,
                          0.4079587712
                        ]
                      },
                      {
                        "test": [
                          0.7372295664,
                          0.2001409357
                        ],
                        "passed_time": 6.7294887,
                        "iteration": 263,
                        "remaining_time": 18.7609988,
                        "learn": [
                          0.6138822016,
                          0.4079885596
                        ]
                      },
                      {
                        "test": [
                          0.737268249,
                          0.200056996
                        ],
                        "passed_time": 6.755830579,
                        "iteration": 264,
                        "remaining_time": 18.73786972,
                        "learn": [
                          0.6135855324,
                          0.408560621
                        ]
                      },
                      {
                        "test": [
                          0.7373117377,
                          0.199962622
                        ],
                        "passed_time": 6.779225557,
                        "iteration": 265,
                        "remaining_time": 18.70658481,
                        "learn": [
                          0.6133203339,
                          0.4090717638
                        ]
                      },
                      {
                        "test": [
                          0.7373048606,
                          0.1999775463
                        ],
                        "passed_time": 6.802204208,
                        "iteration": 266,
                        "remaining_time": 18.67421605,
                        "learn": [
                          0.6129418311,
                          0.4098009065
                        ]
                      },
                      {
                        "test": [
                          0.7373477743,
                          0.1998844152
                        ],
                        "passed_time": 6.824623164,
                        "iteration": 267,
                        "remaining_time": 18.64038864,
                        "learn": [
                          0.6125414422,
                          0.4105717201
                        ]
                      },
                      {
                        "test": [
                          0.7372353819,
                          0.2001283167
                        ],
                        "passed_time": 6.848318168,
                        "iteration": 268,
                        "remaining_time": 18.61011368,
                        "learn": [
                          0.6121030403,
                          0.4114151373
                        ]
                      },
                      {
                        "test": [
                          0.7369490728,
                          0.2007494645
                        ],
                        "passed_time": 6.872386912,
                        "iteration": 269,
                        "remaining_time": 18.58089795,
                        "learn": [
                          0.6116278813,
                          0.4123285877
                        ]
                      },
                      {
                        "test": [
                          0.7370367277,
                          0.2005593227
                        ],
                        "passed_time": 6.8951425,
                        "iteration": 270,
                        "remaining_time": 18.54818776,
                        "learn": [
                          0.6111426352,
                          0.4132606974
                        ]
                      },
                      {
                        "test": [
                          0.7369376764,
                          0.2007741839
                        ],
                        "passed_time": 6.917997434,
                        "iteration": 271,
                        "remaining_time": 18.51581666,
                        "learn": [
                          0.6108935469,
                          0.4137388839
                        ]
                      },
                      {
                        "test": [
                          0.7370019514,
                          0.2006347625
                        ],
                        "passed_time": 6.940775664,
                        "iteration": 272,
                        "remaining_time": 18.48331102,
                        "learn": [
                          0.6105224564,
                          0.4144509225
                        ]
                      },
                      {
                        "test": [
                          0.7369175165,
                          0.2008179112
                        ],
                        "passed_time": 6.968884862,
                        "iteration": 273,
                        "remaining_time": 18.4650015,
                        "learn": [
                          0.6101773665,
                          0.4151126833
                        ]
                      },
                      {
                        "test": [
                          0.7368218544,
                          0.2010253875
                        ],
                        "passed_time": 6.99280688,
                        "iteration": 274,
                        "remaining_time": 18.43558178,
                        "learn": [
                          0.6097437149,
                          0.4159437441
                        ]
                      },
                      {
                        "test": [
                          0.7367107255,
                          0.201266375
                        ],
                        "passed_time": 7.017434073,
                        "iteration": 275,
                        "remaining_time": 18.4080517,
                        "learn": [
                          0.6095043525,
                          0.4164022109
                        ]
                      },
                      {
                        "test": [
                          0.7365020473,
                          0.2017188043
                        ],
                        "passed_time": 7.040174788,
                        "iteration": 276,
                        "remaining_time": 18.37561867,
                        "learn": [
                          0.6090759986,
                          0.4172222168
                        ]
                      },
                      {
                        "test": [
                          0.7363069497,
                          0.2021416737
                        ],
                        "passed_time": 7.090627411,
                        "iteration": 277,
                        "remaining_time": 18.41522659,
                        "learn": [
                          0.6085783846,
                          0.4181740845
                        ]
                      },
                      {
                        "test": [
                          0.7360559471,
                          0.2026855512
                        ],
                        "passed_time": 7.122329941,
                        "iteration": 278,
                        "remaining_time": 18.40573436,
                        "learn": [
                          0.6079048674,
                          0.4194611921
                        ]
                      },
                      {
                        "test": [
                          0.7360648025,
                          0.2026663663
                        ],
                        "passed_time": 7.149288057,
                        "iteration": 279,
                        "remaining_time": 18.38388357,
                        "learn": [
                          0.6074650682,
                          0.4203008897
                        ]
                      },
                      {
                        "test": [
                          0.7362161488,
                          0.2023384442
                        ],
                        "passed_time": 7.183580907,
                        "iteration": 280,
                        "remaining_time": 18.38076396,
                        "learn": [
                          0.6072011729,
                          0.4208044468
                        ]
                      },
                      {
                        "test": [
                          0.7361744741,
                          0.2024287476
                        ],
                        "passed_time": 7.207242299,
                        "iteration": 281,
                        "remaining_time": 18.35035451,
                        "learn": [
                          0.6069342481,
                          0.421313562
                        ]
                      },
                      {
                        "test": [
                          0.7360308908,
                          0.2027398334
                        ],
                        "passed_time": 7.229227684,
                        "iteration": 282,
                        "remaining_time": 18.31574647,
                        "learn": [
                          0.6066693009,
                          0.4218186839
                        ]
                      },
                      {
                        "test": [
                          0.7359688153,
                          0.2028743066
                        ],
                        "passed_time": 7.251378711,
                        "iteration": 283,
                        "remaining_time": 18.28164492,
                        "learn": [
                          0.6064382932,
                          0.4222589202
                        ]
                      },
                      {
                        "test": [
                          0.7359648377,
                          0.202882923
                        ],
                        "passed_time": 7.272747855,
                        "iteration": 284,
                        "remaining_time": 18.24566567,
                        "learn": [
                          0.6064229887,
                          0.4222880803
                        ]
                      },
                      {
                        "test": [
                          0.7359182463,
                          0.2029838452
                        ],
                        "passed_time": 7.295037372,
                        "iteration": 285,
                        "remaining_time": 18.21208631,
                        "learn": [
                          0.6061521067,
                          0.4228040792
                        ]
                      },
                      {
                        "test": [
                          0.7358540423,
                          0.2031229079
                        ],
                        "passed_time": 7.317641674,
                        "iteration": 286,
                        "remaining_time": 18.17936764,
                        "learn": [
                          0.6058932155,
                          0.4232970217
                        ]
                      },
                      {
                        "test": [
                          0.7359058448,
                          0.2030107071
                        ],
                        "passed_time": 7.343307918,
                        "iteration": 287,
                        "remaining_time": 18.15428902,
                        "learn": [
                          0.6054905993,
                          0.4240632056
                        ]
                      },
                      {
                        "test": [
                          0.7359014061,
                          0.2030203215
                        ],
                        "passed_time": 7.364940853,
                        "iteration": 288,
                        "remaining_time": 18.11928355,
                        "learn": [
                          0.6054729976,
                          0.4240966902
                        ]
                      },
                      {
                        "test": [
                          0.7358257253,
                          0.2031842374
                        ],
                        "passed_time": 7.391081275,
                        "iteration": 289,
                        "remaining_time": 18.09540588,
                        "learn": [
                          0.6050829894,
                          0.4248383737
                        ]
                      },
                      {
                        "test": [
                          0.7357499219,
                          0.2033484018
                        ],
                        "passed_time": 7.415497806,
                        "iteration": 290,
                        "remaining_time": 18.06731252,
                        "learn": [
                          0.6047017241,
                          0.4255629688
                        ]
                      },
                      {
                        "test": [
                          0.735750982,
                          0.2033461061
                        ],
                        "passed_time": 7.438780425,
                        "iteration": 291,
                        "remaining_time": 18.036495,
                        "learn": [
                          0.604318421,
                          0.4262909764
                        ]
                      },
                      {
                        "test": [
                          0.7357457779,
                          0.2033573757
                        ],
                        "passed_time": 7.460105266,
                        "iteration": 292,
                        "remaining_time": 18.00100486,
                        "learn": [
                          0.6043090057,
                          0.426308853
                        ]
                      },
                      {
                        "test": [
                          0.735830232,
                          0.2031744769
                        ],
                        "passed_time": 7.482404132,
                        "iteration": 293,
                        "remaining_time": 17.96795006,
                        "learn": [
                          0.6040395042,
                          0.4268204329
                        ]
                      },
                      {
                        "test": [
                          0.7358217152,
                          0.2031929222
                        ],
                        "passed_time": 7.504525994,
                        "iteration": 294,
                        "remaining_time": 17.93454517,
                        "learn": [
                          0.6040307504,
                          0.4268370458
                        ]
                      },
                      {
                        "test": [
                          0.7357983059,
                          0.2032436205
                        ],
                        "passed_time": 7.530900334,
                        "iteration": 295,
                        "remaining_time": 17.91133052,
                        "learn": [
                          0.6036272932,
                          0.4276024689
                        ]
                      },
                      {
                        "test": [
                          0.7358667464,
                          0.2030953924
                        ],
                        "passed_time": 7.555621261,
                        "iteration": 296,
                        "remaining_time": 17.88418097,
                        "learn": [
                          0.6034049075,
                          0.4280241514
                        ]
                      },
                      {
                        "test": [
                          0.7357168471,
                          0.2034200253
                        ],
                        "passed_time": 7.585154457,
                        "iteration": 297,
                        "remaining_time": 17.86838399,
                        "learn": [
                          0.6027087727,
                          0.4293431417
                        ]
                      },
                      {
                        "test": [
                          0.7357121072,
                          0.2034302893
                        ],
                        "passed_time": 7.613873957,
                        "iteration": 298,
                        "remaining_time": 17.85058744,
                        "learn": [
                          0.602554709,
                          0.4296348457
                        ]
                      },
                      {
                        "test": [
                          0.7356726145,
                          0.203515806
                        ],
                        "passed_time": 7.63829107,
                        "iteration": 299,
                        "remaining_time": 17.82267916,
                        "learn": [
                          0.6021582435,
                          0.4303851699
                        ]
                      },
                      {
                        "test": [
                          0.7355957749,
                          0.2036821799
                        ],
                        "passed_time": 7.663108251,
                        "iteration": 300,
                        "remaining_time": 17.79572315,
                        "learn": [
                          0.6018700587,
                          0.4309302594
                        ]
                      },
                      {
                        "test": [
                          0.7357472149,
                          0.2033542639
                        ],
                        "passed_time": 7.688878686,
                        "iteration": 301,
                        "remaining_time": 17.77098451,
                        "learn": [
                          0.6014001026,
                          0.431818602
                        ]
                      },
                      {
                        "test": [
                          0.7357034421,
                          0.2034490529
                        ],
                        "passed_time": 7.712794546,
                        "iteration": 302,
                        "remaining_time": 17.74197293,
                        "learn": [
                          0.6010939257,
                          0.4323969848
                        ]
                      },
                      {
                        "test": [
                          0.7357718188,
                          0.2033009822
                        ],
                        "passed_time": 7.735945043,
                        "iteration": 303,
                        "remaining_time": 17.7112426,
                        "learn": [
                          0.600501455,
                          0.4335153538
                        ]
                      },
                      {
                        "test": [
                          0.7357906999,
                          0.2032600925
                        ],
                        "passed_time": 7.758682959,
                        "iteration": 304,
                        "remaining_time": 17.67962182,
                        "learn": [
                          0.6002374109,
                          0.4340134176
                        ]
                      },
                      {
                        "test": [
                          0.7357749715,
                          0.2032941548
                        ],
                        "passed_time": 7.781399684,
                        "iteration": 305,
                        "remaining_time": 17.64801105,
                        "learn": [
                          0.5999530165,
                          0.4345496231
                        ]
                      },
                      {
                        "test": [
                          0.7357743008,
                          0.2032956072
                        ],
                        "passed_time": 7.804879514,
                        "iteration": 306,
                        "remaining_time": 17.61818079,
                        "learn": [
                          0.5995059161,
                          0.4353920854
                        ]
                      },
                      {
                        "test": [
                          0.7357634758,
                          0.2033190498
                        ],
                        "passed_time": 7.832980704,
                        "iteration": 307,
                        "remaining_time": 17.59877483,
                        "learn": [
                          0.5990225184,
                          0.4363022353
                        ]
                      },
                      {
                        "test": [
                          0.7356993163,
                          0.2034579871
                        ],
                        "passed_time": 7.856116623,
                        "iteration": 308,
                        "remaining_time": 17.56820902,
                        "learn": [
                          0.5987695117,
                          0.4367783081
                        ]
                      },
                      {
                        "test": [
                          0.7355979891,
                          0.2036773858
                        ],
                        "passed_time": 7.879467519,
                        "iteration": 309,
                        "remaining_time": 17.53816964,
                        "learn": [
                          0.5982899755,
                          0.4376800811
                        ]
                      },
                      {
                        "test": [
                          0.7355536503,
                          0.2037733811
                        ],
                        "passed_time": 7.903066145,
                        "iteration": 310,
                        "remaining_time": 17.5087221,
                        "learn": [
                          0.5979298976,
                          0.4383567364
                        ]
                      },
                      {
                        "test": [
                          0.7354949184,
                          0.2039005288
                        ],
                        "passed_time": 7.927622347,
                        "iteration": 311,
                        "remaining_time": 17.48142364,
                        "learn": [
                          0.59744031,
                          0.4392761118
                        ]
                      },
                      {
                        "test": [
                          0.7354441573,
                          0.2040104127
                        ],
                        "passed_time": 7.950238141,
                        "iteration": 312,
                        "remaining_time": 17.44988371,
                        "learn": [
                          0.5971776173,
                          0.4397691005
                        ]
                      },
                      {
                        "test": [
                          0.7355168501,
                          0.2038530505
                        ],
                        "passed_time": 7.974122857,
                        "iteration": 313,
                        "remaining_time": 17.42117287,
                        "learn": [
                          0.596703819,
                          0.4406577177
                        ]
                      },
                      {
                        "test": [
                          0.7355743923,
                          0.2037284746
                        ],
                        "passed_time": 7.996693271,
                        "iteration": 314,
                        "remaining_time": 17.38963457,
                        "learn": [
                          0.5963683367,
                          0.4412864943
                        ]
                      },
                      {
                        "test": [
                          0.7353763234,
                          0.2041572425
                        ],
                        "passed_time": 8.027340385,
                        "iteration": 315,
                        "remaining_time": 17.37563552,
                        "learn": [
                          0.5959266627,
                          0.442113761
                        ]
                      },
                      {
                        "test": [
                          0.7354202925,
                          0.2040620709
                        ],
                        "passed_time": 8.055915536,
                        "iteration": 316,
                        "remaining_time": 17.35706723,
                        "learn": [
                          0.5956305717,
                          0.4426680039
                        ]
                      },
                      {
                        "test": [
                          0.735448224,
                          0.2040016096
                        ],
                        "passed_time": 8.108261785,
                        "iteration": 317,
                        "remaining_time": 17.38941678,
                        "learn": [
                          0.5953418294,
                          0.4432082256
                        ]
                      },
                      {
                        "test": [
                          0.7354647594,
                          0.2039658158
                        ],
                        "passed_time": 8.1332257,
                        "iteration": 318,
                        "remaining_time": 17.36277963,
                        "learn": [
                          0.5949479818,
                          0.4439446718
                        ]
                      },
                      {
                        "test": [
                          0.7352264175,
                          0.2044816735
                        ],
                        "passed_time": 8.156326455,
                        "iteration": 319,
                        "remaining_time": 17.33219372,
                        "learn": [
                          0.5946523631,
                          0.4444971217
                        ]
                      },
                      {
                        "test": [
                          0.7351091736,
                          0.2047353701
                        ],
                        "passed_time": 8.189605509,
                        "iteration": 320,
                        "remaining_time": 17.32318424,
                        "learn": [
                          0.5943164142,
                          0.4451246073
                        ]
                      },
                      {
                        "test": [
                          0.7350829389,
                          0.2047921322
                        ],
                        "passed_time": 8.213126881,
                        "iteration": 321,
                        "remaining_time": 17.29347834,
                        "learn": [
                          0.5940466432,
                          0.445628229
                        ]
                      },
                      {
                        "test": [
                          0.7350701149,
                          0.2048198777
                        ],
                        "passed_time": 8.236457641,
                        "iteration": 322,
                        "remaining_time": 17.26341122,
                        "learn": [
                          0.593752917,
                          0.4461763114
                        ]
                      },
                      {
                        "test": [
                          0.7349566457,
                          0.2050653549
                        ],
                        "passed_time": 8.26376983,
                        "iteration": 323,
                        "remaining_time": 17.24169261,
                        "learn": [
                          0.5933970343,
                          0.4468400123
                        ]
                      },
                      {
                        "test": [
                          0.7350006183,
                          0.20497023
                        ],
                        "passed_time": 8.290023047,
                        "iteration": 324,
                        "remaining_time": 17.21774017,
                        "learn": [
                          0.5930010645,
                          0.4475780059
                        ]
                      },
                      {
                        "test": [
                          0.7350338818,
                          0.2048982678
                        ],
                        "passed_time": 8.314043033,
                        "iteration": 325,
                        "remaining_time": 17.18915645,
                        "learn": [
                          0.592823045,
                          0.4479096313
                        ]
                      },
                      {
                        "test": [
                          0.7350629855,
                          0.2048353025
                        ],
                        "passed_time": 8.340268303,
                        "iteration": 326,
                        "remaining_time": 17.16513935,
                        "learn": [
                          0.5925058811,
                          0.4485002165
                        ]
                      },
                      {
                        "test": [
                          0.7349676356,
                          0.2050415812
                        ],
                        "passed_time": 8.362584739,
                        "iteration": 327,
                        "remaining_time": 17.13310044,
                        "learn": [
                          0.5923034398,
                          0.4488770138
                        ]
                      },
                      {
                        "test": [
                          0.7348667403,
                          0.2052598277
                        ],
                        "passed_time": 8.38679077,
                        "iteration": 328,
                        "remaining_time": 17.10497449,
                        "learn": [
                          0.5919757069,
                          0.449486739
                        ]
                      },
                      {
                        "test": [
                          0.7347919078,
                          0.2054216784
                        ],
                        "passed_time": 8.410808695,
                        "iteration": 329,
                        "remaining_time": 17.07649038,
                        "learn": [
                          0.5916755631,
                          0.4500448404
                        ]
                      },
                      {
                        "test": [
                          0.7347543467,
                          0.2055029111
                        ],
                        "passed_time": 8.435489793,
                        "iteration": 330,
                        "remaining_time": 17.04937363,
                        "learn": [
                          0.5913165709,
                          0.4507119957
                        ]
                      },
                      {
                        "test": [
                          0.7348497748,
                          0.2052965228
                        ],
                        "passed_time": 8.45951728,
                        "iteration": 331,
                        "remaining_time": 17.02095645,
                        "learn": [
                          0.5909167756,
                          0.4514545032
                        ]
                      },
                      {
                        "test": [
                          0.7347227542,
                          0.2055712321
                        ],
                        "passed_time": 8.488522708,
                        "iteration": 332,
                        "remaining_time": 17.00253647,
                        "learn": [
                          0.5906300022,
                          0.451986795
                        ]
                      },
                      {
                        "test": [
                          0.7347863882,
                          0.2054336159
                        ],
                        "passed_time": 8.517585313,
                        "iteration": 333,
                        "remaining_time": 16.98416712,
                        "learn": [
                          0.5903095533,
                          0.4525812876
                        ]
                      },
                      {
                        "test": [
                          0.7347482124,
                          0.2055161771
                        ],
                        "passed_time": 8.543484931,
                        "iteration": 334,
                        "remaining_time": 16.95945516,
                        "learn": [
                          0.5901462714,
                          0.4528840821
                        ]
                      },
                      {
                        "test": [
                          0.7347790139,
                          0.2054495642
                        ],
                        "passed_time": 8.567479943,
                        "iteration": 335,
                        "remaining_time": 16.93097227,
                        "learn": [
                          0.5899163253,
                          0.4533103582
                        ]
                      },
                      {
                        "test": [
                          0.734835278,
                          0.2053278778
                        ],
                        "passed_time": 8.590934235,
                        "iteration": 336,
                        "remaining_time": 16.90145222,
                        "learn": [
                          0.5896223361,
                          0.4538551162
                        ]
                      },
                      {
                        "test": [
                          0.7346884561,
                          0.2056454008
                        ],
                        "passed_time": 8.615905723,
                        "iteration": 337,
                        "remaining_time": 16.87493961,
                        "learn": [
                          0.5893810281,
                          0.4543020537
                        ]
                      },
                      {
                        "test": [
                          0.7347258171,
                          0.2055646084
                        ],
                        "passed_time": 8.640618201,
                        "iteration": 338,
                        "remaining_time": 16.84793107,
                        "learn": [
                          0.5891603076,
                          0.4547107
                        ]
                      },
                      {
                        "test": [
                          0.7346909903,
                          0.2056399209
                        ],
                        "passed_time": 8.665440876,
                        "iteration": 339,
                        "remaining_time": 16.82114994,
                        "learn": [
                          0.5887875385,
                          0.4554005044
                        ]
                      },
                      {
                        "test": [
                          0.7347526526,
                          0.2055065747
                        ],
                        "passed_time": 8.692956272,
                        "iteration": 340,
                        "remaining_time": 16.79958411,
                        "learn": [
                          0.5883808123,
                          0.456152648
                        ]
                      },
                      {
                        "test": [
                          0.7346535575,
                          0.2057208647
                        ],
                        "passed_time": 8.716680402,
                        "iteration": 341,
                        "remaining_time": 16.77068919,
                        "learn": [
                          0.5881885449,
                          0.4565080199
                        ]
                      },
                      {
                        "test": [
                          0.7346662231,
                          0.2056934774
                        ],
                        "passed_time": 8.740001484,
                        "iteration": 342,
                        "remaining_time": 16.74105241,
                        "learn": [
                          0.5879218937,
                          0.457000685
                        ]
                      },
                      {
                        "test": [
                          0.734677773,
                          0.205668502
                        ],
                        "passed_time": 8.76394406,
                        "iteration": 343,
                        "remaining_time": 16.71263751,
                        "learn": [
                          0.5875723015,
                          0.4576462533
                        ]
                      },
                      {
                        "test": [
                          0.7347292953,
                          0.2055570867
                        ],
                        "passed_time": 8.78814789,
                        "iteration": 344,
                        "remaining_time": 16.68474454,
                        "learn": [
                          0.5871401409,
                          0.4584437643
                        ]
                      },
                      {
                        "test": [
                          0.7347742237,
                          0.2054599241
                        ],
                        "passed_time": 8.812708147,
                        "iteration": 345,
                        "remaining_time": 16.65754661,
                        "learn": [
                          0.5869283104,
                          0.4588344631
                        ]
                      },
                      {
                        "test": [
                          0.7345931014,
                          0.2058515848
                        ],
                        "passed_time": 8.837255305,
                        "iteration": 346,
                        "remaining_time": 16.63033923,
                        "learn": [
                          0.5866622459,
                          0.4593249908
                        ]
                      },
                      {
                        "test": [
                          0.7344784789,
                          0.206099396
                        ],
                        "passed_time": 8.861776178,
                        "iteration": 347,
                        "remaining_time": 16.6030979,
                        "learn": [
                          0.5863637644,
                          0.459875019
                        ]
                      },
                      {
                        "test": [
                          0.7344840313,
                          0.2060873929
                        ],
                        "passed_time": 8.884404559,
                        "iteration": 348,
                        "remaining_time": 16.57234203,
                        "learn": [
                          0.5860421104,
                          0.4604674354
                        ]
                      },
                      {
                        "test": [
                          0.7344457701,
                          0.2061701046
                        ],
                        "passed_time": 8.911121218,
                        "iteration": 349,
                        "remaining_time": 16.54922512,
                        "learn": [
                          0.5857890191,
                          0.4609333456
                        ]
                      },
                      {
                        "test": [
                          0.7344741033,
                          0.2061088552
                        ],
                        "passed_time": 8.936690062,
                        "iteration": 350,
                        "remaining_time": 16.52396538,
                        "learn": [
                          0.5854333194,
                          0.4615878052
                        ]
                      },
                      {
                        "test": [
                          0.734557184,
                          0.2059292416
                        ],
                        "passed_time": 8.959111731,
                        "iteration": 351,
                        "remaining_time": 16.49291023,
                        "learn": [
                          0.5851858492,
                          0.4620428966
                        ]
                      },
                      {
                        "test": [
                          0.7344512117,
                          0.2061583415
                        ],
                        "passed_time": 8.987614194,
                        "iteration": 352,
                        "remaining_time": 16.47304925,
                        "learn": [
                          0.5849126239,
                          0.4625451274
                        ]
                      },
                      {
                        "test": [
                          0.7345030642,
                          0.2060462466
                        ],
                        "passed_time": 9.011845812,
                        "iteration": 353,
                        "remaining_time": 16.44534575,
                        "learn": [
                          0.584690641,
                          0.4629529939
                        ]
                      },
                      {
                        "test": [
                          0.7344358491,
                          0.2061915509
                        ],
                        "passed_time": 9.036944428,
                        "iteration": 354,
                        "remaining_time": 16.41923706,
                        "learn": [
                          0.5842853783,
                          0.4636972155
                        ]
                      },
                      {
                        "test": [
                          0.7346118354,
                          0.2058110788
                        ],
                        "passed_time": 9.060597643,
                        "iteration": 355,
                        "remaining_time": 16.39051933,
                        "learn": [
                          0.5839198448,
                          0.464368036
                        ]
                      },
                      {
                        "test": [
                          0.7345746557,
                          0.2058914666
                        ],
                        "passed_time": 9.084286567,
                        "iteration": 356,
                        "remaining_time": 16.36189429,
                        "learn": [
                          0.5836508416,
                          0.4648614377
                        ]
                      },
                      {
                        "test": [
                          0.7346220396,
                          0.205789015
                        ],
                        "passed_time": 9.150294689,
                        "iteration": 357,
                        "remaining_time": 16.40918768,
                        "learn": [
                          0.5833257209,
                          0.4654574658
                        ]
                      },
                      {
                        "test": [
                          0.7346091856,
                          0.2058168082
                        ],
                        "passed_time": 9.186016495,
                        "iteration": 358,
                        "remaining_time": 16.40177319,
                        "learn": [
                          0.5829249739,
                          0.4661916791
                        ]
                      },
                      {
                        "test": [
                          0.7345931734,
                          0.2058514294
                        ],
                        "passed_time": 9.210328987,
                        "iteration": 359,
                        "remaining_time": 16.3739182,
                        "learn": [
                          0.5825715254,
                          0.4668388174
                        ]
                      },
                      {
                        "test": [
                          0.7344916195,
                          0.2060709885
                        ],
                        "passed_time": 9.238661144,
                        "iteration": 360,
                        "remaining_time": 16.35319798,
                        "learn": [
                          0.5820725253,
                          0.4677517819
                        ]
                      },
                      {
                        "test": [
                          0.7345160607,
                          0.2060181493
                        ],
                        "passed_time": 9.263110071,
                        "iteration": 361,
                        "remaining_time": 16.32559178,
                        "learn": [
                          0.5817370752,
                          0.4683650776
                        ]
                      },
                      {
                        "test": [
                          0.7345447931,
                          0.2059560311
                        ],
                        "passed_time": 9.287232275,
                        "iteration": 362,
                        "remaining_time": 16.29742964,
                        "learn": [
                          0.5815293551,
                          0.4687446702
                        ]
                      },
                      {
                        "test": [
                          0.7347544517,
                          0.2055026838
                        ],
                        "passed_time": 9.312902891,
                        "iteration": 363,
                        "remaining_time": 16.27199516,
                        "learn": [
                          0.581059835,
                          0.4696021827
                        ]
                      },
                      {
                        "test": [
                          0.7347657407,
                          0.2054782698
                        ],
                        "passed_time": 9.335930335,
                        "iteration": 364,
                        "remaining_time": 16.24196099,
                        "learn": [
                          0.580745077,
                          0.4701766561
                        ]
                      },
                      {
                        "test": [
                          0.734833821,
                          0.205331029
                        ],
                        "passed_time": 9.369130028,
                        "iteration": 365,
                        "remaining_time": 16.2295859,
                        "learn": [
                          0.5805428673,
                          0.4705455504
                        ]
                      },
                      {
                        "test": [
                          0.7346900202,
                          0.2056420186
                        ],
                        "passed_time": 9.393619623,
                        "iteration": 366,
                        "remaining_time": 16.20207417,
                        "learn": [
                          0.5801144847,
                          0.471326631
                        ]
                      },
                      {
                        "test": [
                          0.7346670537,
                          0.2056916812
                        ],
                        "passed_time": 9.41627807,
                        "iteration": 367,
                        "remaining_time": 16.17143408,
                        "learn": [
                          0.5798698188,
                          0.4717724778
                        ]
                      },
                      {
                        "test": [
                          0.7346609745,
                          0.2057048267
                        ],
                        "passed_time": 9.440742571,
                        "iteration": 368,
                        "remaining_time": 16.14392564,
                        "learn": [
                          0.5795299895,
                          0.4723914256
                        ]
                      },
                      {
                        "test": [
                          0.7346380095,
                          0.2057544842
                        ],
                        "passed_time": 9.462918276,
                        "iteration": 369,
                        "remaining_time": 16.11253652,
                        "learn": [
                          0.5793209697,
                          0.4727719435
                        ]
                      },
                      {
                        "test": [
                          0.7344557167,
                          0.2061486029
                        ],
                        "passed_time": 9.486465527,
                        "iteration": 370,
                        "remaining_time": 16.08352242,
                        "learn": [
                          0.5788902177,
                          0.473555689
                        ]
                      },
                      {
                        "test": [
                          0.7344002207,
                          0.2062685662
                        ],
                        "passed_time": 9.511988398,
                        "iteration": 371,
                        "remaining_time": 16.05787289,
                        "learn": [
                          0.5785343145,
                          0.4742028086
                        ]
                      },
                      {
                        "test": [
                          0.7343879421,
                          0.2062951072
                        ],
                        "passed_time": 9.53873598,
                        "iteration": 372,
                        "remaining_time": 16.03428273,
                        "learn": [
                          0.5782430101,
                          0.4747321755
                        ]
                      },
                      {
                        "test": [
                          0.7342155575,
                          0.2066676799
                        ],
                        "passed_time": 9.563159195,
                        "iteration": 373,
                        "remaining_time": 16.00678518,
                        "learn": [
                          0.577994977,
                          0.4751826986
                        ]
                      },
                      {
                        "test": [
                          0.7341822248,
                          0.2067397114
                        ],
                        "passed_time": 9.593091214,
                        "iteration": 374,
                        "remaining_time": 15.98848536,
                        "learn": [
                          0.5776227334,
                          0.4758584725
                        ]
                      },
                      {
                        "test": [
                          0.7342710538,
                          0.2065477458
                        ],
                        "passed_time": 9.618543281,
                        "iteration": 375,
                        "remaining_time": 15.96268885,
                        "learn": [
                          0.5772954757,
                          0.4764522191
                        ]
                      },
                      {
                        "test": [
                          0.7342431624,
                          0.2066080236
                        ],
                        "passed_time": 9.645497368,
                        "iteration": 376,
                        "remaining_time": 15.93937629,
                        "learn": [
                          0.5768270046,
                          0.4773015847
                        ]
                      },
                      {
                        "test": [
                          0.7342556699,
                          0.2065809933
                        ],
                        "passed_time": 9.669773209,
                        "iteration": 377,
                        "remaining_time": 15.9116374,
                        "learn": [
                          0.5765771132,
                          0.4777543705
                        ]
                      },
                      {
                        "test": [
                          0.7343126283,
                          0.2064578927
                        ],
                        "passed_time": 9.693896364,
                        "iteration": 378,
                        "remaining_time": 15.8836666,
                        "learn": [
                          0.5761412207,
                          0.4785437079
                        ]
                      },
                      {
                        "test": [
                          0.7342569564,
                          0.2065782129
                        ],
                        "passed_time": 9.71640318,
                        "iteration": 379,
                        "remaining_time": 15.85307887,
                        "learn": [
                          0.5758081832,
                          0.4791463876
                        ]
                      },
                      {
                        "test": [
                          0.7343195465,
                          0.2064429401
                        ],
                        "passed_time": 9.73958091,
                        "iteration": 380,
                        "remaining_time": 15.82362358,
                        "learn": [
                          0.5754432062,
                          0.4798064662
                        ]
                      },
                      {
                        "test": [
                          0.7342376495,
                          0.2066199377
                        ],
                        "passed_time": 9.761869325,
                        "iteration": 381,
                        "remaining_time": 15.79276242,
                        "learn": [
                          0.5751701561,
                          0.4803000169
                        ]
                      },
                      {
                        "test": [
                          0.7343012173,
                          0.2064825553
                        ],
                        "passed_time": 9.78447982,
                        "iteration": 382,
                        "remaining_time": 15.76246488,
                        "learn": [
                          0.5749713115,
                          0.4806592903
                        ]
                      },
                      {
                        "test": [
                          0.7343148974,
                          0.2064529884
                        ],
                        "passed_time": 9.81251638,
                        "iteration": 383,
                        "remaining_time": 15.74091169,
                        "learn": [
                          0.5747354066,
                          0.4810853634
                        ]
                      },
                      {
                        "test": [
                          0.7343190293,
                          0.206444058
                        ],
                        "passed_time": 9.83633519,
                        "iteration": 384,
                        "remaining_time": 15.71258738,
                        "learn": [
                          0.5743209621,
                          0.4818334772
                        ]
                      },
                      {
                        "test": [
                          0.7343646801,
                          0.2063453882
                        ],
                        "passed_time": 9.859485313,
                        "iteration": 385,
                        "remaining_time": 15.68322275,
                        "learn": [
                          0.5739971545,
                          0.4824176069
                        ]
                      },
                      {
                        "test": [
                          0.7343813526,
                          0.2063093507
                        ],
                        "passed_time": 9.887422246,
                        "iteration": 386,
                        "remaining_time": 15.66147245,
                        "learn": [
                          0.573712735,
                          0.4829304111
                        ]
                      },
                      {
                        "test": [
                          0.7344022706,
                          0.2062641352
                        ],
                        "passed_time": 9.911809726,
                        "iteration": 387,
                        "remaining_time": 15.63409163,
                        "learn": [
                          0.5732713022,
                          0.4837258044
                        ]
                      },
                      {
                        "test": [
                          0.7342847884,
                          0.2065180625
                        ],
                        "passed_time": 9.934159593,
                        "iteration": 388,
                        "remaining_time": 15.60352574,
                        "learn": [
                          0.5730223856,
                          0.4841740437
                        ]
                      },
                      {
                        "test": [
                          0.7344098456,
                          0.206247761
                        ],
                        "passed_time": 9.960636808,
                        "iteration": 389,
                        "remaining_time": 15.57945757,
                        "learn": [
                          0.5727229267,
                          0.4847130394
                        ]
                      },
                      {
                        "test": [
                          0.7344420636,
                          0.2061781169
                        ],
                        "passed_time": 9.989070651,
                        "iteration": 390,
                        "remaining_time": 15.55842462,
                        "learn": [
                          0.5724090835,
                          0.485277623
                        ]
                      },
                      {
                        "test": [
                          0.734515766,
                          0.2060187864
                        ],
                        "passed_time": 10.0179567,
                        "iteration": 391,
                        "remaining_time": 15.53805528,
                        "learn": [
                          0.5720806609,
                          0.4858681027
                        ]
                      },
                      {
                        "test": [
                          0.7345634256,
                          0.205915747
                        ],
                        "passed_time": 10.04172872,
                        "iteration": 392,
                        "remaining_time": 15.50974386,
                        "learn": [
                          0.5717206997,
                          0.4865148972
                        ]
                      },
                      {
                        "test": [
                          0.7344144631,
                          0.2062377798
                        ],
                        "passed_time": 10.06687333,
                        "iteration": 393,
                        "remaining_time": 15.4835666,
                        "learn": [
                          0.5714507217,
                          0.4869997386
                        ]
                      },
                      {
                        "test": [
                          0.7343399303,
                          0.2063988832
                        ],
                        "passed_time": 10.09006176,
                        "iteration": 394,
                        "remaining_time": 15.45439839,
                        "learn": [
                          0.5713669734,
                          0.487150092
                        ]
                      },
                      {
                        "test": [
                          0.734379263,
                          0.2063138673
                        ],
                        "passed_time": 10.11370492,
                        "iteration": 395,
                        "remaining_time": 15.42595396,
                        "learn": [
                          0.5709956245,
                          0.487816509
                        ]
                      },
                      {
                        "test": [
                          0.7343132751,
                          0.2064564948
                        ],
                        "passed_time": 10.17674017,
                        "iteration": 396,
                        "remaining_time": 15.45736605,
                        "learn": [
                          0.5706891985,
                          0.4883660901
                        ]
                      },
                      {
                        "test": [
                          0.7342003772,
                          0.2067004846
                        ],
                        "passed_time": 10.20655432,
                        "iteration": 397,
                        "remaining_time": 15.43805453,
                        "learn": [
                          0.5704121966,
                          0.4888626447
                        ]
                      },
                      {
                        "test": [
                          0.7341139777,
                          0.206887182
                        ],
                        "passed_time": 10.23663945,
                        "iteration": 398,
                        "remaining_time": 15.41909853,
                        "learn": [
                          0.5700635785,
                          0.4894872361
                        ]
                      },
                      {
                        "test": [
                          0.7339720528,
                          0.2071938145
                        ],
                        "passed_time": 10.26192212,
                        "iteration": 399,
                        "remaining_time": 15.39288319,
                        "learn": [
                          0.5698597877,
                          0.4898521752
                        ]
                      },
                      {
                        "test": [
                          0.7339362511,
                          0.2072711556
                        ],
                        "passed_time": 10.28562688,
                        "iteration": 400,
                        "remaining_time": 15.36431547,
                        "learn": [
                          0.5695769896,
                          0.4903583805
                        ]
                      },
                      {
                        "test": [
                          0.7339775577,
                          0.2071819221
                        ],
                        "passed_time": 10.31806816,
                        "iteration": 401,
                        "remaining_time": 15.34876805,
                        "learn": [
                          0.5692390757,
                          0.490962913
                        ]
                      },
                      {
                        "test": [
                          0.7339898345,
                          0.2071554
                        ],
                        "passed_time": 10.34246859,
                        "iteration": 402,
                        "remaining_time": 15.32122518,
                        "learn": [
                          0.5689060678,
                          0.4915583176
                        ]
                      },
                      {
                        "test": [
                          0.7339105188,
                          0.2073267418
                        ],
                        "passed_time": 10.36621167,
                        "iteration": 403,
                        "remaining_time": 15.29272811,
                        "learn": [
                          0.5685925026,
                          0.4921186411
                        ]
                      },
                      {
                        "test": [
                          0.7339707547,
                          0.2071966188
                        ],
                        "passed_time": 10.38934248,
                        "iteration": 404,
                        "remaining_time": 15.26335501,
                        "learn": [
                          0.5684480467,
                          0.4923766716
                        ]
                      },
                      {
                        "test": [
                          0.733925779,
                          0.2072937775
                        ],
                        "passed_time": 10.4123611,
                        "iteration": 405,
                        "remaining_time": 15.23384851,
                        "learn": [
                          0.5683722317,
                          0.4925120679
                        ]
                      },
                      {
                        "test": [
                          0.7339428821,
                          0.2072568312
                        ],
                        "passed_time": 10.43782712,
                        "iteration": 406,
                        "remaining_time": 15.20793976,
                        "learn": [
                          0.568165491,
                          0.49288119
                        ]
                      },
                      {
                        "test": [
                          0.7339662648,
                          0.2072063182
                        ],
                        "passed_time": 10.46439201,
                        "iteration": 407,
                        "remaining_time": 15.18362762,
                        "learn": [
                          0.5679551021,
                          0.4932566876
                        ]
                      },
                      {
                        "test": [
                          0.7339802203,
                          0.20717617
                        ],
                        "passed_time": 10.48769914,
                        "iteration": 408,
                        "remaining_time": 15.15459704,
                        "learn": [
                          0.5676325704,
                          0.4938320655
                        ]
                      },
                      {
                        "test": [
                          0.7339103051,
                          0.2073272035
                        ],
                        "passed_time": 10.51185666,
                        "iteration": 409,
                        "remaining_time": 15.12681811,
                        "learn": [
                          0.567385795,
                          0.4942720777
                        ]
                      },
                      {
                        "test": [
                          0.7337304301,
                          0.2077157103
                        ],
                        "passed_time": 10.53794149,
                        "iteration": 410,
                        "remaining_time": 15.10181883,
                        "learn": [
                          0.5670640452,
                          0.4948454854
                        ]
                      },
                      {
                        "test": [
                          0.7337131857,
                          0.2077529509
                        ],
                        "passed_time": 10.56101392,
                        "iteration": 411,
                        "remaining_time": 15.07251502,
                        "learn": [
                          0.5667028797,
                          0.4954887507
                        ]
                      },
                      {
                        "test": [
                          0.7337345315,
                          0.2077068527
                        ],
                        "passed_time": 10.58549156,
                        "iteration": 412,
                        "remaining_time": 15.04523861,
                        "learn": [
                          0.5664279673,
                          0.4959781173
                        ]
                      },
                      {
                        "test": [
                          0.7338216608,
                          0.2075186755
                        ],
                        "passed_time": 10.60895412,
                        "iteration": 413,
                        "remaining_time": 15.01653892,
                        "learn": [
                          0.5661413232,
                          0.4964881146
                        ]
                      },
                      {
                        "test": [
                          0.7337158532,
                          0.2077471902
                        ],
                        "passed_time": 10.63676673,
                        "iteration": 414,
                        "remaining_time": 14.99399647,
                        "learn": [
                          0.5657933882,
                          0.4971068137
                        ]
                      },
                      {
                        "test": [
                          0.7337898978,
                          0.2075872782
                        ],
                        "passed_time": 10.66489886,
                        "iteration": 415,
                        "remaining_time": 14.97187725,
                        "learn": [
                          0.5654509558,
                          0.4977153567
                        ]
                      },
                      {
                        "test": [
                          0.7338138813,
                          0.2075354782
                        ],
                        "passed_time": 10.68935167,
                        "iteration": 416,
                        "remaining_time": 14.94458518,
                        "learn": [
                          0.5652868485,
                          0.4980068643
                        ]
                      },
                      {
                        "test": [
                          0.7337656116,
                          0.2076397303
                        ],
                        "passed_time": 10.71145764,
                        "iteration": 417,
                        "remaining_time": 14.91403911,
                        "learn": [
                          0.5650764248,
                          0.4983805209
                        ]
                      },
                      {
                        "test": [
                          0.7337643216,
                          0.2076425163
                        ],
                        "passed_time": 10.73421237,
                        "iteration": 418,
                        "remaining_time": 14.88443291,
                        "learn": [
                          0.5649389497,
                          0.4986245651
                        ]
                      },
                      {
                        "test": [
                          0.733704442,
                          0.2077718334
                        ],
                        "passed_time": 10.76232619,
                        "iteration": 419,
                        "remaining_time": 14.86225998,
                        "learn": [
                          0.5646777481,
                          0.4990880835
                        ]
                      },
                      {
                        "test": [
                          0.7337025733,
                          0.2077758688
                        ],
                        "passed_time": 10.78584708,
                        "iteration": 420,
                        "remaining_time": 14.83374219,
                        "learn": [
                          0.564488041,
                          0.499424596
                        ]
                      },
                      {
                        "test": [
                          0.7336322457,
                          0.2079277356
                        ],
                        "passed_time": 10.80862781,
                        "iteration": 421,
                        "remaining_time": 14.8042343,
                        "learn": [
                          0.5643024401,
                          0.4997537153
                        ]
                      },
                      {
                        "test": [
                          0.7337165254,
                          0.2077457385
                        ],
                        "passed_time": 10.83259429,
                        "iteration": 422,
                        "remaining_time": 14.77637566,
                        "learn": [
                          0.5640364201,
                          0.5002252502
                        ]
                      },
                      {
                        "test": [
                          0.733567326,
                          0.2080679117
                        ],
                        "passed_time": 10.85728331,
                        "iteration": 423,
                        "remaining_time": 14.74951695,
                        "learn": [
                          0.5636779414,
                          0.5008603215
                        ]
                      },
                      {
                        "test": [
                          0.7334665883,
                          0.208285402
                        ],
                        "passed_time": 10.88659382,
                        "iteration": 424,
                        "remaining_time": 14.72892105,
                        "learn": [
                          0.5634316865,
                          0.5012963464
                        ]
                      },
                      {
                        "test": [
                          0.7334654068,
                          0.2082879528
                        ],
                        "passed_time": 10.91317335,
                        "iteration": 425,
                        "remaining_time": 14.70460446,
                        "learn": [
                          0.5634203825,
                          0.5013163568
                        ]
                      },
                      {
                        "test": [
                          0.7334822602,
                          0.2082515688
                        ],
                        "passed_time": 10.93800208,
                        "iteration": 426,
                        "remaining_time": 14.67792785,
                        "learn": [
                          0.5630533807,
                          0.5019658122
                        ]
                      },
                      {
                        "test": [
                          0.7335354375,
                          0.2081367615
                        ],
                        "passed_time": 10.96291816,
                        "iteration": 427,
                        "remaining_time": 14.6513766,
                        "learn": [
                          0.5627649311,
                          0.5024759627
                        ]
                      },
                      {
                        "test": [
                          0.7335329256,
                          0.2081421847
                        ],
                        "passed_time": 10.98715649,
                        "iteration": 428,
                        "remaining_time": 14.6239309,
                        "learn": [
                          0.562574753,
                          0.5028121676
                        ]
                      },
                      {
                        "test": [
                          0.7337512743,
                          0.2076706944
                        ],
                        "passed_time": 11.01070328,
                        "iteration": 429,
                        "remaining_time": 14.59558342,
                        "learn": [
                          0.5621845854,
                          0.5035015668
                        ]
                      },
                      {
                        "test": [
                          0.7337711399,
                          0.2076277906
                        ],
                        "passed_time": 11.03771584,
                        "iteration": 430,
                        "remaining_time": 14.57183368,
                        "learn": [
                          0.5618872521,
                          0.5040266132
                        ]
                      },
                      {
                        "test": [
                          0.7337704294,
                          0.2076293251
                        ],
                        "passed_time": 11.06162682,
                        "iteration": 431,
                        "remaining_time": 14.54399082,
                        "learn": [
                          0.5616385512,
                          0.5044655686
                        ]
                      },
                      {
                        "test": [
                          0.7338092269,
                          0.2075455311
                        ],
                        "passed_time": 11.08562216,
                        "iteration": 432,
                        "remaining_time": 14.51627659,
                        "learn": [
                          0.5614120942,
                          0.5048650946
                        ]
                      },
                      {
                        "test": [
                          0.7338288554,
                          0.2075031361
                        ],
                        "passed_time": 11.11163254,
                        "iteration": 433,
                        "remaining_time": 14.49120741,
                        "learn": [
                          0.561211663,
                          0.5052185704
                        ]
                      },
                      {
                        "test": [
                          0.7338576598,
                          0.2074409203
                        ],
                        "passed_time": 11.13540176,
                        "iteration": 434,
                        "remaining_time": 14.46322297,
                        "learn": [
                          0.5609111914,
                          0.5057482386
                        ]
                      },
                      {
                        "test": [
                          0.7338457915,
                          0.2074665554
                        ],
                        "passed_time": 11.19167449,
                        "iteration": 435,
                        "remaining_time": 14.47730369,
                        "learn": [
                          0.5606185194,
                          0.506263885
                        ]
                      },
                      {
                        "test": [
                          0.7338779108,
                          0.2073971779
                        ],
                        "passed_time": 11.23393333,
                        "iteration": 436,
                        "remaining_time": 14.47300793,
                        "learn": [
                          0.5603522093,
                          0.5067328516
                        ]
                      },
                      {
                        "test": [
                          0.7338812191,
                          0.2073900319
                        ],
                        "passed_time": 11.25671793,
                        "iteration": 437,
                        "remaining_time": 14.44355131,
                        "learn": [
                          0.5600801781,
                          0.5072116628
                        ]
                      },
                      {
                        "test": [
                          0.7339684642,
                          0.2072015669
                        ],
                        "passed_time": 11.28008031,
                        "iteration": 438,
                        "remaining_time": 14.41486344,
                        "learn": [
                          0.559788937,
                          0.5077240284
                        ]
                      },
                      {
                        "test": [
                          0.7339585932,
                          0.2072228913
                        ],
                        "passed_time": 11.30339085,
                        "iteration": 439,
                        "remaining_time": 14.38613381,
                        "learn": [
                          0.5594008498,
                          0.5084063562
                        ]
                      },
                      {
                        "test": [
                          0.7339200896,
                          0.2073060675
                        ],
                        "passed_time": 11.33970292,
                        "iteration": 440,
                        "remaining_time": 14.37390914,
                        "learn": [
                          0.5590432993,
                          0.5090345761
                        ]
                      },
                      {
                        "test": [
                          0.7338625871,
                          0.2074302775
                        ],
                        "passed_time": 11.3646826,
                        "iteration": 441,
                        "remaining_time": 14.34726898,
                        "learn": [
                          0.5587226315,
                          0.509597651
                        ]
                      },
                      {
                        "test": [
                          0.7338725741,
                          0.2074087055
                        ],
                        "passed_time": 11.38931876,
                        "iteration": 442,
                        "remaining_time": 14.3202044,
                        "learn": [
                          0.5585506917,
                          0.5098994349
                        ]
                      },
                      {
                        "test": [
                          0.7338312624,
                          0.2074979373
                        ],
                        "passed_time": 11.41190551,
                        "iteration": 443,
                        "remaining_time": 14.29058438,
                        "learn": [
                          0.5584401218,
                          0.5100934548
                        ]
                      },
                      {
                        "test": [
                          0.7338346618,
                          0.2074905948
                        ],
                        "passed_time": 11.43732753,
                        "iteration": 444,
                        "remaining_time": 14.26453209,
                        "learn": [
                          0.5582500669,
                          0.5104268597
                        ]
                      },
                      {
                        "test": [
                          0.7338379976,
                          0.2074833899
                        ],
                        "passed_time": 11.4598115,
                        "iteration": 445,
                        "remaining_time": 14.23483312,
                        "learn": [
                          0.5582412575,
                          0.5104423109
                        ]
                      },
                      {
                        "test": [
                          0.7338735808,
                          0.2074065309
                        ],
                        "passed_time": 11.48197108,
                        "iteration": 446,
                        "remaining_time": 14.20476511,
                        "learn": [
                          0.5582174925,
                          0.510483992
                        ]
                      },
                      {
                        "test": [
                          0.733927835,
                          0.2072893361
                        ],
                        "passed_time": 11.50658512,
                        "iteration": 447,
                        "remaining_time": 14.17775667,
                        "learn": [
                          0.5579758759,
                          0.5109076606
                        ]
                      },
                      {
                        "test": [
                          0.7338541656,
                          0.2074484678
                        ],
                        "passed_time": 11.53130107,
                        "iteration": 448,
                        "remaining_time": 14.15088394,
                        "learn": [
                          0.5577836251,
                          0.5112446364
                        ]
                      },
                      {
                        "test": [
                          0.7339271558,
                          0.2072908033
                        ],
                        "passed_time": 11.55918008,
                        "iteration": 449,
                        "remaining_time": 14.12788677,
                        "learn": [
                          0.5574839413,
                          0.5117696885
                        ]
                      },
                      {
                        "test": [
                          0.7339220722,
                          0.2073017847
                        ],
                        "passed_time": 11.58261317,
                        "iteration": 450,
                        "remaining_time": 14.09945595,
                        "learn": [
                          0.5573900598,
                          0.5119341127
                        ]
                      },
                      {
                        "test": [
                          0.7339258755,
                          0.207293569
                        ],
                        "passed_time": 11.60667506,
                        "iteration": 451,
                        "remaining_time": 14.07180958,
                        "learn": [
                          0.5572796336,
                          0.5121274779
                        ]
                      },
                      {
                        "test": [
                          0.7339873546,
                          0.2071607574
                        ],
                        "passed_time": 11.63117528,
                        "iteration": 452,
                        "remaining_time": 14.04470835,
                        "learn": [
                          0.5570819625,
                          0.5124735203
                        ]
                      },
                      {
                        "test": [
                          0.7339714138,
                          0.2071951948
                        ],
                        "passed_time": 11.65527745,
                        "iteration": 453,
                        "remaining_time": 14.01713985,
                        "learn": [
                          0.55681204,
                          0.5129458476
                        ]
                      },
                      {
                        "test": [
                          0.7341756188,
                          0.2067539864
                        ],
                        "passed_time": 11.67744336,
                        "iteration": 454,
                        "remaining_time": 13.98726732,
                        "learn": [
                          0.5565981909,
                          0.5133198915
                        ]
                      },
                      {
                        "test": [
                          0.7340740879,
                          0.2069733709
                        ],
                        "passed_time": 11.70158662,
                        "iteration": 455,
                        "remaining_time": 13.95978755,
                        "learn": [
                          0.5562770438,
                          0.5138813408
                        ]
                      },
                      {
                        "test": [
                          0.7341387961,
                          0.2068335552
                        ],
                        "passed_time": 11.72489053,
                        "iteration": 456,
                        "remaining_time": 13.93132507,
                        "learn": [
                          0.5559570214,
                          0.5144405014
                        ]
                      },
                      {
                        "test": [
                          0.7340888132,
                          0.206941555
                        ],
                        "passed_time": 11.74891679,
                        "iteration": 457,
                        "remaining_time": 13.90373996,
                        "learn": [
                          0.5558486901,
                          0.5146297108
                        ]
                      },
                      {
                        "test": [
                          0.7341115208,
                          0.2068924908
                        ],
                        "passed_time": 11.77574703,
                        "iteration": 458,
                        "remaining_time": 13.87947526,
                        "learn": [
                          0.5556386913,
                          0.514996386
                        ]
                      },
                      {
                        "test": [
                          0.7340891031,
                          0.2069409285
                        ],
                        "passed_time": 11.79967553,
                        "iteration": 459,
                        "remaining_time": 13.85179302,
                        "learn": [
                          0.5554110337,
                          0.5153937381
                        ]
                      },
                      {
                        "test": [
                          0.7338333323,
                          0.2074934665
                        ],
                        "passed_time": 11.82340491,
                        "iteration": 460,
                        "remaining_time": 13.82389424,
                        "learn": [
                          0.5550848332,
                          0.5159628028
                        ]
                      },
                      {
                        "test": [
                          0.7336931954,
                          0.2077961204
                        ],
                        "passed_time": 11.84589098,
                        "iteration": 461,
                        "remaining_time": 13.79456569,
                        "learn": [
                          0.5548669348,
                          0.5163427455
                        ]
                      },
                      {
                        "test": [
                          0.7336799272,
                          0.2078247728
                        ],
                        "passed_time": 11.86892514,
                        "iteration": 462,
                        "remaining_time": 13.76590238,
                        "learn": [
                          0.5545293453,
                          0.5169310954
                        ]
                      },
                      {
                        "test": [
                          0.7336437995,
                          0.2079027871
                        ],
                        "passed_time": 11.89035624,
                        "iteration": 463,
                        "remaining_time": 13.73541152,
                        "learn": [
                          0.5544651112,
                          0.5170430018
                        ]
                      },
                      {
                        "test": [
                          0.7336003616,
                          0.2079965821
                        ],
                        "passed_time": 11.91778006,
                        "iteration": 464,
                        "remaining_time": 13.71185448,
                        "learn": [
                          0.5541789003,
                          0.517541471
                        ]
                      },
                      {
                        "test": [
                          0.73360031,
                          0.2079966935
                        ],
                        "passed_time": 11.94042788,
                        "iteration": 465,
                        "remaining_time": 13.68280792,
                        "learn": [
                          0.5541705874,
                          0.5175559451
                        ]
                      },
                      {
                        "test": [
                          0.7336137061,
                          0.2079677681
                        ],
                        "passed_time": 11.96382567,
                        "iteration": 466,
                        "remaining_time": 13.65464472,
                        "learn": [
                          0.5540134855,
                          0.5178294424
                        ]
                      },
                      {
                        "test": [
                          0.7336758064,
                          0.2078336715
                        ],
                        "passed_time": 11.99337167,
                        "iteration": 467,
                        "remaining_time": 13.63349087,
                        "learn": [
                          0.5538839598,
                          0.5180548745
                        ]
                      },
                      {
                        "test": [
                          0.7335769759,
                          0.2080470761
                        ],
                        "passed_time": 12.01704618,
                        "iteration": 468,
                        "remaining_time": 13.60565356,
                        "learn": [
                          0.5536958462,
                          0.5183821815
                        ]
                      },
                      {
                        "test": [
                          0.7333744447,
                          0.2084843119
                        ],
                        "passed_time": 12.03913856,
                        "iteration": 469,
                        "remaining_time": 13.57604986,
                        "learn": [
                          0.5534907791,
                          0.5187388598
                        ]
                      },
                      {
                        "test": [
                          0.7334246994,
                          0.2083758305
                        ],
                        "passed_time": 12.06284205,
                        "iteration": 470,
                        "remaining_time": 13.54828757,
                        "learn": [
                          0.5532701964,
                          0.5191223774
                        ]
                      },
                      {
                        "test": [
                          0.73333749,
                          0.2085640787
                        ],
                        "passed_time": 12.08579367,
                        "iteration": 471,
                        "remaining_time": 13.51970139,
                        "learn": [
                          0.5531038395,
                          0.5194115138
                        ]
                      },
                      {
                        "test": [
                          0.7333049901,
                          0.2086342266
                        ],
                        "passed_time": 12.10991935,
                        "iteration": 472,
                        "remaining_time": 13.49244714,
                        "learn": [
                          0.5527614811,
                          0.520006276
                        ]
                      },
                      {
                        "test": [
                          0.73329085,
                          0.2086647455
                        ],
                        "passed_time": 12.13378066,
                        "iteration": 473,
                        "remaining_time": 13.46491271,
                        "learn": [
                          0.5525167425,
                          0.5204312223
                        ]
                      },
                      {
                        "test": [
                          0.7332741905,
                          0.2087007017
                        ],
                        "passed_time": 12.15782728,
                        "iteration": 474,
                        "remaining_time": 13.43759858,
                        "learn": [
                          0.5522191585,
                          0.5209476721
                        ]
                      },
                      {
                        "test": [
                          0.7332807642,
                          0.2086865138
                        ],
                        "passed_time": 12.28069681,
                        "iteration": 475,
                        "remaining_time": 13.5190864,
                        "learn": [
                          0.5519085827,
                          0.521486372
                        ]
                      },
                      {
                        "test": [
                          0.7333009498,
                          0.2086429469
                        ],
                        "passed_time": 12.33458185,
                        "iteration": 476,
                        "remaining_time": 13.52408031,
                        "learn": [
                          0.5515912131,
                          0.5220365429
                        ]
                      },
                      {
                        "test": [
                          0.7331796616,
                          0.2089047067
                        ],
                        "passed_time": 12.35791167,
                        "iteration": 477,
                        "remaining_time": 13.49546002,
                        "learn": [
                          0.5513091353,
                          0.5225252685
                        ]
                      },
                      {
                        "test": [
                          0.7330807289,
                          0.2091181876
                        ],
                        "passed_time": 12.37935578,
                        "iteration": 478,
                        "remaining_time": 13.46481077,
                        "learn": [
                          0.5511265986,
                          0.522841397
                        ]
                      },
                      {
                        "test": [
                          0.7330602982,
                          0.2091622702
                        ],
                        "passed_time": 12.40314874,
                        "iteration": 479,
                        "remaining_time": 13.43674447,
                        "learn": [
                          0.5508971442,
                          0.5232386318
                        ]
                      },
                      {
                        "test": [
                          0.7331307787,
                          0.2090101917
                        ],
                        "passed_time": 12.42575225,
                        "iteration": 480,
                        "remaining_time": 13.40741251,
                        "learn": [
                          0.5507181961,
                          0.5235483147
                        ]
                      },
                      {
                        "test": [
                          0.7330010608,
                          0.2092900776
                        ],
                        "passed_time": 12.44853606,
                        "iteration": 481,
                        "remaining_time": 13.37830224,
                        "learn": [
                          0.550538987,
                          0.5238583483
                        ]
                      },
                      {
                        "test": [
                          0.7330212494,
                          0.209246521
                        ],
                        "passed_time": 12.47088281,
                        "iteration": 482,
                        "remaining_time": 13.34875034,
                        "learn": [
                          0.5504180079,
                          0.5240675864
                        ]
                      },
                      {
                        "test": [
                          0.7330257765,
                          0.2092367536
                        ],
                        "passed_time": 12.50367802,
                        "iteration": 483,
                        "remaining_time": 13.33036748,
                        "learn": [
                          0.5501864647,
                          0.5244679211
                        ]
                      },
                      {
                        "test": [
                          0.7330975226,
                          0.2090819514
                        ],
                        "passed_time": 12.52963221,
                        "iteration": 484,
                        "remaining_time": 13.30466101,
                        "learn": [
                          0.549990498,
                          0.5248066131
                        ]
                      },
                      {
                        "test": [
                          0.7331961206,
                          0.208869188
                        ],
                        "passed_time": 12.55566131,
                        "iteration": 485,
                        "remaining_time": 13.27903275,
                        "learn": [
                          0.5495936062,
                          0.5254921969
                        ]
                      },
                      {
                        "test": [
                          0.7332543363,
                          0.2087435516
                        ],
                        "passed_time": 12.58138423,
                        "iteration": 486,
                        "remaining_time": 13.25308031,
                        "learn": [
                          0.5494398229,
                          0.5257577065
                        ]
                      },
                      {
                        "test": [
                          0.7333502334,
                          0.2085365725
                        ],
                        "passed_time": 12.60794418,
                        "iteration": 487,
                        "remaining_time": 13.22800701,
                        "learn": [
                          0.5490926514,
                          0.5263568308
                        ]
                      },
                      {
                        "test": [
                          0.7333287063,
                          0.2085830378
                        ],
                        "passed_time": 12.63368511,
                        "iteration": 488,
                        "remaining_time": 13.20207176,
                        "learn": [
                          0.5488190796,
                          0.5268286751
                        ]
                      },
                      {
                        "test": [
                          0.733222225,
                          0.2088128528
                        ],
                        "passed_time": 12.65999035,
                        "iteration": 489,
                        "remaining_time": 13.17672465,
                        "learn": [
                          0.5485562348,
                          0.5272817965
                        ]
                      },
                      {
                        "test": [
                          0.7332611131,
                          0.2087289259
                        ],
                        "passed_time": 12.68513644,
                        "iteration": 490,
                        "remaining_time": 13.15017199,
                        "learn": [
                          0.5481969696,
                          0.5279007872
                        ]
                      },
                      {
                        "test": [
                          0.7333530968,
                          0.2085303918
                        ],
                        "passed_time": 12.71192921,
                        "iteration": 491,
                        "remaining_time": 13.12532528,
                        "learn": [
                          0.5479344331,
                          0.5283528641
                        ]
                      },
                      {
                        "test": [
                          0.7333209831,
                          0.2085997077
                        ],
                        "passed_time": 12.73613033,
                        "iteration": 492,
                        "remaining_time": 13.09780543,
                        "learn": [
                          0.547673568,
                          0.5288018485
                        ]
                      },
                      {
                        "test": [
                          0.7333439626,
                          0.2085501078
                        ],
                        "passed_time": 12.75977225,
                        "iteration": 493,
                        "remaining_time": 13.06972623,
                        "learn": [
                          0.5474079747,
                          0.529258751
                        ]
                      },
                      {
                        "test": [
                          0.7333154137,
                          0.2086117286
                        ],
                        "passed_time": 12.7829518,
                        "iteration": 494,
                        "remaining_time": 13.04119325,
                        "learn": [
                          0.5470782817,
                          0.5298256165
                        ]
                      },
                      {
                        "test": [
                          0.7332636761,
                          0.2087233942
                        ],
                        "passed_time": 12.80823367,
                        "iteration": 495,
                        "remaining_time": 13.01481809,
                        "learn": [
                          0.5468107801,
                          0.5302853008
                        ]
                      },
                      {
                        "test": [
                          0.7332370419,
                          0.208780876
                        ],
                        "passed_time": 12.83206399,
                        "iteration": 496,
                        "remaining_time": 12.98697824,
                        "learn": [
                          0.5464855784,
                          0.5308438363
                        ]
                      },
                      {
                        "test": [
                          0.7332295485,
                          0.2087970479
                        ],
                        "passed_time": 12.86126523,
                        "iteration": 497,
                        "remaining_time": 12.96456857,
                        "learn": [
                          0.5460973586,
                          0.5315101705
                        ]
                      },
                      {
                        "test": [
                          0.7332077969,
                          0.2088439901
                        ],
                        "passed_time": 12.88472185,
                        "iteration": 498,
                        "remaining_time": 12.93636403,
                        "learn": [
                          0.5457369368,
                          0.5321283688
                        ]
                      },
                      {
                        "test": [
                          0.7331980944,
                          0.2088649285
                        ],
                        "passed_time": 12.90819204,
                        "iteration": 499,
                        "remaining_time": 12.90819204,
                        "learn": [
                          0.5455303031,
                          0.5324826044
                        ]
                      },
                      {
                        "test": [
                          0.7332821132,
                          0.2086836022
                        ],
                        "passed_time": 12.93723905,
                        "iteration": 500,
                        "remaining_time": 12.88559338,
                        "learn": [
                          0.5452798923,
                          0.5329117082
                        ]
                      },
                      {
                        "test": [
                          0.7333210029,
                          0.208599665
                        ],
                        "passed_time": 12.9621802,
                        "iteration": 501,
                        "remaining_time": 12.85889589,
                        "learn": [
                          0.5450175426,
                          0.533361059
                        ]
                      },
                      {
                        "test": [
                          0.7332869378,
                          0.2086731893
                        ],
                        "passed_time": 12.97825988,
                        "iteration": 502,
                        "remaining_time": 12.82344962,
                        "learn": [
                          0.5449882098,
                          0.5334112865
                        ]
                      },
                      {
                        "test": [
                          0.7333613095,
                          0.2085126647
                        ],
                        "passed_time": 13.00198378,
                        "iteration": 503,
                        "remaining_time": 12.79560309,
                        "learn": [
                          0.5446972167,
                          0.5339094179
                        ]
                      },
                      {
                        "test": [
                          0.7333036125,
                          0.2086371998
                        ],
                        "passed_time": 13.02572948,
                        "iteration": 504,
                        "remaining_time": 12.76779424,
                        "learn": [
                          0.5445075274,
                          0.5342339909
                        ]
                      },
                      {
                        "test": [
                          0.7332510247,
                          0.2087506988
                        ],
                        "passed_time": 13.04970913,
                        "iteration": 505,
                        "remaining_time": 12.74022986,
                        "learn": [
                          0.5442452986,
                          0.5346824984
                        ]
                      },
                      {
                        "test": [
                          0.7331793587,
                          0.2089053604
                        ],
                        "passed_time": 13.07598366,
                        "iteration": 506,
                        "remaining_time": 12.71491113,
                        "learn": [
                          0.5439878592,
                          0.5351226041
                        ]
                      },
                      {
                        "test": [
                          0.7332585537,
                          0.2087344496
                        ],
                        "passed_time": 13.09942078,
                        "iteration": 507,
                        "remaining_time": 12.6868406,
                        "learn": [
                          0.5437809814,
                          0.5354761213
                        ]
                      },
                      {
                        "test": [
                          0.7333479768,
                          0.2085414433
                        ],
                        "passed_time": 13.12293465,
                        "iteration": 508,
                        "remaining_time": 12.65886231,
                        "learn": [
                          0.5435796272,
                          0.5358200705
                        ]
                      },
                      {
                        "test": [
                          0.7333269781,
                          0.208586768
                        ],
                        "passed_time": 13.15193993,
                        "iteration": 509,
                        "remaining_time": 12.63617758,
                        "learn": [
                          0.5432559526,
                          0.536372698
                        ]
                      },
                      {
                        "test": [
                          0.7333922561,
                          0.2084458645
                        ],
                        "passed_time": 13.17635731,
                        "iteration": 510,
                        "remaining_time": 12.60907774,
                        "learn": [
                          0.5430045137,
                          0.5368017663
                        ]
                      },
                      {
                        "test": [
                          0.7333694438,
                          0.2084951066
                        ],
                        "passed_time": 13.20653161,
                        "iteration": 511,
                        "remaining_time": 12.58747544,
                        "learn": [
                          0.5429453137,
                          0.5369027593
                        ]
                      },
                      {
                        "test": [
                          0.7334026195,
                          0.2084234937
                        ],
                        "passed_time": 13.23251367,
                        "iteration": 512,
                        "remaining_time": 12.56185995,
                        "learn": [
                          0.54257615,
                          0.5375322908
                        ]
                      },
                      {
                        "test": [
                          0.7333406485,
                          0.2085572613
                        ],
                        "passed_time": 13.26178309,
                        "iteration": 513,
                        "remaining_time": 12.53935133,
                        "learn": [
                          0.5423640194,
                          0.5378938414
                        ]
                      },
                      {
                        "test": [
                          0.7333416548,
                          0.2085550893
                        ],
                        "passed_time": 13.31986228,
                        "iteration": 514,
                        "remaining_time": 12.54394797,
                        "learn": [
                          0.5421819825,
                          0.5382039884
                        ]
                      },
                      {
                        "test": [
                          0.7333810955,
                          0.2084699558
                        ],
                        "passed_time": 13.35578768,
                        "iteration": 515,
                        "remaining_time": 12.52752178,
                        "learn": [
                          0.541905374,
                          0.5386750631
                        ]
                      },
                      {
                        "test": [
                          0.7333972964,
                          0.2084349843
                        ],
                        "passed_time": 13.38028447,
                        "iteration": 516,
                        "remaining_time": 12.50034313,
                        "learn": [
                          0.5417582563,
                          0.5389255121
                        ]
                      },
                      {
                        "test": [
                          0.7333220384,
                          0.2085974298
                        ],
                        "passed_time": 13.40502147,
                        "iteration": 517,
                        "remaining_time": 12.47339836,
                        "learn": [
                          0.5415034555,
                          0.5393591171
                        ]
                      },
                      {
                        "test": [
                          0.7334007031,
                          0.2084276306
                        ],
                        "passed_time": 13.43013271,
                        "iteration": 518,
                        "remaining_time": 12.44680893,
                        "learn": [
                          0.5413077896,
                          0.5396919511
                        ]
                      },
                      {
                        "test": [
                          0.7333961613,
                          0.2084374346
                        ],
                        "passed_time": 13.45698151,
                        "iteration": 519,
                        "remaining_time": 12.42182908,
                        "learn": [
                          0.5412521784,
                          0.5397865258
                        ]
                      },
                      {
                        "test": [
                          0.7333704565,
                          0.2084929205
                        ],
                        "passed_time": 13.49872675,
                        "iteration": 520,
                        "remaining_time": 12.41053765,
                        "learn": [
                          0.540991015,
                          0.5402305403
                        ]
                      },
                      {
                        "test": [
                          0.733319504,
                          0.2086029002
                        ],
                        "passed_time": 13.52437535,
                        "iteration": 521,
                        "remaining_time": 12.38438969,
                        "learn": [
                          0.5407284751,
                          0.5406766791
                        ]
                      },
                      {
                        "test": [
                          0.7332868446,
                          0.2086733905
                        ],
                        "passed_time": 13.54914453,
                        "iteration": 522,
                        "remaining_time": 12.35744157,
                        "learn": [
                          0.540440842,
                          0.5411652106
                        ]
                      },
                      {
                        "test": [
                          0.7332791463,
                          0.2086900057
                        ],
                        "passed_time": 13.58151997,
                        "iteration": 523,
                        "remaining_time": 12.33741127,
                        "learn": [
                          0.5401209452,
                          0.5417082352
                        ]
                      },
                      {
                        "test": [
                          0.7331650011,
                          0.2089363435
                        ],
                        "passed_time": 13.60753857,
                        "iteration": 524,
                        "remaining_time": 12.31158251,
                        "learn": [
                          0.5398245321,
                          0.5422111093
                        ]
                      },
                      {
                        "test": [
                          0.733197742,
                          0.208865689
                        ],
                        "passed_time": 13.63210358,
                        "iteration": 525,
                        "remaining_time": 12.28444315,
                        "learn": [
                          0.5396142735,
                          0.5425676522
                        ]
                      },
                      {
                        "test": [
                          0.7330617807,
                          0.2091590714
                        ],
                        "passed_time": 13.66555291,
                        "iteration": 526,
                        "remaining_time": 12.26528753,
                        "learn": [
                          0.5393685902,
                          0.54298409
                        ]
                      },
                      {
                        "test": [
                          0.7330787036,
                          0.2091225576
                        ],
                        "passed_time": 13.69090443,
                        "iteration": 527,
                        "remaining_time": 12.23883881,
                        "learn": [
                          0.5391071331,
                          0.5434270565
                        ]
                      },
                      {
                        "test": [
                          0.7331607274,
                          0.2089455658
                        ],
                        "passed_time": 13.71545523,
                        "iteration": 528,
                        "remaining_time": 12.21168131,
                        "learn": [
                          0.5387078854,
                          0.5441030565
                        ]
                      },
                      {
                        "test": [
                          0.7332181124,
                          0.2088217283
                        ],
                        "passed_time": 13.73853303,
                        "iteration": 529,
                        "remaining_time": 12.18322741,
                        "learn": [
                          0.5383471319,
                          0.544713448
                        ]
                      },
                      {
                        "test": [
                          0.7332140328,
                          0.2088305325
                        ],
                        "passed_time": 13.76002494,
                        "iteration": 530,
                        "remaining_time": 12.15339302,
                        "learn": [
                          0.5380791337,
                          0.5451666337
                        ]
                      },
                      {
                        "test": [
                          0.7332849573,
                          0.2086774639
                        ],
                        "passed_time": 13.78811672,
                        "iteration": 531,
                        "remaining_time": 12.12939591,
                        "learn": [
                          0.5376852712,
                          0.5458322467
                        ]
                      },
                      {
                        "test": [
                          0.7333203324,
                          0.208601112
                        ],
                        "passed_time": 13.81193079,
                        "iteration": 532,
                        "remaining_time": 12.10163542,
                        "learn": [
                          0.5371866586,
                          0.5466741844
                        ]
                      },
                      {
                        "test": [
                          0.733375736,
                          0.2084815245
                        ],
                        "passed_time": 13.83432127,
                        "iteration": 533,
                        "remaining_time": 12.0726474,
                        "learn": [
                          0.5369258386,
                          0.5471142837
                        ]
                      },
                      {
                        "test": [
                          0.7332579934,
                          0.2087356588
                        ],
                        "passed_time": 13.85694335,
                        "iteration": 534,
                        "remaining_time": 12.04388534,
                        "learn": [
                          0.5366520356,
                          0.5475760601
                        ]
                      },
                      {
                        "test": [
                          0.7332560779,
                          0.2087397929
                        ],
                        "passed_time": 13.87852926,
                        "iteration": 535,
                        "remaining_time": 12.01424921,
                        "learn": [
                          0.5366100401,
                          0.5476468659
                        ]
                      },
                      {
                        "test": [
                          0.7332133852,
                          0.2088319299
                        ],
                        "passed_time": 13.90172211,
                        "iteration": 536,
                        "remaining_time": 11.98602856,
                        "learn": [
                          0.5363129274,
                          0.5481476492
                        ]
                      },
                      {
                        "test": [
                          0.7332305611,
                          0.2087948626
                        ],
                        "passed_time": 13.92651669,
                        "iteration": 537,
                        "remaining_time": 11.95920207,
                        "learn": [
                          0.5359592072,
                          0.5487434826
                        ]
                      },
                      {
                        "test": [
                          0.7331910999,
                          0.2088800229
                        ],
                        "passed_time": 13.95070489,
                        "iteration": 538,
                        "remaining_time": 11.93186448,
                        "learn": [
                          0.5357392966,
                          0.5491137187
                        ]
                      },
                      {
                        "test": [
                          0.7332344262,
                          0.2087865212
                        ],
                        "passed_time": 13.9757938,
                        "iteration": 539,
                        "remaining_time": 11.90530583,
                        "learn": [
                          0.5355123221,
                          0.549495688
                        ]
                      },
                      {
                        "test": [
                          0.7331112229,
                          0.2090523895
                        ],
                        "passed_time": 14.00139933,
                        "iteration": 540,
                        "remaining_time": 11.87919093,
                        "learn": [
                          0.5353294052,
                          0.5498033964
                        ]
                      },
                      {
                        "test": [
                          0.7331898842,
                          0.2088826463
                        ],
                        "passed_time": 14.02522811,
                        "iteration": 541,
                        "remaining_time": 11.85157652,
                        "learn": [
                          0.5350344288,
                          0.5502993929
                        ]
                      },
                      {
                        "test": [
                          0.7332099931,
                          0.2088392504
                        ],
                        "passed_time": 14.04921062,
                        "iteration": 542,
                        "remaining_time": 11.82410544,
                        "learn": [
                          0.5347301008,
                          0.5508108277
                        ]
                      },
                      {
                        "test": [
                          0.7331940136,
                          0.2088737349
                        ],
                        "passed_time": 14.07273228,
                        "iteration": 543,
                        "remaining_time": 11.79626088,
                        "learn": [
                          0.5345888206,
                          0.5510481554
                        ]
                      },
                      {
                        "test": [
                          0.7333289697,
                          0.2085824692
                        ],
                        "passed_time": 14.09839881,
                        "iteration": 544,
                        "remaining_time": 11.77022286,
                        "learn": [
                          0.53437472,
                          0.55140769
                        ]
                      },
                      {
                        "test": [
                          0.7333452535,
                          0.2085473215
                        ],
                        "passed_time": 14.12079491,
                        "iteration": 545,
                        "remaining_time": 11.74146683,
                        "learn": [
                          0.5340943885,
                          0.5518782271
                        ]
                      },
                      {
                        "test": [
                          0.7333299036,
                          0.2085804535
                        ],
                        "passed_time": 14.14632936,
                        "iteration": 546,
                        "remaining_time": 11.71533309,
                        "learn": [
                          0.53367431,
                          0.5525828678
                        ]
                      },
                      {
                        "test": [
                          0.7333168493,
                          0.2086086301
                        ],
                        "passed_time": 14.17223491,
                        "iteration": 547,
                        "remaining_time": 11.68950763,
                        "learn": [
                          0.5334229931,
                          0.5530041623
                        ]
                      },
                      {
                        "test": [
                          0.7333759851,
                          0.2084809869
                        ],
                        "passed_time": 14.19484965,
                        "iteration": 548,
                        "remaining_time": 11.66097849,
                        "learn": [
                          0.5332643039,
                          0.5532700782
                        ]
                      },
                      {
                        "test": [
                          0.7334078693,
                          0.2084121612
                        ],
                        "passed_time": 14.22803833,
                        "iteration": 549,
                        "remaining_time": 11.64112227,
                        "learn": [
                          0.5332011078,
                          0.5533759542
                        ]
                      },
                      {
                        "test": [
                          0.7334526544,
                          0.2083154827
                        ],
                        "passed_time": 14.25221519,
                        "iteration": 550,
                        "remaining_time": 11.61387408,
                        "learn": [
                          0.5328598423,
                          0.553947478
                        ]
                      },
                      {
                        "test": [
                          0.73351995,
                          0.2081701991
                        ],
                        "passed_time": 14.27564944,
                        "iteration": 551,
                        "remaining_time": 11.58603433,
                        "learn": [
                          0.5325268325,
                          0.5545048232
                        ]
                      },
                      {
                        "test": [
                          0.7334382565,
                          0.2083465644
                        ],
                        "passed_time": 14.29796945,
                        "iteration": 552,
                        "remaining_time": 11.55730984,
                        "learn": [
                          0.5324079433,
                          0.554703719
                        ]
                      },
                      {
                        "test": [
                          0.7333989165,
                          0.2084314873
                        ],
                        "passed_time": 14.35759429,
                        "iteration": 553,
                        "remaining_time": 11.55864089,
                        "learn": [
                          0.5322226852,
                          0.5550135581
                        ]
                      },
                      {
                        "test": [
                          0.7333951719,
                          0.2084395703
                        ],
                        "passed_time": 14.39493753,
                        "iteration": 554,
                        "remaining_time": 11.54188685,
                        "learn": [
                          0.5319429318,
                          0.5554812336
                        ]
                      },
                      {
                        "test": [
                          0.7334789741,
                          0.2082586631
                        ],
                        "passed_time": 14.41731387,
                        "iteration": 555,
                        "remaining_time": 11.51310676,
                        "learn": [
                          0.5318092086,
                          0.5557046975
                        ]
                      },
                      {
                        "test": [
                          0.7335098486,
                          0.2081920077
                        ],
                        "passed_time": 14.44898355,
                        "iteration": 556,
                        "remaining_time": 11.49174095,
                        "learn": [
                          0.5316324728,
                          0.555999953
                        ]
                      },
                      {
                        "test": [
                          0.733580521,
                          0.2080394217
                        ],
                        "passed_time": 14.47350139,
                        "iteration": 557,
                        "remaining_time": 11.46467314,
                        "learn": [
                          0.5314532603,
                          0.5562992461
                        ]
                      },
                      {
                        "test": [
                          0.7336790925,
                          0.2078265753
                        ],
                        "passed_time": 14.50053228,
                        "iteration": 558,
                        "remaining_time": 11.43959702,
                        "learn": [
                          0.531166895,
                          0.5567772797
                        ]
                      },
                      {
                        "test": [
                          0.7337207179,
                          0.2077366846
                        ],
                        "passed_time": 14.52460906,
                        "iteration": 559,
                        "remaining_time": 11.41219283,
                        "learn": [
                          0.5309625277,
                          0.5571182755
                        ]
                      },
                      {
                        "test": [
                          0.7337769735,
                          0.2076151916
                        ],
                        "passed_time": 14.54984922,
                        "iteration": 560,
                        "remaining_time": 11.38571088,
                        "learn": [
                          0.5306980964,
                          0.5575592958
                        ]
                      },
                      {
                        "test": [
                          0.7337818264,
                          0.2076047105
                        ],
                        "passed_time": 14.57434175,
                        "iteration": 561,
                        "remaining_time": 11.35865069,
                        "learn": [
                          0.5304562772,
                          0.557962411
                        ]
                      },
                      {
                        "test": [
                          0.7336679321,
                          0.2078506754
                        ],
                        "passed_time": 14.60878944,
                        "iteration": 562,
                        "remaining_time": 11.33932679,
                        "learn": [
                          0.5301495536,
                          0.5584734584
                        ]
                      },
                      {
                        "test": [
                          0.7337630273,
                          0.2076453114
                        ],
                        "passed_time": 14.63214414,
                        "iteration": 563,
                        "remaining_time": 11.31137384,
                        "learn": [
                          0.5299847997,
                          0.5587478411
                        ]
                      },
                      {
                        "test": [
                          0.7337619491,
                          0.2076476402
                        ],
                        "passed_time": 14.65889763,
                        "iteration": 564,
                        "remaining_time": 11.28605393,
                        "learn": [
                          0.5299761729,
                          0.5587622059
                        ]
                      },
                      {
                        "test": [
                          0.7337301312,
                          0.2077163556
                        ],
                        "passed_time": 14.68465602,
                        "iteration": 565,
                        "remaining_time": 11.25996592,
                        "learn": [
                          0.5296965926,
                          0.5592276188
                        ]
                      },
                      {
                        "test": [
                          0.7337025432,
                          0.2077759337
                        ],
                        "passed_time": 14.70949173,
                        "iteration": 566,
                        "remaining_time": 11.23317446,
                        "learn": [
                          0.5293489189,
                          0.559806043
                        ]
                      },
                      {
                        "test": [
                          0.7337032121,
                          0.2077744893
                        ],
                        "passed_time": 14.73350745,
                        "iteration": 567,
                        "remaining_time": 11.20576623,
                        "learn": [
                          0.5290165021,
                          0.5603587293
                        ]
                      },
                      {
                        "test": [
                          0.7336682193,
                          0.2078500553
                        ],
                        "passed_time": 14.75695044,
                        "iteration": 568,
                        "remaining_time": 11.1779361,
                        "learn": [
                          0.5287960612,
                          0.5607250494
                        ]
                      },
                      {
                        "test": [
                          0.7335762126,
                          0.2080487241
                        ],
                        "passed_time": 14.78129174,
                        "iteration": 569,
                        "remaining_time": 11.15079903,
                        "learn": [
                          0.5285304658,
                          0.561166203
                        ]
                      },
                      {
                        "test": [
                          0.7335463255,
                          0.2081132536
                        ],
                        "passed_time": 14.803767,
                        "iteration": 570,
                        "remaining_time": 11.12226978,
                        "learn": [
                          0.5284108448,
                          0.5613648208
                        ]
                      },
                      {
                        "test": [
                          0.733624619,
                          0.207944204
                        ],
                        "passed_time": 14.82620554,
                        "iteration": 571,
                        "remaining_time": 11.09373422,
                        "learn": [
                          0.528231246,
                          0.561662941
                        ]
                      },
                      {
                        "test": [
                          0.7335002475,
                          0.2082127359
                        ],
                        "passed_time": 14.84793035,
                        "iteration": 572,
                        "remaining_time": 11.06468806,
                        "learn": [
                          0.5279957114,
                          0.5620537566
                        ]
                      },
                      {
                        "test": [
                          0.7335182593,
                          0.2081738493
                        ],
                        "passed_time": 14.87617807,
                        "iteration": 573,
                        "remaining_time": 11.04050847,
                        "learn": [
                          0.5278042447,
                          0.5623713233
                        ]
                      },
                      {
                        "test": [
                          0.7334704005,
                          0.2082771721
                        ],
                        "passed_time": 14.90053734,
                        "iteration": 574,
                        "remaining_time": 11.01344065,
                        "learn": [
                          0.5276312239,
                          0.5626581965
                        ]
                      },
                      {
                        "test": [
                          0.7335137977,
                          0.2081834818
                        ],
                        "passed_time": 14.92416273,
                        "iteration": 575,
                        "remaining_time": 10.98584201,
                        "learn": [
                          0.5274451833,
                          0.5629665519
                        ]
                      },
                      {
                        "test": [
                          0.733579004,
                          0.2080426971
                        ],
                        "passed_time": 14.94845149,
                        "iteration": 576,
                        "remaining_time": 10.95874347,
                        "learn": [
                          0.5271358368,
                          0.5634790417
                        ]
                      },
                      {
                        "test": [
                          0.7336442024,
                          0.2079019172
                        ],
                        "passed_time": 14.97304584,
                        "iteration": 577,
                        "remaining_time": 10.93187776,
                        "learn": [
                          0.5268201928,
                          0.5640016545
                        ]
                      },
                      {
                        "test": [
                          0.7336031834,
                          0.207990489
                        ],
                        "passed_time": 14.99513913,
                        "iteration": 578,
                        "remaining_time": 10.90320133,
                        "learn": [
                          0.5266341053,
                          0.5643096136
                        ]
                      },
                      {
                        "test": [
                          0.733537338,
                          0.2081326582
                        ],
                        "passed_time": 15.01935886,
                        "iteration": 579,
                        "remaining_time": 10.87608745,
                        "learn": [
                          0.5263680255,
                          0.5647497639
                        ]
                      },
                      {
                        "test": [
                          0.733655578,
                          0.207877353
                        ],
                        "passed_time": 15.0444126,
                        "iteration": 580,
                        "remaining_time": 10.84958499,
                        "learn": [
                          0.5261319163,
                          0.5651401507
                        ]
                      },
                      {
                        "test": [
                          0.7336588853,
                          0.2078702113
                        ],
                        "passed_time": 15.06617571,
                        "iteration": 581,
                        "remaining_time": 10.82072414,
                        "learn": [
                          0.5261224761,
                          0.5651557557
                        ]
                      },
                      {
                        "test": [
                          0.7336471064,
                          0.2078956464
                        ],
                        "passed_time": 15.09365431,
                        "iteration": 582,
                        "remaining_time": 10.79597573,
                        "learn": [
                          0.5260021967,
                          0.5653545565
                        ]
                      },
                      {
                        "test": [
                          0.7336680548,
                          0.2078504106
                        ],
                        "passed_time": 15.11859328,
                        "iteration": 583,
                        "remaining_time": 10.76940891,
                        "learn": [
                          0.5256784304,
                          0.5658894603
                        ]
                      },
                      {
                        "test": [
                          0.73361417,
                          0.2079667662
                        ],
                        "passed_time": 15.14416956,
                        "iteration": 584,
                        "remaining_time": 10.74329977,
                        "learn": [
                          0.5254610335,
                          0.5662484431
                        ]
                      },
                      {
                        "test": [
                          0.733579036,
                          0.2080426281
                        ],
                        "passed_time": 15.16859983,
                        "iteration": 585,
                        "remaining_time": 10.71638282,
                        "learn": [
                          0.525284576,
                          0.5665397143
                        ]
                      },
                      {
                        "test": [
                          0.7336403554,
                          0.2079102241
                        ],
                        "passed_time": 15.19800825,
                        "iteration": 586,
                        "remaining_time": 10.69297684,
                        "learn": [
                          0.5249275175,
                          0.5671287973
                        ]
                      },
                      {
                        "test": [
                          0.7336110728,
                          0.2079734541
                        ],
                        "passed_time": 15.22046781,
                        "iteration": 587,
                        "remaining_time": 10.66468152,
                        "learn": [
                          0.524748125,
                          0.5674246117
                        ]
                      },
                      {
                        "test": [
                          0.7335971171,
                          0.2080035876
                        ],
                        "passed_time": 15.25072364,
                        "iteration": 588,
                        "remaining_time": 10.64184621,
                        "learn": [
                          0.524416987,
                          0.5679703858
                        ]
                      },
                      {
                        "test": [
                          0.7335991613,
                          0.2079991738
                        ],
                        "passed_time": 15.27879868,
                        "iteration": 589,
                        "remaining_time": 10.61747027,
                        "learn": [
                          0.5241598538,
                          0.5683939491
                        ]
                      },
                      {
                        "test": [
                          0.7335875799,
                          0.2080241803
                        ],
                        "passed_time": 15.30598409,
                        "iteration": 590,
                        "remaining_time": 10.59246615,
                        "learn": [
                          0.5239786563,
                          0.5686923025
                        ]
                      },
                      {
                        "test": [
                          0.7335442912,
                          0.2081176459
                        ],
                        "passed_time": 15.3320647,
                        "iteration": 591,
                        "remaining_time": 10.56669324,
                        "learn": [
                          0.5237322099,
                          0.5690979268
                        ]
                      },
                      {
                        "test": [
                          0.7335577959,
                          0.2080884881
                        ],
                        "passed_time": 15.39450189,
                        "iteration": 592,
                        "remaining_time": 10.56587229,
                        "learn": [
                          0.5235688573,
                          0.5693666825
                        ]
                      },
                      {
                        "test": [
                          0.7335010394,
                          0.2082110263
                        ],
                        "passed_time": 15.43890435,
                        "iteration": 593,
                        "remaining_time": 10.55251712,
                        "learn": [
                          0.5234275551,
                          0.5695990921
                        ]
                      },
                      {
                        "test": [
                          0.7335122935,
                          0.2081867293
                        ],
                        "passed_time": 15.46236139,
                        "iteration": 594,
                        "remaining_time": 10.52480061,
                        "learn": [
                          0.5234035122,
                          0.5696386309
                        ]
                      },
                      {
                        "test": [
                          0.733513825,
                          0.2081834227
                        ],
                        "passed_time": 15.4861599,
                        "iteration": 595,
                        "remaining_time": 10.49732986,
                        "learn": [
                          0.5233886968,
                          0.5696629941
                        ]
                      },
                      {
                        "test": [
                          0.7333740443,
                          0.2084851762
                        ],
                        "passed_time": 15.51460166,
                        "iteration": 596,
                        "remaining_time": 10.47300581,
                        "learn": [
                          0.523141086,
                          0.5700700753
                        ]
                      },
                      {
                        "test": [
                          0.7333677763,
                          0.208498706
                        ],
                        "passed_time": 15.53875711,
                        "iteration": 597,
                        "remaining_time": 10.44578656,
                        "learn": [
                          0.5229798464,
                          0.5703350558
                        ]
                      },
                      {
                        "test": [
                          0.7333616107,
                          0.2085120146
                        ],
                        "passed_time": 15.56130465,
                        "iteration": 598,
                        "remaining_time": 10.41750111,
                        "learn": [
                          0.5229627908,
                          0.57036308
                        ]
                      },
                      {
                        "test": [
                          0.7332572965,
                          0.2087371629
                        ],
                        "passed_time": 15.59630412,
                        "iteration": 599,
                        "remaining_time": 10.39753608,
                        "learn": [
                          0.522786944,
                          0.5706519632
                        ]
                      },
                      {
                        "test": [
                          0.7332485273,
                          0.2087560885
                        ],
                        "passed_time": 15.62032189,
                        "iteration": 600,
                        "remaining_time": 10.37023034,
                        "learn": [
                          0.5227691787,
                          0.5706811428
                        ]
                      },
                      {
                        "test": [
                          0.7330970301,
                          0.2090830141
                        ],
                        "passed_time": 15.64645754,
                        "iteration": 601,
                        "remaining_time": 10.34433572,
                        "learn": [
                          0.5224155849,
                          0.571261717
                        ]
                      },
                      {
                        "test": [
                          0.7331179927,
                          0.2090377817
                        ],
                        "passed_time": 15.67114012,
                        "iteration": 602,
                        "remaining_time": 10.31748363,
                        "learn": [
                          0.5223540444,
                          0.5713627217
                        ]
                      },
                      {
                        "test": [
                          0.7330716544,
                          0.2091377675
                        ],
                        "passed_time": 15.69597093,
                        "iteration": 603,
                        "remaining_time": 10.29073591,
                        "learn": [
                          0.5220289004,
                          0.571896174
                        ]
                      },
                      {
                        "test": [
                          0.7330328944,
                          0.2092213965
                        ],
                        "passed_time": 15.72514156,
                        "iteration": 604,
                        "remaining_time": 10.26682796,
                        "learn": [
                          0.5217757993,
                          0.5723111981
                        ]
                      },
                      {
                        "test": [
                          0.7329038856,
                          0.2094997152
                        ],
                        "passed_time": 15.75019687,
                        "iteration": 605,
                        "remaining_time": 10.24022701,
                        "learn": [
                          0.5215734771,
                          0.5726428124
                        ]
                      },
                      {
                        "test": [
                          0.7328972611,
                          0.2095140054
                        ],
                        "passed_time": 15.77163894,
                        "iteration": 606,
                        "remaining_time": 10.21129177,
                        "learn": [
                          0.5215650091,
                          0.5726566889
                        ]
                      },
                      {
                        "test": [
                          0.7329229565,
                          0.2094585753
                        ],
                        "passed_time": 15.79454821,
                        "iteration": 607,
                        "remaining_time": 10.18332713,
                        "learn": [
                          0.521213776,
                          0.5732320595
                        ]
                      },
                      {
                        "test": [
                          0.7328637064,
                          0.2095863862
                        ],
                        "passed_time": 15.8200148,
                        "iteration": 608,
                        "remaining_time": 10.157021,
                        "learn": [
                          0.520780557,
                          0.5739412009
                        ]
                      },
                      {
                        "test": [
                          0.7328314203,
                          0.2096560277
                        ],
                        "passed_time": 15.84379043,
                        "iteration": 609,
                        "remaining_time": 10.1296365,
                        "learn": [
                          0.5205055267,
                          0.5743910954
                        ]
                      },
                      {
                        "test": [
                          0.7328388048,
                          0.2096400995
                        ],
                        "passed_time": 15.86933523,
                        "iteration": 610,
                        "remaining_time": 10.10339019,
                        "learn": [
                          0.5202403591,
                          0.5748246314
                        ]
                      },
                      {
                        "test": [
                          0.7328843827,
                          0.2095417857
                        ],
                        "passed_time": 15.89286552,
                        "iteration": 611,
                        "remaining_time": 10.07586899,
                        "learn": [
                          0.5200030289,
                          0.5752124672
                        ]
                      },
                      {
                        "test": [
                          0.7328794008,
                          0.2095525322
                        ],
                        "passed_time": 15.91698142,
                        "iteration": 612,
                        "remaining_time": 10.04873052,
                        "learn": [
                          0.519815168,
                          0.5755193369
                        ]
                      },
                      {
                        "test": [
                          0.7329233983,
                          0.2094576224
                        ],
                        "passed_time": 15.94571523,
                        "iteration": 613,
                        "remaining_time": 10.02450501,
                        "learn": [
                          0.5195438683,
                          0.5759623075
                        ]
                      },
                      {
                        "test": [
                          0.7328746239,
                          0.2095628365
                        ],
                        "passed_time": 15.97272846,
                        "iteration": 614,
                        "remaining_time": 9.999187737,
                        "learn": [
                          0.5193315311,
                          0.5763088445
                        ]
                      },
                      {
                        "test": [
                          0.7328299652,
                          0.2096591663
                        ],
                        "passed_time": 15.99707595,
                        "iteration": 615,
                        "remaining_time": 9.972203193,
                        "learn": [
                          0.5190885007,
                          0.5767052992
                        ]
                      },
                      {
                        "test": [
                          0.7328968607,
                          0.2095148691
                        ],
                        "passed_time": 16.02004878,
                        "iteration": 616,
                        "remaining_time": 9.944373877,
                        "learn": [
                          0.5189445997,
                          0.576939957
                        ]
                      },
                      {
                        "test": [
                          0.7329261071,
                          0.2094517789
                        ],
                        "passed_time": 16.04289946,
                        "iteration": 617,
                        "remaining_time": 9.916484781,
                        "learn": [
                          0.5187422432,
                          0.5772698275
                        ]
                      },
                      {
                        "test": [
                          0.7329754438,
                          0.2093453443
                        ],
                        "passed_time": 16.06669154,
                        "iteration": 618,
                        "remaining_time": 9.889191399,
                        "learn": [
                          0.5185670368,
                          0.5775553355
                        ]
                      },
                      {
                        "test": [
                          0.7331236758,
                          0.2090255185
                        ],
                        "passed_time": 16.09001353,
                        "iteration": 619,
                        "remaining_time": 9.861621198,
                        "learn": [
                          0.5183166147,
                          0.577963244
                        ]
                      },
                      {
                        "test": [
                          0.7330797666,
                          0.2091202638
                        ],
                        "passed_time": 16.11536,
                        "iteration": 620,
                        "remaining_time": 9.835300228,
                        "learn": [
                          0.518060344,
                          0.5783804752
                        ]
                      },
                      {
                        "test": [
                          0.7330815644,
                          0.2091163848
                        ],
                        "passed_time": 16.13726206,
                        "iteration": 621,
                        "remaining_time": 9.806889161,
                        "learn": [
                          0.5180524266,
                          0.578393362
                        ]
                      },
                      {
                        "test": [
                          0.7331546396,
                          0.2089587029
                        ],
                        "passed_time": 16.17161777,
                        "iteration": 622,
                        "remaining_time": 9.786035153,
                        "learn": [
                          0.5179012692,
                          0.578639359
                        ]
                      },
                      {
                        "test": [
                          0.7331643243,
                          0.2089378039
                        ],
                        "passed_time": 16.19575253,
                        "iteration": 623,
                        "remaining_time": 9.75897909,
                        "learn": [
                          0.5177355103,
                          0.5789090363
                        ]
                      },
                      {
                        "test": [
                          0.7331625498,
                          0.2089416332
                        ],
                        "passed_time": 16.21942798,
                        "iteration": 624,
                        "remaining_time": 9.731656788,
                        "learn": [
                          0.5175514732,
                          0.5792083497
                        ]
                      },
                      {
                        "test": [
                          0.7331499159,
                          0.2089688961
                        ],
                        "passed_time": 16.25037722,
                        "iteration": 625,
                        "remaining_time": 9.708691824,
                        "learn": [
                          0.5173695942,
                          0.5795040487
                        ]
                      },
                      {
                        "test": [
                          0.7331596376,
                          0.2089479175
                        ],
                        "passed_time": 16.26031966,
                        "iteration": 626,
                        "remaining_time": 9.673204519,
                        "learn": [
                          0.5173596124,
                          0.5795202741
                        ]
                      },
                      {
                        "test": [
                          0.7331570457,
                          0.2089535107
                        ],
                        "passed_time": 16.28286466,
                        "iteration": 627,
                        "remaining_time": 9.645263777,
                        "learn": [
                          0.5172180809,
                          0.5797502997
                        ]
                      },
                      {
                        "test": [
                          0.7332237756,
                          0.2088095065
                        ],
                        "passed_time": 16.30481419,
                        "iteration": 628,
                        "remaining_time": 9.616988975,
                        "learn": [
                          0.5170759786,
                          0.5799811898
                        ]
                      },
                      {
                        "test": [
                          0.7330775586,
                          0.209125028
                        ],
                        "passed_time": 16.32871974,
                        "iteration": 629,
                        "remaining_time": 9.589883023,
                        "learn": [
                          0.5167972832,
                          0.580433834
                        ]
                      },
                      {
                        "test": [
                          0.7330725325,
                          0.2091358727
                        ],
                        "passed_time": 16.35175852,
                        "iteration": 630,
                        "remaining_time": 9.562280342,
                        "learn": [
                          0.5167585462,
                          0.5804967296
                        ]
                      },
                      {
                        "test": [
                          0.7332128136,
                          0.2088331635
                        ],
                        "passed_time": 16.37796971,
                        "iteration": 631,
                        "remaining_time": 9.536539327,
                        "learn": [
                          0.5164803691,
                          0.580948255
                        ]
                      },
                      {
                        "test": [
                          0.7331909787,
                          0.2088802843
                        ],
                        "passed_time": 16.44316594,
                        "iteration": 632,
                        "remaining_time": 9.533399528,
                        "learn": [
                          0.5163382411,
                          0.5811788574
                        ]
                      },
                      {
                        "test": [
                          0.7331826259,
                          0.2088983099
                        ],
                        "passed_time": 16.48166588,
                        "iteration": 633,
                        "remaining_time": 9.514652542,
                        "learn": [
                          0.516097252,
                          0.5815697166
                        ]
                      },
                      {
                        "test": [
                          0.7331864267,
                          0.2088901077
                        ],
                        "passed_time": 16.51219872,
                        "iteration": 634,
                        "remaining_time": 9.491263832,
                        "learn": [
                          0.5160910275,
                          0.5815798096
                        ]
                      },
                      {
                        "test": [
                          0.733256771,
                          0.2087382971
                        ],
                        "passed_time": 16.54965301,
                        "iteration": 635,
                        "remaining_time": 9.471813989,
                        "learn": [
                          0.5157116134,
                          0.5821948025
                        ]
                      },
                      {
                        "test": [
                          0.7332339848,
                          0.2087874738
                        ],
                        "passed_time": 16.57434477,
                        "iteration": 636,
                        "remaining_time": 9.445034773,
                        "learn": [
                          0.515504314,
                          0.5825306234
                        ]
                      },
                      {
                        "test": [
                          0.7332901755,
                          0.2086662015
                        ],
                        "passed_time": 16.61062966,
                        "iteration": 637,
                        "remaining_time": 9.424840029,
                        "learn": [
                          0.5152547997,
                          0.5829346524
                        ]
                      },
                      {
                        "test": [
                          0.7332173511,
                          0.2088233713
                        ],
                        "passed_time": 16.63416548,
                        "iteration": 638,
                        "remaining_time": 9.397392392,
                        "learn": [
                          0.5151315597,
                          0.5831341382
                        ]
                      },
                      {
                        "test": [
                          0.7330807783,
                          0.2091180809
                        ],
                        "passed_time": 16.65904967,
                        "iteration": 639,
                        "remaining_time": 9.370715442,
                        "learn": [
                          0.5149227604,
                          0.5834720078
                        ]
                      },
                      {
                        "test": [
                          0.7330616709,
                          0.2091593084
                        ],
                        "passed_time": 16.68237969,
                        "iteration": 640,
                        "remaining_time": 9.343173647,
                        "learn": [
                          0.5146581093,
                          0.5839000576
                        ]
                      },
                      {
                        "test": [
                          0.7330574699,
                          0.2091683726
                        ],
                        "passed_time": 16.70428629,
                        "iteration": 641,
                        "remaining_time": 9.314851232,
                        "learn": [
                          0.5145562194,
                          0.5840647967
                        ]
                      },
                      {
                        "test": [
                          0.733058994,
                          0.2091650841
                        ],
                        "passed_time": 16.72562234,
                        "iteration": 642,
                        "remaining_time": 9.286231997,
                        "learn": [
                          0.5145494939,
                          0.5840756696
                        ]
                      },
                      {
                        "test": [
                          0.7330285711,
                          0.2092307242
                        ],
                        "passed_time": 16.7498347,
                        "iteration": 643,
                        "remaining_time": 9.259225391,
                        "learn": [
                          0.51417293,
                          0.5846842206
                        ]
                      },
                      {
                        "test": [
                          0.7330279153,
                          0.2092321391
                        ],
                        "passed_time": 16.77390994,
                        "iteration": 644,
                        "remaining_time": 9.232151984,
                        "learn": [
                          0.5140282298,
                          0.5849179466
                        ]
                      },
                      {
                        "test": [
                          0.7330262108,
                          0.2092358164
                        ],
                        "passed_time": 16.79865923,
                        "iteration": 645,
                        "remaining_time": 9.205457225,
                        "learn": [
                          0.5138053135,
                          0.585277882
                        ]
                      },
                      {
                        "test": [
                          0.7329059138,
                          0.2094953399
                        ],
                        "passed_time": 16.82633042,
                        "iteration": 646,
                        "remaining_time": 9.180362658,
                        "learn": [
                          0.5136745625,
                          0.5854889288
                        ]
                      },
                      {
                        "test": [
                          0.7329599518,
                          0.209378766
                        ],
                        "passed_time": 16.85071356,
                        "iteration": 647,
                        "remaining_time": 9.153474034,
                        "learn": [
                          0.5133747167,
                          0.5859727102
                        ]
                      },
                      {
                        "test": [
                          0.7329689184,
                          0.209359422
                        ],
                        "passed_time": 16.87429551,
                        "iteration": 648,
                        "remaining_time": 9.126159823,
                        "learn": [
                          0.5131592466,
                          0.5863201826
                        ]
                      },
                      {
                        "test": [
                          0.7329431279,
                          0.2094150604
                        ],
                        "passed_time": 16.89821362,
                        "iteration": 649,
                        "remaining_time": 9.099038102,
                        "learn": [
                          0.5128129039,
                          0.5868783977
                        ]
                      },
                      {
                        "test": [
                          0.732974661,
                          0.209347033
                        ],
                        "passed_time": 16.92246002,
                        "iteration": 650,
                        "remaining_time": 9.07210222,
                        "learn": [
                          0.5126553589,
                          0.587132195
                        ]
                      },
                      {
                        "test": [
                          0.7329659448,
                          0.2093658371
                        ],
                        "passed_time": 16.95010861,
                        "iteration": 651,
                        "remaining_time": 9.046990487,
                        "learn": [
                          0.5122931707,
                          0.5877153667
                        ]
                      },
                      {
                        "test": [
                          0.7330119517,
                          0.2092665807
                        ],
                        "passed_time": 16.97398783,
                        "iteration": 652,
                        "remaining_time": 9.019867956,
                        "learn": [
                          0.5119692809,
                          0.5882365235
                        ]
                      },
                      {
                        "test": [
                          0.7329511896,
                          0.209397669
                        ],
                        "passed_time": 16.99702518,
                        "iteration": 653,
                        "remaining_time": 8.992309958,
                        "learn": [
                          0.5118252064,
                          0.5884682416
                        ]
                      },
                      {
                        "test": [
                          0.7330689624,
                          0.2091435758
                        ],
                        "passed_time": 17.02162826,
                        "iteration": 654,
                        "remaining_time": 8.965590457,
                        "learn": [
                          0.5115954122,
                          0.5888376895
                        ]
                      },
                      {
                        "test": [
                          0.7330228052,
                          0.2092431641
                        ],
                        "passed_time": 17.05152467,
                        "iteration": 655,
                        "remaining_time": 8.941653181,
                        "learn": [
                          0.5113096662,
                          0.5892968617
                        ]
                      },
                      {
                        "test": [
                          0.7329166073,
                          0.209472272
                        ],
                        "passed_time": 17.07637571,
                        "iteration": 656,
                        "remaining_time": 8.915063729,
                        "learn": [
                          0.5110489659,
                          0.5897155635
                        ]
                      },
                      {
                        "test": [
                          0.7329955667,
                          0.2093019307
                        ],
                        "passed_time": 17.10025842,
                        "iteration": 657,
                        "remaining_time": 8.887976263,
                        "learn": [
                          0.5109040913,
                          0.5899481494
                        ]
                      },
                      {
                        "test": [
                          0.7329700933,
                          0.2093568872
                        ],
                        "passed_time": 17.12344326,
                        "iteration": 658,
                        "remaining_time": 8.860537407,
                        "learn": [
                          0.5107144899,
                          0.5902524412
                        ]
                      },
                      {
                        "test": [
                          0.7331363708,
                          0.2089981248
                        ],
                        "passed_time": 17.147929,
                        "iteration": 659,
                        "remaining_time": 8.833781604,
                        "learn": [
                          0.5103889092,
                          0.5907747032
                        ]
                      },
                      {
                        "test": [
                          0.7331497576,
                          0.2089692377
                        ],
                        "passed_time": 17.17525394,
                        "iteration": 660,
                        "remaining_time": 8.808488783,
                        "learn": [
                          0.5101581561,
                          0.5911446511
                        ]
                      },
                      {
                        "test": [
                          0.7330491754,
                          0.2091862689
                        ],
                        "passed_time": 17.19970833,
                        "iteration": 661,
                        "remaining_time": 8.781724192,
                        "learn": [
                          0.5098361277,
                          0.5916606536
                        ]
                      },
                      {
                        "test": [
                          0.7330901767,
                          0.2090978019
                        ],
                        "passed_time": 17.2227759,
                        "iteration": 662,
                        "remaining_time": 8.754261657,
                        "learn": [
                          0.5096366784,
                          0.5919800781
                        ]
                      },
                      {
                        "test": [
                          0.7331841101,
                          0.2088951069
                        ],
                        "passed_time": 17.25738252,
                        "iteration": 663,
                        "remaining_time": 8.732651398,
                        "learn": [
                          0.5093723678,
                          0.5924031875
                        ]
                      },
                      {
                        "test": [
                          0.7331771703,
                          0.208910083
                        ],
                        "passed_time": 17.28037904,
                        "iteration": 664,
                        "remaining_time": 8.705153353,
                        "learn": [
                          0.5091591635,
                          0.5927443257
                        ]
                      },
                      {
                        "test": [
                          0.733204579,
                          0.2088509344
                        ],
                        "passed_time": 17.30264933,
                        "iteration": 665,
                        "remaining_time": 8.677304619,
                        "learn": [
                          0.5088818633,
                          0.5931878072
                        ]
                      },
                      {
                        "test": [
                          0.7332088334,
                          0.2088417531
                        ],
                        "passed_time": 17.32574873,
                        "iteration": 666,
                        "remaining_time": 8.649886545,
                        "learn": [
                          0.5086374809,
                          0.5935784436
                        ]
                      },
                      {
                        "test": [
                          0.7331997489,
                          0.208861358
                        ],
                        "passed_time": 17.34791301,
                        "iteration": 667,
                        "remaining_time": 8.622016648,
                        "learn": [
                          0.5084693298,
                          0.5938471181
                        ]
                      },
                      {
                        "test": [
                          0.733181411,
                          0.2089009315
                        ],
                        "passed_time": 17.37084451,
                        "iteration": 668,
                        "remaining_time": 8.594543395,
                        "learn": [
                          0.5083217337,
                          0.594082876
                        ]
                      },
                      {
                        "test": [
                          0.7332248089,
                          0.2088072765
                        ],
                        "passed_time": 17.3951777,
                        "iteration": 669,
                        "remaining_time": 8.56777409,
                        "learn": [
                          0.5080171107,
                          0.5945692399
                        ]
                      },
                      {
                        "test": [
                          0.7332181973,
                          0.208821545
                        ],
                        "passed_time": 17.45071771,
                        "iteration": 670,
                        "remaining_time": 8.556313153,
                        "learn": [
                          0.5078126061,
                          0.5948955901
                        ]
                      },
                      {
                        "test": [
                          0.7331925686,
                          0.2088768533
                        ],
                        "passed_time": 17.49211746,
                        "iteration": 671,
                        "remaining_time": 8.537819238,
                        "learn": [
                          0.5075464957,
                          0.5953200547
                        ]
                      },
                      {
                        "test": [
                          0.7330874031,
                          0.2091037867
                        ],
                        "passed_time": 17.52962876,
                        "iteration": 672,
                        "remaining_time": 8.517367912,
                        "learn": [
                          0.5072311507,
                          0.595822764
                        ]
                      },
                      {
                        "test": [
                          0.7330721365,
                          0.2091367272
                        ],
                        "passed_time": 17.55507384,
                        "iteration": 673,
                        "remaining_time": 8.491029782,
                        "learn": [
                          0.5069476321,
                          0.5962744703
                        ]
                      },
                      {
                        "test": [
                          0.7330319743,
                          0.2092233814
                        ],
                        "passed_time": 17.57927765,
                        "iteration": 674,
                        "remaining_time": 8.464096648,
                        "learn": [
                          0.5068141201,
                          0.5964870963
                        ]
                      },
                      {
                        "test": [
                          0.7330417975,
                          0.2092021873
                        ],
                        "passed_time": 17.58964668,
                        "iteration": 675,
                        "remaining_time": 8.430540715,
                        "learn": [
                          0.5068050325,
                          0.5965015667
                        ]
                      },
                      {
                        "test": [
                          0.7329151924,
                          0.2094753242
                        ],
                        "passed_time": 17.62278935,
                        "iteration": 676,
                        "remaining_time": 8.407918702,
                        "learn": [
                          0.5065984674,
                          0.5968304179
                        ]
                      },
                      {
                        "test": [
                          0.7327703857,
                          0.2097876714
                        ],
                        "passed_time": 17.64788117,
                        "iteration": 677,
                        "remaining_time": 8.381442089,
                        "learn": [
                          0.5064001459,
                          0.597146019
                        ]
                      },
                      {
                        "test": [
                          0.7328677317,
                          0.2095777034
                        ],
                        "passed_time": 17.6720395,
                        "iteration": 678,
                        "remaining_time": 8.354528245,
                        "learn": [
                          0.5061597636,
                          0.5975283885
                        ]
                      },
                      {
                        "test": [
                          0.7329006736,
                          0.2095066441
                        ],
                        "passed_time": 17.69894874,
                        "iteration": 679,
                        "remaining_time": 8.328917056,
                        "learn": [
                          0.5059945688,
                          0.5977910541
                        ]
                      },
                      {
                        "test": [
                          0.7330266458,
                          0.2092348781
                        ],
                        "passed_time": 17.72328933,
                        "iteration": 680,
                        "remaining_time": 8.302098818,
                        "learn": [
                          0.5057178551,
                          0.5982308465
                        ]
                      },
                      {
                        "test": [
                          0.7330296148,
                          0.2092284723
                        ],
                        "passed_time": 17.74488403,
                        "iteration": 681,
                        "remaining_time": 8.274007511,
                        "learn": [
                          0.5057127162,
                          0.5982390117
                        ]
                      },
                      {
                        "test": [
                          0.7330066573,
                          0.2092780034
                        ],
                        "passed_time": 17.77018884,
                        "iteration": 682,
                        "remaining_time": 8.247657192,
                        "learn": [
                          0.5053905704,
                          0.5987507031
                        ]
                      },
                      {
                        "test": [
                          0.7329490899,
                          0.2094021988
                        ],
                        "passed_time": 17.79466068,
                        "iteration": 683,
                        "remaining_time": 8.220925111,
                        "learn": [
                          0.5051740827,
                          0.5990943855
                        ]
                      },
                      {
                        "test": [
                          0.7329634924,
                          0.2093711277
                        ],
                        "passed_time": 17.8177858,
                        "iteration": 684,
                        "remaining_time": 8.19358033,
                        "learn": [
                          0.5048617887,
                          0.5995899047
                        ]
                      },
                      {
                        "test": [
                          0.7329533023,
                          0.2093931111
                        ],
                        "passed_time": 17.84112443,
                        "iteration": 685,
                        "remaining_time": 8.166345586,
                        "learn": [
                          0.5046122608,
                          0.5999856121
                        ]
                      },
                      {
                        "test": [
                          0.7329573226,
                          0.209384438
                        ],
                        "passed_time": 17.86368866,
                        "iteration": 686,
                        "remaining_time": 8.138769361,
                        "learn": [
                          0.5045348406,
                          0.6001083473
                        ]
                      },
                      {
                        "test": [
                          0.7329704568,
                          0.2093561031
                        ],
                        "passed_time": 17.88704265,
                        "iteration": 687,
                        "remaining_time": 8.111565853,
                        "learn": [
                          0.5043512538,
                          0.6003993142
                        ]
                      },
                      {
                        "test": [
                          0.7329836843,
                          0.2093275661
                        ],
                        "passed_time": 17.91739075,
                        "iteration": 688,
                        "remaining_time": 8.087530511,
                        "learn": [
                          0.504199886,
                          0.6006391375
                        ]
                      },
                      {
                        "test": [
                          0.7330036709,
                          0.2092844463
                        ],
                        "passed_time": 17.94287473,
                        "iteration": 689,
                        "remaining_time": 8.061291544,
                        "learn": [
                          0.5039627862,
                          0.6010146478
                        ]
                      },
                      {
                        "test": [
                          0.7328757802,
                          0.2095603423
                        ],
                        "passed_time": 17.96639133,
                        "iteration": 690,
                        "remaining_time": 8.034174994,
                        "learn": [
                          0.5037752889,
                          0.6013114743
                        ]
                      },
                      {
                        "test": [
                          0.732877611,
                          0.209556393
                        ],
                        "passed_time": 17.98977685,
                        "iteration": 691,
                        "remaining_time": 8.007010506,
                        "learn": [
                          0.5035140921,
                          0.6017247902
                        ]
                      },
                      {
                        "test": [
                          0.7328954223,
                          0.2095179719
                        ],
                        "passed_time": 18.0124958,
                        "iteration": 692,
                        "remaining_time": 7.979561631,
                        "learn": [
                          0.5033053304,
                          0.6020549791
                        ]
                      },
                      {
                        "test": [
                          0.7329754767,
                          0.2093452732
                        ],
                        "passed_time": 18.03531959,
                        "iteration": 693,
                        "remaining_time": 7.952172614,
                        "learn": [
                          0.5031446699,
                          0.6023089951
                        ]
                      },
                      {
                        "test": [
                          0.7330660834,
                          0.2091497877
                        ],
                        "passed_time": 18.0574951,
                        "iteration": 694,
                        "remaining_time": 7.924512239,
                        "learn": [
                          0.5029877901,
                          0.6025569555
                        ]
                      },
                      {
                        "test": [
                          0.7329553315,
                          0.2093887335
                        ],
                        "passed_time": 18.08105203,
                        "iteration": 695,
                        "remaining_time": 7.897471,
                        "learn": [
                          0.5027775925,
                          0.6028890674
                        ]
                      },
                      {
                        "test": [
                          0.7328711131,
                          0.2095704095
                        ],
                        "passed_time": 18.10559284,
                        "iteration": 696,
                        "remaining_time": 7.870867475,
                        "learn": [
                          0.5024747194,
                          0.6033673623
                        ]
                      },
                      {
                        "test": [
                          0.7328486231,
                          0.2096189214
                        ],
                        "passed_time": 18.13490094,
                        "iteration": 697,
                        "remaining_time": 7.8463325,
                        "learn": [
                          0.5022523595,
                          0.6037183281
                        ]
                      },
                      {
                        "test": [
                          0.7328769169,
                          0.2095578902
                        ],
                        "passed_time": 18.15884441,
                        "iteration": 698,
                        "remaining_time": 7.819473773,
                        "learn": [
                          0.5021631724,
                          0.6038590544
                        ]
                      },
                      {
                        "test": [
                          0.7329755318,
                          0.2093451544
                        ],
                        "passed_time": 18.18799052,
                        "iteration": 699,
                        "remaining_time": 7.79485308,
                        "learn": [
                          0.5018811974,
                          0.6043038122
                        ]
                      },
                      {
                        "test": [
                          0.7329555818,
                          0.2093881936
                        ],
                        "passed_time": 18.2130337,
                        "iteration": 700,
                        "remaining_time": 7.768469437,
                        "learn": [
                          0.501645354,
                          0.6046756148
                        ]
                      },
                      {
                        "test": [
                          0.7328318936,
                          0.2096550069
                        ],
                        "passed_time": 18.24051922,
                        "iteration": 701,
                        "remaining_time": 7.743126394,
                        "learn": [
                          0.5014598597,
                          0.6049679204
                        ]
                      },
                      {
                        "test": [
                          0.7328448433,
                          0.2096270745
                        ],
                        "passed_time": 18.27071934,
                        "iteration": 702,
                        "remaining_time": 7.718924102,
                        "learn": [
                          0.5013095985,
                          0.6052046258
                        ]
                      },
                      {
                        "test": [
                          0.7328392979,
                          0.2096390359
                        ],
                        "passed_time": 18.29420681,
                        "iteration": 703,
                        "remaining_time": 7.691882411,
                        "learn": [
                          0.5012214627,
                          0.6053434324
                        ]
                      },
                      {
                        "test": [
                          0.7328746921,
                          0.2095626894
                        ],
                        "passed_time": 18.31703175,
                        "iteration": 704,
                        "remaining_time": 7.664573569,
                        "learn": [
                          0.5010654607,
                          0.6055890628
                        ]
                      },
                      {
                        "test": [
                          0.732878285,
                          0.2095549393
                        ],
                        "passed_time": 18.34602809,
                        "iteration": 705,
                        "remaining_time": 7.639847393,
                        "learn": [
                          0.5008330047,
                          0.6059549309
                        ]
                      },
                      {
                        "test": [
                          0.7328777504,
                          0.2095560923
                        ],
                        "passed_time": 18.36956198,
                        "iteration": 706,
                        "remaining_time": 7.612845346,
                        "learn": [
                          0.5006535409,
                          0.6062372772
                        ]
                      },
                      {
                        "test": [
                          0.7328871186,
                          0.2095358842
                        ],
                        "passed_time": 18.39431766,
                        "iteration": 707,
                        "remaining_time": 7.586357003,
                        "learn": [
                          0.5005036435,
                          0.6064730297
                        ]
                      },
                      {
                        "test": [
                          0.7328956564,
                          0.2095174669
                        ],
                        "passed_time": 18.41885409,
                        "iteration": 708,
                        "remaining_time": 7.559783557,
                        "learn": [
                          0.5003075355,
                          0.6067813538
                        ]
                      },
                      {
                        "test": [
                          0.7329563114,
                          0.2093866196
                        ],
                        "passed_time": 18.46286412,
                        "iteration": 709,
                        "remaining_time": 7.541169852,
                        "learn": [
                          0.5000880473,
                          0.6071262933
                        ]
                      },
                      {
                        "test": [
                          0.7330120065,
                          0.2092664625
                        ],
                        "passed_time": 18.51779733,
                        "iteration": 710,
                        "remaining_time": 7.526924653,
                        "learn": [
                          0.499879018,
                          0.6074546554
                        ]
                      },
                      {
                        "test": [
                          0.7330227718,
                          0.2092432363
                        ],
                        "passed_time": 18.54706811,
                        "iteration": 711,
                        "remaining_time": 7.502184852,
                        "learn": [
                          0.4996591113,
                          0.6077999563
                        ]
                      },
                      {
                        "test": [
                          0.7329930135,
                          0.2093074393
                        ],
                        "passed_time": 18.58438017,
                        "iteration": 712,
                        "remaining_time": 7.480669155,
                        "learn": [
                          0.499471486,
                          0.6080944485
                        ]
                      },
                      {
                        "test": [
                          0.7329307929,
                          0.2094416704
                        ],
                        "passed_time": 18.61128233,
                        "iteration": 713,
                        "remaining_time": 7.454939421,
                        "learn": [
                          0.4992399293,
                          0.6084577418
                        ]
                      },
                      {
                        "test": [
                          0.7329667524,
                          0.2093640949
                        ],
                        "passed_time": 18.63617215,
                        "iteration": 714,
                        "remaining_time": 7.428404282,
                        "learn": [
                          0.4990245267,
                          0.6087955394
                        ]
                      },
                      {
                        "test": [
                          0.7329198626,
                          0.2094652496
                        ],
                        "passed_time": 18.66154781,
                        "iteration": 715,
                        "remaining_time": 7.40206645,
                        "learn": [
                          0.4987857294,
                          0.6091698544
                        ]
                      },
                      {
                        "test": [
                          0.7329676844,
                          0.2093620842
                        ],
                        "passed_time": 18.68602463,
                        "iteration": 716,
                        "remaining_time": 7.375376528,
                        "learn": [
                          0.4985870117,
                          0.6094812082
                        ]
                      },
                      {
                        "test": [
                          0.732805484,
                          0.2097119701
                        ],
                        "passed_time": 18.71093974,
                        "iteration": 717,
                        "remaining_time": 7.348864912,
                        "learn": [
                          0.4983465837,
                          0.6098577484
                        ]
                      },
                      {
                        "test": [
                          0.7328517592,
                          0.2096121568
                        ],
                        "passed_time": 18.73390267,
                        "iteration": 718,
                        "remaining_time": 7.321594785,
                        "learn": [
                          0.4981145346,
                          0.6102209938
                        ]
                      },
                      {
                        "test": [
                          0.7328150944,
                          0.2096912415
                        ],
                        "passed_time": 18.76040434,
                        "iteration": 719,
                        "remaining_time": 7.295712799,
                        "learn": [
                          0.4980479654,
                          0.6103251688
                        ]
                      },
                      {
                        "test": [
                          0.7328641473,
                          0.2095854353
                        ],
                        "passed_time": 18.78280149,
                        "iteration": 720,
                        "remaining_time": 7.268240797,
                        "learn": [
                          0.4979556627,
                          0.6104695914
                        ]
                      },
                      {
                        "test": [
                          0.7330092533,
                          0.2092724024
                        ],
                        "passed_time": 18.80480309,
                        "iteration": 721,
                        "remaining_time": 7.240630553,
                        "learn": [
                          0.4977151129,
                          0.6108458453
                        ]
                      },
                      {
                        "test": [
                          0.7330132834,
                          0.2092637076
                        ],
                        "passed_time": 18.82700682,
                        "iteration": 722,
                        "remaining_time": 7.213113264,
                        "learn": [
                          0.4976075127,
                          0.6110140882
                        ]
                      },
                      {
                        "test": [
                          0.7330332606,
                          0.2092206062
                        ],
                        "passed_time": 18.85077892,
                        "iteration": 723,
                        "remaining_time": 7.186208539,
                        "learn": [
                          0.4973479991,
                          0.6114197124
                        ]
                      },
                      {
                        "test": [
                          0.733098195,
                          0.2090805006
                        ],
                        "passed_time": 18.87347315,
                        "iteration": 724,
                        "remaining_time": 7.15890361,
                        "learn": [
                          0.4971527404,
                          0.6117247655
                        ]
                      },
                      {
                        "test": [
                          0.7330540539,
                          0.2091757431
                        ],
                        "passed_time": 18.89735515,
                        "iteration": 725,
                        "remaining_time": 7.132059659,
                        "learn": [
                          0.4969655476,
                          0.6120171049
                        ]
                      },
                      {
                        "test": [
                          0.7328995239,
                          0.2095091242
                        ],
                        "passed_time": 18.92280762,
                        "iteration": 726,
                        "remaining_time": 7.105813592,
                        "learn": [
                          0.4967560234,
                          0.6123441884
                        ]
                      },
                      {
                        "test": [
                          0.7329157207,
                          0.2094741846
                        ],
                        "passed_time": 18.9452806,
                        "iteration": 727,
                        "remaining_time": 7.078456486,
                        "learn": [
                          0.4966168931,
                          0.6125613056
                        ]
                      },
                      {
                        "test": [
                          0.7329424511,
                          0.2094165206
                        ],
                        "passed_time": 18.97290615,
                        "iteration": 728,
                        "remaining_time": 7.053028211,
                        "learn": [
                          0.4965141864,
                          0.6127215435
                        ]
                      },
                      {
                        "test": [
                          0.7329546132,
                          0.2093902831
                        ],
                        "passed_time": 18.99650663,
                        "iteration": 729,
                        "remaining_time": 7.02610519,
                        "learn": [
                          0.4962583832,
                          0.6131204911
                        ]
                      },
                      {
                        "test": [
                          0.7329609512,
                          0.20937661
                        ],
                        "passed_time": 19.02004862,
                        "iteration": 730,
                        "remaining_time": 6.99916974,
                        "learn": [
                          0.4961424257,
                          0.6133012692
                        ]
                      },
                      {
                        "test": [
                          0.7330765351,
                          0.2091272364
                        ],
                        "passed_time": 19.04289392,
                        "iteration": 731,
                        "remaining_time": 6.971988485,
                        "learn": [
                          0.4958545581,
                          0.6137498733
                        ]
                      },
                      {
                        "test": [
                          0.7330431633,
                          0.2091992406
                        ],
                        "passed_time": 19.06558561,
                        "iteration": 732,
                        "remaining_time": 6.944763109,
                        "learn": [
                          0.4957575413,
                          0.6139010025
                        ]
                      },
                      {
                        "test": [
                          0.7330096312,
                          0.2092715871
                        ],
                        "passed_time": 19.0888718,
                        "iteration": 733,
                        "remaining_time": 6.917765529,
                        "learn": [
                          0.4955739177,
                          0.614186964
                        ]
                      },
                      {
                        "test": [
                          0.7329776647,
                          0.209340553
                        ],
                        "passed_time": 19.11378568,
                        "iteration": 734,
                        "remaining_time": 6.891364904,
                        "learn": [
                          0.4954681672,
                          0.6143516037
                        ]
                      },
                      {
                        "test": [
                          0.732869041,
                          0.2095748792
                        ],
                        "passed_time": 19.13945481,
                        "iteration": 735,
                        "remaining_time": 6.865239225,
                        "learn": [
                          0.4953195406,
                          0.6145829365
                        ]
                      },
                      {
                        "test": [
                          0.7329416876,
                          0.2094181677
                        ],
                        "passed_time": 19.16245179,
                        "iteration": 736,
                        "remaining_time": 6.838161223,
                        "learn": [
                          0.4951989786,
                          0.6147705366
                        ]
                      },
                      {
                        "test": [
                          0.7329695973,
                          0.2093579573
                        ],
                        "passed_time": 19.19086999,
                        "iteration": 737,
                        "remaining_time": 6.813018884,
                        "learn": [
                          0.4950590164,
                          0.614988267
                        ]
                      },
                      {
                        "test": [
                          0.7330311161,
                          0.2092252333
                        ],
                        "passed_time": 19.21905528,
                        "iteration": 738,
                        "remaining_time": 6.787785425,
                        "learn": [
                          0.4948047024,
                          0.6153837298
                        ]
                      },
                      {
                        "test": [
                          0.7330115171,
                          0.2092675183
                        ],
                        "passed_time": 19.24851386,
                        "iteration": 739,
                        "remaining_time": 6.762991356,
                        "learn": [
                          0.4947026182,
                          0.6155424154
                        ]
                      },
                      {
                        "test": [
                          0.7329660342,
                          0.2093656443
                        ],
                        "passed_time": 19.2718746,
                        "iteration": 740,
                        "remaining_time": 6.736053334,
                        "learn": [
                          0.4945359195,
                          0.6158014711
                        ]
                      },
                      {
                        "test": [
                          0.7329779269,
                          0.2093399872
                        ],
                        "passed_time": 19.29733304,
                        "iteration": 741,
                        "remaining_time": 6.709854346,
                        "learn": [
                          0.4942871673,
                          0.6161878787
                        ]
                      },
                      {
                        "test": [
                          0.7330200611,
                          0.2092490847
                        ],
                        "passed_time": 19.32273017,
                        "iteration": 742,
                        "remaining_time": 6.683636141,
                        "learn": [
                          0.4941064614,
                          0.6164684623
                        ]
                      },
                      {
                        "test": [
                          0.7330557955,
                          0.2091719853
                        ],
                        "passed_time": 19.34561483,
                        "iteration": 743,
                        "remaining_time": 6.656555642,
                        "learn": [
                          0.4939605952,
                          0.6166948752
                        ]
                      },
                      {
                        "test": [
                          0.732961863,
                          0.209374643
                        ],
                        "passed_time": 19.37066744,
                        "iteration": 744,
                        "remaining_time": 6.630228451,
                        "learn": [
                          0.4936820156,
                          0.6171270994
                        ]
                      },
                      {
                        "test": [
                          0.7329113763,
                          0.2094835565
                        ],
                        "passed_time": 19.39889388,
                        "iteration": 745,
                        "remaining_time": 6.604985317,
                        "learn": [
                          0.4934875573,
                          0.6174286625
                        ]
                      },
                      {
                        "test": [
                          0.7329640529,
                          0.2093699186
                        ],
                        "passed_time": 19.42686984,
                        "iteration": 746,
                        "remaining_time": 6.579649355,
                        "learn": [
                          0.4933426061,
                          0.6176533735
                        ]
                      },
                      {
                        "test": [
                          0.7329419053,
                          0.2094176981
                        ],
                        "passed_time": 19.45236169,
                        "iteration": 747,
                        "remaining_time": 6.553469447,
                        "learn": [
                          0.4931134217,
                          0.6180085325
                        ]
                      },
                      {
                        "test": [
                          0.7329440306,
                          0.209413113
                        ],
                        "passed_time": 19.5131604,
                        "iteration": 748,
                        "remaining_time": 6.539123178,
                        "learn": [
                          0.4929526602,
                          0.6182575605
                        ]
                      },
                      {
                        "test": [
                          0.7329540807,
                          0.209391432
                        ],
                        "passed_time": 19.53003963,
                        "iteration": 749,
                        "remaining_time": 6.510013211,
                        "learn": [
                          0.4929442861,
                          0.6182705301
                        ]
                      },
                      {
                        "test": [
                          0.7330238616,
                          0.2092408851
                        ],
                        "passed_time": 19.57478445,
                        "iteration": 750,
                        "remaining_time": 6.490174871,
                        "learn": [
                          0.4926303711,
                          0.6187565586
                        ]
                      },
                      {
                        "test": [
                          0.732982219,
                          0.2093307274
                        ],
                        "passed_time": 19.60181396,
                        "iteration": 751,
                        "remaining_time": 6.464428008,
                        "learn": [
                          0.4924793915,
                          0.6189902069
                        ]
                      },
                      {
                        "test": [
                          0.7330566403,
                          0.2091701626
                        ],
                        "passed_time": 19.62568389,
                        "iteration": 752,
                        "remaining_time": 6.437641329,
                        "learn": [
                          0.4923728698,
                          0.6191550115
                        ]
                      },
                      {
                        "test": [
                          0.7330666775,
                          0.2091485058
                        ],
                        "passed_time": 19.63585826,
                        "iteration": 753,
                        "remaining_time": 6.406394075,
                        "learn": [
                          0.4923649594,
                          0.6191672487
                        ]
                      },
                      {
                        "test": [
                          0.7331005812,
                          0.2090753519
                        ],
                        "passed_time": 19.66100775,
                        "iteration": 754,
                        "remaining_time": 6.380062118,
                        "learn": [
                          0.4921002319,
                          0.6195766595
                        ]
                      },
                      {
                        "test": [
                          0.7331433153,
                          0.2089831396
                        ],
                        "passed_time": 19.68969746,
                        "iteration": 755,
                        "remaining_time": 6.354875901,
                        "learn": [
                          0.4918706984,
                          0.6199314634
                        ]
                      },
                      {
                        "test": [
                          0.7331000519,
                          0.209076494
                        ],
                        "passed_time": 19.71740309,
                        "iteration": 756,
                        "remaining_time": 6.329364532,
                        "learn": [
                          0.4916939968,
                          0.6202044892
                        ]
                      },
                      {
                        "test": [
                          0.7331079572,
                          0.2090594361
                        ],
                        "passed_time": 19.73203766,
                        "iteration": 757,
                        "remaining_time": 6.299674294,
                        "learn": [
                          0.4916855228,
                          0.6202175801
                        ]
                      },
                      {
                        "test": [
                          0.7331179375,
                          0.2090379008
                        ],
                        "passed_time": 19.75505386,
                        "iteration": 758,
                        "remaining_time": 6.272685085,
                        "learn": [
                          0.4914311902,
                          0.6206103761
                        ]
                      },
                      {
                        "test": [
                          0.7331652957,
                          0.2089357077
                        ],
                        "passed_time": 19.7772917,
                        "iteration": 759,
                        "remaining_time": 6.245460536,
                        "learn": [
                          0.4912946296,
                          0.620821199
                        ]
                      },
                      {
                        "test": [
                          0.7331552363,
                          0.2089574153
                        ],
                        "passed_time": 19.79941957,
                        "iteration": 760,
                        "remaining_time": 6.218214557,
                        "learn": [
                          0.4911496746,
                          0.621044917
                        ]
                      },
                      {
                        "test": [
                          0.7332652225,
                          0.2087200568
                        ],
                        "passed_time": 19.82733318,
                        "iteration": 761,
                        "remaining_time": 6.192789103,
                        "learn": [
                          0.4909363535,
                          0.6213740288
                        ]
                      },
                      {
                        "test": [
                          0.7332749957,
                          0.2086989637
                        ],
                        "passed_time": 19.83752037,
                        "iteration": 762,
                        "remaining_time": 6.161851019,
                        "learn": [
                          0.4909295008,
                          0.6213845987
                        ]
                      },
                      {
                        "test": [
                          0.7334279517,
                          0.2083688098
                        ],
                        "passed_time": 19.86016376,
                        "iteration": 763,
                        "remaining_time": 6.134814983,
                        "learn": [
                          0.4907432419,
                          0.621671838
                        ]
                      },
                      {
                        "test": [
                          0.7333909951,
                          0.2084485864
                        ],
                        "passed_time": 19.88268805,
                        "iteration": 764,
                        "remaining_time": 6.107753844,
                        "learn": [
                          0.4906025445,
                          0.6218887423
                        ]
                      },
                      {
                        "test": [
                          0.7334951809,
                          0.2082236742
                        ],
                        "passed_time": 19.90802999,
                        "iteration": 765,
                        "remaining_time": 6.081565296,
                        "learn": [
                          0.4904419809,
                          0.6221361971
                        ]
                      },
                      {
                        "test": [
                          0.7334827772,
                          0.2082504527
                        ],
                        "passed_time": 19.93357939,
                        "iteration": 766,
                        "remaining_time": 6.055441978,
                        "learn": [
                          0.4902899559,
                          0.6223704178
                        ]
                      },
                      {
                        "test": [
                          0.7335304474,
                          0.2081475351
                        ],
                        "passed_time": 19.95617502,
                        "iteration": 767,
                        "remaining_time": 6.02842787,
                        "learn": [
                          0.4901079181,
                          0.622650783
                        ]
                      },
                      {
                        "test": [
                          0.7334082253,
                          0.2084113928
                        ],
                        "passed_time": 19.98151631,
                        "iteration": 768,
                        "remaining_time": 6.002250023,
                        "learn": [
                          0.4898574407,
                          0.6230363849
                        ]
                      },
                      {
                        "test": [
                          0.7334179212,
                          0.2083904625
                        ],
                        "passed_time": 19.99190423,
                        "iteration": 769,
                        "remaining_time": 5.971607756,
                        "learn": [
                          0.4898509962,
                          0.6230463034
                        ]
                      },
                      {
                        "test": [
                          0.7333413194,
                          0.2085558131
                        ],
                        "passed_time": 20.01805662,
                        "iteration": 770,
                        "remaining_time": 5.945700346,
                        "learn": [
                          0.4895450434,
                          0.6235170345
                        ]
                      },
                      {
                        "test": [
                          0.7333682895,
                          0.2084975983
                        ],
                        "passed_time": 20.05172165,
                        "iteration": 771,
                        "remaining_time": 5.922011057,
                        "learn": [
                          0.489308883,
                          0.6238801835
                        ]
                      },
                      {
                        "test": [
                          0.7333037279,
                          0.2086369508
                        ],
                        "passed_time": 20.07796933,
                        "iteration": 772,
                        "remaining_time": 5.896117772,
                        "learn": [
                          0.4890925515,
                          0.6242126876
                        ]
                      },
                      {
                        "test": [
                          0.7333233808,
                          0.2085945324
                        ],
                        "passed_time": 20.1019412,
                        "iteration": 773,
                        "remaining_time": 5.869559059,
                        "learn": [
                          0.4889643696,
                          0.6244096351
                        ]
                      },
                      {
                        "test": [
                          0.7333469532,
                          0.2085436528
                        ],
                        "passed_time": 20.12545323,
                        "iteration": 774,
                        "remaining_time": 5.842873519,
                        "learn": [
                          0.4887997564,
                          0.6246624827
                        ]
                      },
                      {
                        "test": [
                          0.7334192908,
                          0.208387506
                        ],
                        "passed_time": 20.1486387,
                        "iteration": 775,
                        "remaining_time": 5.816101893,
                        "learn": [
                          0.488619387,
                          0.6249394343
                        ]
                      },
                      {
                        "test": [
                          0.7334372018,
                          0.2083488412
                        ],
                        "passed_time": 20.17202378,
                        "iteration": 776,
                        "remaining_time": 5.789396787,
                        "learn": [
                          0.4883960043,
                          0.6252822897
                        ]
                      },
                      {
                        "test": [
                          0.7333952998,
                          0.2084392943
                        ],
                        "passed_time": 20.19498834,
                        "iteration": 777,
                        "remaining_time": 5.762580219,
                        "learn": [
                          0.4881880179,
                          0.6256013733
                        ]
                      },
                      {
                        "test": [
                          0.7334418313,
                          0.2083388472
                        ],
                        "passed_time": 20.21870015,
                        "iteration": 778,
                        "remaining_time": 5.735985536,
                        "learn": [
                          0.4880198084,
                          0.6258593335
                        ]
                      },
                      {
                        "test": [
                          0.7334493958,
                          0.2083225174
                        ],
                        "passed_time": 20.24652969,
                        "iteration": 779,
                        "remaining_time": 5.710559657,
                        "learn": [
                          0.487769962,
                          0.6262423253
                        ]
                      },
                      {
                        "test": [
                          0.7334519603,
                          0.208316981
                        ],
                        "passed_time": 20.27993674,
                        "iteration": 780,
                        "remaining_time": 5.686691609,
                        "learn": [
                          0.4874971945,
                          0.626660229
                        ]
                      },
                      {
                        "test": [
                          0.7334354314,
                          0.2083526631
                        ],
                        "passed_time": 20.30391009,
                        "iteration": 781,
                        "remaining_time": 5.660169309,
                        "learn": [
                          0.4872611852,
                          0.6270216273
                        ]
                      },
                      {
                        "test": [
                          0.7332695421,
                          0.208710734
                        ],
                        "passed_time": 20.3278819,
                        "iteration": 782,
                        "remaining_time": 5.633653094,
                        "learn": [
                          0.487043653,
                          0.6273545768
                        ]
                      },
                      {
                        "test": [
                          0.7332828279,
                          0.2086820596
                        ],
                        "passed_time": 20.35643146,
                        "iteration": 783,
                        "remaining_time": 5.608404585,
                        "learn": [
                          0.4869078366,
                          0.6275623787
                        ]
                      },
                      {
                        "test": [
                          0.733279811,
                          0.208688571
                        ],
                        "passed_time": 20.38030786,
                        "iteration": 784,
                        "remaining_time": 5.581867758,
                        "learn": [
                          0.4866464065,
                          0.6279622091
                        ]
                      },
                      {
                        "test": [
                          0.7333193831,
                          0.2086031611
                        ],
                        "passed_time": 20.40404583,
                        "iteration": 785,
                        "remaining_time": 5.55530001,
                        "learn": [
                          0.4865104598,
                          0.6281700407
                        ]
                      },
                      {
                        "test": [
                          0.7333965663,
                          0.2084365603
                        ],
                        "passed_time": 20.42989752,
                        "iteration": 786,
                        "remaining_time": 5.529311527,
                        "learn": [
                          0.4862363271,
                          0.6285889507
                        ]
                      },
                      {
                        "test": [
                          0.7333856853,
                          0.2084600482
                        ],
                        "passed_time": 20.45438527,
                        "iteration": 787,
                        "remaining_time": 5.502956444,
                        "learn": [
                          0.4860163132,
                          0.6289249893
                        ]
                      },
                      {
                        "test": [
                          0.7334431755,
                          0.2083359454
                        ],
                        "passed_time": 20.47860325,
                        "iteration": 788,
                        "remaining_time": 5.476533949,
                        "learn": [
                          0.4857376741,
                          0.629350351
                        ]
                      },
                      {
                        "test": [
                          0.7334549291,
                          0.2083105721
                        ],
                        "passed_time": 20.54634932,
                        "iteration": 789,
                        "remaining_time": 5.461687795,
                        "learn": [
                          0.4855397915,
                          0.6296522842
                        ]
                      },
                      {
                        "test": [
                          0.7334277309,
                          0.2083692864
                        ],
                        "passed_time": 20.60114421,
                        "iteration": 790,
                        "remaining_time": 5.44328589,
                        "learn": [
                          0.4852776351,
                          0.6300520983
                        ]
                      },
                      {
                        "test": [
                          0.733450358,
                          0.2083204401
                        ],
                        "passed_time": 20.62631841,
                        "iteration": 791,
                        "remaining_time": 5.417012916,
                        "learn": [
                          0.4850595302,
                          0.6303845649
                        ]
                      },
                      {
                        "test": [
                          0.7334062916,
                          0.208415567
                        ],
                        "passed_time": 20.65108305,
                        "iteration": 792,
                        "remaining_time": 5.390635802,
                        "learn": [
                          0.4848004231,
                          0.6307793388
                        ]
                      },
                      {
                        "test": [
                          0.7333851718,
                          0.2084611566
                        ],
                        "passed_time": 20.67502145,
                        "iteration": 793,
                        "remaining_time": 5.364048387,
                        "learn": [
                          0.4846130009,
                          0.6310647626
                        ]
                      },
                      {
                        "test": [
                          0.7333400888,
                          0.2085584694
                        ],
                        "passed_time": 20.70209883,
                        "iteration": 794,
                        "remaining_time": 5.338277056,
                        "learn": [
                          0.4844184779,
                          0.6313608833
                        ]
                      },
                      {
                        "test": [
                          0.7333575089,
                          0.2085208683
                        ],
                        "passed_time": 20.72794962,
                        "iteration": 795,
                        "remaining_time": 5.312188092,
                        "learn": [
                          0.484260773,
                          0.6316008689
                        ]
                      },
                      {
                        "test": [
                          0.7333579075,
                          0.2085200079
                        ],
                        "passed_time": 20.75831676,
                        "iteration": 796,
                        "remaining_time": 5.287250065,
                        "learn": [
                          0.4840835235,
                          0.631870503
                        ]
                      },
                      {
                        "test": [
                          0.7334624534,
                          0.2082943286
                        ],
                        "passed_time": 20.7847033,
                        "iteration": 797,
                        "remaining_time": 5.261290809,
                        "learn": [
                          0.4839135748,
                          0.6321289384
                        ]
                      },
                      {
                        "test": [
                          0.733380203,
                          0.2084718821
                        ],
                        "passed_time": 20.80788324,
                        "iteration": 798,
                        "remaining_time": 5.234523818,
                        "learn": [
                          0.4836816543,
                          0.6324814657
                        ]
                      },
                      {
                        "test": [
                          0.7333469956,
                          0.2085435613
                        ],
                        "passed_time": 20.83180503,
                        "iteration": 799,
                        "remaining_time": 5.207951257,
                        "learn": [
                          0.4833863894,
                          0.6329300343
                        ]
                      },
                      {
                        "test": [
                          0.7333769247,
                          0.2084789587
                        ],
                        "passed_time": 20.85533803,
                        "iteration": 800,
                        "remaining_time": 5.181288723,
                        "learn": [
                          0.4831980021,
                          0.6332160905
                        ]
                      },
                      {
                        "test": [
                          0.7333928939,
                          0.2084444877
                        ],
                        "passed_time": 20.87887378,
                        "iteration": 801,
                        "remaining_time": 5.154634673,
                        "learn": [
                          0.4831334782,
                          0.6333140411
                        ]
                      },
                      {
                        "test": [
                          0.7333765847,
                          0.2084796926
                        ],
                        "passed_time": 20.90749213,
                        "iteration": 802,
                        "remaining_time": 5.129235305,
                        "learn": [
                          0.4829225032,
                          0.6336342204
                        ]
                      },
                      {
                        "test": [
                          0.7334143183,
                          0.2083982401
                        ],
                        "passed_time": 20.93532375,
                        "iteration": 803,
                        "remaining_time": 5.103636138,
                        "learn": [
                          0.4827737623,
                          0.6338598681
                        ]
                      },
                      {
                        "test": [
                          0.7334513558,
                          0.2083182862
                        ],
                        "passed_time": 20.95917312,
                        "iteration": 804,
                        "remaining_time": 5.077066781,
                        "learn": [
                          0.4826405922,
                          0.6340618352
                        ]
                      },
                      {
                        "test": [
                          0.7334738363,
                          0.2082697547
                        ],
                        "passed_time": 20.98251078,
                        "iteration": 805,
                        "remaining_time": 5.050381006,
                        "learn": [
                          0.4824647082,
                          0.6343284972
                        ]
                      },
                      {
                        "test": [
                          0.7334098021,
                          0.2084079889
                        ],
                        "passed_time": 21.00811725,
                        "iteration": 806,
                        "remaining_time": 5.024246132,
                        "learn": [
                          0.4821872372,
                          0.6347489799
                        ]
                      },
                      {
                        "test": [
                          0.7334538016,
                          0.2083130061
                        ],
                        "passed_time": 21.03129233,
                        "iteration": 807,
                        "remaining_time": 4.99753481,
                        "learn": [
                          0.481982965,
                          0.635058382
                        ]
                      },
                      {
                        "test": [
                          0.7334103989,
                          0.2084067007
                        ],
                        "passed_time": 21.05521643,
                        "iteration": 808,
                        "remaining_time": 4.97100907,
                        "learn": [
                          0.4817484235,
                          0.6354134696
                        ]
                      },
                      {
                        "test": [
                          0.7333665401,
                          0.2085013743
                        ],
                        "passed_time": 21.07926957,
                        "iteration": 809,
                        "remaining_time": 4.944520024,
                        "learn": [
                          0.4815677887,
                          0.6356868268
                        ]
                      },
                      {
                        "test": [
                          0.7333570248,
                          0.2085219133
                        ],
                        "passed_time": 21.1033619,
                        "iteration": 810,
                        "remaining_time": 4.918046115,
                        "learn": [
                          0.4813345767,
                          0.6360395979
                        ]
                      },
                      {
                        "test": [
                          0.7333450946,
                          0.2085476644
                        ],
                        "passed_time": 21.13156424,
                        "iteration": 811,
                        "remaining_time": 4.892529652,
                        "learn": [
                          0.481184047,
                          0.636267208
                        ]
                      },
                      {
                        "test": [
                          0.7332965715,
                          0.2086523969
                        ],
                        "passed_time": 21.15627538,
                        "iteration": 812,
                        "remaining_time": 4.866203563,
                        "learn": [
                          0.4809953111,
                          0.6365524875
                        ]
                      },
                      {
                        "test": [
                          0.7332803532,
                          0.2086874009
                        ],
                        "passed_time": 21.18101934,
                        "iteration": 813,
                        "remaining_time": 4.839888941,
                        "learn": [
                          0.4807180815,
                          0.6369713248
                        ]
                      },
                      {
                        "test": [
                          0.7332346263,
                          0.2087860893
                        ],
                        "passed_time": 21.20530581,
                        "iteration": 814,
                        "remaining_time": 4.813474324,
                        "learn": [
                          0.4805248619,
                          0.6372630973
                        ]
                      },
                      {
                        "test": [
                          0.7332883075,
                          0.208670233
                        ],
                        "passed_time": 21.22856106,
                        "iteration": 815,
                        "remaining_time": 4.786832396,
                        "learn": [
                          0.4803323491,
                          0.6375536858
                        ]
                      },
                      {
                        "test": [
                          0.7332601796,
                          0.2087309404
                        ],
                        "passed_time": 21.25579849,
                        "iteration": 816,
                        "remaining_time": 4.761090726,
                        "learn": [
                          0.4801068296,
                          0.6378939482
                        ]
                      },
                      {
                        "test": [
                          0.7333546468,
                          0.2085270462
                        ],
                        "passed_time": 21.28304736,
                        "iteration": 817,
                        "remaining_time": 4.735347946,
                        "learn": [
                          0.4799256034,
                          0.6381672654
                        ]
                      },
                      {
                        "test": [
                          0.7332964699,
                          0.2086526162
                        ],
                        "passed_time": 21.30724358,
                        "iteration": 818,
                        "remaining_time": 4.708926847,
                        "learn": [
                          0.4797122788,
                          0.6384888596
                        ]
                      },
                      {
                        "test": [
                          0.7333052208,
                          0.2086337287
                        ],
                        "passed_time": 21.31705786,
                        "iteration": 819,
                        "remaining_time": 4.679354164,
                        "learn": [
                          0.4797063116,
                          0.6384978534
                        ]
                      },
                      {
                        "test": [
                          0.7333005129,
                          0.2086438898
                        ],
                        "passed_time": 21.34491981,
                        "iteration": 820,
                        "remaining_time": 4.65376449,
                        "learn": [
                          0.4796016781,
                          0.6386555378
                        ]
                      },
                      {
                        "test": [
                          0.7331974963,
                          0.2088662192
                        ],
                        "passed_time": 21.36985386,
                        "iteration": 821,
                        "remaining_time": 4.627535265,
                        "learn": [
                          0.4794094772,
                          0.6389450981
                        ]
                      },
                      {
                        "test": [
                          0.7331160802,
                          0.2090419085
                        ],
                        "passed_time": 21.39592651,
                        "iteration": 822,
                        "remaining_time": 4.601554061,
                        "learn": [
                          0.4791307188,
                          0.6393648555
                        ]
                      },
                      {
                        "test": [
                          0.733203644,
                          0.2088529522
                        ],
                        "passed_time": 21.42741977,
                        "iteration": 823,
                        "remaining_time": 4.576730436,
                        "learn": [
                          0.4789245879,
                          0.6396750925
                        ]
                      },
                      {
                        "test": [
                          0.7332236774,
                          0.2088097184
                        ],
                        "passed_time": 21.45056008,
                        "iteration": 824,
                        "remaining_time": 4.550118806,
                        "learn": [
                          0.4787686237,
                          0.6399097376
                        ]
                      },
                      {
                        "test": [
                          0.7332630229,
                          0.208724804
                        ],
                        "passed_time": 21.47531915,
                        "iteration": 825,
                        "remaining_time": 4.523856577,
                        "learn": [
                          0.4785988555,
                          0.6401650635
                        ]
                      },
                      {
                        "test": [
                          0.7332557118,
                          0.2087405831
                        ],
                        "passed_time": 21.50059764,
                        "iteration": 826,
                        "remaining_time": 4.497706641,
                        "learn": [
                          0.4783881623,
                          0.6404818135
                        ]
                      },
                      {
                        "test": [
                          0.7332718432,
                          0.2087057677
                        ],
                        "passed_time": 21.52377062,
                        "iteration": 827,
                        "remaining_time": 4.471121434,
                        "learn": [
                          0.478291983,
                          0.6406263602
                        ]
                      },
                      {
                        "test": [
                          0.7331984693,
                          0.2088641194
                        ],
                        "passed_time": 21.58791519,
                        "iteration": 828,
                        "remaining_time": 4.452995775,
                        "learn": [
                          0.4781525559,
                          0.640835852
                        ]
                      },
                      {
                        "test": [
                          0.7331803495,
                          0.2089032221
                        ],
                        "passed_time": 21.64098137,
                        "iteration": 829,
                        "remaining_time": 4.432490161,
                        "learn": [
                          0.4780177814,
                          0.6410382952
                        ]
                      },
                      {
                        "test": [
                          0.7331681012,
                          0.2089296537
                        ],
                        "passed_time": 21.66609427,
                        "iteration": 830,
                        "remaining_time": 4.406221338,
                        "learn": [
                          0.477844401,
                          0.6412986439
                        ]
                      },
                      {
                        "test": [
                          0.7331970836,
                          0.2088671099
                        ],
                        "passed_time": 21.68840015,
                        "iteration": 831,
                        "remaining_time": 4.379388491,
                        "learn": [
                          0.4777748415,
                          0.6414030681
                        ]
                      },
                      {
                        "test": [
                          0.7332860536,
                          0.2086750976
                        ],
                        "passed_time": 21.71140108,
                        "iteration": 832,
                        "remaining_time": 4.352705859,
                        "learn": [
                          0.4775488371,
                          0.6417422459
                        ]
                      },
                      {
                        "test": [
                          0.7334662136,
                          0.2082862109
                        ],
                        "passed_time": 21.73643474,
                        "iteration": 833,
                        "remaining_time": 4.326436651,
                        "learn": [
                          0.4773475998,
                          0.6420441192
                        ]
                      },
                      {
                        "test": [
                          0.7334675196,
                          0.2082833915
                        ],
                        "passed_time": 21.76056772,
                        "iteration": 834,
                        "remaining_time": 4.299992424,
                        "learn": [
                          0.4770838083,
                          0.6424396366
                        ]
                      },
                      {
                        "test": [
                          0.733498867,
                          0.2082157163
                        ],
                        "passed_time": 21.78363238,
                        "iteration": 835,
                        "remaining_time": 4.273344151,
                        "learn": [
                          0.4768708641,
                          0.6427587563
                        ]
                      },
                      {
                        "test": [
                          0.7334757305,
                          0.2082656654
                        ],
                        "passed_time": 21.81488003,
                        "iteration": 836,
                        "remaining_time": 4.248298022,
                        "learn": [
                          0.4768476898,
                          0.6427934769
                        ]
                      },
                      {
                        "test": [
                          0.7334839541,
                          0.2082479119
                        ],
                        "passed_time": 21.83888168,
                        "iteration": 837,
                        "remaining_time": 4.221836316,
                        "learn": [
                          0.476688099,
                          0.6430325357
                        ]
                      },
                      {
                        "test": [
                          0.7333996934,
                          0.2084298103
                        ],
                        "passed_time": 21.87652011,
                        "iteration": 838,
                        "remaining_time": 4.197997303,
                        "learn": [
                          0.4764818903,
                          0.6433413073
                        ]
                      },
                      {
                        "test": [
                          0.7334054301,
                          0.2084174268
                        ],
                        "passed_time": 21.9000217,
                        "iteration": 839,
                        "remaining_time": 4.171432705,
                        "learn": [
                          0.4764028261,
                          0.6434596606
                        ]
                      },
                      {
                        "test": [
                          0.7334331725,
                          0.2083575395
                        ],
                        "passed_time": 21.92304464,
                        "iteration": 840,
                        "remaining_time": 4.144784895,
                        "learn": [
                          0.4761147303,
                          0.6438907525
                        ]
                      },
                      {
                        "test": [
                          0.7334467857,
                          0.208328152
                        ],
                        "passed_time": 21.94727934,
                        "iteration": 841,
                        "remaining_time": 4.118373082,
                        "learn": [
                          0.4759912766,
                          0.6440754026
                        ]
                      },
                      {
                        "test": [
                          0.7334859097,
                          0.2082436899
                        ],
                        "passed_time": 21.97077836,
                        "iteration": 842,
                        "remaining_time": 4.091829422,
                        "learn": [
                          0.4757495822,
                          0.6444367669
                        ]
                      },
                      {
                        "test": [
                          0.7335625735,
                          0.2080781729
                        ],
                        "passed_time": 21.9930922,
                        "iteration": 843,
                        "remaining_time": 4.065073914,
                        "learn": [
                          0.4755766864,
                          0.6446951559
                        ]
                      },
                      {
                        "test": [
                          0.7335206575,
                          0.2081686715
                        ],
                        "passed_time": 22.01861951,
                        "iteration": 844,
                        "remaining_time": 4.038918372,
                        "learn": [
                          0.4753017734,
                          0.645105814
                        ]
                      },
                      {
                        "test": [
                          0.7335454293,
                          0.2081151886
                        ],
                        "passed_time": 22.04479571,
                        "iteration": 845,
                        "remaining_time": 4.012882433,
                        "learn": [
                          0.4751954145,
                          0.6452646265
                        ]
                      },
                      {
                        "test": [
                          0.7335542918,
                          0.2080960538
                        ],
                        "passed_time": 22.06684131,
                        "iteration": 846,
                        "remaining_time": 3.986100023,
                        "learn": [
                          0.4750909168,
                          0.6454206252
                        ]
                      },
                      {
                        "test": [
                          0.7335391439,
                          0.2081287592
                        ],
                        "passed_time": 22.08968038,
                        "iteration": 847,
                        "remaining_time": 3.959471011,
                        "learn": [
                          0.474914621,
                          0.6456837297
                        ]
                      },
                      {
                        "test": [
                          0.733489201,
                          0.2082365844
                        ],
                        "passed_time": 22.11632424,
                        "iteration": 848,
                        "remaining_time": 3.933527632,
                        "learn": [
                          0.4748108093,
                          0.6458386128
                        ]
                      },
                      {
                        "test": [
                          0.7334891138,
                          0.2082367727
                        ],
                        "passed_time": 22.13844297,
                        "iteration": 849,
                        "remaining_time": 3.906784053,
                        "learn": [
                          0.4747625238,
                          0.6459106414
                        ]
                      },
                      {
                        "test": [
                          0.7335489008,
                          0.2081076934
                        ],
                        "passed_time": 22.16036282,
                        "iteration": 850,
                        "remaining_time": 3.880016523,
                        "learn": [
                          0.4746576534,
                          0.646067054
                        ]
                      },
                      {
                        "test": [
                          0.7335438243,
                          0.208118654
                        ],
                        "passed_time": 22.18418308,
                        "iteration": 851,
                        "remaining_time": 3.853590487,
                        "learn": [
                          0.4745459315,
                          0.6462336474
                        ]
                      },
                      {
                        "test": [
                          0.733525353,
                          0.208158534
                        ],
                        "passed_time": 22.2063607,
                        "iteration": 852,
                        "remaining_time": 3.826887482,
                        "learn": [
                          0.4744804038,
                          0.6463313403
                        ]
                      },
                      {
                        "test": [
                          0.7336402532,
                          0.2079104447
                        ],
                        "passed_time": 22.23605591,
                        "iteration": 853,
                        "remaining_time": 3.801480285,
                        "learn": [
                          0.474241661,
                          0.6466871594
                        ]
                      },
                      {
                        "test": [
                          0.7336283103,
                          0.2079362333
                        ],
                        "passed_time": 22.26621582,
                        "iteration": 854,
                        "remaining_time": 3.776141863,
                        "learn": [
                          0.4740708802,
                          0.646941579
                        ]
                      },
                      {
                        "test": [
                          0.7336286288,
                          0.2079355457
                        ],
                        "passed_time": 22.29081502,
                        "iteration": 855,
                        "remaining_time": 3.749856733,
                        "learn": [
                          0.4738252518,
                          0.6473073417
                        ]
                      },
                      {
                        "test": [
                          0.7336495437,
                          0.2078903832
                        ],
                        "passed_time": 22.3145225,
                        "iteration": 856,
                        "remaining_time": 3.723426741,
                        "learn": [
                          0.4736713203,
                          0.6475364628
                        ]
                      },
                      {
                        "test": [
                          0.7336251431,
                          0.2079430723
                        ],
                        "passed_time": 22.3378247,
                        "iteration": 857,
                        "remaining_time": 3.696936023,
                        "learn": [
                          0.4735377598,
                          0.6477352022
                        ]
                      },
                      {
                        "test": [
                          0.7335770804,
                          0.2080468505
                        ],
                        "passed_time": 22.36166142,
                        "iteration": 858,
                        "remaining_time": 3.670540466,
                        "learn": [
                          0.4733893766,
                          0.6479559322
                        ]
                      },
                      {
                        "test": [
                          0.7336534571,
                          0.2078819327
                        ],
                        "passed_time": 22.38451511,
                        "iteration": 859,
                        "remaining_time": 3.643990832,
                        "learn": [
                          0.4730923606,
                          0.6483975555
                        ]
                      },
                      {
                        "test": [
                          0.7336209354,
                          0.2079521579
                        ],
                        "passed_time": 22.41211591,
                        "iteration": 860,
                        "remaining_time": 3.618216157,
                        "learn": [
                          0.472908093,
                          0.6486713977
                        ]
                      },
                      {
                        "test": [
                          0.7336222017,
                          0.2079494237
                        ],
                        "passed_time": 22.44361267,
                        "iteration": 861,
                        "remaining_time": 3.59306096,
                        "learn": [
                          0.4726746409,
                          0.6490181803
                        ]
                      },
                      {
                        "test": [
                          0.7336844111,
                          0.20781509
                        ],
                        "passed_time": 22.46747956,
                        "iteration": 862,
                        "remaining_time": 3.566679838,
                        "learn": [
                          0.472498407,
                          0.6492798545
                        ]
                      },
                      {
                        "test": [
                          0.7336725237,
                          0.2078407603
                        ],
                        "passed_time": 22.4922397,
                        "iteration": 863,
                        "remaining_time": 3.540445138,
                        "learn": [
                          0.4722316279,
                          0.6496757856
                        ]
                      },
                      {
                        "test": [
                          0.7337161346,
                          0.2077465826
                        ],
                        "passed_time": 22.51526508,
                        "iteration": 864,
                        "remaining_time": 3.513943105,
                        "learn": [
                          0.4720927063,
                          0.6498818727
                        ]
                      },
                      {
                        "test": [
                          0.7337460326,
                          0.2076820146
                        ],
                        "passed_time": 22.53862481,
                        "iteration": 865,
                        "remaining_time": 3.487500837,
                        "learn": [
                          0.47186273,
                          0.6502229042
                        ]
                      },
                      {
                        "test": [
                          0.7337517404,
                          0.2076696877
                        ],
                        "passed_time": 22.56117391,
                        "iteration": 866,
                        "remaining_time": 3.460941326,
                        "learn": [
                          0.4717737902,
                          0.6503547484
                        ]
                      },
                      {
                        "test": [
                          0.7337622914,
                          0.2076469008
                        ],
                        "passed_time": 22.61841519,
                        "iteration": 867,
                        "remaining_time": 3.439666827,
                        "learn": [
                          0.4716444979,
                          0.6505463667
                        ]
                      },
                      {
                        "test": [
                          0.7338420562,
                          0.2074746235
                        ],
                        "passed_time": 22.6663237,
                        "iteration": 868,
                        "remaining_time": 3.416902652,
                        "learn": [
                          0.4714780038,
                          0.6507930427
                        ]
                      },
                      {
                        "test": [
                          0.7338439797,
                          0.2074704689
                        ],
                        "passed_time": 22.70550963,
                        "iteration": 869,
                        "remaining_time": 3.392777301,
                        "learn": [
                          0.4714110621,
                          0.6508921984
                        ]
                      },
                      {
                        "test": [
                          0.7339018643,
                          0.2073454366
                        ],
                        "passed_time": 22.73050488,
                        "iteration": 870,
                        "remaining_time": 3.366515648,
                        "learn": [
                          0.4711237987,
                          0.6513175399
                        ]
                      },
                      {
                        "test": [
                          0.7339552131,
                          0.2072301932
                        ],
                        "passed_time": 22.75356277,
                        "iteration": 871,
                        "remaining_time": 3.339972517,
                        "learn": [
                          0.4709011885,
                          0.6516469732
                        ]
                      },
                      {
                        "test": [
                          0.7339860029,
                          0.2071636774
                        ],
                        "passed_time": 22.77809584,
                        "iteration": 872,
                        "remaining_time": 3.313651972,
                        "learn": [
                          0.4707715572,
                          0.6518387385
                        ]
                      },
                      {
                        "test": [
                          0.7340004687,
                          0.207132426
                        ],
                        "passed_time": 22.80245543,
                        "iteration": 873,
                        "remaining_time": 3.287310508,
                        "learn": [
                          0.4707145732,
                          0.6519230189
                        ]
                      },
                      {
                        "test": [
                          0.7340402866,
                          0.2070464011
                        ],
                        "passed_time": 22.82515961,
                        "iteration": 874,
                        "remaining_time": 3.260737088,
                        "learn": [
                          0.4706006741,
                          0.6520914473
                        ]
                      },
                      {
                        "test": [
                          0.7339793629,
                          0.2071780223
                        ],
                        "passed_time": 22.84909737,
                        "iteration": 875,
                        "remaining_time": 3.234347116,
                        "learn": [
                          0.4705231392,
                          0.6522060788
                        ]
                      },
                      {
                        "test": [
                          0.7339708474,
                          0.2071964184
                        ],
                        "passed_time": 22.87812631,
                        "iteration": 876,
                        "remaining_time": 3.20867678,
                        "learn": [
                          0.4703712589,
                          0.6524305716
                        ]
                      },
                      {
                        "test": [
                          0.7339910097,
                          0.207152861
                        ],
                        "passed_time": 22.90060427,
                        "iteration": 877,
                        "remaining_time": 3.18208852,
                        "learn": [
                          0.470304815,
                          0.6525287589
                        ]
                      },
                      {
                        "test": [
                          0.733958637,
                          0.2072227966
                        ],
                        "passed_time": 22.92379407,
                        "iteration": 878,
                        "remaining_time": 3.155607603,
                        "learn": [
                          0.4700766466,
                          0.6528658284
                        ]
                      },
                      {
                        "test": [
                          0.7339667504,
                          0.2072052692
                        ],
                        "passed_time": 22.94976771,
                        "iteration": 879,
                        "remaining_time": 3.129513778,
                        "learn": [
                          0.4698577913,
                          0.6531889863
                        ]
                      },
                      {
                        "test": [
                          0.7339346978,
                          0.2072745111
                        ],
                        "passed_time": 22.97493875,
                        "iteration": 880,
                        "remaining_time": 3.103311818,
                        "learn": [
                          0.4694526434,
                          0.6537868233
                        ]
                      },
                      {
                        "test": [
                          0.7339224996,
                          0.2073008614
                        ],
                        "passed_time": 22.99995027,
                        "iteration": 881,
                        "remaining_time": 3.077090853,
                        "learn": [
                          0.4693402296,
                          0.6539526097
                        ]
                      },
                      {
                        "test": [
                          0.7339306798,
                          0.2072831908
                        ],
                        "passed_time": 23.03471852,
                        "iteration": 882,
                        "remaining_time": 3.05216542,
                        "learn": [
                          0.4692018338,
                          0.6541566598
                        ]
                      },
                      {
                        "test": [
                          0.7339645481,
                          0.207210027
                        ],
                        "passed_time": 23.05934683,
                        "iteration": 883,
                        "remaining_time": 3.025887141,
                        "learn": [
                          0.4689905921,
                          0.6544679974
                        ]
                      },
                      {
                        "test": [
                          0.7339858788,
                          0.2071639457
                        ],
                        "passed_time": 23.08785059,
                        "iteration": 884,
                        "remaining_time": 3.000116179,
                        "learn": [
                          0.4688017665,
                          0.6547461786
                        ]
                      },
                      {
                        "test": [
                          0.7340017164,
                          0.2071297304
                        ],
                        "passed_time": 23.11338203,
                        "iteration": 885,
                        "remaining_time": 2.973956604,
                        "learn": [
                          0.4684568076,
                          0.6552540886
                        ]
                      },
                      {
                        "test": [
                          0.7339875317,
                          0.2071603749
                        ],
                        "passed_time": 23.13944467,
                        "iteration": 886,
                        "remaining_time": 2.94786612,
                        "learn": [
                          0.4681119407,
                          0.6557614894
                        ]
                      },
                      {
                        "test": [
                          0.733916719,
                          0.2073133486
                        ],
                        "passed_time": 23.16530159,
                        "iteration": 887,
                        "remaining_time": 2.921749751,
                        "learn": [
                          0.4679031614,
                          0.6560684837
                        ]
                      },
                      {
                        "test": [
                          0.7339174527,
                          0.2073117637
                        ],
                        "passed_time": 23.19036993,
                        "iteration": 888,
                        "remaining_time": 2.895535503,
                        "learn": [
                          0.4676694521,
                          0.6564119732
                        ]
                      },
                      {
                        "test": [
                          0.7339575279,
                          0.2072251926
                        ],
                        "passed_time": 23.21658044,
                        "iteration": 889,
                        "remaining_time": 2.869464998,
                        "learn": [
                          0.4675370717,
                          0.6566064606
                        ]
                      },
                      {
                        "test": [
                          0.7340086968,
                          0.2071146499
                        ],
                        "passed_time": 23.24037745,
                        "iteration": 890,
                        "remaining_time": 2.843098925,
                        "learn": [
                          0.4673942048,
                          0.6568162923
                        ]
                      },
                      {
                        "test": [
                          0.7339460619,
                          0.2072499621
                        ],
                        "passed_time": 23.2733173,
                        "iteration": 891,
                        "remaining_time": 2.817845592,
                        "learn": [
                          0.4671350316,
                          0.6571967821
                        ]
                      },
                      {
                        "test": [
                          0.7339591105,
                          0.2072217736
                        ],
                        "passed_time": 23.30363463,
                        "iteration": 892,
                        "remaining_time": 2.792260812,
                        "learn": [
                          0.4669688815,
                          0.6574405946
                        ]
                      },
                      {
                        "test": [
                          0.7340063587,
                          0.207119701
                        ],
                        "passed_time": 23.32867549,
                        "iteration": 893,
                        "remaining_time": 2.766039823,
                        "learn": [
                          0.4667610263,
                          0.6577454838
                        ]
                      },
                      {
                        "test": [
                          0.7340988353,
                          0.2069199004
                        ],
                        "passed_time": 23.35297423,
                        "iteration": 894,
                        "remaining_time": 2.739734406,
                        "learn": [
                          0.4664956872,
                          0.6581344952
                        ]
                      },
                      {
                        "test": [
                          0.7341609472,
                          0.2067856902
                        ],
                        "passed_time": 23.37909058,
                        "iteration": 895,
                        "remaining_time": 2.713644442,
                        "learn": [
                          0.4663116525,
                          0.6584041771
                        ]
                      },
                      {
                        "test": [
                          0.7341776319,
                          0.2067496362
                        ],
                        "passed_time": 23.40236457,
                        "iteration": 896,
                        "remaining_time": 2.687228039,
                        "learn": [
                          0.4661107534,
                          0.6586984503
                        ]
                      },
                      {
                        "test": [
                          0.7342279337,
                          0.2066409342
                        ],
                        "passed_time": 23.42449288,
                        "iteration": 897,
                        "remaining_time": 2.660688501,
                        "learn": [
                          0.4660151951,
                          0.6588383778
                        ]
                      },
                      {
                        "test": [
                          0.7342259189,
                          0.2066452883
                        ],
                        "passed_time": 23.44840104,
                        "iteration": 898,
                        "remaining_time": 2.634358737,
                        "learn": [
                          0.4659324307,
                          0.6589595478
                        ]
                      },
                      {
                        "test": [
                          0.7342049211,
                          0.2066906653
                        ],
                        "passed_time": 23.47286131,
                        "iteration": 899,
                        "remaining_time": 2.608095701,
                        "learn": [
                          0.4657366064,
                          0.6592461557
                        ]
                      },
                      {
                        "test": [
                          0.7341524,
                          0.2068041595
                        ],
                        "passed_time": 23.49568368,
                        "iteration": 900,
                        "remaining_time": 2.581656698,
                        "learn": [
                          0.4656420362,
                          0.6593845253
                        ]
                      },
                      {
                        "test": [
                          0.7342157441,
                          0.2066672765
                        ],
                        "passed_time": 23.52477488,
                        "iteration": 901,
                        "remaining_time": 2.555906806,
                        "learn": [
                          0.4654413476,
                          0.659678068
                        ]
                      },
                      {
                        "test": [
                          0.734246445,
                          0.2066009296
                        ],
                        "passed_time": 23.54860468,
                        "iteration": 902,
                        "remaining_time": 2.529584335,
                        "learn": [
                          0.4652559975,
                          0.6599490631
                        ]
                      },
                      {
                        "test": [
                          0.734248341,
                          0.206596832
                        ],
                        "passed_time": 23.57970713,
                        "iteration": 903,
                        "remaining_time": 2.504039695,
                        "learn": [
                          0.4651479235,
                          0.6601070252
                        ]
                      },
                      {
                        "test": [
                          0.7342402948,
                          0.2066142208
                        ],
                        "passed_time": 23.60429827,
                        "iteration": 904,
                        "remaining_time": 2.477799266,
                        "learn": [
                          0.4647694612,
                          0.6606599002
                        ]
                      },
                      {
                        "test": [
                          0.7342417502,
                          0.2066110756
                        ],
                        "passed_time": 23.67407706,
                        "iteration": 905,
                        "remaining_time": 2.456250821,
                        "learn": [
                          0.4645869241,
                          0.6609263979
                        ]
                      },
                      {
                        "test": [
                          0.7342490061,
                          0.2065953947
                        ],
                        "passed_time": 23.70949001,
                        "iteration": 906,
                        "remaining_time": 2.431072295,
                        "learn": [
                          0.4643550493,
                          0.6612647759
                        ]
                      },
                      {
                        "test": [
                          0.7343194482,
                          0.2064431526
                        ],
                        "passed_time": 23.75480295,
                        "iteration": 907,
                        "remaining_time": 2.406874308,
                        "learn": [
                          0.4640777873,
                          0.6616691664
                        ]
                      },
                      {
                        "test": [
                          0.7343587738,
                          0.2063581543
                        ],
                        "passed_time": 23.77912552,
                        "iteration": 908,
                        "remaining_time": 2.380528518,
                        "learn": [
                          0.4639656725,
                          0.6618326187
                        ]
                      },
                      {
                        "test": [
                          0.7342682071,
                          0.2065538982
                        ],
                        "passed_time": 23.81495712,
                        "iteration": 909,
                        "remaining_time": 2.355325429,
                        "learn": [
                          0.4637831389,
                          0.6620986504
                        ]
                      },
                      {
                        "test": [
                          0.7342930453,
                          0.2065002173
                        ],
                        "passed_time": 23.84058413,
                        "iteration": 910,
                        "remaining_time": 2.329102072,
                        "learn": [
                          0.463658515,
                          0.6622802219
                        ]
                      },
                      {
                        "test": [
                          0.7342841888,
                          0.2065193583
                        ],
                        "passed_time": 23.86515111,
                        "iteration": 911,
                        "remaining_time": 2.302777739,
                        "learn": [
                          0.4634332961,
                          0.6626082323
                        ]
                      },
                      {
                        "test": [
                          0.7343273019,
                          0.2064261781
                        ],
                        "passed_time": 23.88958822,
                        "iteration": 912,
                        "remaining_time": 2.27644488,
                        "learn": [
                          0.4632535708,
                          0.6628698712
                        ]
                      },
                      {
                        "test": [
                          0.7343055606,
                          0.2064731682
                        ],
                        "passed_time": 23.91494538,
                        "iteration": 913,
                        "remaining_time": 2.250202738,
                        "learn": [
                          0.4629884372,
                          0.6632556597
                        ]
                      },
                      {
                        "test": [
                          0.7343720047,
                          0.2063295561
                        ],
                        "passed_time": 23.95438568,
                        "iteration": 914,
                        "remaining_time": 2.225270801,
                        "learn": [
                          0.4627565288,
                          0.6635929221
                        ]
                      },
                      {
                        "test": [
                          0.734332388,
                          0.2064151852
                        ],
                        "passed_time": 23.99211259,
                        "iteration": 915,
                        "remaining_time": 2.200150062,
                        "learn": [
                          0.4626001512,
                          0.6638202453
                        ]
                      },
                      {
                        "test": [
                          0.7343455334,
                          0.2063867727
                        ],
                        "passed_time": 24.02038767,
                        "iteration": 916,
                        "remaining_time": 2.174146321,
                        "learn": [
                          0.4623667494,
                          0.6641593941
                        ]
                      },
                      {
                        "test": [
                          0.7343538424,
                          0.2063688133
                        ],
                        "passed_time": 24.04416835,
                        "iteration": 917,
                        "remaining_time": 2.14773617,
                        "learn": [
                          0.4622894029,
                          0.6642717461
                        ]
                      },
                      {
                        "test": [
                          0.7342988175,
                          0.206487742
                        ],
                        "passed_time": 24.06951055,
                        "iteration": 918,
                        "remaining_time": 2.121469374,
                        "learn": [
                          0.4620914759,
                          0.6645591655
                        ]
                      },
                      {
                        "test": [
                          0.7343030386,
                          0.206478619
                        ],
                        "passed_time": 24.09338485,
                        "iteration": 919,
                        "remaining_time": 2.095076943,
                        "learn": [
                          0.4619654112,
                          0.6647421659
                        ]
                      },
                      {
                        "test": [
                          0.7343513214,
                          0.2063742623
                        ],
                        "passed_time": 24.11741969,
                        "iteration": 920,
                        "remaining_time": 2.068703752,
                        "learn": [
                          0.4618392437,
                          0.6649252656
                        ]
                      },
                      {
                        "test": [
                          0.7344574541,
                          0.2061448471
                        ],
                        "passed_time": 24.14166592,
                        "iteration": 921,
                        "remaining_time": 2.042353516,
                        "learn": [
                          0.4616471255,
                          0.6652039798
                        ]
                      },
                      {
                        "test": [
                          0.7344439309,
                          0.2061740805
                        ],
                        "passed_time": 24.17418389,
                        "iteration": 922,
                        "remaining_time": 2.016697898,
                        "learn": [
                          0.4614380744,
                          0.6655071275
                        ]
                      },
                      {
                        "test": [
                          0.7343835295,
                          0.2063046452
                        ],
                        "passed_time": 24.19941832,
                        "iteration": 923,
                        "remaining_time": 1.990428347,
                        "learn": [
                          0.461288971,
                          0.6657232603
                        ]
                      },
                      {
                        "test": [
                          0.7343916973,
                          0.2062869902
                        ],
                        "passed_time": 24.20954847,
                        "iteration": 924,
                        "remaining_time": 1.962936362,
                        "learn": [
                          0.4612841501,
                          0.6657302474
                        ]
                      },
                      {
                        "test": [
                          0.7343937524,
                          0.2062825479
                        ],
                        "passed_time": 24.23143875,
                        "iteration": 925,
                        "remaining_time": 1.936421671,
                        "learn": [
                          0.4612804043,
                          0.665735676
                        ]
                      },
                      {
                        "test": [
                          0.7344644894,
                          0.2061296385
                        ],
                        "passed_time": 24.25636094,
                        "iteration": 926,
                        "remaining_time": 1.910155716,
                        "learn": [
                          0.4611188829,
                          0.6659697264
                        ]
                      },
                      {
                        "test": [
                          0.7344897134,
                          0.206075109
                        ],
                        "passed_time": 24.28770326,
                        "iteration": 927,
                        "remaining_time": 1.88439077,
                        "learn": [
                          0.4609503461,
                          0.6662138547
                        ]
                      },
                      {
                        "test": [
                          0.734480662,
                          0.2060946766
                        ],
                        "passed_time": 24.3126707,
                        "iteration": 928,
                        "remaining_time": 1.858126609,
                        "learn": [
                          0.4606598722,
                          0.6666344015
                        ]
                      },
                      {
                        "test": [
                          0.7344662236,
                          0.2061258896
                        ],
                        "passed_time": 24.33704335,
                        "iteration": 929,
                        "remaining_time": 1.831820467,
                        "learn": [
                          0.4604980429,
                          0.6668685824
                        ]
                      },
                      {
                        "test": [
                          0.7343984335,
                          0.2062724294
                        ],
                        "passed_time": 24.35928528,
                        "iteration": 930,
                        "remaining_time": 1.805360563,
                        "learn": [
                          0.4603285372,
                          0.6671137834
                        ]
                      },
                      {
                        "test": [
                          0.7343588136,
                          0.2063580683
                        ],
                        "passed_time": 24.39352787,
                        "iteration": 931,
                        "remaining_time": 1.779785295,
                        "learn": [
                          0.4601366249,
                          0.6673912879
                        ]
                      },
                      {
                        "test": [
                          0.7343021858,
                          0.2064804621
                        ],
                        "passed_time": 24.41886345,
                        "iteration": 932,
                        "remaining_time": 1.753551823,
                        "learn": [
                          0.4599385366,
                          0.6676776017
                        ]
                      },
                      {
                        "test": [
                          0.7343131151,
                          0.2064568405
                        ],
                        "passed_time": 24.4443215,
                        "iteration": 933,
                        "remaining_time": 1.727328928,
                        "learn": [
                          0.4597407218,
                          0.6679633971
                        ]
                      },
                      {
                        "test": [
                          0.7343299556,
                          0.2064204425
                        ],
                        "passed_time": 24.46867698,
                        "iteration": 934,
                        "remaining_time": 1.70103102,
                        "learn": [
                          0.4595240452,
                          0.6682763022
                        ]
                      },
                      {
                        "test": [
                          0.7343129761,
                          0.206457141
                        ],
                        "passed_time": 24.49205791,
                        "iteration": 935,
                        "remaining_time": 1.674670626,
                        "learn": [
                          0.4594759962,
                          0.6683456702
                        ]
                      },
                      {
                        "test": [
                          0.7343449231,
                          0.2063880919
                        ],
                        "passed_time": 24.51727494,
                        "iteration": 936,
                        "remaining_time": 1.648440044,
                        "learn": [
                          0.4592928522,
                          0.6686100078
                        ]
                      },
                      {
                        "test": [
                          0.7343019805,
                          0.2064809058
                        ],
                        "passed_time": 24.54029472,
                        "iteration": 937,
                        "remaining_time": 1.622066389,
                        "learn": [
                          0.4591684539,
                          0.6687894958
                        ]
                      },
                      {
                        "test": [
                          0.7342448679,
                          0.2066043377
                        ],
                        "passed_time": 24.56289442,
                        "iteration": 938,
                        "remaining_time": 1.595672588,
                        "learn": [
                          0.4590733515,
                          0.6689266814
                        ]
                      },
                      {
                        "test": [
                          0.7342239985,
                          0.2066494385
                        ],
                        "passed_time": 24.58625184,
                        "iteration": 939,
                        "remaining_time": 1.569335224,
                        "learn": [
                          0.4588469472,
                          0.6692531562
                        ]
                      },
                      {
                        "test": [
                          0.7343577999,
                          0.2063602594
                        ],
                        "passed_time": 24.61431207,
                        "iteration": 940,
                        "remaining_time": 1.543299056,
                        "learn": [
                          0.458516332,
                          0.6697296138
                        ]
                      },
                      {
                        "test": [
                          0.7344492128,
                          0.2061626625
                        ],
                        "passed_time": 24.64135179,
                        "iteration": 941,
                        "remaining_time": 1.517195758,
                        "learn": [
                          0.4582672085,
                          0.6700884047
                        ]
                      },
                      {
                        "test": [
                          0.7344444471,
                          0.2061729645
                        ],
                        "passed_time": 24.69330965,
                        "iteration": 942,
                        "remaining_time": 1.49259666,
                        "learn": [
                          0.4581059497,
                          0.6703205478
                        ]
                      },
                      {
                        "test": [
                          0.7344797672,
                          0.2060966111
                        ],
                        "passed_time": 24.74506815,
                        "iteration": 943,
                        "remaining_time": 1.467927772,
                        "learn": [
                          0.4579831515,
                          0.6704972695
                        ]
                      },
                      {
                        "test": [
                          0.7344035985,
                          0.2062612649
                        ],
                        "passed_time": 24.78061406,
                        "iteration": 944,
                        "remaining_time": 1.442257961,
                        "learn": [
                          0.4578260576,
                          0.6707232777
                        ]
                      },
                      {
                        "test": [
                          0.7344513364,
                          0.2061580718
                        ],
                        "passed_time": 24.81121236,
                        "iteration": 945,
                        "remaining_time": 1.416284849,
                        "learn": [
                          0.4576238462,
                          0.6710140817
                        ]
                      },
                      {
                        "test": [
                          0.7344399362,
                          0.2061827157
                        ],
                        "passed_time": 24.83566061,
                        "iteration": 946,
                        "remaining_time": 1.389957774,
                        "learn": [
                          0.4575323582,
                          0.6711456101
                        ]
                      },
                      {
                        "test": [
                          0.734487021,
                          0.2060809296
                        ],
                        "passed_time": 24.86252755,
                        "iteration": 947,
                        "remaining_time": 1.363767334,
                        "learn": [
                          0.457304053,
                          0.6714737199
                        ]
                      },
                      {
                        "test": [
                          0.7345311693,
                          0.2059854855
                        ],
                        "passed_time": 24.88637326,
                        "iteration": 948,
                        "remaining_time": 1.337413105,
                        "learn": [
                          0.4572439367,
                          0.671560089
                        ]
                      },
                      {
                        "test": [
                          0.7345062258,
                          0.2060394116
                        ],
                        "passed_time": 24.90999232,
                        "iteration": 949,
                        "remaining_time": 1.311052228,
                        "learn": [
                          0.4570964087,
                          0.6717719945
                        ]
                      },
                      {
                        "test": [
                          0.734555005,
                          0.2059339527
                        ],
                        "passed_time": 24.9361423,
                        "iteration": 950,
                        "remaining_time": 1.284827521,
                        "learn": [
                          0.4568631371,
                          0.6721069206
                        ]
                      },
                      {
                        "test": [
                          0.7345397172,
                          0.2059670051
                        ],
                        "passed_time": 24.96056817,
                        "iteration": 951,
                        "remaining_time": 1.258516042,
                        "learn": [
                          0.4566309493,
                          0.6724401208
                        ]
                      },
                      {
                        "test": [
                          0.7345394975,
                          0.2059674801
                        ],
                        "passed_time": 24.98469987,
                        "iteration": 952,
                        "remaining_time": 1.232194012,
                        "learn": [
                          0.4565149386,
                          0.6726065378
                        ]
                      },
                      {
                        "test": [
                          0.7345389015,
                          0.2059687687
                        ],
                        "passed_time": 25.00806299,
                        "iteration": 953,
                        "remaining_time": 1.205839515,
                        "learn": [
                          0.4564677977,
                          0.6726741493
                        ]
                      },
                      {
                        "test": [
                          0.7345144192,
                          0.2060216983
                        ],
                        "passed_time": 25.03834824,
                        "iteration": 954,
                        "remaining_time": 1.179817456,
                        "learn": [
                          0.4563757212,
                          0.6728061892
                        ]
                      },
                      {
                        "test": [
                          0.7345222912,
                          0.2060046794
                        ],
                        "passed_time": 25.04888844,
                        "iteration": 955,
                        "remaining_time": 1.152877711,
                        "learn": [
                          0.4563712228,
                          0.6728126393
                        ]
                      },
                      {
                        "test": [
                          0.7345278739,
                          0.20599261
                        ],
                        "passed_time": 25.07674138,
                        "iteration": 956,
                        "remaining_time": 1.126750135,
                        "learn": [
                          0.4560890276,
                          0.6732171441
                        ]
                      },
                      {
                        "test": [
                          0.734521969,
                          0.2060053761
                        ],
                        "passed_time": 25.10092498,
                        "iteration": 957,
                        "remaining_time": 1.100458089,
                        "learn": [
                          0.4559168797,
                          0.6734637818
                        ]
                      },
                      {
                        "test": [
                          0.7345097935,
                          0.2060316984
                        ],
                        "passed_time": 25.1248687,
                        "iteration": 958,
                        "remaining_time": 1.074160184,
                        "learn": [
                          0.4557081202,
                          0.6737627483
                        ]
                      },
                      {
                        "test": [
                          0.7345172091,
                          0.2060156667
                        ],
                        "passed_time": 25.13877606,
                        "iteration": 959,
                        "remaining_time": 1.047449003,
                        "learn": [
                          0.4557044088,
                          0.6737680621
                        ]
                      },
                      {
                        "test": [
                          0.7345976346,
                          0.2058417834
                        ],
                        "passed_time": 25.16251572,
                        "iteration": 960,
                        "remaining_time": 1.021163489,
                        "learn": [
                          0.4554625393,
                          0.6741142718
                        ]
                      },
                      {
                        "test": [
                          0.7346789202,
                          0.2056660215
                        ],
                        "passed_time": 25.18626581,
                        "iteration": 961,
                        "remaining_time": 0.9948836805,
                        "learn": [
                          0.4552865966,
                          0.6743659988
                        ]
                      },
                      {
                        "test": [
                          0.7346155624,
                          0.2058030203
                        ],
                        "passed_time": 25.20866602,
                        "iteration": 962,
                        "remaining_time": 0.9685572614,
                        "learn": [
                          0.4551335077,
                          0.6745849492
                        ]
                      },
                      {
                        "test": [
                          0.7345814876,
                          0.2058766955
                        ],
                        "passed_time": 25.23146694,
                        "iteration": 963,
                        "remaining_time": 0.942253952,
                        "learn": [
                          0.4549020936,
                          0.6749157817
                        ]
                      },
                      {
                        "test": [
                          0.7345588228,
                          0.2059256985
                        ],
                        "passed_time": 25.26787874,
                        "iteration": 964,
                        "remaining_time": 0.9164515606,
                        "learn": [
                          0.454733776,
                          0.6751563051
                        ]
                      },
                      {
                        "test": [
                          0.7346179982,
                          0.2057977535
                        ],
                        "passed_time": 25.29293816,
                        "iteration": 965,
                        "remaining_time": 0.8902276371,
                        "learn": [
                          0.4545284862,
                          0.6754495405
                        ]
                      },
                      {
                        "test": [
                          0.7346021742,
                          0.205831968
                        ],
                        "passed_time": 25.31824732,
                        "iteration": 966,
                        "remaining_time": 0.8640146449,
                        "learn": [
                          0.4543558051,
                          0.6756960953
                        ]
                      },
                      {
                        "test": [
                          0.7345557656,
                          0.2059323084
                        ],
                        "passed_time": 25.34400027,
                        "iteration": 967,
                        "remaining_time": 0.8378181909,
                        "learn": [
                          0.4541691121,
                          0.6759625509
                        ]
                      },
                      {
                        "test": [
                          0.7346182268,
                          0.2057972592
                        ],
                        "passed_time": 25.36706915,
                        "iteration": 968,
                        "remaining_time": 0.8115367841,
                        "learn": [
                          0.4540023803,
                          0.6762004245
                        ]
                      },
                      {
                        "test": [
                          0.7347223738,
                          0.2055720546
                        ],
                        "passed_time": 25.39131953,
                        "iteration": 969,
                        "remaining_time": 0.7852985423,
                        "learn": [
                          0.4538585379,
                          0.6764055721
                        ]
                      },
                      {
                        "test": [
                          0.7347943509,
                          0.2054163947
                        ],
                        "passed_time": 25.41846494,
                        "iteration": 970,
                        "remaining_time": 0.7591508581,
                        "learn": [
                          0.4537400917,
                          0.6765744507
                        ]
                      },
                      {
                        "test": [
                          0.7347647084,
                          0.2054805023
                        ],
                        "passed_time": 25.4420253,
                        "iteration": 971,
                        "remaining_time": 0.7328978482,
                        "learn": [
                          0.4536165516,
                          0.6767505454
                        ]
                      },
                      {
                        "test": [
                          0.7347720796,
                          0.2054645611
                        ],
                        "passed_time": 25.46570571,
                        "iteration": 972,
                        "remaining_time": 0.7066537041,
                        "learn": [
                          0.4534959268,
                          0.6769224382
                        ]
                      },
                      {
                        "test": [
                          0.7348466921,
                          0.2053031905
                        ],
                        "passed_time": 25.49873636,
                        "iteration": 973,
                        "remaining_time": 0.6806644203,
                        "learn": [
                          0.4532741716,
                          0.6772383246
                        ]
                      },
                      {
                        "test": [
                          0.7348378577,
                          0.2053222981
                        ],
                        "passed_time": 25.5235558,
                        "iteration": 974,
                        "remaining_time": 0.6544501488,
                        "learn": [
                          0.4531163727,
                          0.6774630124
                        ]
                      },
                      {
                        "test": [
                          0.734757916,
                          0.2054951918
                        ],
                        "passed_time": 25.5489498,
                        "iteration": 975,
                        "remaining_time": 0.628252864,
                        "learn": [
                          0.4528985383,
                          0.6777730554
                        ]
                      },
                      {
                        "test": [
                          0.7347861372,
                          0.2054341588
                        ],
                        "passed_time": 25.57361129,
                        "iteration": 976,
                        "remaining_time": 0.6020399793,
                        "learn": [
                          0.4527571929,
                          0.677974152
                        ]
                      },
                      {
                        "test": [
                          0.7348590596,
                          0.2052764406
                        ],
                        "passed_time": 25.5973544,
                        "iteration": 977,
                        "remaining_time": 0.5758096083,
                        "learn": [
                          0.452614263,
                          0.6781774391
                        ]
                      },
                      {
                        "test": [
                          0.7348837741,
                          0.2052229841
                        ],
                        "passed_time": 25.62232356,
                        "iteration": 978,
                        "remaining_time": 0.5496106177,
                        "learn": [
                          0.4524598014,
                          0.6783970554
                        ]
                      },
                      {
                        "test": [
                          0.7348792397,
                          0.205232792
                        ],
                        "passed_time": 25.64460258,
                        "iteration": 979,
                        "remaining_time": 0.5233592364,
                        "learn": [
                          0.4523432405,
                          0.6785627343
                        ]
                      },
                      {
                        "test": [
                          0.7348710032,
                          0.2052506073
                        ],
                        "passed_time": 25.66816806,
                        "iteration": 980,
                        "remaining_time": 0.4971408697,
                        "learn": [
                          0.4521753752,
                          0.6788012618
                        ]
                      },
                      {
                        "test": [
                          0.7347631545,
                          0.2054838629
                        ],
                        "passed_time": 25.69395893,
                        "iteration": 981,
                        "remaining_time": 0.4709686974,
                        "learn": [
                          0.4519584636,
                          0.6791093502
                        ]
                      },
                      {
                        "test": [
                          0.734803361,
                          0.2053969081
                        ],
                        "passed_time": 25.79250228,
                        "iteration": 982,
                        "remaining_time": 0.4460554819,
                        "learn": [
                          0.451752027,
                          0.6794024234
                        ]
                      },
                      {
                        "test": [
                          0.734758365,
                          0.2054942208
                        ],
                        "passed_time": 25.8446951,
                        "iteration": 983,
                        "remaining_time": 0.4202389447,
                        "learn": [
                          0.4516340925,
                          0.6795697921
                        ]
                      },
                      {
                        "test": [
                          0.7347119659,
                          0.2055945619
                        ],
                        "passed_time": 25.86810491,
                        "iteration": 984,
                        "remaining_time": 0.3939305317,
                        "learn": [
                          0.4514523644,
                          0.6798276091
                        ]
                      },
                      {
                        "test": [
                          0.7347410614,
                          0.2055316418
                        ],
                        "passed_time": 25.89022938,
                        "iteration": 985,
                        "remaining_time": 0.3676097478,
                        "learn": [
                          0.4514155848,
                          0.6798797756
                        ]
                      },
                      {
                        "test": [
                          0.7347495793,
                          0.2055132209
                        ],
                        "passed_time": 25.91385923,
                        "iteration": 986,
                        "remaining_time": 0.3413172949,
                        "learn": [
                          0.4513386377,
                          0.6799889
                        ]
                      },
                      {
                        "test": [
                          0.7348121631,
                          0.2053778711
                        ],
                        "passed_time": 25.93861023,
                        "iteration": 987,
                        "remaining_time": 0.315043849,
                        "learn": [
                          0.4512070015,
                          0.6801755399
                        ]
                      },
                      {
                        "test": [
                          0.7348074871,
                          0.2053879843
                        ],
                        "passed_time": 25.96319104,
                        "iteration": 988,
                        "remaining_time": 0.2887715889,
                        "learn": [
                          0.4511338368,
                          0.6802792526
                        ]
                      },
                      {
                        "test": [
                          0.7347870953,
                          0.2054320866
                        ],
                        "passed_time": 25.98865431,
                        "iteration": 989,
                        "remaining_time": 0.2625116597,
                        "learn": [
                          0.4509865097,
                          0.6804880413
                        ]
                      },
                      {
                        "test": [
                          0.734791613,
                          0.205422316
                        ],
                        "passed_time": 26.0156763,
                        "iteration": 990,
                        "remaining_time": 0.2362674942,
                        "learn": [
                          0.4509827754,
                          0.6804933327
                        ]
                      },
                      {
                        "test": [
                          0.7347402686,
                          0.2055333562
                        ],
                        "passed_time": 26.04420872,
                        "iteration": 991,
                        "remaining_time": 0.2100339413,
                        "learn": [
                          0.4507362665,
                          0.6808425244
                        ]
                      },
                      {
                        "test": [
                          0.7346827063,
                          0.2056578343
                        ],
                        "passed_time": 26.0678972,
                        "iteration": 992,
                        "remaining_time": 0.1837616117,
                        "learn": [
                          0.450651414,
                          0.6809626778
                        ]
                      },
                      {
                        "test": [
                          0.7347052796,
                          0.205609021
                        ],
                        "passed_time": 26.09009075,
                        "iteration": 993,
                        "remaining_time": 0.1574854572,
                        "learn": [
                          0.4505949598,
                          0.681042606
                        ]
                      },
                      {
                        "test": [
                          0.7346531534,
                          0.2057217386
                        ],
                        "passed_time": 26.11248966,
                        "iteration": 994,
                        "remaining_time": 0.131218541,
                        "learn": [
                          0.4505183792,
                          0.6811510132
                        ]
                      },
                      {
                        "test": [
                          0.7346252731,
                          0.2057820236
                        ],
                        "passed_time": 26.1348625,
                        "iteration": 995,
                        "remaining_time": 0.1049592871,
                        "learn": [
                          0.4504240077,
                          0.6812845797
                        ]
                      },
                      {
                        "test": [
                          0.734652411,
                          0.2057233439
                        ],
                        "passed_time": 26.15769632,
                        "iteration": 996,
                        "remaining_time": 0.07870921662,
                        "learn": [
                          0.4503228165,
                          0.6814277674
                        ]
                      },
                      {
                        "test": [
                          0.7347650521,
                          0.205479759
                        ],
                        "passed_time": 26.18073544,
                        "iteration": 997,
                        "remaining_time": 0.05246640369,
                        "learn": [
                          0.4501411343,
                          0.6816847707
                        ]
                      },
                      {
                        "test": [
                          0.7347694576,
                          0.2054702316
                        ],
                        "passed_time": 26.20481409,
                        "iteration": 998,
                        "remaining_time": 0.02623104514,
                        "learn": [
                          0.449964463,
                          0.6819345862
                        ]
                      },
                      {
                        "test": [
                          0.7347479427,
                          0.2055167603
                        ],
                        "passed_time": 26.2328788,
                        "iteration": 999,
                        "remaining_time": 0,
                        "learn": [
                          0.4497871876,
                          0.6821851574
                        ]
                      }
                    ]
                  },
                  "total_iterations": 1000,
                  "passed_iterations": 999
                },
                "path": "catboost_info",
                "name": "catboost_info"
              }
            },
            "_view_module": "catboost-widget",
            "_model_module_version": "^1.0.0",
            "_view_count": null,
            "_view_module_version": "^1.0.0",
            "layout": "IPY_MODEL_f7a6e6b75a5d4e7c8e2ffc3a387dc013",
            "_model_module": "catboost-widget"
          }
        }
      }
    }
  },
  "cells": [
    {
      "cell_type": "markdown",
      "metadata": {
        "id": "FJB754XWXEJq"
      },
      "source": [
        "# **Применение градиентного бустинга с использованием CatBoost**\n",
        "\n",
        "Градиентный бустинг - метод, который находит оптимальное решение на основе решающих дерьевьев, соединенных в ансамбль. Применяется в задачах, в которых исходные данные неоднородны (разного типа: пол, возраст, вес, уровень зарплаты и пр.)\n",
        "\n",
        "Градиентный бустинг пытается добавить каждое следующее дерево к насамблю таким образом, чтобы минимизировать функцию потерь и приблизить предсказание к правильному ответу. Отличительная особенность CatBoost - все деревья симметричны\n",
        "\n"
      ]
    },
    {
      "cell_type": "code",
      "metadata": {
        "id": "-8OSl26gS-i2"
      },
      "source": [
        "!pip install catboost"
      ],
      "execution_count": null,
      "outputs": []
    },
    {
      "cell_type": "code",
      "metadata": {
        "id": "thZUdmKQg-YF",
        "colab": {
          "base_uri": "https://localhost:8080/"
        },
        "outputId": "db46027d-6d41-4db8-a851-e9eeb8f513fa"
      },
      "source": [
        "import os\n",
        "import pandas as pd\n",
        "import numpy as np\n",
        "np.set_printoptions(precision=4)\n",
        "\n",
        "import catboost\n",
        "print(catboost.__version__)"
      ],
      "execution_count": 5,
      "outputs": [
        {
          "output_type": "stream",
          "name": "stdout",
          "text": [
            "0.26.1\n"
          ]
        }
      ]
    },
    {
      "cell_type": "code",
      "metadata": {
        "id": "lTfVoXV0kMbh"
      },
      "source": [
        "from catboost.datasets import msrank_10k"
      ],
      "execution_count": 6,
      "outputs": []
    },
    {
      "cell_type": "code",
      "metadata": {
        "colab": {
          "base_uri": "https://localhost:8080/",
          "height": 443
        },
        "id": "gMlTBSp_FJ6Y",
        "outputId": "150506e9-cccb-4af7-e316-bd3ea7575695"
      },
      "source": [
        "# Этот датасет от Майкрософт содержит 135 числовых фичей. Мы будем решать задачу регресии, предсказывая занчение нулевого столбца\n",
        "train_df, test_df = msrank_10k()\n",
        "train_df"
      ],
      "execution_count": 7,
      "outputs": [
        {
          "output_type": "execute_result",
          "data": {
            "text/html": [
              "<div>\n",
              "<style scoped>\n",
              "    .dataframe tbody tr th:only-of-type {\n",
              "        vertical-align: middle;\n",
              "    }\n",
              "\n",
              "    .dataframe tbody tr th {\n",
              "        vertical-align: top;\n",
              "    }\n",
              "\n",
              "    .dataframe thead th {\n",
              "        text-align: right;\n",
              "    }\n",
              "</style>\n",
              "<table border=\"1\" class=\"dataframe\">\n",
              "  <thead>\n",
              "    <tr style=\"text-align: right;\">\n",
              "      <th></th>\n",
              "      <th>0</th>\n",
              "      <th>1</th>\n",
              "      <th>2</th>\n",
              "      <th>3</th>\n",
              "      <th>4</th>\n",
              "      <th>5</th>\n",
              "      <th>6</th>\n",
              "      <th>7</th>\n",
              "      <th>8</th>\n",
              "      <th>9</th>\n",
              "      <th>10</th>\n",
              "      <th>11</th>\n",
              "      <th>12</th>\n",
              "      <th>13</th>\n",
              "      <th>14</th>\n",
              "      <th>15</th>\n",
              "      <th>16</th>\n",
              "      <th>17</th>\n",
              "      <th>18</th>\n",
              "      <th>19</th>\n",
              "      <th>20</th>\n",
              "      <th>21</th>\n",
              "      <th>22</th>\n",
              "      <th>23</th>\n",
              "      <th>24</th>\n",
              "      <th>25</th>\n",
              "      <th>26</th>\n",
              "      <th>27</th>\n",
              "      <th>28</th>\n",
              "      <th>29</th>\n",
              "      <th>30</th>\n",
              "      <th>31</th>\n",
              "      <th>32</th>\n",
              "      <th>33</th>\n",
              "      <th>34</th>\n",
              "      <th>35</th>\n",
              "      <th>36</th>\n",
              "      <th>37</th>\n",
              "      <th>38</th>\n",
              "      <th>39</th>\n",
              "      <th>...</th>\n",
              "      <th>98</th>\n",
              "      <th>99</th>\n",
              "      <th>100</th>\n",
              "      <th>101</th>\n",
              "      <th>102</th>\n",
              "      <th>103</th>\n",
              "      <th>104</th>\n",
              "      <th>105</th>\n",
              "      <th>106</th>\n",
              "      <th>107</th>\n",
              "      <th>108</th>\n",
              "      <th>109</th>\n",
              "      <th>110</th>\n",
              "      <th>111</th>\n",
              "      <th>112</th>\n",
              "      <th>113</th>\n",
              "      <th>114</th>\n",
              "      <th>115</th>\n",
              "      <th>116</th>\n",
              "      <th>117</th>\n",
              "      <th>118</th>\n",
              "      <th>119</th>\n",
              "      <th>120</th>\n",
              "      <th>121</th>\n",
              "      <th>122</th>\n",
              "      <th>123</th>\n",
              "      <th>124</th>\n",
              "      <th>125</th>\n",
              "      <th>126</th>\n",
              "      <th>127</th>\n",
              "      <th>128</th>\n",
              "      <th>129</th>\n",
              "      <th>130</th>\n",
              "      <th>131</th>\n",
              "      <th>132</th>\n",
              "      <th>133</th>\n",
              "      <th>134</th>\n",
              "      <th>135</th>\n",
              "      <th>136</th>\n",
              "      <th>137</th>\n",
              "    </tr>\n",
              "  </thead>\n",
              "  <tbody>\n",
              "    <tr>\n",
              "      <th>0</th>\n",
              "      <td>2.0</td>\n",
              "      <td>1</td>\n",
              "      <td>3</td>\n",
              "      <td>3</td>\n",
              "      <td>0</td>\n",
              "      <td>0</td>\n",
              "      <td>3</td>\n",
              "      <td>1.0</td>\n",
              "      <td>1.0</td>\n",
              "      <td>0.000000</td>\n",
              "      <td>0.0</td>\n",
              "      <td>1.0</td>\n",
              "      <td>156</td>\n",
              "      <td>4</td>\n",
              "      <td>0</td>\n",
              "      <td>7</td>\n",
              "      <td>167</td>\n",
              "      <td>6.931275</td>\n",
              "      <td>22.076928</td>\n",
              "      <td>19.673353</td>\n",
              "      <td>22.255383</td>\n",
              "      <td>6.926551</td>\n",
              "      <td>3</td>\n",
              "      <td>3</td>\n",
              "      <td>0</td>\n",
              "      <td>0</td>\n",
              "      <td>6</td>\n",
              "      <td>1</td>\n",
              "      <td>1</td>\n",
              "      <td>0</td>\n",
              "      <td>0</td>\n",
              "      <td>2</td>\n",
              "      <td>1</td>\n",
              "      <td>1</td>\n",
              "      <td>0</td>\n",
              "      <td>0</td>\n",
              "      <td>2</td>\n",
              "      <td>1.000000</td>\n",
              "      <td>1.0</td>\n",
              "      <td>0.000000</td>\n",
              "      <td>...</td>\n",
              "      <td>1</td>\n",
              "      <td>0</td>\n",
              "      <td>0</td>\n",
              "      <td>1</td>\n",
              "      <td>1.000000</td>\n",
              "      <td>1.000000</td>\n",
              "      <td>0.000000</td>\n",
              "      <td>0.000000</td>\n",
              "      <td>1.000000</td>\n",
              "      <td>12.941469</td>\n",
              "      <td>20.592760</td>\n",
              "      <td>0.000000</td>\n",
              "      <td>0.000000</td>\n",
              "      <td>16.766961</td>\n",
              "      <td>-18.567793</td>\n",
              "      <td>-7.760072</td>\n",
              "      <td>-20.838749</td>\n",
              "      <td>-25.436074</td>\n",
              "      <td>-14.518523</td>\n",
              "      <td>-21.710022</td>\n",
              "      <td>-21.339609</td>\n",
              "      <td>-24.497864</td>\n",
              "      <td>-27.690319</td>\n",
              "      <td>-20.203779</td>\n",
              "      <td>-15.449379</td>\n",
              "      <td>-4.474452</td>\n",
              "      <td>-23.634899</td>\n",
              "      <td>-28.119826</td>\n",
              "      <td>-13.581932</td>\n",
              "      <td>3</td>\n",
              "      <td>62</td>\n",
              "      <td>11089534</td>\n",
              "      <td>2</td>\n",
              "      <td>116</td>\n",
              "      <td>64034</td>\n",
              "      <td>13</td>\n",
              "      <td>3</td>\n",
              "      <td>0</td>\n",
              "      <td>0</td>\n",
              "      <td>0.0</td>\n",
              "    </tr>\n",
              "    <tr>\n",
              "      <th>1</th>\n",
              "      <td>2.0</td>\n",
              "      <td>1</td>\n",
              "      <td>3</td>\n",
              "      <td>0</td>\n",
              "      <td>3</td>\n",
              "      <td>0</td>\n",
              "      <td>3</td>\n",
              "      <td>1.0</td>\n",
              "      <td>0.0</td>\n",
              "      <td>1.000000</td>\n",
              "      <td>0.0</td>\n",
              "      <td>1.0</td>\n",
              "      <td>406</td>\n",
              "      <td>0</td>\n",
              "      <td>5</td>\n",
              "      <td>5</td>\n",
              "      <td>416</td>\n",
              "      <td>6.931275</td>\n",
              "      <td>22.076928</td>\n",
              "      <td>19.673353</td>\n",
              "      <td>22.255383</td>\n",
              "      <td>6.926551</td>\n",
              "      <td>28</td>\n",
              "      <td>0</td>\n",
              "      <td>3</td>\n",
              "      <td>0</td>\n",
              "      <td>31</td>\n",
              "      <td>8</td>\n",
              "      <td>0</td>\n",
              "      <td>1</td>\n",
              "      <td>0</td>\n",
              "      <td>9</td>\n",
              "      <td>10</td>\n",
              "      <td>0</td>\n",
              "      <td>1</td>\n",
              "      <td>0</td>\n",
              "      <td>11</td>\n",
              "      <td>9.333333</td>\n",
              "      <td>0.0</td>\n",
              "      <td>1.000000</td>\n",
              "      <td>...</td>\n",
              "      <td>0</td>\n",
              "      <td>1</td>\n",
              "      <td>0</td>\n",
              "      <td>1</td>\n",
              "      <td>0.994425</td>\n",
              "      <td>0.000000</td>\n",
              "      <td>1.000000</td>\n",
              "      <td>0.000000</td>\n",
              "      <td>0.995455</td>\n",
              "      <td>20.885118</td>\n",
              "      <td>0.000000</td>\n",
              "      <td>24.233365</td>\n",
              "      <td>0.000000</td>\n",
              "      <td>21.161666</td>\n",
              "      <td>-11.555850</td>\n",
              "      <td>-21.242171</td>\n",
              "      <td>-8.429024</td>\n",
              "      <td>-25.436074</td>\n",
              "      <td>-11.297811</td>\n",
              "      <td>-16.487275</td>\n",
              "      <td>-24.805464</td>\n",
              "      <td>-21.461317</td>\n",
              "      <td>-27.690319</td>\n",
              "      <td>-16.208808</td>\n",
              "      <td>-11.646141</td>\n",
              "      <td>-24.041386</td>\n",
              "      <td>-5.143860</td>\n",
              "      <td>-28.119826</td>\n",
              "      <td>-11.411068</td>\n",
              "      <td>2</td>\n",
              "      <td>54</td>\n",
              "      <td>11089534</td>\n",
              "      <td>2</td>\n",
              "      <td>124</td>\n",
              "      <td>64034</td>\n",
              "      <td>1</td>\n",
              "      <td>2</td>\n",
              "      <td>0</td>\n",
              "      <td>0</td>\n",
              "      <td>0.0</td>\n",
              "    </tr>\n",
              "    <tr>\n",
              "      <th>2</th>\n",
              "      <td>0.0</td>\n",
              "      <td>1</td>\n",
              "      <td>3</td>\n",
              "      <td>0</td>\n",
              "      <td>2</td>\n",
              "      <td>0</td>\n",
              "      <td>3</td>\n",
              "      <td>1.0</td>\n",
              "      <td>0.0</td>\n",
              "      <td>0.666667</td>\n",
              "      <td>0.0</td>\n",
              "      <td>1.0</td>\n",
              "      <td>146</td>\n",
              "      <td>0</td>\n",
              "      <td>3</td>\n",
              "      <td>7</td>\n",
              "      <td>156</td>\n",
              "      <td>6.931275</td>\n",
              "      <td>22.076928</td>\n",
              "      <td>19.673353</td>\n",
              "      <td>22.255383</td>\n",
              "      <td>6.926551</td>\n",
              "      <td>14</td>\n",
              "      <td>0</td>\n",
              "      <td>2</td>\n",
              "      <td>0</td>\n",
              "      <td>16</td>\n",
              "      <td>1</td>\n",
              "      <td>0</td>\n",
              "      <td>0</td>\n",
              "      <td>0</td>\n",
              "      <td>1</td>\n",
              "      <td>7</td>\n",
              "      <td>0</td>\n",
              "      <td>1</td>\n",
              "      <td>0</td>\n",
              "      <td>8</td>\n",
              "      <td>4.666667</td>\n",
              "      <td>0.0</td>\n",
              "      <td>0.666667</td>\n",
              "      <td>...</td>\n",
              "      <td>0</td>\n",
              "      <td>0</td>\n",
              "      <td>0</td>\n",
              "      <td>1</td>\n",
              "      <td>0.851903</td>\n",
              "      <td>0.000000</td>\n",
              "      <td>0.720414</td>\n",
              "      <td>0.000000</td>\n",
              "      <td>0.842789</td>\n",
              "      <td>18.140878</td>\n",
              "      <td>0.000000</td>\n",
              "      <td>17.748073</td>\n",
              "      <td>0.000000</td>\n",
              "      <td>18.279205</td>\n",
              "      <td>-12.609065</td>\n",
              "      <td>-21.242171</td>\n",
              "      <td>-14.935056</td>\n",
              "      <td>-25.436074</td>\n",
              "      <td>-12.487989</td>\n",
              "      <td>-18.832941</td>\n",
              "      <td>-24.805464</td>\n",
              "      <td>-23.925663</td>\n",
              "      <td>-27.690319</td>\n",
              "      <td>-18.589543</td>\n",
              "      <td>-11.525277</td>\n",
              "      <td>-24.041386</td>\n",
              "      <td>-14.689844</td>\n",
              "      <td>-28.119826</td>\n",
              "      <td>-11.436378</td>\n",
              "      <td>3</td>\n",
              "      <td>45</td>\n",
              "      <td>3</td>\n",
              "      <td>1</td>\n",
              "      <td>124</td>\n",
              "      <td>3344</td>\n",
              "      <td>14</td>\n",
              "      <td>67</td>\n",
              "      <td>0</td>\n",
              "      <td>0</td>\n",
              "      <td>0.0</td>\n",
              "    </tr>\n",
              "    <tr>\n",
              "      <th>3</th>\n",
              "      <td>2.0</td>\n",
              "      <td>1</td>\n",
              "      <td>3</td>\n",
              "      <td>0</td>\n",
              "      <td>3</td>\n",
              "      <td>0</td>\n",
              "      <td>3</td>\n",
              "      <td>1.0</td>\n",
              "      <td>0.0</td>\n",
              "      <td>1.000000</td>\n",
              "      <td>0.0</td>\n",
              "      <td>1.0</td>\n",
              "      <td>287</td>\n",
              "      <td>1</td>\n",
              "      <td>4</td>\n",
              "      <td>7</td>\n",
              "      <td>299</td>\n",
              "      <td>6.931275</td>\n",
              "      <td>22.076928</td>\n",
              "      <td>19.673353</td>\n",
              "      <td>22.255383</td>\n",
              "      <td>6.926551</td>\n",
              "      <td>7</td>\n",
              "      <td>0</td>\n",
              "      <td>3</td>\n",
              "      <td>0</td>\n",
              "      <td>10</td>\n",
              "      <td>2</td>\n",
              "      <td>0</td>\n",
              "      <td>1</td>\n",
              "      <td>0</td>\n",
              "      <td>3</td>\n",
              "      <td>3</td>\n",
              "      <td>0</td>\n",
              "      <td>1</td>\n",
              "      <td>0</td>\n",
              "      <td>4</td>\n",
              "      <td>2.333333</td>\n",
              "      <td>0.0</td>\n",
              "      <td>1.000000</td>\n",
              "      <td>...</td>\n",
              "      <td>0</td>\n",
              "      <td>1</td>\n",
              "      <td>0</td>\n",
              "      <td>1</td>\n",
              "      <td>0.989585</td>\n",
              "      <td>0.000000</td>\n",
              "      <td>1.000000</td>\n",
              "      <td>0.000000</td>\n",
              "      <td>0.995185</td>\n",
              "      <td>15.572998</td>\n",
              "      <td>0.000000</td>\n",
              "      <td>26.759999</td>\n",
              "      <td>0.000000</td>\n",
              "      <td>17.531630</td>\n",
              "      <td>-15.555640</td>\n",
              "      <td>-21.242171</td>\n",
              "      <td>-7.761830</td>\n",
              "      <td>-25.436074</td>\n",
              "      <td>-14.198901</td>\n",
              "      <td>-20.103511</td>\n",
              "      <td>-24.805464</td>\n",
              "      <td>-21.459820</td>\n",
              "      <td>-27.690319</td>\n",
              "      <td>-19.180736</td>\n",
              "      <td>-14.798285</td>\n",
              "      <td>-24.041386</td>\n",
              "      <td>-4.474536</td>\n",
              "      <td>-28.119826</td>\n",
              "      <td>-13.825417</td>\n",
              "      <td>3</td>\n",
              "      <td>56</td>\n",
              "      <td>11089534</td>\n",
              "      <td>13</td>\n",
              "      <td>123</td>\n",
              "      <td>63933</td>\n",
              "      <td>1</td>\n",
              "      <td>3</td>\n",
              "      <td>0</td>\n",
              "      <td>0</td>\n",
              "      <td>0.0</td>\n",
              "    </tr>\n",
              "    <tr>\n",
              "      <th>4</th>\n",
              "      <td>1.0</td>\n",
              "      <td>1</td>\n",
              "      <td>3</td>\n",
              "      <td>0</td>\n",
              "      <td>3</td>\n",
              "      <td>0</td>\n",
              "      <td>3</td>\n",
              "      <td>1.0</td>\n",
              "      <td>0.0</td>\n",
              "      <td>1.000000</td>\n",
              "      <td>0.0</td>\n",
              "      <td>1.0</td>\n",
              "      <td>2009</td>\n",
              "      <td>2</td>\n",
              "      <td>4</td>\n",
              "      <td>7</td>\n",
              "      <td>2022</td>\n",
              "      <td>6.931275</td>\n",
              "      <td>22.076928</td>\n",
              "      <td>19.673353</td>\n",
              "      <td>22.255383</td>\n",
              "      <td>6.926551</td>\n",
              "      <td>8</td>\n",
              "      <td>0</td>\n",
              "      <td>3</td>\n",
              "      <td>0</td>\n",
              "      <td>11</td>\n",
              "      <td>2</td>\n",
              "      <td>0</td>\n",
              "      <td>1</td>\n",
              "      <td>0</td>\n",
              "      <td>3</td>\n",
              "      <td>3</td>\n",
              "      <td>0</td>\n",
              "      <td>1</td>\n",
              "      <td>0</td>\n",
              "      <td>4</td>\n",
              "      <td>2.666667</td>\n",
              "      <td>0.0</td>\n",
              "      <td>1.000000</td>\n",
              "      <td>...</td>\n",
              "      <td>0</td>\n",
              "      <td>1</td>\n",
              "      <td>0</td>\n",
              "      <td>1</td>\n",
              "      <td>0.980551</td>\n",
              "      <td>0.000000</td>\n",
              "      <td>1.000000</td>\n",
              "      <td>0.000000</td>\n",
              "      <td>0.989938</td>\n",
              "      <td>7.802556</td>\n",
              "      <td>0.000000</td>\n",
              "      <td>26.759999</td>\n",
              "      <td>0.000000</td>\n",
              "      <td>9.749707</td>\n",
              "      <td>-20.673887</td>\n",
              "      <td>-21.242171</td>\n",
              "      <td>-7.761830</td>\n",
              "      <td>-25.436074</td>\n",
              "      <td>-19.469471</td>\n",
              "      <td>-21.419394</td>\n",
              "      <td>-24.805464</td>\n",
              "      <td>-21.459820</td>\n",
              "      <td>-27.690319</td>\n",
              "      <td>-20.589940</td>\n",
              "      <td>-20.168345</td>\n",
              "      <td>-24.041386</td>\n",
              "      <td>-4.474536</td>\n",
              "      <td>-28.119826</td>\n",
              "      <td>-19.226044</td>\n",
              "      <td>3</td>\n",
              "      <td>64</td>\n",
              "      <td>5</td>\n",
              "      <td>7</td>\n",
              "      <td>256</td>\n",
              "      <td>49697</td>\n",
              "      <td>1</td>\n",
              "      <td>13</td>\n",
              "      <td>0</td>\n",
              "      <td>0</td>\n",
              "      <td>0.0</td>\n",
              "    </tr>\n",
              "    <tr>\n",
              "      <th>...</th>\n",
              "      <td>...</td>\n",
              "      <td>...</td>\n",
              "      <td>...</td>\n",
              "      <td>...</td>\n",
              "      <td>...</td>\n",
              "      <td>...</td>\n",
              "      <td>...</td>\n",
              "      <td>...</td>\n",
              "      <td>...</td>\n",
              "      <td>...</td>\n",
              "      <td>...</td>\n",
              "      <td>...</td>\n",
              "      <td>...</td>\n",
              "      <td>...</td>\n",
              "      <td>...</td>\n",
              "      <td>...</td>\n",
              "      <td>...</td>\n",
              "      <td>...</td>\n",
              "      <td>...</td>\n",
              "      <td>...</td>\n",
              "      <td>...</td>\n",
              "      <td>...</td>\n",
              "      <td>...</td>\n",
              "      <td>...</td>\n",
              "      <td>...</td>\n",
              "      <td>...</td>\n",
              "      <td>...</td>\n",
              "      <td>...</td>\n",
              "      <td>...</td>\n",
              "      <td>...</td>\n",
              "      <td>...</td>\n",
              "      <td>...</td>\n",
              "      <td>...</td>\n",
              "      <td>...</td>\n",
              "      <td>...</td>\n",
              "      <td>...</td>\n",
              "      <td>...</td>\n",
              "      <td>...</td>\n",
              "      <td>...</td>\n",
              "      <td>...</td>\n",
              "      <td>...</td>\n",
              "      <td>...</td>\n",
              "      <td>...</td>\n",
              "      <td>...</td>\n",
              "      <td>...</td>\n",
              "      <td>...</td>\n",
              "      <td>...</td>\n",
              "      <td>...</td>\n",
              "      <td>...</td>\n",
              "      <td>...</td>\n",
              "      <td>...</td>\n",
              "      <td>...</td>\n",
              "      <td>...</td>\n",
              "      <td>...</td>\n",
              "      <td>...</td>\n",
              "      <td>...</td>\n",
              "      <td>...</td>\n",
              "      <td>...</td>\n",
              "      <td>...</td>\n",
              "      <td>...</td>\n",
              "      <td>...</td>\n",
              "      <td>...</td>\n",
              "      <td>...</td>\n",
              "      <td>...</td>\n",
              "      <td>...</td>\n",
              "      <td>...</td>\n",
              "      <td>...</td>\n",
              "      <td>...</td>\n",
              "      <td>...</td>\n",
              "      <td>...</td>\n",
              "      <td>...</td>\n",
              "      <td>...</td>\n",
              "      <td>...</td>\n",
              "      <td>...</td>\n",
              "      <td>...</td>\n",
              "      <td>...</td>\n",
              "      <td>...</td>\n",
              "      <td>...</td>\n",
              "      <td>...</td>\n",
              "      <td>...</td>\n",
              "      <td>...</td>\n",
              "    </tr>\n",
              "    <tr>\n",
              "      <th>9995</th>\n",
              "      <td>1.0</td>\n",
              "      <td>1291</td>\n",
              "      <td>2</td>\n",
              "      <td>0</td>\n",
              "      <td>1</td>\n",
              "      <td>0</td>\n",
              "      <td>2</td>\n",
              "      <td>1.0</td>\n",
              "      <td>0.0</td>\n",
              "      <td>0.500000</td>\n",
              "      <td>0.0</td>\n",
              "      <td>1.0</td>\n",
              "      <td>1226</td>\n",
              "      <td>0</td>\n",
              "      <td>2</td>\n",
              "      <td>4</td>\n",
              "      <td>1232</td>\n",
              "      <td>1.938186</td>\n",
              "      <td>11.202671</td>\n",
              "      <td>6.180345</td>\n",
              "      <td>10.166706</td>\n",
              "      <td>1.933500</td>\n",
              "      <td>150</td>\n",
              "      <td>0</td>\n",
              "      <td>1</td>\n",
              "      <td>0</td>\n",
              "      <td>151</td>\n",
              "      <td>28</td>\n",
              "      <td>0</td>\n",
              "      <td>0</td>\n",
              "      <td>0</td>\n",
              "      <td>28</td>\n",
              "      <td>122</td>\n",
              "      <td>0</td>\n",
              "      <td>1</td>\n",
              "      <td>0</td>\n",
              "      <td>123</td>\n",
              "      <td>75.000000</td>\n",
              "      <td>0.0</td>\n",
              "      <td>0.500000</td>\n",
              "      <td>...</td>\n",
              "      <td>0</td>\n",
              "      <td>0</td>\n",
              "      <td>0</td>\n",
              "      <td>1</td>\n",
              "      <td>0.944744</td>\n",
              "      <td>0.000000</td>\n",
              "      <td>0.911838</td>\n",
              "      <td>0.000000</td>\n",
              "      <td>0.944564</td>\n",
              "      <td>6.509656</td>\n",
              "      <td>0.000000</td>\n",
              "      <td>7.495232</td>\n",
              "      <td>0.000000</td>\n",
              "      <td>6.499751</td>\n",
              "      <td>-6.103003</td>\n",
              "      <td>-10.721004</td>\n",
              "      <td>-6.204031</td>\n",
              "      <td>-11.685236</td>\n",
              "      <td>-6.103333</td>\n",
              "      <td>-7.902061</td>\n",
              "      <td>-12.793498</td>\n",
              "      <td>-9.857750</td>\n",
              "      <td>-13.942820</td>\n",
              "      <td>-7.888291</td>\n",
              "      <td>-6.289006</td>\n",
              "      <td>-11.023170</td>\n",
              "      <td>-7.061288</td>\n",
              "      <td>-12.482012</td>\n",
              "      <td>-6.289860</td>\n",
              "      <td>2</td>\n",
              "      <td>22</td>\n",
              "      <td>131</td>\n",
              "      <td>2</td>\n",
              "      <td>24231</td>\n",
              "      <td>4897</td>\n",
              "      <td>95</td>\n",
              "      <td>228</td>\n",
              "      <td>0</td>\n",
              "      <td>0</td>\n",
              "      <td>0.0</td>\n",
              "    </tr>\n",
              "    <tr>\n",
              "      <th>9996</th>\n",
              "      <td>0.0</td>\n",
              "      <td>1291</td>\n",
              "      <td>2</td>\n",
              "      <td>0</td>\n",
              "      <td>1</td>\n",
              "      <td>1</td>\n",
              "      <td>2</td>\n",
              "      <td>1.0</td>\n",
              "      <td>0.0</td>\n",
              "      <td>0.500000</td>\n",
              "      <td>0.5</td>\n",
              "      <td>1.0</td>\n",
              "      <td>283</td>\n",
              "      <td>0</td>\n",
              "      <td>3</td>\n",
              "      <td>7</td>\n",
              "      <td>293</td>\n",
              "      <td>1.938186</td>\n",
              "      <td>11.202671</td>\n",
              "      <td>6.180345</td>\n",
              "      <td>10.166706</td>\n",
              "      <td>1.933500</td>\n",
              "      <td>32</td>\n",
              "      <td>0</td>\n",
              "      <td>2</td>\n",
              "      <td>1</td>\n",
              "      <td>35</td>\n",
              "      <td>3</td>\n",
              "      <td>0</td>\n",
              "      <td>0</td>\n",
              "      <td>0</td>\n",
              "      <td>3</td>\n",
              "      <td>29</td>\n",
              "      <td>0</td>\n",
              "      <td>2</td>\n",
              "      <td>1</td>\n",
              "      <td>32</td>\n",
              "      <td>16.000000</td>\n",
              "      <td>0.0</td>\n",
              "      <td>1.000000</td>\n",
              "      <td>...</td>\n",
              "      <td>0</td>\n",
              "      <td>0</td>\n",
              "      <td>0</td>\n",
              "      <td>1</td>\n",
              "      <td>0.923653</td>\n",
              "      <td>0.000000</td>\n",
              "      <td>0.911838</td>\n",
              "      <td>0.663331</td>\n",
              "      <td>0.922042</td>\n",
              "      <td>6.258489</td>\n",
              "      <td>0.000000</td>\n",
              "      <td>9.237657</td>\n",
              "      <td>5.337635</td>\n",
              "      <td>6.262674</td>\n",
              "      <td>-7.035700</td>\n",
              "      <td>-10.721004</td>\n",
              "      <td>-5.556660</td>\n",
              "      <td>-10.999016</td>\n",
              "      <td>-6.995962</td>\n",
              "      <td>-10.231807</td>\n",
              "      <td>-12.793498</td>\n",
              "      <td>-9.691863</td>\n",
              "      <td>-13.936850</td>\n",
              "      <td>-10.100825</td>\n",
              "      <td>-7.018727</td>\n",
              "      <td>-11.023170</td>\n",
              "      <td>-6.773731</td>\n",
              "      <td>-11.863726</td>\n",
              "      <td>-6.987696</td>\n",
              "      <td>4</td>\n",
              "      <td>39</td>\n",
              "      <td>0</td>\n",
              "      <td>1</td>\n",
              "      <td>52316</td>\n",
              "      <td>55891</td>\n",
              "      <td>79</td>\n",
              "      <td>124</td>\n",
              "      <td>0</td>\n",
              "      <td>0</td>\n",
              "      <td>0.0</td>\n",
              "    </tr>\n",
              "    <tr>\n",
              "      <th>9997</th>\n",
              "      <td>2.0</td>\n",
              "      <td>1291</td>\n",
              "      <td>2</td>\n",
              "      <td>0</td>\n",
              "      <td>2</td>\n",
              "      <td>0</td>\n",
              "      <td>2</td>\n",
              "      <td>1.0</td>\n",
              "      <td>0.0</td>\n",
              "      <td>1.000000</td>\n",
              "      <td>0.0</td>\n",
              "      <td>1.0</td>\n",
              "      <td>1108</td>\n",
              "      <td>0</td>\n",
              "      <td>18</td>\n",
              "      <td>4</td>\n",
              "      <td>1130</td>\n",
              "      <td>1.938186</td>\n",
              "      <td>11.202671</td>\n",
              "      <td>6.180345</td>\n",
              "      <td>10.166706</td>\n",
              "      <td>1.933500</td>\n",
              "      <td>72</td>\n",
              "      <td>0</td>\n",
              "      <td>5</td>\n",
              "      <td>0</td>\n",
              "      <td>77</td>\n",
              "      <td>4</td>\n",
              "      <td>0</td>\n",
              "      <td>2</td>\n",
              "      <td>0</td>\n",
              "      <td>6</td>\n",
              "      <td>68</td>\n",
              "      <td>0</td>\n",
              "      <td>3</td>\n",
              "      <td>0</td>\n",
              "      <td>71</td>\n",
              "      <td>36.000000</td>\n",
              "      <td>0.0</td>\n",
              "      <td>2.500000</td>\n",
              "      <td>...</td>\n",
              "      <td>0</td>\n",
              "      <td>1</td>\n",
              "      <td>0</td>\n",
              "      <td>1</td>\n",
              "      <td>0.915363</td>\n",
              "      <td>0.000000</td>\n",
              "      <td>0.991373</td>\n",
              "      <td>0.000000</td>\n",
              "      <td>0.920344</td>\n",
              "      <td>6.057808</td>\n",
              "      <td>0.000000</td>\n",
              "      <td>7.235437</td>\n",
              "      <td>0.000000</td>\n",
              "      <td>6.159976</td>\n",
              "      <td>-8.464907</td>\n",
              "      <td>-10.721004</td>\n",
              "      <td>-4.532121</td>\n",
              "      <td>-11.685236</td>\n",
              "      <td>-8.031094</td>\n",
              "      <td>-9.880872</td>\n",
              "      <td>-12.793498</td>\n",
              "      <td>-9.512646</td>\n",
              "      <td>-13.942820</td>\n",
              "      <td>-9.571945</td>\n",
              "      <td>-8.577732</td>\n",
              "      <td>-11.023170</td>\n",
              "      <td>-4.179334</td>\n",
              "      <td>-12.482012</td>\n",
              "      <td>-8.180025</td>\n",
              "      <td>2</td>\n",
              "      <td>14</td>\n",
              "      <td>11040</td>\n",
              "      <td>6</td>\n",
              "      <td>44336</td>\n",
              "      <td>26674</td>\n",
              "      <td>81</td>\n",
              "      <td>153</td>\n",
              "      <td>0</td>\n",
              "      <td>0</td>\n",
              "      <td>0.0</td>\n",
              "    </tr>\n",
              "    <tr>\n",
              "      <th>9998</th>\n",
              "      <td>2.0</td>\n",
              "      <td>1291</td>\n",
              "      <td>2</td>\n",
              "      <td>0</td>\n",
              "      <td>1</td>\n",
              "      <td>0</td>\n",
              "      <td>2</td>\n",
              "      <td>1.0</td>\n",
              "      <td>0.0</td>\n",
              "      <td>0.500000</td>\n",
              "      <td>0.0</td>\n",
              "      <td>1.0</td>\n",
              "      <td>460</td>\n",
              "      <td>0</td>\n",
              "      <td>11</td>\n",
              "      <td>7</td>\n",
              "      <td>478</td>\n",
              "      <td>1.938186</td>\n",
              "      <td>11.202671</td>\n",
              "      <td>6.180345</td>\n",
              "      <td>10.166706</td>\n",
              "      <td>1.933500</td>\n",
              "      <td>21</td>\n",
              "      <td>0</td>\n",
              "      <td>3</td>\n",
              "      <td>0</td>\n",
              "      <td>24</td>\n",
              "      <td>2</td>\n",
              "      <td>0</td>\n",
              "      <td>0</td>\n",
              "      <td>0</td>\n",
              "      <td>2</td>\n",
              "      <td>19</td>\n",
              "      <td>0</td>\n",
              "      <td>3</td>\n",
              "      <td>0</td>\n",
              "      <td>22</td>\n",
              "      <td>10.500000</td>\n",
              "      <td>0.0</td>\n",
              "      <td>1.500000</td>\n",
              "      <td>...</td>\n",
              "      <td>0</td>\n",
              "      <td>0</td>\n",
              "      <td>0</td>\n",
              "      <td>1</td>\n",
              "      <td>0.923982</td>\n",
              "      <td>0.000000</td>\n",
              "      <td>0.911838</td>\n",
              "      <td>0.000000</td>\n",
              "      <td>0.921522</td>\n",
              "      <td>5.862596</td>\n",
              "      <td>0.000000</td>\n",
              "      <td>7.098572</td>\n",
              "      <td>0.000000</td>\n",
              "      <td>5.901210</td>\n",
              "      <td>-8.913923</td>\n",
              "      <td>-10.721004</td>\n",
              "      <td>-6.195340</td>\n",
              "      <td>-11.685236</td>\n",
              "      <td>-8.820623</td>\n",
              "      <td>-10.951511</td>\n",
              "      <td>-12.793498</td>\n",
              "      <td>-9.556859</td>\n",
              "      <td>-13.942820</td>\n",
              "      <td>-10.775826</td>\n",
              "      <td>-8.794580</td>\n",
              "      <td>-11.023170</td>\n",
              "      <td>-7.667007</td>\n",
              "      <td>-12.482012</td>\n",
              "      <td>-8.719841</td>\n",
              "      <td>2</td>\n",
              "      <td>31</td>\n",
              "      <td>105</td>\n",
              "      <td>0</td>\n",
              "      <td>10394</td>\n",
              "      <td>4079</td>\n",
              "      <td>34</td>\n",
              "      <td>155</td>\n",
              "      <td>0</td>\n",
              "      <td>0</td>\n",
              "      <td>0.0</td>\n",
              "    </tr>\n",
              "    <tr>\n",
              "      <th>9999</th>\n",
              "      <td>1.0</td>\n",
              "      <td>1291</td>\n",
              "      <td>2</td>\n",
              "      <td>1</td>\n",
              "      <td>1</td>\n",
              "      <td>2</td>\n",
              "      <td>2</td>\n",
              "      <td>1.0</td>\n",
              "      <td>0.5</td>\n",
              "      <td>0.500000</td>\n",
              "      <td>1.0</td>\n",
              "      <td>1.0</td>\n",
              "      <td>291</td>\n",
              "      <td>2</td>\n",
              "      <td>2</td>\n",
              "      <td>10</td>\n",
              "      <td>305</td>\n",
              "      <td>1.938186</td>\n",
              "      <td>11.202671</td>\n",
              "      <td>6.180345</td>\n",
              "      <td>10.166706</td>\n",
              "      <td>1.933500</td>\n",
              "      <td>20</td>\n",
              "      <td>1</td>\n",
              "      <td>1</td>\n",
              "      <td>3</td>\n",
              "      <td>25</td>\n",
              "      <td>4</td>\n",
              "      <td>0</td>\n",
              "      <td>0</td>\n",
              "      <td>1</td>\n",
              "      <td>5</td>\n",
              "      <td>16</td>\n",
              "      <td>1</td>\n",
              "      <td>1</td>\n",
              "      <td>2</td>\n",
              "      <td>20</td>\n",
              "      <td>10.000000</td>\n",
              "      <td>0.5</td>\n",
              "      <td>0.500000</td>\n",
              "      <td>...</td>\n",
              "      <td>0</td>\n",
              "      <td>0</td>\n",
              "      <td>1</td>\n",
              "      <td>1</td>\n",
              "      <td>0.947841</td>\n",
              "      <td>0.718965</td>\n",
              "      <td>0.911838</td>\n",
              "      <td>0.945407</td>\n",
              "      <td>0.947941</td>\n",
              "      <td>6.138783</td>\n",
              "      <td>7.592071</td>\n",
              "      <td>7.495232</td>\n",
              "      <td>11.847242</td>\n",
              "      <td>6.233080</td>\n",
              "      <td>-7.367778</td>\n",
              "      <td>-8.620589</td>\n",
              "      <td>-6.204031</td>\n",
              "      <td>-5.529892</td>\n",
              "      <td>-6.972265</td>\n",
              "      <td>-10.630636</td>\n",
              "      <td>-12.712832</td>\n",
              "      <td>-9.857750</td>\n",
              "      <td>-13.023224</td>\n",
              "      <td>-10.272946</td>\n",
              "      <td>-7.384207</td>\n",
              "      <td>-9.473503</td>\n",
              "      <td>-7.061288</td>\n",
              "      <td>-4.121509</td>\n",
              "      <td>-7.033204</td>\n",
              "      <td>2</td>\n",
              "      <td>47</td>\n",
              "      <td>8</td>\n",
              "      <td>3</td>\n",
              "      <td>5820</td>\n",
              "      <td>32540</td>\n",
              "      <td>35</td>\n",
              "      <td>153</td>\n",
              "      <td>0</td>\n",
              "      <td>0</td>\n",
              "      <td>0.0</td>\n",
              "    </tr>\n",
              "  </tbody>\n",
              "</table>\n",
              "<p>10000 rows × 138 columns</p>\n",
              "</div>"
            ],
            "text/plain": [
              "      0     1    2    3    4    5    6    ...    131    132  133  134  135  136  137\n",
              "0     2.0     1    3    3    0    0    3  ...    116  64034   13    3    0    0  0.0\n",
              "1     2.0     1    3    0    3    0    3  ...    124  64034    1    2    0    0  0.0\n",
              "2     0.0     1    3    0    2    0    3  ...    124   3344   14   67    0    0  0.0\n",
              "3     2.0     1    3    0    3    0    3  ...    123  63933    1    3    0    0  0.0\n",
              "4     1.0     1    3    0    3    0    3  ...    256  49697    1   13    0    0  0.0\n",
              "...   ...   ...  ...  ...  ...  ...  ...  ...    ...    ...  ...  ...  ...  ...  ...\n",
              "9995  1.0  1291    2    0    1    0    2  ...  24231   4897   95  228    0    0  0.0\n",
              "9996  0.0  1291    2    0    1    1    2  ...  52316  55891   79  124    0    0  0.0\n",
              "9997  2.0  1291    2    0    2    0    2  ...  44336  26674   81  153    0    0  0.0\n",
              "9998  2.0  1291    2    0    1    0    2  ...  10394   4079   34  155    0    0  0.0\n",
              "9999  1.0  1291    2    1    1    2    2  ...   5820  32540   35  153    0    0  0.0\n",
              "\n",
              "[10000 rows x 138 columns]"
            ]
          },
          "metadata": {},
          "execution_count": 7
        }
      ]
    },
    {
      "cell_type": "markdown",
      "metadata": {
        "id": "nO1fM43gGnjJ"
      },
      "source": [
        "# Предобработка данных"
      ]
    },
    {
      "cell_type": "code",
      "metadata": {
        "id": "dPw1KvhYGP2V"
      },
      "source": [
        "y = train_df[0]\n",
        "X = train_df.drop([0, 1], axis=1)"
      ],
      "execution_count": 8,
      "outputs": []
    },
    {
      "cell_type": "markdown",
      "metadata": {
        "id": "0J2tyv9QHlUe"
      },
      "source": [
        "В CatBoost есть класс Pool, который располагает фичи в удобном для обучения порядке. Он может принимать Numpy массивы, Pandas датафреймы а также считывать данные с внешних файлов. Попробуем считать данные с внешнего файла."
      ]
    },
    {
      "cell_type": "code",
      "metadata": {
        "id": "CHr45dQdHCav"
      },
      "source": [
        "dataset_dir = './msrank_10k'\n",
        "\n",
        "if not os.path.exists(dataset_dir):\n",
        "    os.makedirs(dataset_dir)\n",
        "\n",
        "train_df.to_csv(\n",
        "    os.path.join(dataset_dir, 'train.csv'),\n",
        "    index=False, sep=',', header=True\n",
        ")\n",
        "\n",
        "test_df.to_csv(\n",
        "    os.path.join(dataset_dir, 'test.csv'),\n",
        "    index=False, sep=',', header=True\n",
        ")"
      ],
      "execution_count": 10,
      "outputs": []
    },
    {
      "cell_type": "markdown",
      "metadata": {
        "id": "AkJbypLfJ7C4"
      },
      "source": [
        "Помимо этого нам нужно создать column description file с описанием каждой из колонок. Первый столбец содержит целевую переменную, второй - ID группы, поэтому займемся остальными"
      ]
    },
    {
      "cell_type": "code",
      "metadata": {
        "id": "gwteJ8jbLRPf"
      },
      "source": [
        "from catboost.utils import create_cd\n",
        "\n",
        "feature_names = dict(map(lambda i: (i, 'Feature ' + str(i)), range(train_df.shape[1] - 2)))\n",
        "\n",
        "create_cd(\n",
        "    label=None,\n",
        "    feature_names=feature_names,\n",
        "    auxiliary_columns=[1],\n",
        "    output_path=os.path.join(dataset_dir, 'train.cd')\n",
        ")"
      ],
      "execution_count": 11,
      "outputs": []
    },
    {
      "cell_type": "code",
      "metadata": {
        "colab": {
          "base_uri": "https://localhost:8080/"
        },
        "id": "a61rpw9jOaN1",
        "outputId": "988d24ef-bfa2-4cfa-981e-aacca17c0ee4"
      },
      "source": [
        "from catboost import Pool\n",
        "\n",
        "pool = Pool(\n",
        "    data = '/content/msrank_10k/train.csv',\n",
        "    delimiter = ',',\n",
        "    column_description = '/content/msrank_10k/train.cd',\n",
        "    has_header=True,\n",
        ")\n",
        "\n",
        "print(f'Dataset shape: {pool.shape}')"
      ],
      "execution_count": 12,
      "outputs": [
        {
          "output_type": "stream",
          "name": "stdout",
          "text": [
            "Dataset shape: (10000, 137)\n"
          ]
        }
      ]
    },
    {
      "cell_type": "markdown",
      "metadata": {
        "id": "14vjSQLGSiGE"
      },
      "source": [
        "Разделим датасет на обучающую и валидационную выборку"
      ]
    },
    {
      "cell_type": "code",
      "metadata": {
        "id": "4xJru86ESpM-"
      },
      "source": [
        "from sklearn.model_selection import train_test_split\n",
        "\n",
        "X_train, X_val, y_train, y_val = train_test_split(X, y, train_size=0.8, random_state=42)"
      ],
      "execution_count": 13,
      "outputs": []
    },
    {
      "cell_type": "code",
      "metadata": {
        "id": "INSTKMgmTrCu"
      },
      "source": [
        "train_pool = Pool(data=X_train, label=y_train)\n",
        "val_pool = Pool(data=X_val, label=y_val)"
      ],
      "execution_count": 14,
      "outputs": []
    },
    {
      "cell_type": "markdown",
      "metadata": {
        "id": "KGdiWQhzUcUB"
      },
      "source": [
        "Фича, которая недавно появилась в CatBoost - **Квантизация** датасета. Квантизация - это уменьшение уникальных значений числовых фичей. Если есть большой датасет, в котором некая независимая переменная для каждого лейбла имеет много уникальных зачений, определенный отрезок из таких значений схлопывается в одно.\n",
        "\n",
        "Зачем это нужно? Когда есть большое количество уникальных значений у фичи, то для создания решающего правила по ней (больше или меньше какой-то величины) придется перебирать все значения этой фичи. Таким образом, возрастает переобучение модели.\n",
        "\n",
        "Квантизовать датасет желательно до начала обучения \n",
        "\n"
      ]
    },
    {
      "cell_type": "code",
      "metadata": {
        "id": "fm5dOogVYrjX"
      },
      "source": [
        "train_pool.quantize(border_count=254)\n",
        "\n",
        "# параметры квантизации должны совпадать для обучения и для валидации\n",
        "# поэтому сохраняем их в отдельный файл\n",
        "train_pool.save_quantization_borders('borders.tsv')\n",
        "\n",
        "# и передаем валидационному пулу\n",
        "val_pool.quantize(input_borders='borders.tsv')"
      ],
      "execution_count": 15,
      "outputs": []
    },
    {
      "cell_type": "markdown",
      "metadata": {
        "id": "-9efiinhafps"
      },
      "source": [
        "# Обучение"
      ]
    },
    {
      "cell_type": "code",
      "metadata": {
        "colab": {
          "base_uri": "https://localhost:8080/",
          "height": 1000,
          "referenced_widgets": [
            "bfa7cfc9971d48188943a1f9fc57994d"
          ]
        },
        "id": "slStX3V6alyL",
        "outputId": "13e0a491-8544-4c55-98e2-c06b4beaa98b"
      },
      "source": [
        "from catboost import CatBoostRegressor\n",
        "\n",
        "model = CatBoostRegressor(\n",
        "    iterations=1000,\n",
        "    #learning_rate=0.1,\n",
        "    custom_metric=['R2']\n",
        ")\n",
        "\n",
        "# Через параметр Plot=True выводим графики процесса обучения \n",
        "# в Google Colab он пока не работает, но локально рисует красивые графики\n",
        "model.fit(\n",
        "    train_pool,\n",
        "    eval_set=val_pool,\n",
        "    verbose=True,\n",
        "    plot=True,\n",
        "    use_best_model=True\n",
        ");"
      ],
      "execution_count": 71,
      "outputs": [
        {
          "output_type": "display_data",
          "data": {
            "application/vnd.jupyter.widget-view+json": {
              "model_id": "bfa7cfc9971d48188943a1f9fc57994d",
              "version_minor": 0,
              "version_major": 2
            },
            "text/plain": [
              "MetricVisualizer(layout=Layout(align_self='stretch', height='500px'))"
            ]
          },
          "metadata": {}
        },
        {
          "output_type": "stream",
          "name": "stdout",
          "text": [
            "Learning rate set to 0.068261\n",
            "0:\tlearn: 0.7914954\ttest: 0.8191410\tbest: 0.8191410 (0)\ttotal: 25.5ms\tremaining: 25.5s\n",
            "1:\tlearn: 0.7854945\ttest: 0.8141537\tbest: 0.8141537 (1)\ttotal: 50ms\tremaining: 24.9s\n",
            "2:\tlearn: 0.7800815\ttest: 0.8095819\tbest: 0.8095819 (2)\ttotal: 75.5ms\tremaining: 25.1s\n",
            "3:\tlearn: 0.7746880\ttest: 0.8056121\tbest: 0.8056121 (3)\ttotal: 104ms\tremaining: 25.9s\n",
            "4:\tlearn: 0.7700990\ttest: 0.8025172\tbest: 0.8025172 (4)\ttotal: 135ms\tremaining: 26.8s\n",
            "5:\tlearn: 0.7662642\ttest: 0.7992670\tbest: 0.7992670 (5)\ttotal: 160ms\tremaining: 26.4s\n",
            "6:\tlearn: 0.7624689\ttest: 0.7965155\tbest: 0.7965155 (6)\ttotal: 184ms\tremaining: 26.1s\n",
            "7:\tlearn: 0.7595220\ttest: 0.7941981\tbest: 0.7941981 (7)\ttotal: 211ms\tremaining: 26.2s\n",
            "8:\tlearn: 0.7563989\ttest: 0.7921523\tbest: 0.7921523 (8)\ttotal: 237ms\tremaining: 26s\n",
            "9:\tlearn: 0.7534164\ttest: 0.7895097\tbest: 0.7895097 (9)\ttotal: 261ms\tremaining: 25.8s\n",
            "10:\tlearn: 0.7507444\ttest: 0.7875539\tbest: 0.7875539 (10)\ttotal: 288ms\tremaining: 25.9s\n",
            "11:\tlearn: 0.7483682\ttest: 0.7858158\tbest: 0.7858158 (11)\ttotal: 316ms\tremaining: 26s\n",
            "12:\tlearn: 0.7463319\ttest: 0.7845862\tbest: 0.7845862 (12)\ttotal: 340ms\tremaining: 25.8s\n",
            "13:\tlearn: 0.7438411\ttest: 0.7829331\tbest: 0.7829331 (13)\ttotal: 367ms\tremaining: 25.8s\n",
            "14:\tlearn: 0.7414964\ttest: 0.7814999\tbest: 0.7814999 (14)\ttotal: 392ms\tremaining: 25.7s\n",
            "15:\tlearn: 0.7398598\ttest: 0.7801132\tbest: 0.7801132 (15)\ttotal: 419ms\tremaining: 25.8s\n",
            "16:\tlearn: 0.7378001\ttest: 0.7789188\tbest: 0.7789188 (16)\ttotal: 443ms\tremaining: 25.6s\n",
            "17:\tlearn: 0.7360150\ttest: 0.7780283\tbest: 0.7780283 (17)\ttotal: 467ms\tremaining: 25.5s\n",
            "18:\tlearn: 0.7342652\ttest: 0.7770198\tbest: 0.7770198 (18)\ttotal: 492ms\tremaining: 25.4s\n",
            "19:\tlearn: 0.7325333\ttest: 0.7757665\tbest: 0.7757665 (19)\ttotal: 516ms\tremaining: 25.3s\n",
            "20:\tlearn: 0.7309140\ttest: 0.7742398\tbest: 0.7742398 (20)\ttotal: 540ms\tremaining: 25.2s\n",
            "21:\tlearn: 0.7293352\ttest: 0.7733063\tbest: 0.7733063 (21)\ttotal: 564ms\tremaining: 25.1s\n",
            "22:\tlearn: 0.7280000\ttest: 0.7724318\tbest: 0.7724318 (22)\ttotal: 587ms\tremaining: 24.9s\n",
            "23:\tlearn: 0.7266752\ttest: 0.7716866\tbest: 0.7716866 (23)\ttotal: 614ms\tremaining: 25s\n",
            "24:\tlearn: 0.7254313\ttest: 0.7710960\tbest: 0.7710960 (24)\ttotal: 642ms\tremaining: 25s\n",
            "25:\tlearn: 0.7239632\ttest: 0.7703138\tbest: 0.7703138 (25)\ttotal: 667ms\tremaining: 25s\n",
            "26:\tlearn: 0.7230339\ttest: 0.7696011\tbest: 0.7696011 (26)\ttotal: 691ms\tremaining: 24.9s\n",
            "27:\tlearn: 0.7218405\ttest: 0.7688825\tbest: 0.7688825 (27)\ttotal: 716ms\tremaining: 24.9s\n",
            "28:\tlearn: 0.7204779\ttest: 0.7679953\tbest: 0.7679953 (28)\ttotal: 741ms\tremaining: 24.8s\n",
            "29:\tlearn: 0.7196383\ttest: 0.7677762\tbest: 0.7677762 (29)\ttotal: 765ms\tremaining: 24.7s\n",
            "30:\tlearn: 0.7185356\ttest: 0.7670496\tbest: 0.7670496 (30)\ttotal: 790ms\tremaining: 24.7s\n",
            "31:\tlearn: 0.7171803\ttest: 0.7663448\tbest: 0.7663448 (31)\ttotal: 815ms\tremaining: 24.6s\n",
            "32:\tlearn: 0.7163419\ttest: 0.7660040\tbest: 0.7660040 (32)\ttotal: 838ms\tremaining: 24.6s\n",
            "33:\tlearn: 0.7155051\ttest: 0.7655964\tbest: 0.7655964 (33)\ttotal: 873ms\tremaining: 24.8s\n",
            "34:\tlearn: 0.7144018\ttest: 0.7645585\tbest: 0.7645585 (34)\ttotal: 897ms\tremaining: 24.7s\n",
            "35:\tlearn: 0.7132385\ttest: 0.7640948\tbest: 0.7640948 (35)\ttotal: 921ms\tremaining: 24.7s\n",
            "36:\tlearn: 0.7125384\ttest: 0.7637284\tbest: 0.7637284 (36)\ttotal: 945ms\tremaining: 24.6s\n",
            "37:\tlearn: 0.7118896\ttest: 0.7634376\tbest: 0.7634376 (37)\ttotal: 969ms\tremaining: 24.5s\n",
            "38:\tlearn: 0.7110690\ttest: 0.7631964\tbest: 0.7631964 (38)\ttotal: 997ms\tremaining: 24.6s\n",
            "39:\tlearn: 0.7099653\ttest: 0.7626349\tbest: 0.7626349 (39)\ttotal: 1.03s\tremaining: 24.6s\n",
            "40:\tlearn: 0.7092009\ttest: 0.7624480\tbest: 0.7624480 (40)\ttotal: 1.06s\tremaining: 24.7s\n",
            "41:\tlearn: 0.7083017\ttest: 0.7617188\tbest: 0.7617188 (41)\ttotal: 1.08s\tremaining: 24.7s\n",
            "42:\tlearn: 0.7073396\ttest: 0.7613165\tbest: 0.7613165 (42)\ttotal: 1.12s\tremaining: 24.9s\n",
            "43:\tlearn: 0.7064622\ttest: 0.7607505\tbest: 0.7607505 (43)\ttotal: 1.14s\tremaining: 24.8s\n",
            "44:\tlearn: 0.7053519\ttest: 0.7604159\tbest: 0.7604159 (44)\ttotal: 1.17s\tremaining: 24.9s\n",
            "45:\tlearn: 0.7047275\ttest: 0.7603374\tbest: 0.7603374 (45)\ttotal: 1.19s\tremaining: 24.8s\n",
            "46:\tlearn: 0.7040952\ttest: 0.7598147\tbest: 0.7598147 (46)\ttotal: 1.22s\tremaining: 24.7s\n",
            "47:\tlearn: 0.7034993\ttest: 0.7595800\tbest: 0.7595800 (47)\ttotal: 1.24s\tremaining: 24.6s\n",
            "48:\tlearn: 0.7029418\ttest: 0.7593437\tbest: 0.7593437 (48)\ttotal: 1.27s\tremaining: 24.6s\n",
            "49:\tlearn: 0.7024566\ttest: 0.7590482\tbest: 0.7590482 (49)\ttotal: 1.29s\tremaining: 24.6s\n",
            "50:\tlearn: 0.7017338\ttest: 0.7585738\tbest: 0.7585738 (50)\ttotal: 1.32s\tremaining: 24.6s\n",
            "51:\tlearn: 0.7012125\ttest: 0.7582674\tbest: 0.7582674 (51)\ttotal: 1.34s\tremaining: 24.5s\n",
            "52:\tlearn: 0.7007995\ttest: 0.7579482\tbest: 0.7579482 (52)\ttotal: 1.37s\tremaining: 24.4s\n",
            "53:\tlearn: 0.6999722\ttest: 0.7574814\tbest: 0.7574814 (53)\ttotal: 1.39s\tremaining: 24.4s\n",
            "54:\tlearn: 0.6993619\ttest: 0.7573749\tbest: 0.7573749 (54)\ttotal: 1.42s\tremaining: 24.3s\n",
            "55:\tlearn: 0.6988409\ttest: 0.7573278\tbest: 0.7573278 (55)\ttotal: 1.44s\tremaining: 24.3s\n",
            "56:\tlearn: 0.6984919\ttest: 0.7572001\tbest: 0.7572001 (56)\ttotal: 1.47s\tremaining: 24.2s\n",
            "57:\tlearn: 0.6976896\ttest: 0.7565139\tbest: 0.7565139 (57)\ttotal: 1.49s\tremaining: 24.2s\n",
            "58:\tlearn: 0.6973220\ttest: 0.7564282\tbest: 0.7564282 (58)\ttotal: 1.52s\tremaining: 24.2s\n",
            "59:\tlearn: 0.6967023\ttest: 0.7560664\tbest: 0.7560664 (59)\ttotal: 1.54s\tremaining: 24.1s\n",
            "60:\tlearn: 0.6961495\ttest: 0.7558400\tbest: 0.7558400 (60)\ttotal: 1.56s\tremaining: 24.1s\n",
            "61:\tlearn: 0.6952350\ttest: 0.7552942\tbest: 0.7552942 (61)\ttotal: 1.59s\tremaining: 24.1s\n",
            "62:\tlearn: 0.6945634\ttest: 0.7551377\tbest: 0.7551377 (62)\ttotal: 1.62s\tremaining: 24s\n",
            "63:\tlearn: 0.6940743\ttest: 0.7547162\tbest: 0.7547162 (63)\ttotal: 1.64s\tremaining: 24s\n",
            "64:\tlearn: 0.6935141\ttest: 0.7545657\tbest: 0.7545657 (64)\ttotal: 1.67s\tremaining: 24s\n",
            "65:\tlearn: 0.6927354\ttest: 0.7541825\tbest: 0.7541825 (65)\ttotal: 1.69s\tremaining: 24s\n",
            "66:\tlearn: 0.6923671\ttest: 0.7541693\tbest: 0.7541693 (66)\ttotal: 1.72s\tremaining: 23.9s\n",
            "67:\tlearn: 0.6919130\ttest: 0.7540293\tbest: 0.7540293 (67)\ttotal: 1.74s\tremaining: 23.9s\n",
            "68:\tlearn: 0.6914048\ttest: 0.7540993\tbest: 0.7540293 (67)\ttotal: 1.77s\tremaining: 23.8s\n",
            "69:\tlearn: 0.6909327\ttest: 0.7540131\tbest: 0.7540131 (69)\ttotal: 1.79s\tremaining: 23.8s\n",
            "70:\tlearn: 0.6904780\ttest: 0.7538283\tbest: 0.7538283 (70)\ttotal: 1.81s\tremaining: 23.7s\n",
            "71:\tlearn: 0.6898037\ttest: 0.7532671\tbest: 0.7532671 (71)\ttotal: 1.84s\tremaining: 23.7s\n",
            "72:\tlearn: 0.6894779\ttest: 0.7530980\tbest: 0.7530980 (72)\ttotal: 1.86s\tremaining: 23.6s\n",
            "73:\tlearn: 0.6888766\ttest: 0.7528663\tbest: 0.7528663 (73)\ttotal: 1.88s\tremaining: 23.6s\n",
            "74:\tlearn: 0.6883261\ttest: 0.7527690\tbest: 0.7527690 (74)\ttotal: 1.91s\tremaining: 23.6s\n",
            "75:\tlearn: 0.6878969\ttest: 0.7525900\tbest: 0.7525900 (75)\ttotal: 1.93s\tremaining: 23.5s\n",
            "76:\tlearn: 0.6872759\ttest: 0.7523308\tbest: 0.7523308 (76)\ttotal: 1.97s\tremaining: 23.6s\n",
            "77:\tlearn: 0.6867303\ttest: 0.7522195\tbest: 0.7522195 (77)\ttotal: 2s\tremaining: 23.6s\n",
            "78:\tlearn: 0.6862199\ttest: 0.7518338\tbest: 0.7518338 (78)\ttotal: 2.03s\tremaining: 23.6s\n",
            "79:\tlearn: 0.6855242\ttest: 0.7515708\tbest: 0.7515708 (79)\ttotal: 2.05s\tremaining: 23.6s\n",
            "80:\tlearn: 0.6850765\ttest: 0.7511424\tbest: 0.7511424 (80)\ttotal: 2.08s\tremaining: 23.6s\n",
            "81:\tlearn: 0.6844270\ttest: 0.7510866\tbest: 0.7510866 (81)\ttotal: 2.1s\tremaining: 23.5s\n",
            "82:\tlearn: 0.6840292\ttest: 0.7508788\tbest: 0.7508788 (82)\ttotal: 2.13s\tremaining: 23.6s\n",
            "83:\tlearn: 0.6835573\ttest: 0.7507738\tbest: 0.7507738 (83)\ttotal: 2.15s\tremaining: 23.5s\n",
            "84:\tlearn: 0.6832437\ttest: 0.7505888\tbest: 0.7505888 (84)\ttotal: 2.18s\tremaining: 23.5s\n",
            "85:\tlearn: 0.6827398\ttest: 0.7505483\tbest: 0.7505483 (85)\ttotal: 2.21s\tremaining: 23.5s\n",
            "86:\tlearn: 0.6823329\ttest: 0.7503601\tbest: 0.7503601 (86)\ttotal: 2.24s\tremaining: 23.5s\n",
            "87:\tlearn: 0.6819391\ttest: 0.7501571\tbest: 0.7501571 (87)\ttotal: 2.26s\tremaining: 23.4s\n",
            "88:\tlearn: 0.6816202\ttest: 0.7500648\tbest: 0.7500648 (88)\ttotal: 2.28s\tremaining: 23.4s\n",
            "89:\tlearn: 0.6811622\ttest: 0.7499468\tbest: 0.7499468 (89)\ttotal: 2.31s\tremaining: 23.3s\n",
            "90:\tlearn: 0.6803037\ttest: 0.7497690\tbest: 0.7497690 (90)\ttotal: 2.33s\tremaining: 23.3s\n",
            "91:\tlearn: 0.6800338\ttest: 0.7497804\tbest: 0.7497690 (90)\ttotal: 2.36s\tremaining: 23.3s\n",
            "92:\tlearn: 0.6797866\ttest: 0.7498584\tbest: 0.7497690 (90)\ttotal: 2.38s\tremaining: 23.2s\n",
            "93:\tlearn: 0.6793839\ttest: 0.7496577\tbest: 0.7496577 (93)\ttotal: 2.41s\tremaining: 23.2s\n",
            "94:\tlearn: 0.6791517\ttest: 0.7494508\tbest: 0.7494508 (94)\ttotal: 2.43s\tremaining: 23.2s\n",
            "95:\tlearn: 0.6786635\ttest: 0.7492114\tbest: 0.7492114 (95)\ttotal: 2.46s\tremaining: 23.1s\n",
            "96:\tlearn: 0.6781693\ttest: 0.7491636\tbest: 0.7491636 (96)\ttotal: 2.48s\tremaining: 23.1s\n",
            "97:\tlearn: 0.6778700\ttest: 0.7490703\tbest: 0.7490703 (97)\ttotal: 2.5s\tremaining: 23s\n",
            "98:\tlearn: 0.6771318\ttest: 0.7485251\tbest: 0.7485251 (98)\ttotal: 2.53s\tremaining: 23s\n",
            "99:\tlearn: 0.6768754\ttest: 0.7483841\tbest: 0.7483841 (99)\ttotal: 2.55s\tremaining: 23s\n",
            "100:\tlearn: 0.6765735\ttest: 0.7483997\tbest: 0.7483841 (99)\ttotal: 2.57s\tremaining: 22.9s\n",
            "101:\tlearn: 0.6759891\ttest: 0.7483568\tbest: 0.7483568 (101)\ttotal: 2.6s\tremaining: 22.9s\n",
            "102:\tlearn: 0.6756063\ttest: 0.7481154\tbest: 0.7481154 (102)\ttotal: 2.62s\tremaining: 22.9s\n",
            "103:\tlearn: 0.6752289\ttest: 0.7478226\tbest: 0.7478226 (103)\ttotal: 2.65s\tremaining: 22.8s\n",
            "104:\tlearn: 0.6745121\ttest: 0.7478581\tbest: 0.7478226 (103)\ttotal: 2.67s\tremaining: 22.8s\n",
            "105:\tlearn: 0.6740508\ttest: 0.7477473\tbest: 0.7477473 (105)\ttotal: 2.69s\tremaining: 22.7s\n",
            "106:\tlearn: 0.6737034\ttest: 0.7475621\tbest: 0.7475621 (106)\ttotal: 2.72s\tremaining: 22.7s\n",
            "107:\tlearn: 0.6731917\ttest: 0.7475006\tbest: 0.7475006 (107)\ttotal: 2.74s\tremaining: 22.6s\n",
            "108:\tlearn: 0.6730210\ttest: 0.7473425\tbest: 0.7473425 (108)\ttotal: 2.77s\tremaining: 22.6s\n",
            "109:\tlearn: 0.6722661\ttest: 0.7470321\tbest: 0.7470321 (109)\ttotal: 2.79s\tremaining: 22.6s\n",
            "110:\tlearn: 0.6717748\ttest: 0.7471156\tbest: 0.7470321 (109)\ttotal: 2.81s\tremaining: 22.5s\n",
            "111:\tlearn: 0.6710602\ttest: 0.7465900\tbest: 0.7465900 (111)\ttotal: 2.84s\tremaining: 22.5s\n",
            "112:\tlearn: 0.6704833\ttest: 0.7465313\tbest: 0.7465313 (112)\ttotal: 2.86s\tremaining: 22.5s\n",
            "113:\tlearn: 0.6702652\ttest: 0.7463565\tbest: 0.7463565 (113)\ttotal: 2.89s\tremaining: 22.4s\n",
            "114:\tlearn: 0.6697598\ttest: 0.7464663\tbest: 0.7463565 (113)\ttotal: 2.91s\tremaining: 22.4s\n",
            "115:\tlearn: 0.6692358\ttest: 0.7458452\tbest: 0.7458452 (115)\ttotal: 2.93s\tremaining: 22.4s\n",
            "116:\tlearn: 0.6686811\ttest: 0.7456453\tbest: 0.7456453 (116)\ttotal: 2.96s\tremaining: 22.3s\n",
            "117:\tlearn: 0.6681447\ttest: 0.7455436\tbest: 0.7455436 (117)\ttotal: 2.98s\tremaining: 22.3s\n",
            "118:\tlearn: 0.6677728\ttest: 0.7456919\tbest: 0.7455436 (117)\ttotal: 3.02s\tremaining: 22.4s\n",
            "119:\tlearn: 0.6672730\ttest: 0.7455854\tbest: 0.7455436 (117)\ttotal: 3.05s\tremaining: 22.4s\n",
            "120:\tlearn: 0.6665530\ttest: 0.7456114\tbest: 0.7455436 (117)\ttotal: 3.08s\tremaining: 22.3s\n",
            "121:\tlearn: 0.6660789\ttest: 0.7456679\tbest: 0.7455436 (117)\ttotal: 3.1s\tremaining: 22.3s\n",
            "122:\tlearn: 0.6657467\ttest: 0.7456124\tbest: 0.7455436 (117)\ttotal: 3.14s\tremaining: 22.4s\n",
            "123:\tlearn: 0.6655615\ttest: 0.7455898\tbest: 0.7455436 (117)\ttotal: 3.17s\tremaining: 22.4s\n",
            "124:\tlearn: 0.6655111\ttest: 0.7456078\tbest: 0.7455436 (117)\ttotal: 3.2s\tremaining: 22.4s\n",
            "125:\tlearn: 0.6649606\ttest: 0.7454403\tbest: 0.7454403 (125)\ttotal: 3.22s\tremaining: 22.3s\n",
            "126:\tlearn: 0.6646036\ttest: 0.7453215\tbest: 0.7453215 (126)\ttotal: 3.24s\tremaining: 22.3s\n",
            "127:\tlearn: 0.6640584\ttest: 0.7451229\tbest: 0.7451229 (127)\ttotal: 3.27s\tremaining: 22.3s\n",
            "128:\tlearn: 0.6636678\ttest: 0.7450924\tbest: 0.7450924 (128)\ttotal: 3.3s\tremaining: 22.3s\n",
            "129:\tlearn: 0.6631481\ttest: 0.7449333\tbest: 0.7449333 (129)\ttotal: 3.32s\tremaining: 22.2s\n",
            "130:\tlearn: 0.6626591\ttest: 0.7449139\tbest: 0.7449139 (130)\ttotal: 3.34s\tremaining: 22.2s\n",
            "131:\tlearn: 0.6622008\ttest: 0.7446693\tbest: 0.7446693 (131)\ttotal: 3.37s\tremaining: 22.2s\n",
            "132:\tlearn: 0.6618780\ttest: 0.7443917\tbest: 0.7443917 (132)\ttotal: 3.39s\tremaining: 22.1s\n",
            "133:\tlearn: 0.6614103\ttest: 0.7443510\tbest: 0.7443510 (133)\ttotal: 3.42s\tremaining: 22.1s\n",
            "134:\tlearn: 0.6611152\ttest: 0.7443189\tbest: 0.7443189 (134)\ttotal: 3.44s\tremaining: 22.1s\n",
            "135:\tlearn: 0.6606373\ttest: 0.7443682\tbest: 0.7443189 (134)\ttotal: 3.46s\tremaining: 22s\n",
            "136:\tlearn: 0.6603134\ttest: 0.7444539\tbest: 0.7443189 (134)\ttotal: 3.5s\tremaining: 22.1s\n",
            "137:\tlearn: 0.6601160\ttest: 0.7442831\tbest: 0.7442831 (137)\ttotal: 3.53s\tremaining: 22s\n",
            "138:\tlearn: 0.6597712\ttest: 0.7441290\tbest: 0.7441290 (138)\ttotal: 3.55s\tremaining: 22s\n",
            "139:\tlearn: 0.6593348\ttest: 0.7441595\tbest: 0.7441290 (138)\ttotal: 3.58s\tremaining: 22s\n",
            "140:\tlearn: 0.6587280\ttest: 0.7436358\tbest: 0.7436358 (140)\ttotal: 3.6s\tremaining: 22s\n",
            "141:\tlearn: 0.6584527\ttest: 0.7435856\tbest: 0.7435856 (141)\ttotal: 3.63s\tremaining: 21.9s\n",
            "142:\tlearn: 0.6578561\ttest: 0.7435381\tbest: 0.7435381 (142)\ttotal: 3.65s\tremaining: 21.9s\n",
            "143:\tlearn: 0.6574718\ttest: 0.7433019\tbest: 0.7433019 (143)\ttotal: 3.68s\tremaining: 21.9s\n",
            "144:\tlearn: 0.6571046\ttest: 0.7430833\tbest: 0.7430833 (144)\ttotal: 3.71s\tremaining: 21.9s\n",
            "145:\tlearn: 0.6568169\ttest: 0.7429136\tbest: 0.7429136 (145)\ttotal: 3.74s\tremaining: 21.9s\n",
            "146:\tlearn: 0.6562003\ttest: 0.7427879\tbest: 0.7427879 (146)\ttotal: 3.77s\tremaining: 21.8s\n",
            "147:\tlearn: 0.6560277\ttest: 0.7428524\tbest: 0.7427879 (146)\ttotal: 3.79s\tremaining: 21.8s\n",
            "148:\tlearn: 0.6557901\ttest: 0.7428438\tbest: 0.7427879 (146)\ttotal: 3.81s\tremaining: 21.8s\n",
            "149:\tlearn: 0.6553726\ttest: 0.7427855\tbest: 0.7427855 (149)\ttotal: 3.83s\tremaining: 21.7s\n",
            "150:\tlearn: 0.6550029\ttest: 0.7427355\tbest: 0.7427355 (150)\ttotal: 3.86s\tremaining: 21.7s\n",
            "151:\tlearn: 0.6544153\ttest: 0.7424548\tbest: 0.7424548 (151)\ttotal: 3.88s\tremaining: 21.7s\n",
            "152:\tlearn: 0.6541693\ttest: 0.7423776\tbest: 0.7423776 (152)\ttotal: 3.9s\tremaining: 21.6s\n",
            "153:\tlearn: 0.6540746\ttest: 0.7424252\tbest: 0.7423776 (152)\ttotal: 3.93s\tremaining: 21.6s\n",
            "154:\tlearn: 0.6535035\ttest: 0.7423751\tbest: 0.7423751 (154)\ttotal: 3.96s\tremaining: 21.6s\n",
            "155:\tlearn: 0.6528838\ttest: 0.7423726\tbest: 0.7423726 (155)\ttotal: 3.98s\tremaining: 21.5s\n",
            "156:\tlearn: 0.6523627\ttest: 0.7422148\tbest: 0.7422148 (156)\ttotal: 4.01s\tremaining: 21.6s\n",
            "157:\tlearn: 0.6519656\ttest: 0.7420993\tbest: 0.7420993 (157)\ttotal: 4.05s\tremaining: 21.6s\n",
            "158:\tlearn: 0.6519252\ttest: 0.7420741\tbest: 0.7420741 (158)\ttotal: 4.07s\tremaining: 21.5s\n",
            "159:\tlearn: 0.6514896\ttest: 0.7418010\tbest: 0.7418010 (159)\ttotal: 4.09s\tremaining: 21.5s\n",
            "160:\tlearn: 0.6510455\ttest: 0.7417031\tbest: 0.7417031 (160)\ttotal: 4.12s\tremaining: 21.5s\n",
            "161:\tlearn: 0.6504710\ttest: 0.7416586\tbest: 0.7416586 (161)\ttotal: 4.16s\tremaining: 21.5s\n",
            "162:\tlearn: 0.6504457\ttest: 0.7416594\tbest: 0.7416586 (161)\ttotal: 4.18s\tremaining: 21.5s\n",
            "163:\tlearn: 0.6497593\ttest: 0.7415274\tbest: 0.7415274 (163)\ttotal: 4.21s\tremaining: 21.4s\n",
            "164:\tlearn: 0.6489942\ttest: 0.7414233\tbest: 0.7414233 (164)\ttotal: 4.23s\tremaining: 21.4s\n",
            "165:\tlearn: 0.6489631\ttest: 0.7414270\tbest: 0.7414233 (164)\ttotal: 4.25s\tremaining: 21.4s\n",
            "166:\tlearn: 0.6485215\ttest: 0.7413405\tbest: 0.7413405 (166)\ttotal: 4.28s\tremaining: 21.3s\n",
            "167:\tlearn: 0.6484956\ttest: 0.7413630\tbest: 0.7413405 (166)\ttotal: 4.3s\tremaining: 21.3s\n",
            "168:\tlearn: 0.6479436\ttest: 0.7413378\tbest: 0.7413378 (168)\ttotal: 4.32s\tremaining: 21.3s\n",
            "169:\tlearn: 0.6474311\ttest: 0.7413816\tbest: 0.7413378 (168)\ttotal: 4.35s\tremaining: 21.2s\n",
            "170:\tlearn: 0.6468332\ttest: 0.7412700\tbest: 0.7412700 (170)\ttotal: 4.37s\tremaining: 21.2s\n",
            "171:\tlearn: 0.6465007\ttest: 0.7414146\tbest: 0.7412700 (170)\ttotal: 4.4s\tremaining: 21.2s\n",
            "172:\tlearn: 0.6457510\ttest: 0.7411253\tbest: 0.7411253 (172)\ttotal: 4.42s\tremaining: 21.1s\n",
            "173:\tlearn: 0.6454176\ttest: 0.7412060\tbest: 0.7411253 (172)\ttotal: 4.45s\tremaining: 21.1s\n",
            "174:\tlearn: 0.6453806\ttest: 0.7411906\tbest: 0.7411253 (172)\ttotal: 4.47s\tremaining: 21.1s\n",
            "175:\tlearn: 0.6446910\ttest: 0.7411267\tbest: 0.7411253 (172)\ttotal: 4.49s\tremaining: 21s\n",
            "176:\tlearn: 0.6445834\ttest: 0.7410477\tbest: 0.7410477 (176)\ttotal: 4.51s\tremaining: 21s\n",
            "177:\tlearn: 0.6440465\ttest: 0.7409903\tbest: 0.7409903 (177)\ttotal: 4.54s\tremaining: 21s\n",
            "178:\tlearn: 0.6440215\ttest: 0.7409762\tbest: 0.7409762 (178)\ttotal: 4.57s\tremaining: 21s\n",
            "179:\tlearn: 0.6435725\ttest: 0.7408481\tbest: 0.7408481 (179)\ttotal: 4.6s\tremaining: 20.9s\n",
            "180:\tlearn: 0.6435479\ttest: 0.7408407\tbest: 0.7408407 (180)\ttotal: 4.62s\tremaining: 20.9s\n",
            "181:\tlearn: 0.6435256\ttest: 0.7408396\tbest: 0.7408396 (181)\ttotal: 4.64s\tremaining: 20.9s\n",
            "182:\tlearn: 0.6431777\ttest: 0.7406871\tbest: 0.7406871 (182)\ttotal: 4.67s\tremaining: 20.8s\n",
            "183:\tlearn: 0.6431559\ttest: 0.7406757\tbest: 0.7406757 (183)\ttotal: 4.69s\tremaining: 20.8s\n",
            "184:\tlearn: 0.6429050\ttest: 0.7406019\tbest: 0.7406019 (184)\ttotal: 4.71s\tremaining: 20.8s\n",
            "185:\tlearn: 0.6428804\ttest: 0.7406003\tbest: 0.7406003 (185)\ttotal: 4.73s\tremaining: 20.7s\n",
            "186:\tlearn: 0.6422350\ttest: 0.7405055\tbest: 0.7405055 (186)\ttotal: 4.76s\tremaining: 20.7s\n",
            "187:\tlearn: 0.6417683\ttest: 0.7403580\tbest: 0.7403580 (187)\ttotal: 4.78s\tremaining: 20.6s\n",
            "188:\tlearn: 0.6411546\ttest: 0.7401383\tbest: 0.7401383 (188)\ttotal: 4.81s\tremaining: 20.6s\n",
            "189:\tlearn: 0.6411353\ttest: 0.7401631\tbest: 0.7401383 (188)\ttotal: 4.83s\tremaining: 20.6s\n",
            "190:\tlearn: 0.6406917\ttest: 0.7401004\tbest: 0.7401004 (190)\ttotal: 4.85s\tremaining: 20.5s\n",
            "191:\tlearn: 0.6406721\ttest: 0.7400906\tbest: 0.7400906 (191)\ttotal: 4.87s\tremaining: 20.5s\n",
            "192:\tlearn: 0.6402162\ttest: 0.7400238\tbest: 0.7400238 (192)\ttotal: 4.9s\tremaining: 20.5s\n",
            "193:\tlearn: 0.6398298\ttest: 0.7399792\tbest: 0.7399792 (193)\ttotal: 4.92s\tremaining: 20.4s\n",
            "194:\tlearn: 0.6398109\ttest: 0.7399699\tbest: 0.7399699 (194)\ttotal: 4.94s\tremaining: 20.4s\n",
            "195:\tlearn: 0.6392666\ttest: 0.7397736\tbest: 0.7397736 (195)\ttotal: 4.97s\tremaining: 20.4s\n",
            "196:\tlearn: 0.6387041\ttest: 0.7398843\tbest: 0.7397736 (195)\ttotal: 4.99s\tremaining: 20.4s\n",
            "197:\tlearn: 0.6379739\ttest: 0.7395535\tbest: 0.7395535 (197)\ttotal: 5.04s\tremaining: 20.4s\n",
            "198:\tlearn: 0.6379550\ttest: 0.7395444\tbest: 0.7395444 (198)\ttotal: 5.07s\tremaining: 20.4s\n",
            "199:\tlearn: 0.6379376\ttest: 0.7395218\tbest: 0.7395218 (199)\ttotal: 5.09s\tremaining: 20.4s\n",
            "200:\tlearn: 0.6374107\ttest: 0.7395098\tbest: 0.7395098 (200)\ttotal: 5.12s\tremaining: 20.3s\n",
            "201:\tlearn: 0.6371406\ttest: 0.7394081\tbest: 0.7394081 (201)\ttotal: 5.14s\tremaining: 20.3s\n",
            "202:\tlearn: 0.6368465\ttest: 0.7394194\tbest: 0.7394081 (201)\ttotal: 5.17s\tremaining: 20.3s\n",
            "203:\tlearn: 0.6362979\ttest: 0.7393393\tbest: 0.7393393 (203)\ttotal: 5.2s\tremaining: 20.3s\n",
            "204:\tlearn: 0.6362729\ttest: 0.7393593\tbest: 0.7393393 (203)\ttotal: 5.22s\tremaining: 20.2s\n",
            "205:\tlearn: 0.6359414\ttest: 0.7392452\tbest: 0.7392452 (205)\ttotal: 5.25s\tremaining: 20.2s\n",
            "206:\tlearn: 0.6356753\ttest: 0.7390845\tbest: 0.7390845 (206)\ttotal: 5.27s\tremaining: 20.2s\n",
            "207:\tlearn: 0.6351693\ttest: 0.7391067\tbest: 0.7390845 (206)\ttotal: 5.29s\tremaining: 20.2s\n",
            "208:\tlearn: 0.6347233\ttest: 0.7389330\tbest: 0.7389330 (208)\ttotal: 5.32s\tremaining: 20.1s\n",
            "209:\tlearn: 0.6343323\ttest: 0.7387675\tbest: 0.7387675 (209)\ttotal: 5.34s\tremaining: 20.1s\n",
            "210:\tlearn: 0.6338290\ttest: 0.7387956\tbest: 0.7387675 (209)\ttotal: 5.37s\tremaining: 20.1s\n",
            "211:\tlearn: 0.6333917\ttest: 0.7385814\tbest: 0.7385814 (211)\ttotal: 5.4s\tremaining: 20.1s\n",
            "212:\tlearn: 0.6329166\ttest: 0.7384716\tbest: 0.7384716 (212)\ttotal: 5.42s\tremaining: 20s\n",
            "213:\tlearn: 0.6324039\ttest: 0.7383811\tbest: 0.7383811 (213)\ttotal: 5.45s\tremaining: 20s\n",
            "214:\tlearn: 0.6317748\ttest: 0.7384018\tbest: 0.7383811 (213)\ttotal: 5.47s\tremaining: 20s\n",
            "215:\tlearn: 0.6311816\ttest: 0.7385463\tbest: 0.7383811 (213)\ttotal: 5.5s\tremaining: 20s\n",
            "216:\tlearn: 0.6309255\ttest: 0.7385814\tbest: 0.7383811 (213)\ttotal: 5.52s\tremaining: 19.9s\n",
            "217:\tlearn: 0.6306242\ttest: 0.7384491\tbest: 0.7383811 (213)\ttotal: 5.54s\tremaining: 19.9s\n",
            "218:\tlearn: 0.6301811\ttest: 0.7384787\tbest: 0.7383811 (213)\ttotal: 5.57s\tremaining: 19.9s\n",
            "219:\tlearn: 0.6298148\ttest: 0.7384476\tbest: 0.7383811 (213)\ttotal: 5.59s\tremaining: 19.8s\n",
            "220:\tlearn: 0.6293481\ttest: 0.7384649\tbest: 0.7383811 (213)\ttotal: 5.62s\tremaining: 19.8s\n",
            "221:\tlearn: 0.6288973\ttest: 0.7383453\tbest: 0.7383453 (221)\ttotal: 5.64s\tremaining: 19.8s\n",
            "222:\tlearn: 0.6285673\ttest: 0.7383477\tbest: 0.7383453 (221)\ttotal: 5.67s\tremaining: 19.8s\n",
            "223:\tlearn: 0.6283346\ttest: 0.7384563\tbest: 0.7383453 (221)\ttotal: 5.69s\tremaining: 19.7s\n",
            "224:\tlearn: 0.6279127\ttest: 0.7382586\tbest: 0.7382586 (224)\ttotal: 5.71s\tremaining: 19.7s\n",
            "225:\tlearn: 0.6274178\ttest: 0.7382305\tbest: 0.7382305 (225)\ttotal: 5.74s\tremaining: 19.7s\n",
            "226:\tlearn: 0.6270983\ttest: 0.7380050\tbest: 0.7380050 (226)\ttotal: 5.76s\tremaining: 19.6s\n",
            "227:\tlearn: 0.6266932\ttest: 0.7378802\tbest: 0.7378802 (227)\ttotal: 5.79s\tremaining: 19.6s\n",
            "228:\tlearn: 0.6263117\ttest: 0.7377793\tbest: 0.7377793 (228)\ttotal: 5.81s\tremaining: 19.6s\n",
            "229:\tlearn: 0.6259228\ttest: 0.7376650\tbest: 0.7376650 (229)\ttotal: 5.83s\tremaining: 19.5s\n",
            "230:\tlearn: 0.6255502\ttest: 0.7377079\tbest: 0.7376650 (229)\ttotal: 5.86s\tremaining: 19.5s\n",
            "231:\tlearn: 0.6251856\ttest: 0.7376812\tbest: 0.7376650 (229)\ttotal: 5.89s\tremaining: 19.5s\n",
            "232:\tlearn: 0.6248385\ttest: 0.7374774\tbest: 0.7374774 (232)\ttotal: 5.91s\tremaining: 19.5s\n",
            "233:\tlearn: 0.6242896\ttest: 0.7374507\tbest: 0.7374507 (233)\ttotal: 5.94s\tremaining: 19.4s\n",
            "234:\tlearn: 0.6238942\ttest: 0.7374393\tbest: 0.7374393 (234)\ttotal: 5.96s\tremaining: 19.4s\n",
            "235:\tlearn: 0.6232709\ttest: 0.7374679\tbest: 0.7374393 (234)\ttotal: 5.99s\tremaining: 19.4s\n",
            "236:\tlearn: 0.6227903\ttest: 0.7375325\tbest: 0.7374393 (234)\ttotal: 6.02s\tremaining: 19.4s\n",
            "237:\tlearn: 0.6227771\ttest: 0.7375550\tbest: 0.7374393 (234)\ttotal: 6.07s\tremaining: 19.4s\n",
            "238:\tlearn: 0.6223929\ttest: 0.7375641\tbest: 0.7374393 (234)\ttotal: 6.09s\tremaining: 19.4s\n",
            "239:\tlearn: 0.6218635\ttest: 0.7377644\tbest: 0.7374393 (234)\ttotal: 6.12s\tremaining: 19.4s\n",
            "240:\tlearn: 0.6218498\ttest: 0.7377682\tbest: 0.7374393 (234)\ttotal: 6.14s\tremaining: 19.4s\n",
            "241:\tlearn: 0.6212423\ttest: 0.7376646\tbest: 0.7374393 (234)\ttotal: 6.18s\tremaining: 19.4s\n",
            "242:\tlearn: 0.6207005\ttest: 0.7375500\tbest: 0.7374393 (234)\ttotal: 6.21s\tremaining: 19.3s\n",
            "243:\tlearn: 0.6202659\ttest: 0.7374955\tbest: 0.7374393 (234)\ttotal: 6.23s\tremaining: 19.3s\n",
            "244:\tlearn: 0.6198141\ttest: 0.7375714\tbest: 0.7374393 (234)\ttotal: 6.26s\tremaining: 19.3s\n",
            "245:\tlearn: 0.6193191\ttest: 0.7375965\tbest: 0.7374393 (234)\ttotal: 6.28s\tremaining: 19.3s\n",
            "246:\tlearn: 0.6188459\ttest: 0.7376725\tbest: 0.7374393 (234)\ttotal: 6.31s\tremaining: 19.2s\n",
            "247:\tlearn: 0.6184740\ttest: 0.7375515\tbest: 0.7374393 (234)\ttotal: 6.34s\tremaining: 19.2s\n",
            "248:\tlearn: 0.6184559\ttest: 0.7375552\tbest: 0.7374393 (234)\ttotal: 6.36s\tremaining: 19.2s\n",
            "249:\tlearn: 0.6180465\ttest: 0.7376093\tbest: 0.7374393 (234)\ttotal: 6.38s\tremaining: 19.2s\n",
            "250:\tlearn: 0.6174610\ttest: 0.7373362\tbest: 0.7373362 (250)\ttotal: 6.41s\tremaining: 19.1s\n",
            "251:\tlearn: 0.6174451\ttest: 0.7373358\tbest: 0.7373358 (251)\ttotal: 6.43s\tremaining: 19.1s\n",
            "252:\tlearn: 0.6169370\ttest: 0.7372704\tbest: 0.7372704 (252)\ttotal: 6.46s\tremaining: 19.1s\n",
            "253:\tlearn: 0.6167258\ttest: 0.7371792\tbest: 0.7371792 (253)\ttotal: 6.48s\tremaining: 19s\n",
            "254:\tlearn: 0.6163748\ttest: 0.7372014\tbest: 0.7371792 (253)\ttotal: 6.5s\tremaining: 19s\n",
            "255:\tlearn: 0.6162941\ttest: 0.7372206\tbest: 0.7371792 (253)\ttotal: 6.53s\tremaining: 19s\n",
            "256:\tlearn: 0.6160813\ttest: 0.7373097\tbest: 0.7371792 (253)\ttotal: 6.56s\tremaining: 19s\n",
            "257:\tlearn: 0.6158190\ttest: 0.7372845\tbest: 0.7371792 (253)\ttotal: 6.58s\tremaining: 18.9s\n",
            "258:\tlearn: 0.6154055\ttest: 0.7372426\tbest: 0.7371792 (253)\ttotal: 6.61s\tremaining: 18.9s\n",
            "259:\tlearn: 0.6151424\ttest: 0.7373188\tbest: 0.7371792 (253)\ttotal: 6.63s\tremaining: 18.9s\n",
            "260:\tlearn: 0.6146856\ttest: 0.7372120\tbest: 0.7371792 (253)\ttotal: 6.65s\tremaining: 18.8s\n",
            "261:\tlearn: 0.6143099\ttest: 0.7371240\tbest: 0.7371240 (261)\ttotal: 6.68s\tremaining: 18.8s\n",
            "262:\tlearn: 0.6138976\ttest: 0.7372387\tbest: 0.7371240 (261)\ttotal: 6.7s\tremaining: 18.8s\n",
            "263:\tlearn: 0.6138822\ttest: 0.7372296\tbest: 0.7371240 (261)\ttotal: 6.73s\tremaining: 18.8s\n",
            "264:\tlearn: 0.6135855\ttest: 0.7372682\tbest: 0.7371240 (261)\ttotal: 6.75s\tremaining: 18.7s\n",
            "265:\tlearn: 0.6133203\ttest: 0.7373117\tbest: 0.7371240 (261)\ttotal: 6.78s\tremaining: 18.7s\n",
            "266:\tlearn: 0.6129418\ttest: 0.7373049\tbest: 0.7371240 (261)\ttotal: 6.8s\tremaining: 18.7s\n",
            "267:\tlearn: 0.6125414\ttest: 0.7373478\tbest: 0.7371240 (261)\ttotal: 6.82s\tremaining: 18.6s\n",
            "268:\tlearn: 0.6121030\ttest: 0.7372354\tbest: 0.7371240 (261)\ttotal: 6.85s\tremaining: 18.6s\n",
            "269:\tlearn: 0.6116279\ttest: 0.7369491\tbest: 0.7369491 (269)\ttotal: 6.87s\tremaining: 18.6s\n",
            "270:\tlearn: 0.6111426\ttest: 0.7370367\tbest: 0.7369491 (269)\ttotal: 6.89s\tremaining: 18.5s\n",
            "271:\tlearn: 0.6108935\ttest: 0.7369377\tbest: 0.7369377 (271)\ttotal: 6.92s\tremaining: 18.5s\n",
            "272:\tlearn: 0.6105225\ttest: 0.7370020\tbest: 0.7369377 (271)\ttotal: 6.94s\tremaining: 18.5s\n",
            "273:\tlearn: 0.6101774\ttest: 0.7369175\tbest: 0.7369175 (273)\ttotal: 6.97s\tremaining: 18.5s\n",
            "274:\tlearn: 0.6097437\ttest: 0.7368219\tbest: 0.7368219 (274)\ttotal: 6.99s\tremaining: 18.4s\n",
            "275:\tlearn: 0.6095044\ttest: 0.7367107\tbest: 0.7367107 (275)\ttotal: 7.02s\tremaining: 18.4s\n",
            "276:\tlearn: 0.6090760\ttest: 0.7365020\tbest: 0.7365020 (276)\ttotal: 7.04s\tremaining: 18.4s\n",
            "277:\tlearn: 0.6085784\ttest: 0.7363069\tbest: 0.7363069 (277)\ttotal: 7.09s\tremaining: 18.4s\n",
            "278:\tlearn: 0.6079049\ttest: 0.7360559\tbest: 0.7360559 (278)\ttotal: 7.12s\tremaining: 18.4s\n",
            "279:\tlearn: 0.6074651\ttest: 0.7360648\tbest: 0.7360559 (278)\ttotal: 7.15s\tremaining: 18.4s\n",
            "280:\tlearn: 0.6072012\ttest: 0.7362161\tbest: 0.7360559 (278)\ttotal: 7.18s\tremaining: 18.4s\n",
            "281:\tlearn: 0.6069342\ttest: 0.7361745\tbest: 0.7360559 (278)\ttotal: 7.21s\tremaining: 18.4s\n",
            "282:\tlearn: 0.6066693\ttest: 0.7360309\tbest: 0.7360309 (282)\ttotal: 7.23s\tremaining: 18.3s\n",
            "283:\tlearn: 0.6064383\ttest: 0.7359688\tbest: 0.7359688 (283)\ttotal: 7.25s\tremaining: 18.3s\n",
            "284:\tlearn: 0.6064230\ttest: 0.7359648\tbest: 0.7359648 (284)\ttotal: 7.27s\tremaining: 18.2s\n",
            "285:\tlearn: 0.6061521\ttest: 0.7359182\tbest: 0.7359182 (285)\ttotal: 7.29s\tremaining: 18.2s\n",
            "286:\tlearn: 0.6058932\ttest: 0.7358540\tbest: 0.7358540 (286)\ttotal: 7.32s\tremaining: 18.2s\n",
            "287:\tlearn: 0.6054906\ttest: 0.7359058\tbest: 0.7358540 (286)\ttotal: 7.34s\tremaining: 18.2s\n",
            "288:\tlearn: 0.6054730\ttest: 0.7359014\tbest: 0.7358540 (286)\ttotal: 7.36s\tremaining: 18.1s\n",
            "289:\tlearn: 0.6050830\ttest: 0.7358257\tbest: 0.7358257 (289)\ttotal: 7.39s\tremaining: 18.1s\n",
            "290:\tlearn: 0.6047017\ttest: 0.7357499\tbest: 0.7357499 (290)\ttotal: 7.42s\tremaining: 18.1s\n",
            "291:\tlearn: 0.6043184\ttest: 0.7357510\tbest: 0.7357499 (290)\ttotal: 7.44s\tremaining: 18s\n",
            "292:\tlearn: 0.6043090\ttest: 0.7357458\tbest: 0.7357458 (292)\ttotal: 7.46s\tremaining: 18s\n",
            "293:\tlearn: 0.6040395\ttest: 0.7358302\tbest: 0.7357458 (292)\ttotal: 7.48s\tremaining: 18s\n",
            "294:\tlearn: 0.6040308\ttest: 0.7358217\tbest: 0.7357458 (292)\ttotal: 7.5s\tremaining: 17.9s\n",
            "295:\tlearn: 0.6036273\ttest: 0.7357983\tbest: 0.7357458 (292)\ttotal: 7.53s\tremaining: 17.9s\n",
            "296:\tlearn: 0.6034049\ttest: 0.7358667\tbest: 0.7357458 (292)\ttotal: 7.55s\tremaining: 17.9s\n",
            "297:\tlearn: 0.6027088\ttest: 0.7357168\tbest: 0.7357168 (297)\ttotal: 7.58s\tremaining: 17.9s\n",
            "298:\tlearn: 0.6025547\ttest: 0.7357121\tbest: 0.7357121 (298)\ttotal: 7.61s\tremaining: 17.9s\n",
            "299:\tlearn: 0.6021582\ttest: 0.7356726\tbest: 0.7356726 (299)\ttotal: 7.64s\tremaining: 17.8s\n",
            "300:\tlearn: 0.6018701\ttest: 0.7355958\tbest: 0.7355958 (300)\ttotal: 7.66s\tremaining: 17.8s\n",
            "301:\tlearn: 0.6014001\ttest: 0.7357472\tbest: 0.7355958 (300)\ttotal: 7.69s\tremaining: 17.8s\n",
            "302:\tlearn: 0.6010939\ttest: 0.7357034\tbest: 0.7355958 (300)\ttotal: 7.71s\tremaining: 17.7s\n",
            "303:\tlearn: 0.6005015\ttest: 0.7357718\tbest: 0.7355958 (300)\ttotal: 7.74s\tremaining: 17.7s\n",
            "304:\tlearn: 0.6002374\ttest: 0.7357907\tbest: 0.7355958 (300)\ttotal: 7.76s\tremaining: 17.7s\n",
            "305:\tlearn: 0.5999530\ttest: 0.7357750\tbest: 0.7355958 (300)\ttotal: 7.78s\tremaining: 17.6s\n",
            "306:\tlearn: 0.5995059\ttest: 0.7357743\tbest: 0.7355958 (300)\ttotal: 7.8s\tremaining: 17.6s\n",
            "307:\tlearn: 0.5990225\ttest: 0.7357635\tbest: 0.7355958 (300)\ttotal: 7.83s\tremaining: 17.6s\n",
            "308:\tlearn: 0.5987695\ttest: 0.7356993\tbest: 0.7355958 (300)\ttotal: 7.86s\tremaining: 17.6s\n",
            "309:\tlearn: 0.5982900\ttest: 0.7355980\tbest: 0.7355958 (300)\ttotal: 7.88s\tremaining: 17.5s\n",
            "310:\tlearn: 0.5979299\ttest: 0.7355537\tbest: 0.7355537 (310)\ttotal: 7.9s\tremaining: 17.5s\n",
            "311:\tlearn: 0.5974403\ttest: 0.7354949\tbest: 0.7354949 (311)\ttotal: 7.93s\tremaining: 17.5s\n",
            "312:\tlearn: 0.5971776\ttest: 0.7354442\tbest: 0.7354442 (312)\ttotal: 7.95s\tremaining: 17.4s\n",
            "313:\tlearn: 0.5967038\ttest: 0.7355169\tbest: 0.7354442 (312)\ttotal: 7.97s\tremaining: 17.4s\n",
            "314:\tlearn: 0.5963683\ttest: 0.7355744\tbest: 0.7354442 (312)\ttotal: 8s\tremaining: 17.4s\n",
            "315:\tlearn: 0.5959267\ttest: 0.7353763\tbest: 0.7353763 (315)\ttotal: 8.03s\tremaining: 17.4s\n",
            "316:\tlearn: 0.5956306\ttest: 0.7354203\tbest: 0.7353763 (315)\ttotal: 8.05s\tremaining: 17.4s\n",
            "317:\tlearn: 0.5953418\ttest: 0.7354482\tbest: 0.7353763 (315)\ttotal: 8.11s\tremaining: 17.4s\n",
            "318:\tlearn: 0.5949480\ttest: 0.7354648\tbest: 0.7353763 (315)\ttotal: 8.13s\tremaining: 17.4s\n",
            "319:\tlearn: 0.5946524\ttest: 0.7352264\tbest: 0.7352264 (319)\ttotal: 8.16s\tremaining: 17.3s\n",
            "320:\tlearn: 0.5943164\ttest: 0.7351092\tbest: 0.7351092 (320)\ttotal: 8.19s\tremaining: 17.3s\n",
            "321:\tlearn: 0.5940466\ttest: 0.7350829\tbest: 0.7350829 (321)\ttotal: 8.21s\tremaining: 17.3s\n",
            "322:\tlearn: 0.5937529\ttest: 0.7350701\tbest: 0.7350701 (322)\ttotal: 8.24s\tremaining: 17.3s\n",
            "323:\tlearn: 0.5933970\ttest: 0.7349566\tbest: 0.7349566 (323)\ttotal: 8.26s\tremaining: 17.2s\n",
            "324:\tlearn: 0.5930011\ttest: 0.7350006\tbest: 0.7349566 (323)\ttotal: 8.29s\tremaining: 17.2s\n",
            "325:\tlearn: 0.5928230\ttest: 0.7350339\tbest: 0.7349566 (323)\ttotal: 8.31s\tremaining: 17.2s\n",
            "326:\tlearn: 0.5925059\ttest: 0.7350630\tbest: 0.7349566 (323)\ttotal: 8.34s\tremaining: 17.2s\n",
            "327:\tlearn: 0.5923034\ttest: 0.7349676\tbest: 0.7349566 (323)\ttotal: 8.36s\tremaining: 17.1s\n",
            "328:\tlearn: 0.5919757\ttest: 0.7348667\tbest: 0.7348667 (328)\ttotal: 8.39s\tremaining: 17.1s\n",
            "329:\tlearn: 0.5916756\ttest: 0.7347919\tbest: 0.7347919 (329)\ttotal: 8.41s\tremaining: 17.1s\n",
            "330:\tlearn: 0.5913166\ttest: 0.7347543\tbest: 0.7347543 (330)\ttotal: 8.44s\tremaining: 17s\n",
            "331:\tlearn: 0.5909168\ttest: 0.7348498\tbest: 0.7347543 (330)\ttotal: 8.46s\tremaining: 17s\n",
            "332:\tlearn: 0.5906300\ttest: 0.7347228\tbest: 0.7347228 (332)\ttotal: 8.49s\tremaining: 17s\n",
            "333:\tlearn: 0.5903096\ttest: 0.7347864\tbest: 0.7347228 (332)\ttotal: 8.52s\tremaining: 17s\n",
            "334:\tlearn: 0.5901463\ttest: 0.7347482\tbest: 0.7347228 (332)\ttotal: 8.54s\tremaining: 17s\n",
            "335:\tlearn: 0.5899163\ttest: 0.7347790\tbest: 0.7347228 (332)\ttotal: 8.57s\tremaining: 16.9s\n",
            "336:\tlearn: 0.5896223\ttest: 0.7348353\tbest: 0.7347228 (332)\ttotal: 8.59s\tremaining: 16.9s\n",
            "337:\tlearn: 0.5893810\ttest: 0.7346885\tbest: 0.7346885 (337)\ttotal: 8.62s\tremaining: 16.9s\n",
            "338:\tlearn: 0.5891603\ttest: 0.7347258\tbest: 0.7346885 (337)\ttotal: 8.64s\tremaining: 16.8s\n",
            "339:\tlearn: 0.5887875\ttest: 0.7346910\tbest: 0.7346885 (337)\ttotal: 8.66s\tremaining: 16.8s\n",
            "340:\tlearn: 0.5883808\ttest: 0.7347527\tbest: 0.7346885 (337)\ttotal: 8.69s\tremaining: 16.8s\n",
            "341:\tlearn: 0.5881885\ttest: 0.7346536\tbest: 0.7346536 (341)\ttotal: 8.72s\tremaining: 16.8s\n",
            "342:\tlearn: 0.5879219\ttest: 0.7346662\tbest: 0.7346536 (341)\ttotal: 8.74s\tremaining: 16.7s\n",
            "343:\tlearn: 0.5875723\ttest: 0.7346778\tbest: 0.7346536 (341)\ttotal: 8.76s\tremaining: 16.7s\n",
            "344:\tlearn: 0.5871401\ttest: 0.7347293\tbest: 0.7346536 (341)\ttotal: 8.79s\tremaining: 16.7s\n",
            "345:\tlearn: 0.5869283\ttest: 0.7347742\tbest: 0.7346536 (341)\ttotal: 8.81s\tremaining: 16.7s\n",
            "346:\tlearn: 0.5866622\ttest: 0.7345931\tbest: 0.7345931 (346)\ttotal: 8.84s\tremaining: 16.6s\n",
            "347:\tlearn: 0.5863638\ttest: 0.7344785\tbest: 0.7344785 (347)\ttotal: 8.86s\tremaining: 16.6s\n",
            "348:\tlearn: 0.5860421\ttest: 0.7344840\tbest: 0.7344785 (347)\ttotal: 8.88s\tremaining: 16.6s\n",
            "349:\tlearn: 0.5857890\ttest: 0.7344458\tbest: 0.7344458 (349)\ttotal: 8.91s\tremaining: 16.5s\n",
            "350:\tlearn: 0.5854333\ttest: 0.7344741\tbest: 0.7344458 (349)\ttotal: 8.94s\tremaining: 16.5s\n",
            "351:\tlearn: 0.5851858\ttest: 0.7345572\tbest: 0.7344458 (349)\ttotal: 8.96s\tremaining: 16.5s\n",
            "352:\tlearn: 0.5849126\ttest: 0.7344512\tbest: 0.7344458 (349)\ttotal: 8.99s\tremaining: 16.5s\n",
            "353:\tlearn: 0.5846906\ttest: 0.7345031\tbest: 0.7344458 (349)\ttotal: 9.01s\tremaining: 16.4s\n",
            "354:\tlearn: 0.5842854\ttest: 0.7344358\tbest: 0.7344358 (354)\ttotal: 9.04s\tremaining: 16.4s\n",
            "355:\tlearn: 0.5839198\ttest: 0.7346118\tbest: 0.7344358 (354)\ttotal: 9.06s\tremaining: 16.4s\n",
            "356:\tlearn: 0.5836508\ttest: 0.7345747\tbest: 0.7344358 (354)\ttotal: 9.08s\tremaining: 16.4s\n",
            "357:\tlearn: 0.5833257\ttest: 0.7346220\tbest: 0.7344358 (354)\ttotal: 9.15s\tremaining: 16.4s\n",
            "358:\tlearn: 0.5829250\ttest: 0.7346092\tbest: 0.7344358 (354)\ttotal: 9.19s\tremaining: 16.4s\n",
            "359:\tlearn: 0.5825715\ttest: 0.7345932\tbest: 0.7344358 (354)\ttotal: 9.21s\tremaining: 16.4s\n",
            "360:\tlearn: 0.5820725\ttest: 0.7344916\tbest: 0.7344358 (354)\ttotal: 9.24s\tremaining: 16.4s\n",
            "361:\tlearn: 0.5817371\ttest: 0.7345161\tbest: 0.7344358 (354)\ttotal: 9.26s\tremaining: 16.3s\n",
            "362:\tlearn: 0.5815294\ttest: 0.7345448\tbest: 0.7344358 (354)\ttotal: 9.29s\tremaining: 16.3s\n",
            "363:\tlearn: 0.5810598\ttest: 0.7347545\tbest: 0.7344358 (354)\ttotal: 9.31s\tremaining: 16.3s\n",
            "364:\tlearn: 0.5807451\ttest: 0.7347657\tbest: 0.7344358 (354)\ttotal: 9.34s\tremaining: 16.2s\n",
            "365:\tlearn: 0.5805429\ttest: 0.7348338\tbest: 0.7344358 (354)\ttotal: 9.37s\tremaining: 16.2s\n",
            "366:\tlearn: 0.5801145\ttest: 0.7346900\tbest: 0.7344358 (354)\ttotal: 9.39s\tremaining: 16.2s\n",
            "367:\tlearn: 0.5798698\ttest: 0.7346671\tbest: 0.7344358 (354)\ttotal: 9.42s\tremaining: 16.2s\n",
            "368:\tlearn: 0.5795300\ttest: 0.7346610\tbest: 0.7344358 (354)\ttotal: 9.44s\tremaining: 16.1s\n",
            "369:\tlearn: 0.5793210\ttest: 0.7346380\tbest: 0.7344358 (354)\ttotal: 9.46s\tremaining: 16.1s\n",
            "370:\tlearn: 0.5788902\ttest: 0.7344557\tbest: 0.7344358 (354)\ttotal: 9.49s\tremaining: 16.1s\n",
            "371:\tlearn: 0.5785343\ttest: 0.7344002\tbest: 0.7344002 (371)\ttotal: 9.51s\tremaining: 16.1s\n",
            "372:\tlearn: 0.5782430\ttest: 0.7343879\tbest: 0.7343879 (372)\ttotal: 9.54s\tremaining: 16s\n",
            "373:\tlearn: 0.5779950\ttest: 0.7342156\tbest: 0.7342156 (373)\ttotal: 9.56s\tremaining: 16s\n",
            "374:\tlearn: 0.5776227\ttest: 0.7341822\tbest: 0.7341822 (374)\ttotal: 9.59s\tremaining: 16s\n",
            "375:\tlearn: 0.5772955\ttest: 0.7342711\tbest: 0.7341822 (374)\ttotal: 9.62s\tremaining: 16s\n",
            "376:\tlearn: 0.5768270\ttest: 0.7342432\tbest: 0.7341822 (374)\ttotal: 9.64s\tremaining: 15.9s\n",
            "377:\tlearn: 0.5765771\ttest: 0.7342557\tbest: 0.7341822 (374)\ttotal: 9.67s\tremaining: 15.9s\n",
            "378:\tlearn: 0.5761412\ttest: 0.7343126\tbest: 0.7341822 (374)\ttotal: 9.69s\tremaining: 15.9s\n",
            "379:\tlearn: 0.5758082\ttest: 0.7342570\tbest: 0.7341822 (374)\ttotal: 9.72s\tremaining: 15.9s\n",
            "380:\tlearn: 0.5754432\ttest: 0.7343195\tbest: 0.7341822 (374)\ttotal: 9.74s\tremaining: 15.8s\n",
            "381:\tlearn: 0.5751702\ttest: 0.7342376\tbest: 0.7341822 (374)\ttotal: 9.76s\tremaining: 15.8s\n",
            "382:\tlearn: 0.5749713\ttest: 0.7343012\tbest: 0.7341822 (374)\ttotal: 9.78s\tremaining: 15.8s\n",
            "383:\tlearn: 0.5747354\ttest: 0.7343149\tbest: 0.7341822 (374)\ttotal: 9.81s\tremaining: 15.7s\n",
            "384:\tlearn: 0.5743210\ttest: 0.7343190\tbest: 0.7341822 (374)\ttotal: 9.84s\tremaining: 15.7s\n",
            "385:\tlearn: 0.5739972\ttest: 0.7343647\tbest: 0.7341822 (374)\ttotal: 9.86s\tremaining: 15.7s\n",
            "386:\tlearn: 0.5737127\ttest: 0.7343814\tbest: 0.7341822 (374)\ttotal: 9.89s\tremaining: 15.7s\n",
            "387:\tlearn: 0.5732713\ttest: 0.7344023\tbest: 0.7341822 (374)\ttotal: 9.91s\tremaining: 15.6s\n",
            "388:\tlearn: 0.5730224\ttest: 0.7342848\tbest: 0.7341822 (374)\ttotal: 9.93s\tremaining: 15.6s\n",
            "389:\tlearn: 0.5727229\ttest: 0.7344098\tbest: 0.7341822 (374)\ttotal: 9.96s\tremaining: 15.6s\n",
            "390:\tlearn: 0.5724091\ttest: 0.7344421\tbest: 0.7341822 (374)\ttotal: 9.99s\tremaining: 15.6s\n",
            "391:\tlearn: 0.5720807\ttest: 0.7345158\tbest: 0.7341822 (374)\ttotal: 10s\tremaining: 15.5s\n",
            "392:\tlearn: 0.5717207\ttest: 0.7345634\tbest: 0.7341822 (374)\ttotal: 10s\tremaining: 15.5s\n",
            "393:\tlearn: 0.5714507\ttest: 0.7344145\tbest: 0.7341822 (374)\ttotal: 10.1s\tremaining: 15.5s\n",
            "394:\tlearn: 0.5713670\ttest: 0.7343399\tbest: 0.7341822 (374)\ttotal: 10.1s\tremaining: 15.5s\n",
            "395:\tlearn: 0.5709956\ttest: 0.7343793\tbest: 0.7341822 (374)\ttotal: 10.1s\tremaining: 15.4s\n",
            "396:\tlearn: 0.5706892\ttest: 0.7343133\tbest: 0.7341822 (374)\ttotal: 10.2s\tremaining: 15.5s\n",
            "397:\tlearn: 0.5704122\ttest: 0.7342004\tbest: 0.7341822 (374)\ttotal: 10.2s\tremaining: 15.4s\n",
            "398:\tlearn: 0.5700636\ttest: 0.7341140\tbest: 0.7341140 (398)\ttotal: 10.2s\tremaining: 15.4s\n",
            "399:\tlearn: 0.5698598\ttest: 0.7339721\tbest: 0.7339721 (399)\ttotal: 10.3s\tremaining: 15.4s\n",
            "400:\tlearn: 0.5695770\ttest: 0.7339363\tbest: 0.7339363 (400)\ttotal: 10.3s\tremaining: 15.4s\n",
            "401:\tlearn: 0.5692391\ttest: 0.7339776\tbest: 0.7339363 (400)\ttotal: 10.3s\tremaining: 15.3s\n",
            "402:\tlearn: 0.5689061\ttest: 0.7339898\tbest: 0.7339363 (400)\ttotal: 10.3s\tremaining: 15.3s\n",
            "403:\tlearn: 0.5685925\ttest: 0.7339105\tbest: 0.7339105 (403)\ttotal: 10.4s\tremaining: 15.3s\n",
            "404:\tlearn: 0.5684480\ttest: 0.7339708\tbest: 0.7339105 (403)\ttotal: 10.4s\tremaining: 15.3s\n",
            "405:\tlearn: 0.5683722\ttest: 0.7339258\tbest: 0.7339105 (403)\ttotal: 10.4s\tremaining: 15.2s\n",
            "406:\tlearn: 0.5681655\ttest: 0.7339429\tbest: 0.7339105 (403)\ttotal: 10.4s\tremaining: 15.2s\n",
            "407:\tlearn: 0.5679551\ttest: 0.7339663\tbest: 0.7339105 (403)\ttotal: 10.5s\tremaining: 15.2s\n",
            "408:\tlearn: 0.5676326\ttest: 0.7339802\tbest: 0.7339105 (403)\ttotal: 10.5s\tremaining: 15.2s\n",
            "409:\tlearn: 0.5673858\ttest: 0.7339103\tbest: 0.7339103 (409)\ttotal: 10.5s\tremaining: 15.1s\n",
            "410:\tlearn: 0.5670640\ttest: 0.7337304\tbest: 0.7337304 (410)\ttotal: 10.5s\tremaining: 15.1s\n",
            "411:\tlearn: 0.5667029\ttest: 0.7337132\tbest: 0.7337132 (411)\ttotal: 10.6s\tremaining: 15.1s\n",
            "412:\tlearn: 0.5664280\ttest: 0.7337345\tbest: 0.7337132 (411)\ttotal: 10.6s\tremaining: 15s\n",
            "413:\tlearn: 0.5661413\ttest: 0.7338217\tbest: 0.7337132 (411)\ttotal: 10.6s\tremaining: 15s\n",
            "414:\tlearn: 0.5657934\ttest: 0.7337159\tbest: 0.7337132 (411)\ttotal: 10.6s\tremaining: 15s\n",
            "415:\tlearn: 0.5654510\ttest: 0.7337899\tbest: 0.7337132 (411)\ttotal: 10.7s\tremaining: 15s\n",
            "416:\tlearn: 0.5652868\ttest: 0.7338139\tbest: 0.7337132 (411)\ttotal: 10.7s\tremaining: 14.9s\n",
            "417:\tlearn: 0.5650764\ttest: 0.7337656\tbest: 0.7337132 (411)\ttotal: 10.7s\tremaining: 14.9s\n",
            "418:\tlearn: 0.5649389\ttest: 0.7337643\tbest: 0.7337132 (411)\ttotal: 10.7s\tremaining: 14.9s\n",
            "419:\tlearn: 0.5646777\ttest: 0.7337044\tbest: 0.7337044 (419)\ttotal: 10.8s\tremaining: 14.9s\n",
            "420:\tlearn: 0.5644880\ttest: 0.7337026\tbest: 0.7337026 (420)\ttotal: 10.8s\tremaining: 14.8s\n",
            "421:\tlearn: 0.5643024\ttest: 0.7336322\tbest: 0.7336322 (421)\ttotal: 10.8s\tremaining: 14.8s\n",
            "422:\tlearn: 0.5640364\ttest: 0.7337165\tbest: 0.7336322 (421)\ttotal: 10.8s\tremaining: 14.8s\n",
            "423:\tlearn: 0.5636779\ttest: 0.7335673\tbest: 0.7335673 (423)\ttotal: 10.9s\tremaining: 14.7s\n",
            "424:\tlearn: 0.5634317\ttest: 0.7334666\tbest: 0.7334666 (424)\ttotal: 10.9s\tremaining: 14.7s\n",
            "425:\tlearn: 0.5634204\ttest: 0.7334654\tbest: 0.7334654 (425)\ttotal: 10.9s\tremaining: 14.7s\n",
            "426:\tlearn: 0.5630534\ttest: 0.7334823\tbest: 0.7334654 (425)\ttotal: 10.9s\tremaining: 14.7s\n",
            "427:\tlearn: 0.5627649\ttest: 0.7335354\tbest: 0.7334654 (425)\ttotal: 11s\tremaining: 14.7s\n",
            "428:\tlearn: 0.5625748\ttest: 0.7335329\tbest: 0.7334654 (425)\ttotal: 11s\tremaining: 14.6s\n",
            "429:\tlearn: 0.5621846\ttest: 0.7337513\tbest: 0.7334654 (425)\ttotal: 11s\tremaining: 14.6s\n",
            "430:\tlearn: 0.5618873\ttest: 0.7337711\tbest: 0.7334654 (425)\ttotal: 11s\tremaining: 14.6s\n",
            "431:\tlearn: 0.5616386\ttest: 0.7337704\tbest: 0.7334654 (425)\ttotal: 11.1s\tremaining: 14.5s\n",
            "432:\tlearn: 0.5614121\ttest: 0.7338092\tbest: 0.7334654 (425)\ttotal: 11.1s\tremaining: 14.5s\n",
            "433:\tlearn: 0.5612117\ttest: 0.7338289\tbest: 0.7334654 (425)\ttotal: 11.1s\tremaining: 14.5s\n",
            "434:\tlearn: 0.5609112\ttest: 0.7338577\tbest: 0.7334654 (425)\ttotal: 11.1s\tremaining: 14.5s\n",
            "435:\tlearn: 0.5606185\ttest: 0.7338458\tbest: 0.7334654 (425)\ttotal: 11.2s\tremaining: 14.5s\n",
            "436:\tlearn: 0.5603522\ttest: 0.7338779\tbest: 0.7334654 (425)\ttotal: 11.2s\tremaining: 14.5s\n",
            "437:\tlearn: 0.5600802\ttest: 0.7338812\tbest: 0.7334654 (425)\ttotal: 11.3s\tremaining: 14.4s\n",
            "438:\tlearn: 0.5597889\ttest: 0.7339685\tbest: 0.7334654 (425)\ttotal: 11.3s\tremaining: 14.4s\n",
            "439:\tlearn: 0.5594008\ttest: 0.7339586\tbest: 0.7334654 (425)\ttotal: 11.3s\tremaining: 14.4s\n",
            "440:\tlearn: 0.5590433\ttest: 0.7339201\tbest: 0.7334654 (425)\ttotal: 11.3s\tremaining: 14.4s\n",
            "441:\tlearn: 0.5587226\ttest: 0.7338626\tbest: 0.7334654 (425)\ttotal: 11.4s\tremaining: 14.3s\n",
            "442:\tlearn: 0.5585507\ttest: 0.7338726\tbest: 0.7334654 (425)\ttotal: 11.4s\tremaining: 14.3s\n",
            "443:\tlearn: 0.5584401\ttest: 0.7338313\tbest: 0.7334654 (425)\ttotal: 11.4s\tremaining: 14.3s\n",
            "444:\tlearn: 0.5582501\ttest: 0.7338347\tbest: 0.7334654 (425)\ttotal: 11.4s\tremaining: 14.3s\n",
            "445:\tlearn: 0.5582413\ttest: 0.7338380\tbest: 0.7334654 (425)\ttotal: 11.5s\tremaining: 14.2s\n",
            "446:\tlearn: 0.5582175\ttest: 0.7338736\tbest: 0.7334654 (425)\ttotal: 11.5s\tremaining: 14.2s\n",
            "447:\tlearn: 0.5579759\ttest: 0.7339278\tbest: 0.7334654 (425)\ttotal: 11.5s\tremaining: 14.2s\n",
            "448:\tlearn: 0.5577836\ttest: 0.7338542\tbest: 0.7334654 (425)\ttotal: 11.5s\tremaining: 14.2s\n",
            "449:\tlearn: 0.5574839\ttest: 0.7339272\tbest: 0.7334654 (425)\ttotal: 11.6s\tremaining: 14.1s\n",
            "450:\tlearn: 0.5573901\ttest: 0.7339221\tbest: 0.7334654 (425)\ttotal: 11.6s\tremaining: 14.1s\n",
            "451:\tlearn: 0.5572796\ttest: 0.7339259\tbest: 0.7334654 (425)\ttotal: 11.6s\tremaining: 14.1s\n",
            "452:\tlearn: 0.5570820\ttest: 0.7339874\tbest: 0.7334654 (425)\ttotal: 11.6s\tremaining: 14s\n",
            "453:\tlearn: 0.5568120\ttest: 0.7339714\tbest: 0.7334654 (425)\ttotal: 11.7s\tremaining: 14s\n",
            "454:\tlearn: 0.5565982\ttest: 0.7341756\tbest: 0.7334654 (425)\ttotal: 11.7s\tremaining: 14s\n",
            "455:\tlearn: 0.5562770\ttest: 0.7340741\tbest: 0.7334654 (425)\ttotal: 11.7s\tremaining: 14s\n",
            "456:\tlearn: 0.5559570\ttest: 0.7341388\tbest: 0.7334654 (425)\ttotal: 11.7s\tremaining: 13.9s\n",
            "457:\tlearn: 0.5558487\ttest: 0.7340888\tbest: 0.7334654 (425)\ttotal: 11.7s\tremaining: 13.9s\n",
            "458:\tlearn: 0.5556387\ttest: 0.7341115\tbest: 0.7334654 (425)\ttotal: 11.8s\tremaining: 13.9s\n",
            "459:\tlearn: 0.5554110\ttest: 0.7340891\tbest: 0.7334654 (425)\ttotal: 11.8s\tremaining: 13.9s\n",
            "460:\tlearn: 0.5550848\ttest: 0.7338333\tbest: 0.7334654 (425)\ttotal: 11.8s\tremaining: 13.8s\n",
            "461:\tlearn: 0.5548669\ttest: 0.7336932\tbest: 0.7334654 (425)\ttotal: 11.8s\tremaining: 13.8s\n",
            "462:\tlearn: 0.5545293\ttest: 0.7336799\tbest: 0.7334654 (425)\ttotal: 11.9s\tremaining: 13.8s\n",
            "463:\tlearn: 0.5544651\ttest: 0.7336438\tbest: 0.7334654 (425)\ttotal: 11.9s\tremaining: 13.7s\n",
            "464:\tlearn: 0.5541789\ttest: 0.7336004\tbest: 0.7334654 (425)\ttotal: 11.9s\tremaining: 13.7s\n",
            "465:\tlearn: 0.5541706\ttest: 0.7336003\tbest: 0.7334654 (425)\ttotal: 11.9s\tremaining: 13.7s\n",
            "466:\tlearn: 0.5540135\ttest: 0.7336137\tbest: 0.7334654 (425)\ttotal: 12s\tremaining: 13.7s\n",
            "467:\tlearn: 0.5538840\ttest: 0.7336758\tbest: 0.7334654 (425)\ttotal: 12s\tremaining: 13.6s\n",
            "468:\tlearn: 0.5536958\ttest: 0.7335770\tbest: 0.7334654 (425)\ttotal: 12s\tremaining: 13.6s\n",
            "469:\tlearn: 0.5534908\ttest: 0.7333744\tbest: 0.7333744 (469)\ttotal: 12s\tremaining: 13.6s\n",
            "470:\tlearn: 0.5532702\ttest: 0.7334247\tbest: 0.7333744 (469)\ttotal: 12.1s\tremaining: 13.5s\n",
            "471:\tlearn: 0.5531038\ttest: 0.7333375\tbest: 0.7333375 (471)\ttotal: 12.1s\tremaining: 13.5s\n",
            "472:\tlearn: 0.5527615\ttest: 0.7333050\tbest: 0.7333050 (472)\ttotal: 12.1s\tremaining: 13.5s\n",
            "473:\tlearn: 0.5525167\ttest: 0.7332909\tbest: 0.7332909 (473)\ttotal: 12.1s\tremaining: 13.5s\n",
            "474:\tlearn: 0.5522192\ttest: 0.7332742\tbest: 0.7332742 (474)\ttotal: 12.2s\tremaining: 13.4s\n",
            "475:\tlearn: 0.5519086\ttest: 0.7332808\tbest: 0.7332742 (474)\ttotal: 12.3s\tremaining: 13.5s\n",
            "476:\tlearn: 0.5515912\ttest: 0.7333009\tbest: 0.7332742 (474)\ttotal: 12.3s\tremaining: 13.5s\n",
            "477:\tlearn: 0.5513091\ttest: 0.7331797\tbest: 0.7331797 (477)\ttotal: 12.4s\tremaining: 13.5s\n",
            "478:\tlearn: 0.5511266\ttest: 0.7330807\tbest: 0.7330807 (478)\ttotal: 12.4s\tremaining: 13.5s\n",
            "479:\tlearn: 0.5508971\ttest: 0.7330603\tbest: 0.7330603 (479)\ttotal: 12.4s\tremaining: 13.4s\n",
            "480:\tlearn: 0.5507182\ttest: 0.7331308\tbest: 0.7330603 (479)\ttotal: 12.4s\tremaining: 13.4s\n",
            "481:\tlearn: 0.5505390\ttest: 0.7330011\tbest: 0.7330011 (481)\ttotal: 12.4s\tremaining: 13.4s\n",
            "482:\tlearn: 0.5504180\ttest: 0.7330212\tbest: 0.7330011 (481)\ttotal: 12.5s\tremaining: 13.3s\n",
            "483:\tlearn: 0.5501865\ttest: 0.7330258\tbest: 0.7330011 (481)\ttotal: 12.5s\tremaining: 13.3s\n",
            "484:\tlearn: 0.5499905\ttest: 0.7330975\tbest: 0.7330011 (481)\ttotal: 12.5s\tremaining: 13.3s\n",
            "485:\tlearn: 0.5495936\ttest: 0.7331961\tbest: 0.7330011 (481)\ttotal: 12.6s\tremaining: 13.3s\n",
            "486:\tlearn: 0.5494398\ttest: 0.7332543\tbest: 0.7330011 (481)\ttotal: 12.6s\tremaining: 13.3s\n",
            "487:\tlearn: 0.5490927\ttest: 0.7333502\tbest: 0.7330011 (481)\ttotal: 12.6s\tremaining: 13.2s\n",
            "488:\tlearn: 0.5488191\ttest: 0.7333287\tbest: 0.7330011 (481)\ttotal: 12.6s\tremaining: 13.2s\n",
            "489:\tlearn: 0.5485562\ttest: 0.7332222\tbest: 0.7330011 (481)\ttotal: 12.7s\tremaining: 13.2s\n",
            "490:\tlearn: 0.5481970\ttest: 0.7332611\tbest: 0.7330011 (481)\ttotal: 12.7s\tremaining: 13.2s\n",
            "491:\tlearn: 0.5479344\ttest: 0.7333531\tbest: 0.7330011 (481)\ttotal: 12.7s\tremaining: 13.1s\n",
            "492:\tlearn: 0.5476736\ttest: 0.7333210\tbest: 0.7330011 (481)\ttotal: 12.7s\tremaining: 13.1s\n",
            "493:\tlearn: 0.5474080\ttest: 0.7333440\tbest: 0.7330011 (481)\ttotal: 12.8s\tremaining: 13.1s\n",
            "494:\tlearn: 0.5470783\ttest: 0.7333154\tbest: 0.7330011 (481)\ttotal: 12.8s\tremaining: 13s\n",
            "495:\tlearn: 0.5468108\ttest: 0.7332637\tbest: 0.7330011 (481)\ttotal: 12.8s\tremaining: 13s\n",
            "496:\tlearn: 0.5464856\ttest: 0.7332370\tbest: 0.7330011 (481)\ttotal: 12.8s\tremaining: 13s\n",
            "497:\tlearn: 0.5460974\ttest: 0.7332295\tbest: 0.7330011 (481)\ttotal: 12.9s\tremaining: 13s\n",
            "498:\tlearn: 0.5457369\ttest: 0.7332078\tbest: 0.7330011 (481)\ttotal: 12.9s\tremaining: 12.9s\n",
            "499:\tlearn: 0.5455303\ttest: 0.7331981\tbest: 0.7330011 (481)\ttotal: 12.9s\tremaining: 12.9s\n",
            "500:\tlearn: 0.5452799\ttest: 0.7332821\tbest: 0.7330011 (481)\ttotal: 12.9s\tremaining: 12.9s\n",
            "501:\tlearn: 0.5450175\ttest: 0.7333210\tbest: 0.7330011 (481)\ttotal: 13s\tremaining: 12.9s\n",
            "502:\tlearn: 0.5449882\ttest: 0.7332869\tbest: 0.7330011 (481)\ttotal: 13s\tremaining: 12.8s\n",
            "503:\tlearn: 0.5446972\ttest: 0.7333613\tbest: 0.7330011 (481)\ttotal: 13s\tremaining: 12.8s\n",
            "504:\tlearn: 0.5445075\ttest: 0.7333036\tbest: 0.7330011 (481)\ttotal: 13s\tremaining: 12.8s\n",
            "505:\tlearn: 0.5442453\ttest: 0.7332510\tbest: 0.7330011 (481)\ttotal: 13s\tremaining: 12.7s\n",
            "506:\tlearn: 0.5439879\ttest: 0.7331794\tbest: 0.7330011 (481)\ttotal: 13.1s\tremaining: 12.7s\n",
            "507:\tlearn: 0.5437810\ttest: 0.7332586\tbest: 0.7330011 (481)\ttotal: 13.1s\tremaining: 12.7s\n",
            "508:\tlearn: 0.5435796\ttest: 0.7333480\tbest: 0.7330011 (481)\ttotal: 13.1s\tremaining: 12.7s\n",
            "509:\tlearn: 0.5432560\ttest: 0.7333270\tbest: 0.7330011 (481)\ttotal: 13.2s\tremaining: 12.6s\n",
            "510:\tlearn: 0.5430045\ttest: 0.7333923\tbest: 0.7330011 (481)\ttotal: 13.2s\tremaining: 12.6s\n",
            "511:\tlearn: 0.5429453\ttest: 0.7333694\tbest: 0.7330011 (481)\ttotal: 13.2s\tremaining: 12.6s\n",
            "512:\tlearn: 0.5425761\ttest: 0.7334026\tbest: 0.7330011 (481)\ttotal: 13.2s\tremaining: 12.6s\n",
            "513:\tlearn: 0.5423640\ttest: 0.7333406\tbest: 0.7330011 (481)\ttotal: 13.3s\tremaining: 12.5s\n",
            "514:\tlearn: 0.5421820\ttest: 0.7333417\tbest: 0.7330011 (481)\ttotal: 13.3s\tremaining: 12.5s\n",
            "515:\tlearn: 0.5419054\ttest: 0.7333811\tbest: 0.7330011 (481)\ttotal: 13.4s\tremaining: 12.5s\n",
            "516:\tlearn: 0.5417583\ttest: 0.7333973\tbest: 0.7330011 (481)\ttotal: 13.4s\tremaining: 12.5s\n",
            "517:\tlearn: 0.5415035\ttest: 0.7333220\tbest: 0.7330011 (481)\ttotal: 13.4s\tremaining: 12.5s\n",
            "518:\tlearn: 0.5413078\ttest: 0.7334007\tbest: 0.7330011 (481)\ttotal: 13.4s\tremaining: 12.4s\n",
            "519:\tlearn: 0.5412522\ttest: 0.7333962\tbest: 0.7330011 (481)\ttotal: 13.5s\tremaining: 12.4s\n",
            "520:\tlearn: 0.5409910\ttest: 0.7333705\tbest: 0.7330011 (481)\ttotal: 13.5s\tremaining: 12.4s\n",
            "521:\tlearn: 0.5407285\ttest: 0.7333195\tbest: 0.7330011 (481)\ttotal: 13.5s\tremaining: 12.4s\n",
            "522:\tlearn: 0.5404408\ttest: 0.7332868\tbest: 0.7330011 (481)\ttotal: 13.5s\tremaining: 12.4s\n",
            "523:\tlearn: 0.5401209\ttest: 0.7332791\tbest: 0.7330011 (481)\ttotal: 13.6s\tremaining: 12.3s\n",
            "524:\tlearn: 0.5398245\ttest: 0.7331650\tbest: 0.7330011 (481)\ttotal: 13.6s\tremaining: 12.3s\n",
            "525:\tlearn: 0.5396143\ttest: 0.7331977\tbest: 0.7330011 (481)\ttotal: 13.6s\tremaining: 12.3s\n",
            "526:\tlearn: 0.5393686\ttest: 0.7330618\tbest: 0.7330011 (481)\ttotal: 13.7s\tremaining: 12.3s\n",
            "527:\tlearn: 0.5391071\ttest: 0.7330787\tbest: 0.7330011 (481)\ttotal: 13.7s\tremaining: 12.2s\n",
            "528:\tlearn: 0.5387079\ttest: 0.7331607\tbest: 0.7330011 (481)\ttotal: 13.7s\tremaining: 12.2s\n",
            "529:\tlearn: 0.5383471\ttest: 0.7332181\tbest: 0.7330011 (481)\ttotal: 13.7s\tremaining: 12.2s\n",
            "530:\tlearn: 0.5380791\ttest: 0.7332140\tbest: 0.7330011 (481)\ttotal: 13.8s\tremaining: 12.2s\n",
            "531:\tlearn: 0.5376853\ttest: 0.7332850\tbest: 0.7330011 (481)\ttotal: 13.8s\tremaining: 12.1s\n",
            "532:\tlearn: 0.5371867\ttest: 0.7333203\tbest: 0.7330011 (481)\ttotal: 13.8s\tremaining: 12.1s\n",
            "533:\tlearn: 0.5369258\ttest: 0.7333757\tbest: 0.7330011 (481)\ttotal: 13.8s\tremaining: 12.1s\n",
            "534:\tlearn: 0.5366520\ttest: 0.7332580\tbest: 0.7330011 (481)\ttotal: 13.9s\tremaining: 12s\n",
            "535:\tlearn: 0.5366100\ttest: 0.7332561\tbest: 0.7330011 (481)\ttotal: 13.9s\tremaining: 12s\n",
            "536:\tlearn: 0.5363129\ttest: 0.7332134\tbest: 0.7330011 (481)\ttotal: 13.9s\tremaining: 12s\n",
            "537:\tlearn: 0.5359592\ttest: 0.7332306\tbest: 0.7330011 (481)\ttotal: 13.9s\tremaining: 12s\n",
            "538:\tlearn: 0.5357393\ttest: 0.7331911\tbest: 0.7330011 (481)\ttotal: 13.9s\tremaining: 11.9s\n",
            "539:\tlearn: 0.5355123\ttest: 0.7332344\tbest: 0.7330011 (481)\ttotal: 14s\tremaining: 11.9s\n",
            "540:\tlearn: 0.5353294\ttest: 0.7331112\tbest: 0.7330011 (481)\ttotal: 14s\tremaining: 11.9s\n",
            "541:\tlearn: 0.5350344\ttest: 0.7331899\tbest: 0.7330011 (481)\ttotal: 14s\tremaining: 11.9s\n",
            "542:\tlearn: 0.5347301\ttest: 0.7332100\tbest: 0.7330011 (481)\ttotal: 14s\tremaining: 11.8s\n",
            "543:\tlearn: 0.5345888\ttest: 0.7331940\tbest: 0.7330011 (481)\ttotal: 14.1s\tremaining: 11.8s\n",
            "544:\tlearn: 0.5343747\ttest: 0.7333290\tbest: 0.7330011 (481)\ttotal: 14.1s\tremaining: 11.8s\n",
            "545:\tlearn: 0.5340944\ttest: 0.7333453\tbest: 0.7330011 (481)\ttotal: 14.1s\tremaining: 11.7s\n",
            "546:\tlearn: 0.5336743\ttest: 0.7333299\tbest: 0.7330011 (481)\ttotal: 14.1s\tremaining: 11.7s\n",
            "547:\tlearn: 0.5334230\ttest: 0.7333168\tbest: 0.7330011 (481)\ttotal: 14.2s\tremaining: 11.7s\n",
            "548:\tlearn: 0.5332643\ttest: 0.7333760\tbest: 0.7330011 (481)\ttotal: 14.2s\tremaining: 11.7s\n",
            "549:\tlearn: 0.5332011\ttest: 0.7334079\tbest: 0.7330011 (481)\ttotal: 14.2s\tremaining: 11.6s\n",
            "550:\tlearn: 0.5328598\ttest: 0.7334527\tbest: 0.7330011 (481)\ttotal: 14.3s\tremaining: 11.6s\n",
            "551:\tlearn: 0.5325268\ttest: 0.7335200\tbest: 0.7330011 (481)\ttotal: 14.3s\tremaining: 11.6s\n",
            "552:\tlearn: 0.5324079\ttest: 0.7334383\tbest: 0.7330011 (481)\ttotal: 14.3s\tremaining: 11.6s\n",
            "553:\tlearn: 0.5322227\ttest: 0.7333989\tbest: 0.7330011 (481)\ttotal: 14.4s\tremaining: 11.6s\n",
            "554:\tlearn: 0.5319429\ttest: 0.7333952\tbest: 0.7330011 (481)\ttotal: 14.4s\tremaining: 11.5s\n",
            "555:\tlearn: 0.5318092\ttest: 0.7334790\tbest: 0.7330011 (481)\ttotal: 14.4s\tremaining: 11.5s\n",
            "556:\tlearn: 0.5316325\ttest: 0.7335098\tbest: 0.7330011 (481)\ttotal: 14.4s\tremaining: 11.5s\n",
            "557:\tlearn: 0.5314533\ttest: 0.7335805\tbest: 0.7330011 (481)\ttotal: 14.5s\tremaining: 11.5s\n",
            "558:\tlearn: 0.5311669\ttest: 0.7336791\tbest: 0.7330011 (481)\ttotal: 14.5s\tremaining: 11.4s\n",
            "559:\tlearn: 0.5309625\ttest: 0.7337207\tbest: 0.7330011 (481)\ttotal: 14.5s\tremaining: 11.4s\n",
            "560:\tlearn: 0.5306981\ttest: 0.7337770\tbest: 0.7330011 (481)\ttotal: 14.5s\tremaining: 11.4s\n",
            "561:\tlearn: 0.5304563\ttest: 0.7337818\tbest: 0.7330011 (481)\ttotal: 14.6s\tremaining: 11.4s\n",
            "562:\tlearn: 0.5301496\ttest: 0.7336679\tbest: 0.7330011 (481)\ttotal: 14.6s\tremaining: 11.3s\n",
            "563:\tlearn: 0.5299848\ttest: 0.7337630\tbest: 0.7330011 (481)\ttotal: 14.6s\tremaining: 11.3s\n",
            "564:\tlearn: 0.5299762\ttest: 0.7337619\tbest: 0.7330011 (481)\ttotal: 14.7s\tremaining: 11.3s\n",
            "565:\tlearn: 0.5296966\ttest: 0.7337301\tbest: 0.7330011 (481)\ttotal: 14.7s\tremaining: 11.3s\n",
            "566:\tlearn: 0.5293489\ttest: 0.7337025\tbest: 0.7330011 (481)\ttotal: 14.7s\tremaining: 11.2s\n",
            "567:\tlearn: 0.5290165\ttest: 0.7337032\tbest: 0.7330011 (481)\ttotal: 14.7s\tremaining: 11.2s\n",
            "568:\tlearn: 0.5287961\ttest: 0.7336682\tbest: 0.7330011 (481)\ttotal: 14.8s\tremaining: 11.2s\n",
            "569:\tlearn: 0.5285305\ttest: 0.7335762\tbest: 0.7330011 (481)\ttotal: 14.8s\tremaining: 11.2s\n",
            "570:\tlearn: 0.5284108\ttest: 0.7335463\tbest: 0.7330011 (481)\ttotal: 14.8s\tremaining: 11.1s\n",
            "571:\tlearn: 0.5282312\ttest: 0.7336246\tbest: 0.7330011 (481)\ttotal: 14.8s\tremaining: 11.1s\n",
            "572:\tlearn: 0.5279957\ttest: 0.7335002\tbest: 0.7330011 (481)\ttotal: 14.8s\tremaining: 11.1s\n",
            "573:\tlearn: 0.5278042\ttest: 0.7335183\tbest: 0.7330011 (481)\ttotal: 14.9s\tremaining: 11s\n",
            "574:\tlearn: 0.5276312\ttest: 0.7334704\tbest: 0.7330011 (481)\ttotal: 14.9s\tremaining: 11s\n",
            "575:\tlearn: 0.5274452\ttest: 0.7335138\tbest: 0.7330011 (481)\ttotal: 14.9s\tremaining: 11s\n",
            "576:\tlearn: 0.5271358\ttest: 0.7335790\tbest: 0.7330011 (481)\ttotal: 14.9s\tremaining: 11s\n",
            "577:\tlearn: 0.5268202\ttest: 0.7336442\tbest: 0.7330011 (481)\ttotal: 15s\tremaining: 10.9s\n",
            "578:\tlearn: 0.5266341\ttest: 0.7336032\tbest: 0.7330011 (481)\ttotal: 15s\tremaining: 10.9s\n",
            "579:\tlearn: 0.5263680\ttest: 0.7335373\tbest: 0.7330011 (481)\ttotal: 15s\tremaining: 10.9s\n",
            "580:\tlearn: 0.5261319\ttest: 0.7336556\tbest: 0.7330011 (481)\ttotal: 15s\tremaining: 10.8s\n",
            "581:\tlearn: 0.5261225\ttest: 0.7336589\tbest: 0.7330011 (481)\ttotal: 15.1s\tremaining: 10.8s\n",
            "582:\tlearn: 0.5260022\ttest: 0.7336471\tbest: 0.7330011 (481)\ttotal: 15.1s\tremaining: 10.8s\n",
            "583:\tlearn: 0.5256784\ttest: 0.7336681\tbest: 0.7330011 (481)\ttotal: 15.1s\tremaining: 10.8s\n",
            "584:\tlearn: 0.5254610\ttest: 0.7336142\tbest: 0.7330011 (481)\ttotal: 15.1s\tremaining: 10.7s\n",
            "585:\tlearn: 0.5252846\ttest: 0.7335790\tbest: 0.7330011 (481)\ttotal: 15.2s\tremaining: 10.7s\n",
            "586:\tlearn: 0.5249275\ttest: 0.7336404\tbest: 0.7330011 (481)\ttotal: 15.2s\tremaining: 10.7s\n",
            "587:\tlearn: 0.5247481\ttest: 0.7336111\tbest: 0.7330011 (481)\ttotal: 15.2s\tremaining: 10.7s\n",
            "588:\tlearn: 0.5244170\ttest: 0.7335971\tbest: 0.7330011 (481)\ttotal: 15.3s\tremaining: 10.6s\n",
            "589:\tlearn: 0.5241599\ttest: 0.7335992\tbest: 0.7330011 (481)\ttotal: 15.3s\tremaining: 10.6s\n",
            "590:\tlearn: 0.5239787\ttest: 0.7335876\tbest: 0.7330011 (481)\ttotal: 15.3s\tremaining: 10.6s\n",
            "591:\tlearn: 0.5237322\ttest: 0.7335443\tbest: 0.7330011 (481)\ttotal: 15.3s\tremaining: 10.6s\n",
            "592:\tlearn: 0.5235689\ttest: 0.7335578\tbest: 0.7330011 (481)\ttotal: 15.4s\tremaining: 10.6s\n",
            "593:\tlearn: 0.5234276\ttest: 0.7335010\tbest: 0.7330011 (481)\ttotal: 15.4s\tremaining: 10.6s\n",
            "594:\tlearn: 0.5234035\ttest: 0.7335123\tbest: 0.7330011 (481)\ttotal: 15.5s\tremaining: 10.5s\n",
            "595:\tlearn: 0.5233887\ttest: 0.7335138\tbest: 0.7330011 (481)\ttotal: 15.5s\tremaining: 10.5s\n",
            "596:\tlearn: 0.5231411\ttest: 0.7333740\tbest: 0.7330011 (481)\ttotal: 15.5s\tremaining: 10.5s\n",
            "597:\tlearn: 0.5229798\ttest: 0.7333678\tbest: 0.7330011 (481)\ttotal: 15.5s\tremaining: 10.4s\n",
            "598:\tlearn: 0.5229628\ttest: 0.7333616\tbest: 0.7330011 (481)\ttotal: 15.6s\tremaining: 10.4s\n",
            "599:\tlearn: 0.5227869\ttest: 0.7332573\tbest: 0.7330011 (481)\ttotal: 15.6s\tremaining: 10.4s\n",
            "600:\tlearn: 0.5227692\ttest: 0.7332485\tbest: 0.7330011 (481)\ttotal: 15.6s\tremaining: 10.4s\n",
            "601:\tlearn: 0.5224156\ttest: 0.7330970\tbest: 0.7330011 (481)\ttotal: 15.6s\tremaining: 10.3s\n",
            "602:\tlearn: 0.5223540\ttest: 0.7331180\tbest: 0.7330011 (481)\ttotal: 15.7s\tremaining: 10.3s\n",
            "603:\tlearn: 0.5220289\ttest: 0.7330717\tbest: 0.7330011 (481)\ttotal: 15.7s\tremaining: 10.3s\n",
            "604:\tlearn: 0.5217758\ttest: 0.7330329\tbest: 0.7330011 (481)\ttotal: 15.7s\tremaining: 10.3s\n",
            "605:\tlearn: 0.5215735\ttest: 0.7329039\tbest: 0.7329039 (605)\ttotal: 15.8s\tremaining: 10.2s\n",
            "606:\tlearn: 0.5215650\ttest: 0.7328973\tbest: 0.7328973 (606)\ttotal: 15.8s\tremaining: 10.2s\n",
            "607:\tlearn: 0.5212138\ttest: 0.7329230\tbest: 0.7328973 (606)\ttotal: 15.8s\tremaining: 10.2s\n",
            "608:\tlearn: 0.5207806\ttest: 0.7328637\tbest: 0.7328637 (608)\ttotal: 15.8s\tremaining: 10.2s\n",
            "609:\tlearn: 0.5205055\ttest: 0.7328314\tbest: 0.7328314 (609)\ttotal: 15.8s\tremaining: 10.1s\n",
            "610:\tlearn: 0.5202404\ttest: 0.7328388\tbest: 0.7328314 (609)\ttotal: 15.9s\tremaining: 10.1s\n",
            "611:\tlearn: 0.5200030\ttest: 0.7328844\tbest: 0.7328314 (609)\ttotal: 15.9s\tremaining: 10.1s\n",
            "612:\tlearn: 0.5198152\ttest: 0.7328794\tbest: 0.7328314 (609)\ttotal: 15.9s\tremaining: 10s\n",
            "613:\tlearn: 0.5195439\ttest: 0.7329234\tbest: 0.7328314 (609)\ttotal: 15.9s\tremaining: 10s\n",
            "614:\tlearn: 0.5193315\ttest: 0.7328746\tbest: 0.7328314 (609)\ttotal: 16s\tremaining: 10s\n",
            "615:\tlearn: 0.5190885\ttest: 0.7328300\tbest: 0.7328300 (615)\ttotal: 16s\tremaining: 9.97s\n",
            "616:\tlearn: 0.5189446\ttest: 0.7328969\tbest: 0.7328300 (615)\ttotal: 16s\tremaining: 9.94s\n",
            "617:\tlearn: 0.5187422\ttest: 0.7329261\tbest: 0.7328300 (615)\ttotal: 16s\tremaining: 9.92s\n",
            "618:\tlearn: 0.5185670\ttest: 0.7329754\tbest: 0.7328300 (615)\ttotal: 16.1s\tremaining: 9.89s\n",
            "619:\tlearn: 0.5183166\ttest: 0.7331237\tbest: 0.7328300 (615)\ttotal: 16.1s\tremaining: 9.86s\n",
            "620:\tlearn: 0.5180603\ttest: 0.7330798\tbest: 0.7328300 (615)\ttotal: 16.1s\tremaining: 9.84s\n",
            "621:\tlearn: 0.5180524\ttest: 0.7330816\tbest: 0.7328300 (615)\ttotal: 16.1s\tremaining: 9.81s\n",
            "622:\tlearn: 0.5179013\ttest: 0.7331546\tbest: 0.7328300 (615)\ttotal: 16.2s\tremaining: 9.79s\n",
            "623:\tlearn: 0.5177355\ttest: 0.7331643\tbest: 0.7328300 (615)\ttotal: 16.2s\tremaining: 9.76s\n",
            "624:\tlearn: 0.5175515\ttest: 0.7331625\tbest: 0.7328300 (615)\ttotal: 16.2s\tremaining: 9.73s\n",
            "625:\tlearn: 0.5173696\ttest: 0.7331499\tbest: 0.7328300 (615)\ttotal: 16.3s\tremaining: 9.71s\n",
            "626:\tlearn: 0.5173596\ttest: 0.7331596\tbest: 0.7328300 (615)\ttotal: 16.3s\tremaining: 9.67s\n",
            "627:\tlearn: 0.5172181\ttest: 0.7331570\tbest: 0.7328300 (615)\ttotal: 16.3s\tremaining: 9.64s\n",
            "628:\tlearn: 0.5170760\ttest: 0.7332238\tbest: 0.7328300 (615)\ttotal: 16.3s\tremaining: 9.62s\n",
            "629:\tlearn: 0.5167973\ttest: 0.7330776\tbest: 0.7328300 (615)\ttotal: 16.3s\tremaining: 9.59s\n",
            "630:\tlearn: 0.5167585\ttest: 0.7330725\tbest: 0.7328300 (615)\ttotal: 16.4s\tremaining: 9.56s\n",
            "631:\tlearn: 0.5164804\ttest: 0.7332128\tbest: 0.7328300 (615)\ttotal: 16.4s\tremaining: 9.54s\n",
            "632:\tlearn: 0.5163382\ttest: 0.7331910\tbest: 0.7328300 (615)\ttotal: 16.4s\tremaining: 9.53s\n",
            "633:\tlearn: 0.5160973\ttest: 0.7331826\tbest: 0.7328300 (615)\ttotal: 16.5s\tremaining: 9.51s\n",
            "634:\tlearn: 0.5160910\ttest: 0.7331864\tbest: 0.7328300 (615)\ttotal: 16.5s\tremaining: 9.49s\n",
            "635:\tlearn: 0.5157116\ttest: 0.7332568\tbest: 0.7328300 (615)\ttotal: 16.5s\tremaining: 9.47s\n",
            "636:\tlearn: 0.5155043\ttest: 0.7332340\tbest: 0.7328300 (615)\ttotal: 16.6s\tremaining: 9.45s\n",
            "637:\tlearn: 0.5152548\ttest: 0.7332902\tbest: 0.7328300 (615)\ttotal: 16.6s\tremaining: 9.42s\n",
            "638:\tlearn: 0.5151316\ttest: 0.7332174\tbest: 0.7328300 (615)\ttotal: 16.6s\tremaining: 9.4s\n",
            "639:\tlearn: 0.5149228\ttest: 0.7330808\tbest: 0.7328300 (615)\ttotal: 16.7s\tremaining: 9.37s\n",
            "640:\tlearn: 0.5146581\ttest: 0.7330617\tbest: 0.7328300 (615)\ttotal: 16.7s\tremaining: 9.34s\n",
            "641:\tlearn: 0.5145562\ttest: 0.7330575\tbest: 0.7328300 (615)\ttotal: 16.7s\tremaining: 9.31s\n",
            "642:\tlearn: 0.5145495\ttest: 0.7330590\tbest: 0.7328300 (615)\ttotal: 16.7s\tremaining: 9.29s\n",
            "643:\tlearn: 0.5141729\ttest: 0.7330286\tbest: 0.7328300 (615)\ttotal: 16.7s\tremaining: 9.26s\n",
            "644:\tlearn: 0.5140282\ttest: 0.7330279\tbest: 0.7328300 (615)\ttotal: 16.8s\tremaining: 9.23s\n",
            "645:\tlearn: 0.5138053\ttest: 0.7330262\tbest: 0.7328300 (615)\ttotal: 16.8s\tremaining: 9.21s\n",
            "646:\tlearn: 0.5136746\ttest: 0.7329059\tbest: 0.7328300 (615)\ttotal: 16.8s\tremaining: 9.18s\n",
            "647:\tlearn: 0.5133747\ttest: 0.7329600\tbest: 0.7328300 (615)\ttotal: 16.9s\tremaining: 9.15s\n",
            "648:\tlearn: 0.5131592\ttest: 0.7329689\tbest: 0.7328300 (615)\ttotal: 16.9s\tremaining: 9.13s\n",
            "649:\tlearn: 0.5128129\ttest: 0.7329431\tbest: 0.7328300 (615)\ttotal: 16.9s\tremaining: 9.1s\n",
            "650:\tlearn: 0.5126554\ttest: 0.7329747\tbest: 0.7328300 (615)\ttotal: 16.9s\tremaining: 9.07s\n",
            "651:\tlearn: 0.5122932\ttest: 0.7329659\tbest: 0.7328300 (615)\ttotal: 16.9s\tremaining: 9.05s\n",
            "652:\tlearn: 0.5119693\ttest: 0.7330120\tbest: 0.7328300 (615)\ttotal: 17s\tremaining: 9.02s\n",
            "653:\tlearn: 0.5118252\ttest: 0.7329512\tbest: 0.7328300 (615)\ttotal: 17s\tremaining: 8.99s\n",
            "654:\tlearn: 0.5115954\ttest: 0.7330690\tbest: 0.7328300 (615)\ttotal: 17s\tremaining: 8.96s\n",
            "655:\tlearn: 0.5113097\ttest: 0.7330228\tbest: 0.7328300 (615)\ttotal: 17.1s\tremaining: 8.94s\n",
            "656:\tlearn: 0.5110490\ttest: 0.7329166\tbest: 0.7328300 (615)\ttotal: 17.1s\tremaining: 8.91s\n",
            "657:\tlearn: 0.5109041\ttest: 0.7329956\tbest: 0.7328300 (615)\ttotal: 17.1s\tremaining: 8.89s\n",
            "658:\tlearn: 0.5107145\ttest: 0.7329701\tbest: 0.7328300 (615)\ttotal: 17.1s\tremaining: 8.86s\n",
            "659:\tlearn: 0.5103889\ttest: 0.7331364\tbest: 0.7328300 (615)\ttotal: 17.1s\tremaining: 8.83s\n",
            "660:\tlearn: 0.5101582\ttest: 0.7331498\tbest: 0.7328300 (615)\ttotal: 17.2s\tremaining: 8.81s\n",
            "661:\tlearn: 0.5098361\ttest: 0.7330492\tbest: 0.7328300 (615)\ttotal: 17.2s\tremaining: 8.78s\n",
            "662:\tlearn: 0.5096367\ttest: 0.7330902\tbest: 0.7328300 (615)\ttotal: 17.2s\tremaining: 8.75s\n",
            "663:\tlearn: 0.5093724\ttest: 0.7331841\tbest: 0.7328300 (615)\ttotal: 17.3s\tremaining: 8.73s\n",
            "664:\tlearn: 0.5091592\ttest: 0.7331772\tbest: 0.7328300 (615)\ttotal: 17.3s\tremaining: 8.71s\n",
            "665:\tlearn: 0.5088819\ttest: 0.7332046\tbest: 0.7328300 (615)\ttotal: 17.3s\tremaining: 8.68s\n",
            "666:\tlearn: 0.5086375\ttest: 0.7332088\tbest: 0.7328300 (615)\ttotal: 17.3s\tremaining: 8.65s\n",
            "667:\tlearn: 0.5084693\ttest: 0.7331997\tbest: 0.7328300 (615)\ttotal: 17.3s\tremaining: 8.62s\n",
            "668:\tlearn: 0.5083217\ttest: 0.7331814\tbest: 0.7328300 (615)\ttotal: 17.4s\tremaining: 8.59s\n",
            "669:\tlearn: 0.5080171\ttest: 0.7332248\tbest: 0.7328300 (615)\ttotal: 17.4s\tremaining: 8.57s\n",
            "670:\tlearn: 0.5078126\ttest: 0.7332182\tbest: 0.7328300 (615)\ttotal: 17.4s\tremaining: 8.56s\n",
            "671:\tlearn: 0.5075465\ttest: 0.7331926\tbest: 0.7328300 (615)\ttotal: 17.5s\tremaining: 8.54s\n",
            "672:\tlearn: 0.5072312\ttest: 0.7330874\tbest: 0.7328300 (615)\ttotal: 17.5s\tremaining: 8.52s\n",
            "673:\tlearn: 0.5069476\ttest: 0.7330721\tbest: 0.7328300 (615)\ttotal: 17.6s\tremaining: 8.49s\n",
            "674:\tlearn: 0.5068141\ttest: 0.7330320\tbest: 0.7328300 (615)\ttotal: 17.6s\tremaining: 8.46s\n",
            "675:\tlearn: 0.5068050\ttest: 0.7330418\tbest: 0.7328300 (615)\ttotal: 17.6s\tremaining: 8.43s\n",
            "676:\tlearn: 0.5065985\ttest: 0.7329152\tbest: 0.7328300 (615)\ttotal: 17.6s\tremaining: 8.41s\n",
            "677:\tlearn: 0.5064001\ttest: 0.7327704\tbest: 0.7327704 (677)\ttotal: 17.6s\tremaining: 8.38s\n",
            "678:\tlearn: 0.5061598\ttest: 0.7328677\tbest: 0.7327704 (677)\ttotal: 17.7s\tremaining: 8.35s\n",
            "679:\tlearn: 0.5059946\ttest: 0.7329007\tbest: 0.7327704 (677)\ttotal: 17.7s\tremaining: 8.33s\n",
            "680:\tlearn: 0.5057179\ttest: 0.7330266\tbest: 0.7327704 (677)\ttotal: 17.7s\tremaining: 8.3s\n",
            "681:\tlearn: 0.5057127\ttest: 0.7330296\tbest: 0.7327704 (677)\ttotal: 17.7s\tremaining: 8.27s\n",
            "682:\tlearn: 0.5053906\ttest: 0.7330067\tbest: 0.7327704 (677)\ttotal: 17.8s\tremaining: 8.25s\n",
            "683:\tlearn: 0.5051741\ttest: 0.7329491\tbest: 0.7327704 (677)\ttotal: 17.8s\tremaining: 8.22s\n",
            "684:\tlearn: 0.5048618\ttest: 0.7329635\tbest: 0.7327704 (677)\ttotal: 17.8s\tremaining: 8.19s\n",
            "685:\tlearn: 0.5046123\ttest: 0.7329533\tbest: 0.7327704 (677)\ttotal: 17.8s\tremaining: 8.17s\n",
            "686:\tlearn: 0.5045348\ttest: 0.7329573\tbest: 0.7327704 (677)\ttotal: 17.9s\tremaining: 8.14s\n",
            "687:\tlearn: 0.5043513\ttest: 0.7329705\tbest: 0.7327704 (677)\ttotal: 17.9s\tremaining: 8.11s\n",
            "688:\tlearn: 0.5041999\ttest: 0.7329837\tbest: 0.7327704 (677)\ttotal: 17.9s\tremaining: 8.09s\n",
            "689:\tlearn: 0.5039628\ttest: 0.7330037\tbest: 0.7327704 (677)\ttotal: 17.9s\tremaining: 8.06s\n",
            "690:\tlearn: 0.5037753\ttest: 0.7328758\tbest: 0.7327704 (677)\ttotal: 18s\tremaining: 8.03s\n",
            "691:\tlearn: 0.5035141\ttest: 0.7328776\tbest: 0.7327704 (677)\ttotal: 18s\tremaining: 8.01s\n",
            "692:\tlearn: 0.5033053\ttest: 0.7328954\tbest: 0.7327704 (677)\ttotal: 18s\tremaining: 7.98s\n",
            "693:\tlearn: 0.5031447\ttest: 0.7329755\tbest: 0.7327704 (677)\ttotal: 18s\tremaining: 7.95s\n",
            "694:\tlearn: 0.5029878\ttest: 0.7330661\tbest: 0.7327704 (677)\ttotal: 18.1s\tremaining: 7.92s\n",
            "695:\tlearn: 0.5027776\ttest: 0.7329553\tbest: 0.7327704 (677)\ttotal: 18.1s\tremaining: 7.9s\n",
            "696:\tlearn: 0.5024747\ttest: 0.7328711\tbest: 0.7327704 (677)\ttotal: 18.1s\tremaining: 7.87s\n",
            "697:\tlearn: 0.5022524\ttest: 0.7328486\tbest: 0.7327704 (677)\ttotal: 18.1s\tremaining: 7.85s\n",
            "698:\tlearn: 0.5021632\ttest: 0.7328769\tbest: 0.7327704 (677)\ttotal: 18.2s\tremaining: 7.82s\n",
            "699:\tlearn: 0.5018812\ttest: 0.7329755\tbest: 0.7327704 (677)\ttotal: 18.2s\tremaining: 7.79s\n",
            "700:\tlearn: 0.5016454\ttest: 0.7329556\tbest: 0.7327704 (677)\ttotal: 18.2s\tremaining: 7.77s\n",
            "701:\tlearn: 0.5014599\ttest: 0.7328319\tbest: 0.7327704 (677)\ttotal: 18.2s\tremaining: 7.74s\n",
            "702:\tlearn: 0.5013096\ttest: 0.7328448\tbest: 0.7327704 (677)\ttotal: 18.3s\tremaining: 7.72s\n",
            "703:\tlearn: 0.5012215\ttest: 0.7328393\tbest: 0.7327704 (677)\ttotal: 18.3s\tremaining: 7.69s\n",
            "704:\tlearn: 0.5010655\ttest: 0.7328747\tbest: 0.7327704 (677)\ttotal: 18.3s\tremaining: 7.66s\n",
            "705:\tlearn: 0.5008330\ttest: 0.7328783\tbest: 0.7327704 (677)\ttotal: 18.3s\tremaining: 7.64s\n",
            "706:\tlearn: 0.5006535\ttest: 0.7328778\tbest: 0.7327704 (677)\ttotal: 18.4s\tremaining: 7.61s\n",
            "707:\tlearn: 0.5005036\ttest: 0.7328871\tbest: 0.7327704 (677)\ttotal: 18.4s\tremaining: 7.59s\n",
            "708:\tlearn: 0.5003075\ttest: 0.7328957\tbest: 0.7327704 (677)\ttotal: 18.4s\tremaining: 7.56s\n",
            "709:\tlearn: 0.5000880\ttest: 0.7329563\tbest: 0.7327704 (677)\ttotal: 18.5s\tremaining: 7.54s\n",
            "710:\tlearn: 0.4998790\ttest: 0.7330120\tbest: 0.7327704 (677)\ttotal: 18.5s\tremaining: 7.53s\n",
            "711:\tlearn: 0.4996591\ttest: 0.7330228\tbest: 0.7327704 (677)\ttotal: 18.5s\tremaining: 7.5s\n",
            "712:\tlearn: 0.4994715\ttest: 0.7329930\tbest: 0.7327704 (677)\ttotal: 18.6s\tremaining: 7.48s\n",
            "713:\tlearn: 0.4992399\ttest: 0.7329308\tbest: 0.7327704 (677)\ttotal: 18.6s\tremaining: 7.45s\n",
            "714:\tlearn: 0.4990245\ttest: 0.7329668\tbest: 0.7327704 (677)\ttotal: 18.6s\tremaining: 7.43s\n",
            "715:\tlearn: 0.4987857\ttest: 0.7329199\tbest: 0.7327704 (677)\ttotal: 18.7s\tremaining: 7.4s\n",
            "716:\tlearn: 0.4985870\ttest: 0.7329677\tbest: 0.7327704 (677)\ttotal: 18.7s\tremaining: 7.38s\n",
            "717:\tlearn: 0.4983466\ttest: 0.7328055\tbest: 0.7327704 (677)\ttotal: 18.7s\tremaining: 7.35s\n",
            "718:\tlearn: 0.4981145\ttest: 0.7328518\tbest: 0.7327704 (677)\ttotal: 18.7s\tremaining: 7.32s\n",
            "719:\tlearn: 0.4980480\ttest: 0.7328151\tbest: 0.7327704 (677)\ttotal: 18.8s\tremaining: 7.29s\n",
            "720:\tlearn: 0.4979557\ttest: 0.7328641\tbest: 0.7327704 (677)\ttotal: 18.8s\tremaining: 7.27s\n",
            "721:\tlearn: 0.4977151\ttest: 0.7330093\tbest: 0.7327704 (677)\ttotal: 18.8s\tremaining: 7.24s\n",
            "722:\tlearn: 0.4976075\ttest: 0.7330133\tbest: 0.7327704 (677)\ttotal: 18.8s\tremaining: 7.21s\n",
            "723:\tlearn: 0.4973480\ttest: 0.7330333\tbest: 0.7327704 (677)\ttotal: 18.9s\tremaining: 7.19s\n",
            "724:\tlearn: 0.4971527\ttest: 0.7330982\tbest: 0.7327704 (677)\ttotal: 18.9s\tremaining: 7.16s\n",
            "725:\tlearn: 0.4969655\ttest: 0.7330541\tbest: 0.7327704 (677)\ttotal: 18.9s\tremaining: 7.13s\n",
            "726:\tlearn: 0.4967560\ttest: 0.7328995\tbest: 0.7327704 (677)\ttotal: 18.9s\tremaining: 7.11s\n",
            "727:\tlearn: 0.4966169\ttest: 0.7329157\tbest: 0.7327704 (677)\ttotal: 18.9s\tremaining: 7.08s\n",
            "728:\tlearn: 0.4965142\ttest: 0.7329425\tbest: 0.7327704 (677)\ttotal: 19s\tremaining: 7.05s\n",
            "729:\tlearn: 0.4962584\ttest: 0.7329546\tbest: 0.7327704 (677)\ttotal: 19s\tremaining: 7.03s\n",
            "730:\tlearn: 0.4961424\ttest: 0.7329610\tbest: 0.7327704 (677)\ttotal: 19s\tremaining: 7s\n",
            "731:\tlearn: 0.4958546\ttest: 0.7330765\tbest: 0.7327704 (677)\ttotal: 19s\tremaining: 6.97s\n",
            "732:\tlearn: 0.4957575\ttest: 0.7330432\tbest: 0.7327704 (677)\ttotal: 19.1s\tremaining: 6.94s\n",
            "733:\tlearn: 0.4955739\ttest: 0.7330096\tbest: 0.7327704 (677)\ttotal: 19.1s\tremaining: 6.92s\n",
            "734:\tlearn: 0.4954682\ttest: 0.7329777\tbest: 0.7327704 (677)\ttotal: 19.1s\tremaining: 6.89s\n",
            "735:\tlearn: 0.4953195\ttest: 0.7328690\tbest: 0.7327704 (677)\ttotal: 19.1s\tremaining: 6.87s\n",
            "736:\tlearn: 0.4951990\ttest: 0.7329417\tbest: 0.7327704 (677)\ttotal: 19.2s\tremaining: 6.84s\n",
            "737:\tlearn: 0.4950590\ttest: 0.7329696\tbest: 0.7327704 (677)\ttotal: 19.2s\tremaining: 6.81s\n",
            "738:\tlearn: 0.4948047\ttest: 0.7330311\tbest: 0.7327704 (677)\ttotal: 19.2s\tremaining: 6.79s\n",
            "739:\tlearn: 0.4947026\ttest: 0.7330115\tbest: 0.7327704 (677)\ttotal: 19.2s\tremaining: 6.76s\n",
            "740:\tlearn: 0.4945359\ttest: 0.7329660\tbest: 0.7327704 (677)\ttotal: 19.3s\tremaining: 6.74s\n",
            "741:\tlearn: 0.4942872\ttest: 0.7329779\tbest: 0.7327704 (677)\ttotal: 19.3s\tremaining: 6.71s\n",
            "742:\tlearn: 0.4941065\ttest: 0.7330201\tbest: 0.7327704 (677)\ttotal: 19.3s\tremaining: 6.68s\n",
            "743:\tlearn: 0.4939606\ttest: 0.7330558\tbest: 0.7327704 (677)\ttotal: 19.3s\tremaining: 6.66s\n",
            "744:\tlearn: 0.4936820\ttest: 0.7329619\tbest: 0.7327704 (677)\ttotal: 19.4s\tremaining: 6.63s\n",
            "745:\tlearn: 0.4934876\ttest: 0.7329114\tbest: 0.7327704 (677)\ttotal: 19.4s\tremaining: 6.6s\n",
            "746:\tlearn: 0.4933426\ttest: 0.7329641\tbest: 0.7327704 (677)\ttotal: 19.4s\tremaining: 6.58s\n",
            "747:\tlearn: 0.4931134\ttest: 0.7329419\tbest: 0.7327704 (677)\ttotal: 19.5s\tremaining: 6.55s\n",
            "748:\tlearn: 0.4929527\ttest: 0.7329440\tbest: 0.7327704 (677)\ttotal: 19.5s\tremaining: 6.54s\n",
            "749:\tlearn: 0.4929443\ttest: 0.7329541\tbest: 0.7327704 (677)\ttotal: 19.5s\tremaining: 6.51s\n",
            "750:\tlearn: 0.4926304\ttest: 0.7330239\tbest: 0.7327704 (677)\ttotal: 19.6s\tremaining: 6.49s\n",
            "751:\tlearn: 0.4924794\ttest: 0.7329822\tbest: 0.7327704 (677)\ttotal: 19.6s\tremaining: 6.46s\n",
            "752:\tlearn: 0.4923729\ttest: 0.7330566\tbest: 0.7327704 (677)\ttotal: 19.6s\tremaining: 6.44s\n",
            "753:\tlearn: 0.4923650\ttest: 0.7330667\tbest: 0.7327704 (677)\ttotal: 19.6s\tremaining: 6.41s\n",
            "754:\tlearn: 0.4921002\ttest: 0.7331006\tbest: 0.7327704 (677)\ttotal: 19.7s\tremaining: 6.38s\n",
            "755:\tlearn: 0.4918707\ttest: 0.7331433\tbest: 0.7327704 (677)\ttotal: 19.7s\tremaining: 6.35s\n",
            "756:\tlearn: 0.4916940\ttest: 0.7331001\tbest: 0.7327704 (677)\ttotal: 19.7s\tremaining: 6.33s\n",
            "757:\tlearn: 0.4916855\ttest: 0.7331080\tbest: 0.7327704 (677)\ttotal: 19.7s\tremaining: 6.3s\n",
            "758:\tlearn: 0.4914312\ttest: 0.7331179\tbest: 0.7327704 (677)\ttotal: 19.8s\tremaining: 6.27s\n",
            "759:\tlearn: 0.4912946\ttest: 0.7331653\tbest: 0.7327704 (677)\ttotal: 19.8s\tremaining: 6.25s\n",
            "760:\tlearn: 0.4911497\ttest: 0.7331552\tbest: 0.7327704 (677)\ttotal: 19.8s\tremaining: 6.22s\n",
            "761:\tlearn: 0.4909364\ttest: 0.7332652\tbest: 0.7327704 (677)\ttotal: 19.8s\tremaining: 6.19s\n",
            "762:\tlearn: 0.4909295\ttest: 0.7332750\tbest: 0.7327704 (677)\ttotal: 19.8s\tremaining: 6.16s\n",
            "763:\tlearn: 0.4907432\ttest: 0.7334280\tbest: 0.7327704 (677)\ttotal: 19.9s\tremaining: 6.13s\n",
            "764:\tlearn: 0.4906025\ttest: 0.7333910\tbest: 0.7327704 (677)\ttotal: 19.9s\tremaining: 6.11s\n",
            "765:\tlearn: 0.4904420\ttest: 0.7334952\tbest: 0.7327704 (677)\ttotal: 19.9s\tremaining: 6.08s\n",
            "766:\tlearn: 0.4902900\ttest: 0.7334828\tbest: 0.7327704 (677)\ttotal: 19.9s\tremaining: 6.05s\n",
            "767:\tlearn: 0.4901079\ttest: 0.7335304\tbest: 0.7327704 (677)\ttotal: 20s\tremaining: 6.03s\n",
            "768:\tlearn: 0.4898574\ttest: 0.7334082\tbest: 0.7327704 (677)\ttotal: 20s\tremaining: 6s\n",
            "769:\tlearn: 0.4898510\ttest: 0.7334179\tbest: 0.7327704 (677)\ttotal: 20s\tremaining: 5.97s\n",
            "770:\tlearn: 0.4895450\ttest: 0.7333413\tbest: 0.7327704 (677)\ttotal: 20s\tremaining: 5.95s\n",
            "771:\tlearn: 0.4893089\ttest: 0.7333683\tbest: 0.7327704 (677)\ttotal: 20.1s\tremaining: 5.92s\n",
            "772:\tlearn: 0.4890926\ttest: 0.7333037\tbest: 0.7327704 (677)\ttotal: 20.1s\tremaining: 5.9s\n",
            "773:\tlearn: 0.4889644\ttest: 0.7333234\tbest: 0.7327704 (677)\ttotal: 20.1s\tremaining: 5.87s\n",
            "774:\tlearn: 0.4887998\ttest: 0.7333470\tbest: 0.7327704 (677)\ttotal: 20.1s\tremaining: 5.84s\n",
            "775:\tlearn: 0.4886194\ttest: 0.7334193\tbest: 0.7327704 (677)\ttotal: 20.1s\tremaining: 5.82s\n",
            "776:\tlearn: 0.4883960\ttest: 0.7334372\tbest: 0.7327704 (677)\ttotal: 20.2s\tremaining: 5.79s\n",
            "777:\tlearn: 0.4881880\ttest: 0.7333953\tbest: 0.7327704 (677)\ttotal: 20.2s\tremaining: 5.76s\n",
            "778:\tlearn: 0.4880198\ttest: 0.7334418\tbest: 0.7327704 (677)\ttotal: 20.2s\tremaining: 5.74s\n",
            "779:\tlearn: 0.4877700\ttest: 0.7334494\tbest: 0.7327704 (677)\ttotal: 20.2s\tremaining: 5.71s\n",
            "780:\tlearn: 0.4874972\ttest: 0.7334520\tbest: 0.7327704 (677)\ttotal: 20.3s\tremaining: 5.69s\n",
            "781:\tlearn: 0.4872612\ttest: 0.7334354\tbest: 0.7327704 (677)\ttotal: 20.3s\tremaining: 5.66s\n",
            "782:\tlearn: 0.4870437\ttest: 0.7332695\tbest: 0.7327704 (677)\ttotal: 20.3s\tremaining: 5.63s\n",
            "783:\tlearn: 0.4869078\ttest: 0.7332828\tbest: 0.7327704 (677)\ttotal: 20.4s\tremaining: 5.61s\n",
            "784:\tlearn: 0.4866464\ttest: 0.7332798\tbest: 0.7327704 (677)\ttotal: 20.4s\tremaining: 5.58s\n",
            "785:\tlearn: 0.4865105\ttest: 0.7333194\tbest: 0.7327704 (677)\ttotal: 20.4s\tremaining: 5.55s\n",
            "786:\tlearn: 0.4862363\ttest: 0.7333966\tbest: 0.7327704 (677)\ttotal: 20.4s\tremaining: 5.53s\n",
            "787:\tlearn: 0.4860163\ttest: 0.7333857\tbest: 0.7327704 (677)\ttotal: 20.5s\tremaining: 5.5s\n",
            "788:\tlearn: 0.4857377\ttest: 0.7334432\tbest: 0.7327704 (677)\ttotal: 20.5s\tremaining: 5.48s\n",
            "789:\tlearn: 0.4855398\ttest: 0.7334549\tbest: 0.7327704 (677)\ttotal: 20.5s\tremaining: 5.46s\n",
            "790:\tlearn: 0.4852776\ttest: 0.7334277\tbest: 0.7327704 (677)\ttotal: 20.6s\tremaining: 5.44s\n",
            "791:\tlearn: 0.4850595\ttest: 0.7334504\tbest: 0.7327704 (677)\ttotal: 20.6s\tremaining: 5.42s\n",
            "792:\tlearn: 0.4848004\ttest: 0.7334063\tbest: 0.7327704 (677)\ttotal: 20.7s\tremaining: 5.39s\n",
            "793:\tlearn: 0.4846130\ttest: 0.7333852\tbest: 0.7327704 (677)\ttotal: 20.7s\tremaining: 5.36s\n",
            "794:\tlearn: 0.4844185\ttest: 0.7333401\tbest: 0.7327704 (677)\ttotal: 20.7s\tremaining: 5.34s\n",
            "795:\tlearn: 0.4842608\ttest: 0.7333575\tbest: 0.7327704 (677)\ttotal: 20.7s\tremaining: 5.31s\n",
            "796:\tlearn: 0.4840835\ttest: 0.7333579\tbest: 0.7327704 (677)\ttotal: 20.8s\tremaining: 5.29s\n",
            "797:\tlearn: 0.4839136\ttest: 0.7334625\tbest: 0.7327704 (677)\ttotal: 20.8s\tremaining: 5.26s\n",
            "798:\tlearn: 0.4836817\ttest: 0.7333802\tbest: 0.7327704 (677)\ttotal: 20.8s\tremaining: 5.23s\n",
            "799:\tlearn: 0.4833864\ttest: 0.7333470\tbest: 0.7327704 (677)\ttotal: 20.8s\tremaining: 5.21s\n",
            "800:\tlearn: 0.4831980\ttest: 0.7333769\tbest: 0.7327704 (677)\ttotal: 20.9s\tremaining: 5.18s\n",
            "801:\tlearn: 0.4831335\ttest: 0.7333929\tbest: 0.7327704 (677)\ttotal: 20.9s\tremaining: 5.15s\n",
            "802:\tlearn: 0.4829225\ttest: 0.7333766\tbest: 0.7327704 (677)\ttotal: 20.9s\tremaining: 5.13s\n",
            "803:\tlearn: 0.4827738\ttest: 0.7334143\tbest: 0.7327704 (677)\ttotal: 20.9s\tremaining: 5.1s\n",
            "804:\tlearn: 0.4826406\ttest: 0.7334514\tbest: 0.7327704 (677)\ttotal: 21s\tremaining: 5.08s\n",
            "805:\tlearn: 0.4824647\ttest: 0.7334738\tbest: 0.7327704 (677)\ttotal: 21s\tremaining: 5.05s\n",
            "806:\tlearn: 0.4821872\ttest: 0.7334098\tbest: 0.7327704 (677)\ttotal: 21s\tremaining: 5.02s\n",
            "807:\tlearn: 0.4819830\ttest: 0.7334538\tbest: 0.7327704 (677)\ttotal: 21s\tremaining: 5s\n",
            "808:\tlearn: 0.4817484\ttest: 0.7334104\tbest: 0.7327704 (677)\ttotal: 21.1s\tremaining: 4.97s\n",
            "809:\tlearn: 0.4815678\ttest: 0.7333665\tbest: 0.7327704 (677)\ttotal: 21.1s\tremaining: 4.94s\n",
            "810:\tlearn: 0.4813346\ttest: 0.7333570\tbest: 0.7327704 (677)\ttotal: 21.1s\tremaining: 4.92s\n",
            "811:\tlearn: 0.4811840\ttest: 0.7333451\tbest: 0.7327704 (677)\ttotal: 21.1s\tremaining: 4.89s\n",
            "812:\tlearn: 0.4809953\ttest: 0.7332966\tbest: 0.7327704 (677)\ttotal: 21.2s\tremaining: 4.87s\n",
            "813:\tlearn: 0.4807181\ttest: 0.7332804\tbest: 0.7327704 (677)\ttotal: 21.2s\tremaining: 4.84s\n",
            "814:\tlearn: 0.4805249\ttest: 0.7332346\tbest: 0.7327704 (677)\ttotal: 21.2s\tremaining: 4.81s\n",
            "815:\tlearn: 0.4803323\ttest: 0.7332883\tbest: 0.7327704 (677)\ttotal: 21.2s\tremaining: 4.79s\n",
            "816:\tlearn: 0.4801068\ttest: 0.7332602\tbest: 0.7327704 (677)\ttotal: 21.3s\tremaining: 4.76s\n",
            "817:\tlearn: 0.4799256\ttest: 0.7333546\tbest: 0.7327704 (677)\ttotal: 21.3s\tremaining: 4.74s\n",
            "818:\tlearn: 0.4797123\ttest: 0.7332965\tbest: 0.7327704 (677)\ttotal: 21.3s\tremaining: 4.71s\n",
            "819:\tlearn: 0.4797063\ttest: 0.7333052\tbest: 0.7327704 (677)\ttotal: 21.3s\tremaining: 4.68s\n",
            "820:\tlearn: 0.4796017\ttest: 0.7333005\tbest: 0.7327704 (677)\ttotal: 21.3s\tremaining: 4.65s\n",
            "821:\tlearn: 0.4794095\ttest: 0.7331975\tbest: 0.7327704 (677)\ttotal: 21.4s\tremaining: 4.63s\n",
            "822:\tlearn: 0.4791307\ttest: 0.7331161\tbest: 0.7327704 (677)\ttotal: 21.4s\tremaining: 4.6s\n",
            "823:\tlearn: 0.4789246\ttest: 0.7332036\tbest: 0.7327704 (677)\ttotal: 21.4s\tremaining: 4.58s\n",
            "824:\tlearn: 0.4787686\ttest: 0.7332237\tbest: 0.7327704 (677)\ttotal: 21.4s\tremaining: 4.55s\n",
            "825:\tlearn: 0.4785989\ttest: 0.7332630\tbest: 0.7327704 (677)\ttotal: 21.5s\tremaining: 4.52s\n",
            "826:\tlearn: 0.4783882\ttest: 0.7332557\tbest: 0.7327704 (677)\ttotal: 21.5s\tremaining: 4.5s\n",
            "827:\tlearn: 0.4782920\ttest: 0.7332718\tbest: 0.7327704 (677)\ttotal: 21.5s\tremaining: 4.47s\n",
            "828:\tlearn: 0.4781526\ttest: 0.7331985\tbest: 0.7327704 (677)\ttotal: 21.6s\tremaining: 4.45s\n",
            "829:\tlearn: 0.4780178\ttest: 0.7331803\tbest: 0.7327704 (677)\ttotal: 21.6s\tremaining: 4.43s\n",
            "830:\tlearn: 0.4778444\ttest: 0.7331681\tbest: 0.7327704 (677)\ttotal: 21.7s\tremaining: 4.41s\n",
            "831:\tlearn: 0.4777748\ttest: 0.7331971\tbest: 0.7327704 (677)\ttotal: 21.7s\tremaining: 4.38s\n",
            "832:\tlearn: 0.4775488\ttest: 0.7332861\tbest: 0.7327704 (677)\ttotal: 21.7s\tremaining: 4.35s\n",
            "833:\tlearn: 0.4773476\ttest: 0.7334662\tbest: 0.7327704 (677)\ttotal: 21.7s\tremaining: 4.33s\n",
            "834:\tlearn: 0.4770838\ttest: 0.7334675\tbest: 0.7327704 (677)\ttotal: 21.8s\tremaining: 4.3s\n",
            "835:\tlearn: 0.4768709\ttest: 0.7334989\tbest: 0.7327704 (677)\ttotal: 21.8s\tremaining: 4.27s\n",
            "836:\tlearn: 0.4768477\ttest: 0.7334757\tbest: 0.7327704 (677)\ttotal: 21.8s\tremaining: 4.25s\n",
            "837:\tlearn: 0.4766881\ttest: 0.7334840\tbest: 0.7327704 (677)\ttotal: 21.8s\tremaining: 4.22s\n",
            "838:\tlearn: 0.4764819\ttest: 0.7333997\tbest: 0.7327704 (677)\ttotal: 21.9s\tremaining: 4.2s\n",
            "839:\tlearn: 0.4764028\ttest: 0.7334054\tbest: 0.7327704 (677)\ttotal: 21.9s\tremaining: 4.17s\n",
            "840:\tlearn: 0.4761147\ttest: 0.7334332\tbest: 0.7327704 (677)\ttotal: 21.9s\tremaining: 4.14s\n",
            "841:\tlearn: 0.4759913\ttest: 0.7334468\tbest: 0.7327704 (677)\ttotal: 21.9s\tremaining: 4.12s\n",
            "842:\tlearn: 0.4757496\ttest: 0.7334859\tbest: 0.7327704 (677)\ttotal: 22s\tremaining: 4.09s\n",
            "843:\tlearn: 0.4755767\ttest: 0.7335626\tbest: 0.7327704 (677)\ttotal: 22s\tremaining: 4.07s\n",
            "844:\tlearn: 0.4753018\ttest: 0.7335207\tbest: 0.7327704 (677)\ttotal: 22s\tremaining: 4.04s\n",
            "845:\tlearn: 0.4751954\ttest: 0.7335454\tbest: 0.7327704 (677)\ttotal: 22s\tremaining: 4.01s\n",
            "846:\tlearn: 0.4750909\ttest: 0.7335543\tbest: 0.7327704 (677)\ttotal: 22.1s\tremaining: 3.99s\n",
            "847:\tlearn: 0.4749146\ttest: 0.7335391\tbest: 0.7327704 (677)\ttotal: 22.1s\tremaining: 3.96s\n",
            "848:\tlearn: 0.4748108\ttest: 0.7334892\tbest: 0.7327704 (677)\ttotal: 22.1s\tremaining: 3.93s\n",
            "849:\tlearn: 0.4747625\ttest: 0.7334891\tbest: 0.7327704 (677)\ttotal: 22.1s\tremaining: 3.91s\n",
            "850:\tlearn: 0.4746577\ttest: 0.7335489\tbest: 0.7327704 (677)\ttotal: 22.2s\tremaining: 3.88s\n",
            "851:\tlearn: 0.4745459\ttest: 0.7335438\tbest: 0.7327704 (677)\ttotal: 22.2s\tremaining: 3.85s\n",
            "852:\tlearn: 0.4744804\ttest: 0.7335254\tbest: 0.7327704 (677)\ttotal: 22.2s\tremaining: 3.83s\n",
            "853:\tlearn: 0.4742417\ttest: 0.7336403\tbest: 0.7327704 (677)\ttotal: 22.2s\tremaining: 3.8s\n",
            "854:\tlearn: 0.4740709\ttest: 0.7336283\tbest: 0.7327704 (677)\ttotal: 22.3s\tremaining: 3.78s\n",
            "855:\tlearn: 0.4738253\ttest: 0.7336286\tbest: 0.7327704 (677)\ttotal: 22.3s\tremaining: 3.75s\n",
            "856:\tlearn: 0.4736713\ttest: 0.7336495\tbest: 0.7327704 (677)\ttotal: 22.3s\tremaining: 3.72s\n",
            "857:\tlearn: 0.4735378\ttest: 0.7336251\tbest: 0.7327704 (677)\ttotal: 22.3s\tremaining: 3.7s\n",
            "858:\tlearn: 0.4733894\ttest: 0.7335771\tbest: 0.7327704 (677)\ttotal: 22.4s\tremaining: 3.67s\n",
            "859:\tlearn: 0.4730924\ttest: 0.7336535\tbest: 0.7327704 (677)\ttotal: 22.4s\tremaining: 3.64s\n",
            "860:\tlearn: 0.4729081\ttest: 0.7336209\tbest: 0.7327704 (677)\ttotal: 22.4s\tremaining: 3.62s\n",
            "861:\tlearn: 0.4726746\ttest: 0.7336222\tbest: 0.7327704 (677)\ttotal: 22.4s\tremaining: 3.59s\n",
            "862:\tlearn: 0.4724984\ttest: 0.7336844\tbest: 0.7327704 (677)\ttotal: 22.5s\tremaining: 3.57s\n",
            "863:\tlearn: 0.4722316\ttest: 0.7336725\tbest: 0.7327704 (677)\ttotal: 22.5s\tremaining: 3.54s\n",
            "864:\tlearn: 0.4720927\ttest: 0.7337161\tbest: 0.7327704 (677)\ttotal: 22.5s\tremaining: 3.51s\n",
            "865:\tlearn: 0.4718627\ttest: 0.7337460\tbest: 0.7327704 (677)\ttotal: 22.5s\tremaining: 3.49s\n",
            "866:\tlearn: 0.4717738\ttest: 0.7337517\tbest: 0.7327704 (677)\ttotal: 22.6s\tremaining: 3.46s\n",
            "867:\tlearn: 0.4716445\ttest: 0.7337623\tbest: 0.7327704 (677)\ttotal: 22.6s\tremaining: 3.44s\n",
            "868:\tlearn: 0.4714780\ttest: 0.7338421\tbest: 0.7327704 (677)\ttotal: 22.7s\tremaining: 3.42s\n",
            "869:\tlearn: 0.4714111\ttest: 0.7338440\tbest: 0.7327704 (677)\ttotal: 22.7s\tremaining: 3.39s\n",
            "870:\tlearn: 0.4711238\ttest: 0.7339019\tbest: 0.7327704 (677)\ttotal: 22.7s\tremaining: 3.37s\n",
            "871:\tlearn: 0.4709012\ttest: 0.7339552\tbest: 0.7327704 (677)\ttotal: 22.8s\tremaining: 3.34s\n",
            "872:\tlearn: 0.4707716\ttest: 0.7339860\tbest: 0.7327704 (677)\ttotal: 22.8s\tremaining: 3.31s\n",
            "873:\tlearn: 0.4707146\ttest: 0.7340005\tbest: 0.7327704 (677)\ttotal: 22.8s\tremaining: 3.29s\n",
            "874:\tlearn: 0.4706007\ttest: 0.7340403\tbest: 0.7327704 (677)\ttotal: 22.8s\tremaining: 3.26s\n",
            "875:\tlearn: 0.4705231\ttest: 0.7339794\tbest: 0.7327704 (677)\ttotal: 22.8s\tremaining: 3.23s\n",
            "876:\tlearn: 0.4703713\ttest: 0.7339708\tbest: 0.7327704 (677)\ttotal: 22.9s\tremaining: 3.21s\n",
            "877:\tlearn: 0.4703048\ttest: 0.7339910\tbest: 0.7327704 (677)\ttotal: 22.9s\tremaining: 3.18s\n",
            "878:\tlearn: 0.4700766\ttest: 0.7339586\tbest: 0.7327704 (677)\ttotal: 22.9s\tremaining: 3.15s\n",
            "879:\tlearn: 0.4698578\ttest: 0.7339668\tbest: 0.7327704 (677)\ttotal: 22.9s\tremaining: 3.13s\n",
            "880:\tlearn: 0.4694526\ttest: 0.7339347\tbest: 0.7327704 (677)\ttotal: 23s\tremaining: 3.1s\n",
            "881:\tlearn: 0.4693402\ttest: 0.7339225\tbest: 0.7327704 (677)\ttotal: 23s\tremaining: 3.08s\n",
            "882:\tlearn: 0.4692018\ttest: 0.7339307\tbest: 0.7327704 (677)\ttotal: 23s\tremaining: 3.05s\n",
            "883:\tlearn: 0.4689906\ttest: 0.7339645\tbest: 0.7327704 (677)\ttotal: 23.1s\tremaining: 3.02s\n",
            "884:\tlearn: 0.4688018\ttest: 0.7339859\tbest: 0.7327704 (677)\ttotal: 23.1s\tremaining: 3s\n",
            "885:\tlearn: 0.4684568\ttest: 0.7340017\tbest: 0.7327704 (677)\ttotal: 23.1s\tremaining: 2.97s\n",
            "886:\tlearn: 0.4681119\ttest: 0.7339875\tbest: 0.7327704 (677)\ttotal: 23.1s\tremaining: 2.95s\n",
            "887:\tlearn: 0.4679032\ttest: 0.7339167\tbest: 0.7327704 (677)\ttotal: 23.2s\tremaining: 2.92s\n",
            "888:\tlearn: 0.4676695\ttest: 0.7339175\tbest: 0.7327704 (677)\ttotal: 23.2s\tremaining: 2.9s\n",
            "889:\tlearn: 0.4675371\ttest: 0.7339575\tbest: 0.7327704 (677)\ttotal: 23.2s\tremaining: 2.87s\n",
            "890:\tlearn: 0.4673942\ttest: 0.7340087\tbest: 0.7327704 (677)\ttotal: 23.2s\tremaining: 2.84s\n",
            "891:\tlearn: 0.4671350\ttest: 0.7339461\tbest: 0.7327704 (677)\ttotal: 23.3s\tremaining: 2.82s\n",
            "892:\tlearn: 0.4669689\ttest: 0.7339591\tbest: 0.7327704 (677)\ttotal: 23.3s\tremaining: 2.79s\n",
            "893:\tlearn: 0.4667610\ttest: 0.7340064\tbest: 0.7327704 (677)\ttotal: 23.3s\tremaining: 2.77s\n",
            "894:\tlearn: 0.4664957\ttest: 0.7340988\tbest: 0.7327704 (677)\ttotal: 23.4s\tremaining: 2.74s\n",
            "895:\tlearn: 0.4663117\ttest: 0.7341609\tbest: 0.7327704 (677)\ttotal: 23.4s\tremaining: 2.71s\n",
            "896:\tlearn: 0.4661108\ttest: 0.7341776\tbest: 0.7327704 (677)\ttotal: 23.4s\tremaining: 2.69s\n",
            "897:\tlearn: 0.4660152\ttest: 0.7342279\tbest: 0.7327704 (677)\ttotal: 23.4s\tremaining: 2.66s\n",
            "898:\tlearn: 0.4659324\ttest: 0.7342259\tbest: 0.7327704 (677)\ttotal: 23.4s\tremaining: 2.63s\n",
            "899:\tlearn: 0.4657366\ttest: 0.7342049\tbest: 0.7327704 (677)\ttotal: 23.5s\tremaining: 2.61s\n",
            "900:\tlearn: 0.4656420\ttest: 0.7341524\tbest: 0.7327704 (677)\ttotal: 23.5s\tremaining: 2.58s\n",
            "901:\tlearn: 0.4654413\ttest: 0.7342157\tbest: 0.7327704 (677)\ttotal: 23.5s\tremaining: 2.56s\n",
            "902:\tlearn: 0.4652560\ttest: 0.7342464\tbest: 0.7327704 (677)\ttotal: 23.5s\tremaining: 2.53s\n",
            "903:\tlearn: 0.4651479\ttest: 0.7342483\tbest: 0.7327704 (677)\ttotal: 23.6s\tremaining: 2.5s\n",
            "904:\tlearn: 0.4647695\ttest: 0.7342403\tbest: 0.7327704 (677)\ttotal: 23.6s\tremaining: 2.48s\n",
            "905:\tlearn: 0.4645869\ttest: 0.7342418\tbest: 0.7327704 (677)\ttotal: 23.7s\tremaining: 2.46s\n",
            "906:\tlearn: 0.4643550\ttest: 0.7342490\tbest: 0.7327704 (677)\ttotal: 23.7s\tremaining: 2.43s\n",
            "907:\tlearn: 0.4640778\ttest: 0.7343194\tbest: 0.7327704 (677)\ttotal: 23.8s\tremaining: 2.41s\n",
            "908:\tlearn: 0.4639657\ttest: 0.7343588\tbest: 0.7327704 (677)\ttotal: 23.8s\tremaining: 2.38s\n",
            "909:\tlearn: 0.4637831\ttest: 0.7342682\tbest: 0.7327704 (677)\ttotal: 23.8s\tremaining: 2.35s\n",
            "910:\tlearn: 0.4636585\ttest: 0.7342930\tbest: 0.7327704 (677)\ttotal: 23.8s\tremaining: 2.33s\n",
            "911:\tlearn: 0.4634333\ttest: 0.7342842\tbest: 0.7327704 (677)\ttotal: 23.9s\tremaining: 2.3s\n",
            "912:\tlearn: 0.4632536\ttest: 0.7343273\tbest: 0.7327704 (677)\ttotal: 23.9s\tremaining: 2.28s\n",
            "913:\tlearn: 0.4629884\ttest: 0.7343056\tbest: 0.7327704 (677)\ttotal: 23.9s\tremaining: 2.25s\n",
            "914:\tlearn: 0.4627565\ttest: 0.7343720\tbest: 0.7327704 (677)\ttotal: 24s\tremaining: 2.23s\n",
            "915:\tlearn: 0.4626002\ttest: 0.7343324\tbest: 0.7327704 (677)\ttotal: 24s\tremaining: 2.2s\n",
            "916:\tlearn: 0.4623667\ttest: 0.7343455\tbest: 0.7327704 (677)\ttotal: 24s\tremaining: 2.17s\n",
            "917:\tlearn: 0.4622894\ttest: 0.7343538\tbest: 0.7327704 (677)\ttotal: 24s\tremaining: 2.15s\n",
            "918:\tlearn: 0.4620915\ttest: 0.7342988\tbest: 0.7327704 (677)\ttotal: 24.1s\tremaining: 2.12s\n",
            "919:\tlearn: 0.4619654\ttest: 0.7343030\tbest: 0.7327704 (677)\ttotal: 24.1s\tremaining: 2.1s\n",
            "920:\tlearn: 0.4618392\ttest: 0.7343513\tbest: 0.7327704 (677)\ttotal: 24.1s\tremaining: 2.07s\n",
            "921:\tlearn: 0.4616471\ttest: 0.7344575\tbest: 0.7327704 (677)\ttotal: 24.1s\tremaining: 2.04s\n",
            "922:\tlearn: 0.4614381\ttest: 0.7344439\tbest: 0.7327704 (677)\ttotal: 24.2s\tremaining: 2.02s\n",
            "923:\tlearn: 0.4612890\ttest: 0.7343835\tbest: 0.7327704 (677)\ttotal: 24.2s\tremaining: 1.99s\n",
            "924:\tlearn: 0.4612842\ttest: 0.7343917\tbest: 0.7327704 (677)\ttotal: 24.2s\tremaining: 1.96s\n",
            "925:\tlearn: 0.4612804\ttest: 0.7343938\tbest: 0.7327704 (677)\ttotal: 24.2s\tremaining: 1.94s\n",
            "926:\tlearn: 0.4611189\ttest: 0.7344645\tbest: 0.7327704 (677)\ttotal: 24.3s\tremaining: 1.91s\n",
            "927:\tlearn: 0.4609503\ttest: 0.7344897\tbest: 0.7327704 (677)\ttotal: 24.3s\tremaining: 1.88s\n",
            "928:\tlearn: 0.4606599\ttest: 0.7344807\tbest: 0.7327704 (677)\ttotal: 24.3s\tremaining: 1.86s\n",
            "929:\tlearn: 0.4604980\ttest: 0.7344662\tbest: 0.7327704 (677)\ttotal: 24.3s\tremaining: 1.83s\n",
            "930:\tlearn: 0.4603285\ttest: 0.7343984\tbest: 0.7327704 (677)\ttotal: 24.4s\tremaining: 1.8s\n",
            "931:\tlearn: 0.4601366\ttest: 0.7343588\tbest: 0.7327704 (677)\ttotal: 24.4s\tremaining: 1.78s\n",
            "932:\tlearn: 0.4599385\ttest: 0.7343022\tbest: 0.7327704 (677)\ttotal: 24.4s\tremaining: 1.75s\n",
            "933:\tlearn: 0.4597407\ttest: 0.7343131\tbest: 0.7327704 (677)\ttotal: 24.4s\tremaining: 1.73s\n",
            "934:\tlearn: 0.4595240\ttest: 0.7343300\tbest: 0.7327704 (677)\ttotal: 24.5s\tremaining: 1.7s\n",
            "935:\tlearn: 0.4594760\ttest: 0.7343130\tbest: 0.7327704 (677)\ttotal: 24.5s\tremaining: 1.67s\n",
            "936:\tlearn: 0.4592929\ttest: 0.7343449\tbest: 0.7327704 (677)\ttotal: 24.5s\tremaining: 1.65s\n",
            "937:\tlearn: 0.4591685\ttest: 0.7343020\tbest: 0.7327704 (677)\ttotal: 24.5s\tremaining: 1.62s\n",
            "938:\tlearn: 0.4590734\ttest: 0.7342449\tbest: 0.7327704 (677)\ttotal: 24.6s\tremaining: 1.59s\n",
            "939:\tlearn: 0.4588469\ttest: 0.7342240\tbest: 0.7327704 (677)\ttotal: 24.6s\tremaining: 1.57s\n",
            "940:\tlearn: 0.4585163\ttest: 0.7343578\tbest: 0.7327704 (677)\ttotal: 24.6s\tremaining: 1.54s\n",
            "941:\tlearn: 0.4582672\ttest: 0.7344492\tbest: 0.7327704 (677)\ttotal: 24.6s\tremaining: 1.52s\n",
            "942:\tlearn: 0.4581059\ttest: 0.7344444\tbest: 0.7327704 (677)\ttotal: 24.7s\tremaining: 1.49s\n",
            "943:\tlearn: 0.4579832\ttest: 0.7344798\tbest: 0.7327704 (677)\ttotal: 24.7s\tremaining: 1.47s\n",
            "944:\tlearn: 0.4578261\ttest: 0.7344036\tbest: 0.7327704 (677)\ttotal: 24.8s\tremaining: 1.44s\n",
            "945:\tlearn: 0.4576238\ttest: 0.7344513\tbest: 0.7327704 (677)\ttotal: 24.8s\tremaining: 1.42s\n",
            "946:\tlearn: 0.4575324\ttest: 0.7344399\tbest: 0.7327704 (677)\ttotal: 24.8s\tremaining: 1.39s\n",
            "947:\tlearn: 0.4573041\ttest: 0.7344870\tbest: 0.7327704 (677)\ttotal: 24.9s\tremaining: 1.36s\n",
            "948:\tlearn: 0.4572439\ttest: 0.7345312\tbest: 0.7327704 (677)\ttotal: 24.9s\tremaining: 1.34s\n",
            "949:\tlearn: 0.4570964\ttest: 0.7345062\tbest: 0.7327704 (677)\ttotal: 24.9s\tremaining: 1.31s\n",
            "950:\tlearn: 0.4568631\ttest: 0.7345550\tbest: 0.7327704 (677)\ttotal: 24.9s\tremaining: 1.28s\n",
            "951:\tlearn: 0.4566309\ttest: 0.7345397\tbest: 0.7327704 (677)\ttotal: 25s\tremaining: 1.26s\n",
            "952:\tlearn: 0.4565149\ttest: 0.7345395\tbest: 0.7327704 (677)\ttotal: 25s\tremaining: 1.23s\n",
            "953:\tlearn: 0.4564678\ttest: 0.7345389\tbest: 0.7327704 (677)\ttotal: 25s\tremaining: 1.21s\n",
            "954:\tlearn: 0.4563757\ttest: 0.7345144\tbest: 0.7327704 (677)\ttotal: 25s\tremaining: 1.18s\n",
            "955:\tlearn: 0.4563712\ttest: 0.7345223\tbest: 0.7327704 (677)\ttotal: 25s\tremaining: 1.15s\n",
            "956:\tlearn: 0.4560890\ttest: 0.7345279\tbest: 0.7327704 (677)\ttotal: 25.1s\tremaining: 1.13s\n",
            "957:\tlearn: 0.4559169\ttest: 0.7345220\tbest: 0.7327704 (677)\ttotal: 25.1s\tremaining: 1.1s\n",
            "958:\tlearn: 0.4557081\ttest: 0.7345098\tbest: 0.7327704 (677)\ttotal: 25.1s\tremaining: 1.07s\n",
            "959:\tlearn: 0.4557044\ttest: 0.7345172\tbest: 0.7327704 (677)\ttotal: 25.1s\tremaining: 1.05s\n",
            "960:\tlearn: 0.4554625\ttest: 0.7345976\tbest: 0.7327704 (677)\ttotal: 25.2s\tremaining: 1.02s\n",
            "961:\tlearn: 0.4552866\ttest: 0.7346789\tbest: 0.7327704 (677)\ttotal: 25.2s\tremaining: 995ms\n",
            "962:\tlearn: 0.4551335\ttest: 0.7346156\tbest: 0.7327704 (677)\ttotal: 25.2s\tremaining: 969ms\n",
            "963:\tlearn: 0.4549021\ttest: 0.7345815\tbest: 0.7327704 (677)\ttotal: 25.2s\tremaining: 942ms\n",
            "964:\tlearn: 0.4547338\ttest: 0.7345588\tbest: 0.7327704 (677)\ttotal: 25.3s\tremaining: 916ms\n",
            "965:\tlearn: 0.4545285\ttest: 0.7346180\tbest: 0.7327704 (677)\ttotal: 25.3s\tremaining: 890ms\n",
            "966:\tlearn: 0.4543558\ttest: 0.7346022\tbest: 0.7327704 (677)\ttotal: 25.3s\tremaining: 864ms\n",
            "967:\tlearn: 0.4541691\ttest: 0.7345558\tbest: 0.7327704 (677)\ttotal: 25.3s\tremaining: 838ms\n",
            "968:\tlearn: 0.4540024\ttest: 0.7346182\tbest: 0.7327704 (677)\ttotal: 25.4s\tremaining: 812ms\n",
            "969:\tlearn: 0.4538585\ttest: 0.7347224\tbest: 0.7327704 (677)\ttotal: 25.4s\tremaining: 785ms\n",
            "970:\tlearn: 0.4537401\ttest: 0.7347944\tbest: 0.7327704 (677)\ttotal: 25.4s\tremaining: 759ms\n",
            "971:\tlearn: 0.4536166\ttest: 0.7347647\tbest: 0.7327704 (677)\ttotal: 25.4s\tremaining: 733ms\n",
            "972:\tlearn: 0.4534959\ttest: 0.7347721\tbest: 0.7327704 (677)\ttotal: 25.5s\tremaining: 707ms\n",
            "973:\tlearn: 0.4532742\ttest: 0.7348467\tbest: 0.7327704 (677)\ttotal: 25.5s\tremaining: 681ms\n",
            "974:\tlearn: 0.4531164\ttest: 0.7348379\tbest: 0.7327704 (677)\ttotal: 25.5s\tremaining: 654ms\n",
            "975:\tlearn: 0.4528985\ttest: 0.7347579\tbest: 0.7327704 (677)\ttotal: 25.5s\tremaining: 628ms\n",
            "976:\tlearn: 0.4527572\ttest: 0.7347861\tbest: 0.7327704 (677)\ttotal: 25.6s\tremaining: 602ms\n",
            "977:\tlearn: 0.4526143\ttest: 0.7348591\tbest: 0.7327704 (677)\ttotal: 25.6s\tremaining: 576ms\n",
            "978:\tlearn: 0.4524598\ttest: 0.7348838\tbest: 0.7327704 (677)\ttotal: 25.6s\tremaining: 550ms\n",
            "979:\tlearn: 0.4523432\ttest: 0.7348792\tbest: 0.7327704 (677)\ttotal: 25.6s\tremaining: 523ms\n",
            "980:\tlearn: 0.4521754\ttest: 0.7348710\tbest: 0.7327704 (677)\ttotal: 25.7s\tremaining: 497ms\n",
            "981:\tlearn: 0.4519585\ttest: 0.7347632\tbest: 0.7327704 (677)\ttotal: 25.7s\tremaining: 471ms\n",
            "982:\tlearn: 0.4517520\ttest: 0.7348034\tbest: 0.7327704 (677)\ttotal: 25.8s\tremaining: 446ms\n",
            "983:\tlearn: 0.4516341\ttest: 0.7347584\tbest: 0.7327704 (677)\ttotal: 25.8s\tremaining: 420ms\n",
            "984:\tlearn: 0.4514524\ttest: 0.7347120\tbest: 0.7327704 (677)\ttotal: 25.9s\tremaining: 394ms\n",
            "985:\tlearn: 0.4514156\ttest: 0.7347411\tbest: 0.7327704 (677)\ttotal: 25.9s\tremaining: 368ms\n",
            "986:\tlearn: 0.4513386\ttest: 0.7347496\tbest: 0.7327704 (677)\ttotal: 25.9s\tremaining: 341ms\n",
            "987:\tlearn: 0.4512070\ttest: 0.7348122\tbest: 0.7327704 (677)\ttotal: 25.9s\tremaining: 315ms\n",
            "988:\tlearn: 0.4511338\ttest: 0.7348075\tbest: 0.7327704 (677)\ttotal: 26s\tremaining: 289ms\n",
            "989:\tlearn: 0.4509865\ttest: 0.7347871\tbest: 0.7327704 (677)\ttotal: 26s\tremaining: 263ms\n",
            "990:\tlearn: 0.4509828\ttest: 0.7347916\tbest: 0.7327704 (677)\ttotal: 26s\tremaining: 236ms\n",
            "991:\tlearn: 0.4507363\ttest: 0.7347403\tbest: 0.7327704 (677)\ttotal: 26s\tremaining: 210ms\n",
            "992:\tlearn: 0.4506514\ttest: 0.7346827\tbest: 0.7327704 (677)\ttotal: 26.1s\tremaining: 184ms\n",
            "993:\tlearn: 0.4505950\ttest: 0.7347053\tbest: 0.7327704 (677)\ttotal: 26.1s\tremaining: 157ms\n",
            "994:\tlearn: 0.4505184\ttest: 0.7346532\tbest: 0.7327704 (677)\ttotal: 26.1s\tremaining: 131ms\n",
            "995:\tlearn: 0.4504240\ttest: 0.7346253\tbest: 0.7327704 (677)\ttotal: 26.1s\tremaining: 105ms\n",
            "996:\tlearn: 0.4503228\ttest: 0.7346524\tbest: 0.7327704 (677)\ttotal: 26.2s\tremaining: 78.7ms\n",
            "997:\tlearn: 0.4501411\ttest: 0.7347651\tbest: 0.7327704 (677)\ttotal: 26.2s\tremaining: 52.5ms\n",
            "998:\tlearn: 0.4499645\ttest: 0.7347695\tbest: 0.7327704 (677)\ttotal: 26.2s\tremaining: 26.2ms\n",
            "999:\tlearn: 0.4497872\ttest: 0.7347479\tbest: 0.7327704 (677)\ttotal: 26.2s\tremaining: 0us\n",
            "\n",
            "bestTest = 0.7327703857\n",
            "bestIteration = 677\n",
            "\n",
            "Shrink model to first 678 iterations.\n"
          ]
        }
      ]
    },
    {
      "cell_type": "markdown",
      "metadata": {
        "id": "A368WnMsgOXB"
      },
      "source": [
        "Если не указать значение learning rate, оно подберется само. Но надо следить за ним - лучшая итерация должна быть как можно дальше к концу. Также на графиках точка переобучения должна быть как можно правее\n",
        "\n",
        "Если установлен параметр use_best_model=True, то CatBoost сам отсечет лишние деревья из ансамбля, оставив только самые эффективные"
      ]
    }
  ]
}